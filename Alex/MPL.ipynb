{
 "cells": [
  {
   "cell_type": "markdown",
   "metadata": {},
   "source": [
    "### Multi-Layer Perceptron "
   ]
  },
  {
   "cell_type": "code",
   "execution_count": 239,
   "metadata": {},
   "outputs": [],
   "source": [
    "import pandas as pd\n",
    "import numpy as np\n",
    "import matplotlib.pyplot as plt\n",
    "import seaborn as sns   \n",
    "import tensorflow as tf\n",
    "from tensorflow import keras\n",
    "from sklearn import (\n",
    "    linear_model, metrics, neural_network, pipeline, model_selection\n",
    ")\n",
    "from sklearn.impute import SimpleImputer\n",
    "\n",
    "from sklearn.decomposition import PCA\n",
    "from sklearn.preprocessing import StandardScaler\n",
    "from sklearn.pipeline import Pipeline\n",
    "from sklearn.model_selection import train_test_split, GridSearchCV, RandomizedSearchCV\n",
    "from sklearn.linear_model import Lasso\n",
    "from sklearn.preprocessing import MinMaxScaler\n",
    "from keras.models import Sequential\n",
    "from keras.layers import Dense, Dropout, SimpleRNN, LSTM\n",
    "from sklearn.metrics import mean_squared_error, accuracy_score, precision_score, recall_score, f1_score\n",
    "from sklearn.model_selection import TimeSeriesSplit"
   ]
  },
  {
   "cell_type": "code",
   "execution_count": 3,
   "metadata": {},
   "outputs": [],
   "source": [
    "# import the data\n",
    "netflix = pd.read_csv('netflix_model_ready.csv')"
   ]
  },
  {
   "cell_type": "code",
   "execution_count": 4,
   "metadata": {},
   "outputs": [],
   "source": [
    "# Change \"date\" column to ensure datetime type and drop weekends\n",
    "netflix[\"date\"] = pd.to_datetime(netflix[\"date\"])"
   ]
  },
  {
   "cell_type": "markdown",
   "metadata": {},
   "source": [
    "#### MPL With Features From Feature Selection Process"
   ]
  },
  {
   "cell_type": "code",
   "execution_count": 5,
   "metadata": {},
   "outputs": [],
   "source": [
    "# TimeSeriesSplit the data\n",
    "tss = TimeSeriesSplit(n_splits=5)\n",
    "\n",
    "# Create feature dataframe based on feature selection results\n",
    "X = netflix[[\"date\", \"Google_rs\", \"Dow_MAvg_s_Move\", \"Stock_gain\", \"Volume\", \"Dow_loss\", \"Dow_diff\", \n",
    "             \"Google_MAvg_s\", \"Google_MAvg\", \"Google_EMA\", \"Wiki_Move\"]]\n",
    "\n",
    "X = X.set_index(\"date\")\n",
    "\n",
    "# Create y target dataset\n",
    "y = netflix[\"target_3\"]\n",
    "\n",
    "for train_index, test_index in tss.split(X):\n",
    "    X_train, X_test = X.iloc[train_index, :], X.iloc[test_index,:]\n",
    "    y_train, y_test = y.iloc[train_index], y.iloc[test_index]"
   ]
  },
  {
   "cell_type": "code",
   "execution_count": 6,
   "metadata": {},
   "outputs": [
    {
     "name": "stdout",
     "output_type": "stream",
     "text": [
      "DatetimeIndex(['2019-01-23', '2019-01-24', '2019-01-25', '2019-01-28',\n",
      "               '2019-01-29', '2019-01-30', '2019-01-31', '2019-02-01',\n",
      "               '2019-02-04', '2019-02-05',\n",
      "               ...\n",
      "               '2021-09-21', '2021-09-22', '2021-09-23', '2021-09-24',\n",
      "               '2021-09-27', '2021-09-28', '2021-09-29', '2021-09-30',\n",
      "               '2021-10-01', '2021-10-04'],\n",
      "              dtype='datetime64[ns]', name='date', length=601, freq=None)\n",
      "DatetimeIndex(['2021-10-05', '2021-10-06', '2021-10-07', '2021-10-08',\n",
      "               '2021-10-12', '2021-10-13', '2021-10-14', '2021-10-15',\n",
      "               '2021-10-18', '2021-10-19',\n",
      "               ...\n",
      "               '2022-03-17', '2022-03-18', '2022-03-21', '2022-03-22',\n",
      "               '2022-03-23', '2022-03-24', '2022-03-25', '2022-03-28',\n",
      "               '2022-03-29', '2022-03-30'],\n",
      "              dtype='datetime64[ns]', name='date', length=120, freq=None)\n"
     ]
    }
   ],
   "source": [
    "# Print index of train and test data to check that they are split correctly\n",
    "print(X_train.index)\n",
    "print(X_test.index)"
   ]
  },
  {
   "cell_type": "code",
   "execution_count": 116,
   "metadata": {},
   "outputs": [],
   "source": [
    "# Standardize the data\n",
    "scaler = MinMaxScaler()\n",
    "X_train = scaler.fit_transform(X_train)\n",
    "X_test = scaler.fit_transform(X_test)"
   ]
  },
  {
   "cell_type": "code",
   "execution_count": 118,
   "metadata": {},
   "outputs": [
    {
     "name": "stdout",
     "output_type": "stream",
     "text": [
      "Epoch 1/10\n",
      "49/49 [==============================] - 1s 3ms/step - loss: 0.7093 - accuracy: 0.5343 - val_loss: 0.6952 - val_accuracy: 0.5125\n",
      "Epoch 2/10\n",
      "49/49 [==============================] - 0s 2ms/step - loss: 0.6906 - accuracy: 0.5426 - val_loss: 0.7380 - val_accuracy: 0.5292\n",
      "Epoch 3/10\n",
      "49/49 [==============================] - 0s 2ms/step - loss: 0.7062 - accuracy: 0.5218 - val_loss: 0.7138 - val_accuracy: 0.5000\n",
      "Epoch 4/10\n",
      "49/49 [==============================] - 0s 2ms/step - loss: 0.6660 - accuracy: 0.6029 - val_loss: 0.6969 - val_accuracy: 0.5333\n",
      "Epoch 5/10\n",
      "49/49 [==============================] - 0s 2ms/step - loss: 0.6589 - accuracy: 0.5738 - val_loss: 0.7202 - val_accuracy: 0.4875\n",
      "Epoch 6/10\n",
      "49/49 [==============================] - 0s 2ms/step - loss: 0.6621 - accuracy: 0.6029 - val_loss: 0.7035 - val_accuracy: 0.5250\n",
      "Epoch 7/10\n",
      "49/49 [==============================] - 0s 2ms/step - loss: 0.6446 - accuracy: 0.6175 - val_loss: 0.7245 - val_accuracy: 0.5042\n",
      "Epoch 8/10\n",
      "49/49 [==============================] - 0s 2ms/step - loss: 0.6551 - accuracy: 0.5925 - val_loss: 0.7370 - val_accuracy: 0.5125\n",
      "Epoch 9/10\n",
      "49/49 [==============================] - 0s 2ms/step - loss: 0.6438 - accuracy: 0.6195 - val_loss: 0.7169 - val_accuracy: 0.5333\n",
      "Epoch 10/10\n",
      "49/49 [==============================] - 0s 2ms/step - loss: 0.6289 - accuracy: 0.6195 - val_loss: 0.7647 - val_accuracy: 0.5000\n"
     ]
    }
   ],
   "source": [
    "# Build MPL model\n",
    "n_features = X_train.shape[1]\n",
    "model = Sequential()\n",
    "model.add(Dense(50, activation='relu', input_shape=(n_features,)))\n",
    "model.add(Dense(1, activation='sigmoid'))\n",
    "\n",
    "# Compile model\n",
    "model.compile(loss='binary_crossentropy', optimizer='adam', metrics=['accuracy'])\n",
    "\n",
    "# Fit model\n",
    "history = model.fit(X_train, y_train, epochs=10, validation_data=(X_test, y_test), batch_size=10)\n",
    "history\n",
    "\n",
    "# predict on test data\n",
    "y_pred = model.predict(X_test)"
   ]
  },
  {
   "cell_type": "markdown",
   "metadata": {},
   "source": [
    "#### MPL With PCA For Feature Reduction"
   ]
  },
  {
   "cell_type": "code",
   "execution_count": 205,
   "metadata": {},
   "outputs": [],
   "source": [
    "# Time series train/test split\n",
    "tss= TimeSeriesSplit(n_splits=2)\n",
    "\n",
    "# Keep all features, but remove the five target variables\n",
    "X = netflix.iloc[:, :-5]\n",
    "X = X.set_index(\"date\")\n",
    "\n",
    "# Create series for target \n",
    "y = netflix.iloc[:, -3]\n",
    "\n",
    "# Split tranining and test data by date\n",
    "for train_index, test_index in tss.split(X):\n",
    "    X_train, X_test = X.iloc[train_index, :], X.iloc[test_index,:]\n",
    "    y_train, y_test = y.iloc[train_index], y.iloc[test_index]"
   ]
  },
  {
   "cell_type": "code",
   "execution_count": 206,
   "metadata": {},
   "outputs": [
    {
     "name": "stdout",
     "output_type": "stream",
     "text": [
      "DatetimeIndex(['2019-01-23', '2019-01-24', '2019-01-25', '2019-01-28',\n",
      "               '2019-01-29', '2019-01-30', '2019-01-31', '2019-02-01',\n",
      "               '2019-02-04', '2019-02-05',\n",
      "               ...\n",
      "               '2021-03-10', '2021-03-11', '2021-03-12', '2021-03-15',\n",
      "               '2021-03-16', '2021-03-17', '2021-03-18', '2021-03-19',\n",
      "               '2021-03-22', '2021-03-23'],\n",
      "              dtype='datetime64[ns]', name='date', length=481, freq=None)\n",
      "DatetimeIndex(['2021-03-24', '2021-03-25', '2021-03-26', '2021-03-29',\n",
      "               '2021-03-30', '2021-03-31', '2021-04-01', '2021-04-23',\n",
      "               '2021-04-26', '2021-04-27',\n",
      "               ...\n",
      "               '2022-03-17', '2022-03-18', '2022-03-21', '2022-03-22',\n",
      "               '2022-03-23', '2022-03-24', '2022-03-25', '2022-03-28',\n",
      "               '2022-03-29', '2022-03-30'],\n",
      "              dtype='datetime64[ns]', name='date', length=240, freq=None)\n"
     ]
    }
   ],
   "source": [
    "# Print index of train and test data to check that they are split correctly\n",
    "print(X_train.index)\n",
    "print(X_test.index)"
   ]
  },
  {
   "cell_type": "code",
   "execution_count": 207,
   "metadata": {},
   "outputs": [
    {
     "name": "stdout",
     "output_type": "stream",
     "text": [
      "(481, 159)\n",
      "(240, 159)\n"
     ]
    }
   ],
   "source": [
    "print(X_train.shape)\n",
    "print(X_test.shape)"
   ]
  },
  {
   "cell_type": "code",
   "execution_count": 202,
   "metadata": {},
   "outputs": [
    {
     "data": {
      "text/plain": [
       "1    372\n",
       "0    349\n",
       "Name: target_3, dtype: int64"
      ]
     },
     "execution_count": 202,
     "metadata": {},
     "output_type": "execute_result"
    }
   ],
   "source": [
    "# check distirbution of target \n",
    "netflix[\"target_3\"].value_counts()"
   ]
  },
  {
   "cell_type": "code",
   "execution_count": 208,
   "metadata": {},
   "outputs": [],
   "source": [
    "# Standardize the data\n",
    "scaler = MinMaxScaler()\n",
    "X_train = scaler.fit_transform(X_train)\n",
    "X_test = scaler.fit_transform(X_test)\n",
    "\n",
    "# PCA feature reduction. 20 components is enough to explain ~85% of the variance (refer to Feture_selection notebook)\n",
    "sklearn_pca = PCA(n_components=20)\n",
    "X_train_pca = sklearn_pca.fit_transform(X_train)\n",
    "X_test_pca = sklearn_pca.transform(X_test)\n"
   ]
  },
  {
   "cell_type": "code",
   "execution_count": 232,
   "metadata": {},
   "outputs": [
    {
     "name": "stdout",
     "output_type": "stream",
     "text": [
      "Epoch 1/40\n",
      "37/37 [==============================] - 1s 8ms/step - loss: 3.2368 - accuracy: 0.4906 - val_loss: 2.7163 - val_accuracy: 0.5208\n",
      "Epoch 2/40\n",
      "37/37 [==============================] - 0s 4ms/step - loss: 2.3320 - accuracy: 0.5613 - val_loss: 1.9901 - val_accuracy: 0.5208\n",
      "Epoch 3/40\n",
      "37/37 [==============================] - 0s 4ms/step - loss: 1.7287 - accuracy: 0.5780 - val_loss: 1.5105 - val_accuracy: 0.5500\n",
      "Epoch 4/40\n",
      "37/37 [==============================] - 0s 4ms/step - loss: 1.3323 - accuracy: 0.6216 - val_loss: 1.1984 - val_accuracy: 0.5042\n",
      "Epoch 5/40\n",
      "37/37 [==============================] - 0s 4ms/step - loss: 1.0789 - accuracy: 0.6320 - val_loss: 0.9988 - val_accuracy: 0.5000\n",
      "Epoch 6/40\n",
      "37/37 [==============================] - 0s 5ms/step - loss: 0.9197 - accuracy: 0.6362 - val_loss: 0.8760 - val_accuracy: 0.5083\n",
      "Epoch 7/40\n",
      "37/37 [==============================] - 0s 4ms/step - loss: 0.8224 - accuracy: 0.6279 - val_loss: 0.8008 - val_accuracy: 0.5125\n",
      "Epoch 8/40\n",
      "37/37 [==============================] - 0s 5ms/step - loss: 0.7636 - accuracy: 0.6029 - val_loss: 0.7563 - val_accuracy: 0.5167\n",
      "Epoch 9/40\n",
      "37/37 [==============================] - 0s 4ms/step - loss: 0.7286 - accuracy: 0.6216 - val_loss: 0.7320 - val_accuracy: 0.5125\n",
      "Epoch 10/40\n",
      "37/37 [==============================] - 0s 4ms/step - loss: 0.7092 - accuracy: 0.6195 - val_loss: 0.7177 - val_accuracy: 0.5167\n",
      "Epoch 11/40\n",
      "37/37 [==============================] - 0s 5ms/step - loss: 0.6981 - accuracy: 0.5863 - val_loss: 0.7112 - val_accuracy: 0.5083\n",
      "Epoch 12/40\n",
      "37/37 [==============================] - 0s 5ms/step - loss: 0.6919 - accuracy: 0.6050 - val_loss: 0.7091 - val_accuracy: 0.5167\n",
      "Epoch 13/40\n",
      "37/37 [==============================] - 0s 5ms/step - loss: 0.6885 - accuracy: 0.6091 - val_loss: 0.7094 - val_accuracy: 0.5250\n",
      "Epoch 14/40\n",
      "37/37 [==============================] - 0s 5ms/step - loss: 0.6876 - accuracy: 0.5925 - val_loss: 0.7082 - val_accuracy: 0.5375\n",
      "Epoch 15/40\n",
      "37/37 [==============================] - 0s 5ms/step - loss: 0.6840 - accuracy: 0.5884 - val_loss: 0.7103 - val_accuracy: 0.5167\n",
      "Epoch 16/40\n",
      "37/37 [==============================] - 0s 6ms/step - loss: 0.6833 - accuracy: 0.6133 - val_loss: 0.7144 - val_accuracy: 0.5083\n",
      "Epoch 17/40\n",
      "37/37 [==============================] - 0s 5ms/step - loss: 0.6796 - accuracy: 0.6071 - val_loss: 0.7155 - val_accuracy: 0.5167\n",
      "Epoch 18/40\n",
      "37/37 [==============================] - 0s 6ms/step - loss: 0.6781 - accuracy: 0.6133 - val_loss: 0.7163 - val_accuracy: 0.5083\n",
      "Epoch 19/40\n",
      "37/37 [==============================] - 0s 6ms/step - loss: 0.6743 - accuracy: 0.6195 - val_loss: 0.7226 - val_accuracy: 0.5083\n",
      "Epoch 20/40\n",
      "37/37 [==============================] - 0s 5ms/step - loss: 0.6781 - accuracy: 0.6237 - val_loss: 0.7261 - val_accuracy: 0.5083\n",
      "Epoch 21/40\n",
      "37/37 [==============================] - 0s 5ms/step - loss: 0.6732 - accuracy: 0.6237 - val_loss: 0.7285 - val_accuracy: 0.5083\n",
      "Epoch 22/40\n",
      "37/37 [==============================] - 0s 6ms/step - loss: 0.6678 - accuracy: 0.6362 - val_loss: 0.7313 - val_accuracy: 0.5250\n",
      "Epoch 23/40\n",
      "37/37 [==============================] - 0s 7ms/step - loss: 0.6651 - accuracy: 0.6424 - val_loss: 0.7385 - val_accuracy: 0.5125\n",
      "Epoch 24/40\n",
      "37/37 [==============================] - 0s 5ms/step - loss: 0.6582 - accuracy: 0.6528 - val_loss: 0.7331 - val_accuracy: 0.5250\n",
      "Epoch 25/40\n",
      "37/37 [==============================] - 0s 5ms/step - loss: 0.6624 - accuracy: 0.6486 - val_loss: 0.7417 - val_accuracy: 0.5250\n",
      "Epoch 26/40\n",
      "37/37 [==============================] - 0s 5ms/step - loss: 0.6578 - accuracy: 0.6445 - val_loss: 0.7561 - val_accuracy: 0.4958\n",
      "Epoch 27/40\n",
      "37/37 [==============================] - 0s 6ms/step - loss: 0.6528 - accuracy: 0.6715 - val_loss: 0.7510 - val_accuracy: 0.5208\n",
      "Epoch 28/40\n",
      "37/37 [==============================] - 0s 6ms/step - loss: 0.6438 - accuracy: 0.6611 - val_loss: 0.7679 - val_accuracy: 0.4958\n",
      "Epoch 29/40\n",
      "37/37 [==============================] - 0s 6ms/step - loss: 0.6398 - accuracy: 0.6653 - val_loss: 0.7598 - val_accuracy: 0.5208\n",
      "Epoch 30/40\n",
      "37/37 [==============================] - 0s 5ms/step - loss: 0.6415 - accuracy: 0.6736 - val_loss: 0.7754 - val_accuracy: 0.5000\n",
      "Epoch 31/40\n",
      "37/37 [==============================] - 0s 5ms/step - loss: 0.6373 - accuracy: 0.6861 - val_loss: 0.7857 - val_accuracy: 0.4875\n",
      "Epoch 32/40\n",
      "37/37 [==============================] - 0s 6ms/step - loss: 0.6359 - accuracy: 0.6985 - val_loss: 0.7927 - val_accuracy: 0.5333\n",
      "Epoch 33/40\n",
      "37/37 [==============================] - 0s 6ms/step - loss: 0.6279 - accuracy: 0.6819 - val_loss: 0.7926 - val_accuracy: 0.5083\n",
      "Epoch 34/40\n",
      "37/37 [==============================] - 0s 5ms/step - loss: 0.6193 - accuracy: 0.7069 - val_loss: 0.8279 - val_accuracy: 0.5167\n",
      "Epoch 35/40\n",
      "37/37 [==============================] - 0s 5ms/step - loss: 0.6133 - accuracy: 0.6944 - val_loss: 0.7935 - val_accuracy: 0.5292\n",
      "Epoch 36/40\n",
      "37/37 [==============================] - 0s 6ms/step - loss: 0.6027 - accuracy: 0.7277 - val_loss: 0.8270 - val_accuracy: 0.5250\n",
      "Epoch 37/40\n",
      "37/37 [==============================] - 0s 6ms/step - loss: 0.6051 - accuracy: 0.7256 - val_loss: 0.8247 - val_accuracy: 0.5125\n",
      "Epoch 38/40\n",
      "37/37 [==============================] - 0s 6ms/step - loss: 0.5976 - accuracy: 0.7173 - val_loss: 0.8507 - val_accuracy: 0.5083\n",
      "Epoch 39/40\n",
      "37/37 [==============================] - 0s 6ms/step - loss: 0.5872 - accuracy: 0.7505 - val_loss: 0.8538 - val_accuracy: 0.5125\n",
      "Epoch 40/40\n",
      "37/37 [==============================] - 0s 5ms/step - loss: 0.5875 - accuracy: 0.7464 - val_loss: 0.8654 - val_accuracy: 0.5208\n"
     ]
    },
    {
     "data": {
      "text/plain": [
       "<keras.callbacks.History at 0x24ff6ec0e50>"
      ]
     },
     "execution_count": 232,
     "metadata": {},
     "output_type": "execute_result"
    }
   ],
   "source": [
    "# Build MPL model\n",
    "n_features = X_train_pca.shape[1]\n",
    "model = Sequential()\n",
    "model.add(Dense(64, activation='relu', input_shape=(n_features,), kernel_regularizer=keras.regularizers.l2(0.1)))\n",
    "#model.add(Dropout(0.2))\n",
    "model.add(Dense(64, activation='relu', input_shape=(n_features,)))\n",
    "#model.add(Dropout(0.2))\n",
    "model.add(Dense(1, activation='sigmoid'))\n",
    "\n",
    "# Compile model\n",
    "model.compile(loss='binary_crossentropy',  optimizer='adam', metrics=['accuracy']) # use binary_accuracy?\n",
    "\n",
    "# Define early stopping callback\n",
    "#early_stopping_callback = tf.keras.callbacks.EarlyStopping(patience=7, monitor='val_accuracy')\n",
    "\n",
    "# Fit model\n",
    "history = model.fit(X_train_pca, \n",
    "                    y_train, \n",
    "                    epochs=40, \n",
    "                    validation_data=(X_test_pca, y_test), \n",
    "                    batch_size=13,\n",
    "                    #callbacks=[early_stopping_callback]\n",
    "                    )\n",
    "history\n"
   ]
  },
  {
   "cell_type": "code",
   "execution_count": 210,
   "metadata": {},
   "outputs": [
    {
     "name": "stdout",
     "output_type": "stream",
     "text": [
      "8/8 [==============================] - 0s 1ms/step - loss: 0.6966 - accuracy: 0.5500\n"
     ]
    },
    {
     "data": {
      "text/plain": [
       "[0.6966342926025391, 0.550000011920929]"
      ]
     },
     "execution_count": 210,
     "metadata": {},
     "output_type": "execute_result"
    }
   ],
   "source": [
    "model.evaluate(X_test_pca, y_test)"
   ]
  },
  {
   "cell_type": "code",
   "execution_count": 211,
   "metadata": {},
   "outputs": [],
   "source": [
    "# predict on test data\n",
    "y_pred = model.predict(X_test_pca)\n"
   ]
  },
  {
   "cell_type": "code",
   "execution_count": 212,
   "metadata": {},
   "outputs": [
    {
     "data": {
      "text/plain": [
       "<AxesSubplot:>"
      ]
     },
     "execution_count": 212,
     "metadata": {},
     "output_type": "execute_result"
    },
    {
     "data": {
      "image/png": "[encoded data removed]",
      "text/plain": [
       "<Figure size 720x432 with 1 Axes>"
      ]
     },
     "metadata": {
      "needs_background": "light"
     },
     "output_type": "display_data"
    }
   ],
   "source": [
    "pd.DataFrame(history.history).plot(figsize=(10,6))"
   ]
  },
  {
   "cell_type": "code",
   "execution_count": 213,
   "metadata": {},
   "outputs": [
    {
     "name": "stdout",
     "output_type": "stream",
     "text": [
      "Train split:\n",
      "16/16 [==============================] - 0s 915us/step - loss: 0.6151 - accuracy: 0.6840\n",
      "Accuracy: 68.40%\n"
     ]
    }
   ],
   "source": [
    "print('Train split:')\n",
    "loss, acc = model.evaluate(X_train_pca, y_train, verbose=1)\n",
    "\n",
    "print(\"Accuracy: %.2f%%\" % (acc * 100))"
   ]
  },
  {
   "cell_type": "code",
   "execution_count": 214,
   "metadata": {},
   "outputs": [
    {
     "name": "stdout",
     "output_type": "stream",
     "text": [
      "Test split:\n",
      "8/8 [==============================] - 0s 1ms/step - loss: 0.6966 - accuracy: 0.5500\n",
      "Accuracy: 55.00%\n"
     ]
    }
   ],
   "source": [
    "print('Test split:')\n",
    "loss, acc = model.evaluate(X_test_pca, y_test, verbose=1)\n",
    "\n",
    "print(\"Accuracy: %.2f%%\" % (acc * 100))"
   ]
  },
  {
   "cell_type": "code",
   "execution_count": 215,
   "metadata": {},
   "outputs": [
    {
     "data": {
      "text/plain": [
       "[Text(0, 0.5, 'True: 0'), Text(0, 1.5, 'True: 1')]"
      ]
     },
     "execution_count": 215,
     "metadata": {},
     "output_type": "execute_result"
    },
    {
     "data": {
      "image/png": "[encoded data removed]",
      "text/plain": [
       "<Figure size 432x288 with 2 Axes>"
      ]
     },
     "metadata": {
      "needs_background": "light"
     },
     "output_type": "display_data"
    }
   ],
   "source": [
    "# Display confusion matrix results\n",
    "from sklearn.metrics import confusion_matrix\n",
    "\n",
    "ax = plt.subplot()\n",
    "predicted = model.predict(X_test_pca)\n",
    "predicted = (predicted > 0.5)\n",
    "\n",
    "confusion = confusion_matrix(y_test, predicted)\n",
    "\n",
    "sns.heatmap(confusion, annot=True, ax=ax)\n",
    "\n",
    "ax.set_xlabel('Predicted')\n",
    "ax.set_ylabel('True')\n",
    "ax.set_title('Confusion Matrix')\n",
    "ax.xaxis.set_ticklabels([\"Predicted: 0\", \"Predicted: 1\"])\n",
    "ax.yaxis.set_ticklabels([\"True: 0\", \"True: 1\"])\n",
    "\n"
   ]
  }
 ],
 "metadata": {
  "kernelspec": {
   "display_name": "Python 3",
   "language": "python",
   "name": "python3"
  },
  "language_info": {
   "codemirror_mode": {
    "name": "ipython",
    "version": 3
   },
   "file_extension": ".py",
   "mimetype": "text/x-python",
   "name": "python",
   "nbconvert_exporter": "python",
   "pygments_lexer": "ipython3",
   "version": "3.9.6"
  }
 },
 "nbformat": 4,
 "nbformat_minor": 4
}
