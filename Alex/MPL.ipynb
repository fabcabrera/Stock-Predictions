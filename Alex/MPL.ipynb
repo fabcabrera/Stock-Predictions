{
 "cells": [
  {
   "cell_type": "markdown",
   "metadata": {},
   "source": [
    "### Multi-Layer Perceptron "
   ]
  },
  {
   "cell_type": "code",
   "execution_count": 43,
   "metadata": {},
   "outputs": [],
   "source": [
    "import pandas as pd\n",
    "import numpy as np\n",
    "import matplotlib.pyplot as plt\n",
    "import tensorflow as tf\n",
    "from sklearn import (\n",
    "    linear_model, metrics, neural_network, pipeline, model_selection\n",
    ")\n",
    "from sklearn.impute import SimpleImputer\n",
    "\n",
    "from sklearn.decomposition import PCA\n",
    "from sklearn.preprocessing import StandardScaler\n",
    "from sklearn.pipeline import Pipeline\n",
    "from sklearn.model_selection import train_test_split, GridSearchCV\n",
    "from sklearn.linear_model import Lasso\n",
    "from sklearn.preprocessing import MinMaxScaler\n",
    "from keras.models import Sequential\n",
    "from keras.layers import Dense\n",
    "from sklearn.metrics import mean_squared_error, accuracy_score, precision_score, recall_score, f1_score\n",
    "from sklearn.model_selection import TimeSeriesSplit"
   ]
  },
  {
   "cell_type": "code",
   "execution_count": 103,
   "metadata": {},
   "outputs": [],
   "source": [
    "# import the data\n",
    "netflix = pd.read_csv('netflix_model_ready.csv')"
   ]
  },
  {
   "cell_type": "code",
   "execution_count": 104,
   "metadata": {},
   "outputs": [],
   "source": [
    "# Change \"date\" column to ensure datetime type and drop weekends\n",
    "netflix[\"date\"] = pd.to_datetime(netflix[\"date\"])"
   ]
  },
  {
   "cell_type": "markdown",
   "metadata": {},
   "source": [
    "#### MPL With Features From Feature Selection Process"
   ]
  },
  {
   "cell_type": "code",
   "execution_count": 137,
   "metadata": {},
   "outputs": [],
   "source": [
    "# TimeSeriesSplit the data\n",
    "tss = TimeSeriesSplit(n_splits=5)\n",
    "\n",
    "# Create feature dataframe based on feature selection results\n",
    "X = netflix[[\"date\", \"Google_rs\", \"Dow_MAvg_s_Move\", \"Stock_gain\", \"Volume\", \"Dow_loss\", \"Dow_diff\", \n",
    "             \"Google_MAvg_s\", \"Google_MAvg\", \"Google_EMA\", \"Wiki_Move\"]]\n",
    "\n",
    "X = X.set_index(\"date\")\n",
    "\n",
    "# Create y target dataset\n",
    "y = netflix[\"target_1\"]\n",
    "\n",
    "for train_index, test_index in tss.split(X):\n",
    "    X_train, X_test = X.iloc[train_index, :], X.iloc[test_index,:]\n",
    "    y_train, y_test = y.iloc[train_index], y.iloc[test_index]"
   ]
  },
  {
   "cell_type": "code",
   "execution_count": 138,
   "metadata": {},
   "outputs": [
    {
     "name": "stdout",
     "output_type": "stream",
     "text": [
      "DatetimeIndex(['2019-01-23', '2019-01-24', '2019-01-25', '2019-01-28',\n",
      "               '2019-01-29', '2019-01-30', '2019-01-31', '2019-02-01',\n",
      "               '2019-02-04', '2019-02-05',\n",
      "               ...\n",
      "               '2021-09-21', '2021-09-22', '2021-09-23', '2021-09-24',\n",
      "               '2021-09-27', '2021-09-28', '2021-09-29', '2021-09-30',\n",
      "               '2021-10-01', '2021-10-04'],\n",
      "              dtype='datetime64[ns]', name='date', length=601, freq=None)\n",
      "DatetimeIndex(['2021-10-05', '2021-10-06', '2021-10-07', '2021-10-08',\n",
      "               '2021-10-12', '2021-10-13', '2021-10-14', '2021-10-15',\n",
      "               '2021-10-18', '2021-10-19',\n",
      "               ...\n",
      "               '2022-03-17', '2022-03-18', '2022-03-21', '2022-03-22',\n",
      "               '2022-03-23', '2022-03-24', '2022-03-25', '2022-03-28',\n",
      "               '2022-03-29', '2022-03-30'],\n",
      "              dtype='datetime64[ns]', name='date', length=120, freq=None)\n"
     ]
    }
   ],
   "source": [
    "# Print index of train and test data to check that they are split correctly\n",
    "print(X_train.index)\n",
    "print(X_test.index)"
   ]
  },
  {
   "cell_type": "code",
   "execution_count": 139,
   "metadata": {},
   "outputs": [],
   "source": [
    "# Standardize the data\n",
    "scaler = StandardScaler()\n",
    "X_train_pca = scaler.fit_transform(X_train)\n",
    "X_test_pca = scaler.fit_transform(X_test)"
   ]
  },
  {
   "cell_type": "code",
   "execution_count": 140,
   "metadata": {},
   "outputs": [
    {
     "name": "stdout",
     "output_type": "stream",
     "text": [
      "Epoch 1/50\n",
      "61/61 [==============================] - 0s 3ms/step - loss: 240101.2969 - accuracy: 0.4509 - val_loss: 1878.8134 - val_accuracy: 0.5083\n",
      "Epoch 2/50\n",
      "61/61 [==============================] - 0s 1ms/step - loss: 4510.4722 - accuracy: 0.4908 - val_loss: 2691.0908 - val_accuracy: 0.5083\n",
      "Epoch 3/50\n",
      "61/61 [==============================] - 0s 1ms/step - loss: 2350.2529 - accuracy: 0.4958 - val_loss: 3297.9236 - val_accuracy: 0.4917\n",
      "Epoch 4/50\n",
      "61/61 [==============================] - 0s 1ms/step - loss: 2980.6877 - accuracy: 0.5308 - val_loss: 5709.2114 - val_accuracy: 0.4917\n",
      "Epoch 5/50\n",
      "61/61 [==============================] - 0s 1ms/step - loss: 3212.5903 - accuracy: 0.5241 - val_loss: 4008.6379 - val_accuracy: 0.4917\n",
      "Epoch 6/50\n",
      "61/61 [==============================] - 0s 2ms/step - loss: 5648.8608 - accuracy: 0.5058 - val_loss: 2262.1240 - val_accuracy: 0.4917\n",
      "Epoch 7/50\n",
      "61/61 [==============================] - 0s 2ms/step - loss: 2669.2327 - accuracy: 0.5374 - val_loss: 1231.5773 - val_accuracy: 0.4917\n",
      "Epoch 8/50\n",
      "61/61 [==============================] - 0s 2ms/step - loss: 5459.3418 - accuracy: 0.4975 - val_loss: 862.2029 - val_accuracy: 0.5083\n",
      "Epoch 9/50\n",
      "61/61 [==============================] - 0s 2ms/step - loss: 2304.6052 - accuracy: 0.5092 - val_loss: 11025.7100 - val_accuracy: 0.5083\n",
      "Epoch 10/50\n",
      "61/61 [==============================] - 0s 2ms/step - loss: 4294.9536 - accuracy: 0.5391 - val_loss: 7264.1064 - val_accuracy: 0.4917\n",
      "Epoch 11/50\n",
      "61/61 [==============================] - 0s 2ms/step - loss: 3985.4067 - accuracy: 0.5025 - val_loss: 3696.6909 - val_accuracy: 0.5083\n",
      "Epoch 12/50\n",
      "61/61 [==============================] - 0s 2ms/step - loss: 2939.9978 - accuracy: 0.4825 - val_loss: 5243.6221 - val_accuracy: 0.5083\n",
      "Epoch 13/50\n",
      "61/61 [==============================] - 0s 2ms/step - loss: 7094.2461 - accuracy: 0.4975 - val_loss: 1398.4286 - val_accuracy: 0.5083\n",
      "Epoch 14/50\n",
      "61/61 [==============================] - 0s 2ms/step - loss: 6252.6719 - accuracy: 0.4925 - val_loss: 4094.6252 - val_accuracy: 0.5083\n",
      "Epoch 15/50\n",
      "61/61 [==============================] - 0s 2ms/step - loss: 5354.0688 - accuracy: 0.4792 - val_loss: 2510.7678 - val_accuracy: 0.5083\n",
      "Epoch 16/50\n",
      "61/61 [==============================] - 0s 2ms/step - loss: 7753.0913 - accuracy: 0.4925 - val_loss: 5661.2842 - val_accuracy: 0.5083\n",
      "Epoch 17/50\n",
      "61/61 [==============================] - 0s 2ms/step - loss: 1768.5399 - accuracy: 0.5092 - val_loss: 4241.8125 - val_accuracy: 0.5083\n",
      "Epoch 18/50\n",
      "61/61 [==============================] - 0s 2ms/step - loss: 4685.9570 - accuracy: 0.5025 - val_loss: 1136.7318 - val_accuracy: 0.4833\n",
      "Epoch 19/50\n",
      "61/61 [==============================] - 0s 2ms/step - loss: 2649.9602 - accuracy: 0.4942 - val_loss: 10529.8926 - val_accuracy: 0.5083\n",
      "Epoch 20/50\n",
      "61/61 [==============================] - 0s 2ms/step - loss: 3176.6411 - accuracy: 0.5175 - val_loss: 1012.4001 - val_accuracy: 0.4833\n",
      "Epoch 21/50\n",
      "61/61 [==============================] - 0s 2ms/step - loss: 4313.2456 - accuracy: 0.5258 - val_loss: 249.3123 - val_accuracy: 0.4417\n",
      "Epoch 22/50\n",
      "61/61 [==============================] - 0s 2ms/step - loss: 2943.4912 - accuracy: 0.5324 - val_loss: 8795.6191 - val_accuracy: 0.5083\n",
      "Epoch 23/50\n",
      "61/61 [==============================] - 0s 2ms/step - loss: 2706.1960 - accuracy: 0.4992 - val_loss: 591.1862 - val_accuracy: 0.4917\n",
      "Epoch 24/50\n",
      "61/61 [==============================] - 0s 2ms/step - loss: 2798.0161 - accuracy: 0.5175 - val_loss: 3933.4734 - val_accuracy: 0.4917\n",
      "Epoch 25/50\n",
      "61/61 [==============================] - 0s 2ms/step - loss: 1518.0109 - accuracy: 0.5324 - val_loss: 9104.1152 - val_accuracy: 0.5083\n",
      "Epoch 26/50\n",
      "61/61 [==============================] - 0s 2ms/step - loss: 3999.7859 - accuracy: 0.5125 - val_loss: 6564.4663 - val_accuracy: 0.5083\n",
      "Epoch 27/50\n",
      "61/61 [==============================] - 0s 2ms/step - loss: 2523.3811 - accuracy: 0.5125 - val_loss: 1002.9453 - val_accuracy: 0.5167\n",
      "Epoch 28/50\n",
      "61/61 [==============================] - 0s 2ms/step - loss: 4015.0894 - accuracy: 0.4792 - val_loss: 5755.5679 - val_accuracy: 0.4917\n",
      "Epoch 29/50\n",
      "61/61 [==============================] - 0s 2ms/step - loss: 8035.4668 - accuracy: 0.4958 - val_loss: 2378.1975 - val_accuracy: 0.4917\n",
      "Epoch 30/50\n",
      "61/61 [==============================] - 0s 2ms/step - loss: 3247.0381 - accuracy: 0.5042 - val_loss: 4334.4604 - val_accuracy: 0.5083\n",
      "Epoch 31/50\n",
      "61/61 [==============================] - 0s 2ms/step - loss: 2770.7244 - accuracy: 0.4908 - val_loss: 14170.6514 - val_accuracy: 0.5083\n",
      "Epoch 32/50\n",
      "61/61 [==============================] - 0s 2ms/step - loss: 7228.2905 - accuracy: 0.5424 - val_loss: 3054.4905 - val_accuracy: 0.5083\n",
      "Epoch 33/50\n",
      "61/61 [==============================] - 0s 2ms/step - loss: 2949.5696 - accuracy: 0.4925 - val_loss: 289.1543 - val_accuracy: 0.4167\n",
      "Epoch 34/50\n",
      "61/61 [==============================] - 0s 2ms/step - loss: 2196.6777 - accuracy: 0.5341 - val_loss: 5260.7188 - val_accuracy: 0.5083\n",
      "Epoch 35/50\n",
      "61/61 [==============================] - 0s 2ms/step - loss: 2794.7808 - accuracy: 0.5441 - val_loss: 5931.0078 - val_accuracy: 0.5083\n",
      "Epoch 36/50\n",
      "61/61 [==============================] - 0s 2ms/step - loss: 4027.2578 - accuracy: 0.5324 - val_loss: 4985.2988 - val_accuracy: 0.5083\n",
      "Epoch 37/50\n",
      "61/61 [==============================] - 0s 2ms/step - loss: 2662.6548 - accuracy: 0.5341 - val_loss: 844.0511 - val_accuracy: 0.4917\n",
      "Epoch 38/50\n",
      "61/61 [==============================] - 0s 2ms/step - loss: 2462.6692 - accuracy: 0.5225 - val_loss: 598.9693 - val_accuracy: 0.5000\n",
      "Epoch 39/50\n",
      "61/61 [==============================] - 0s 2ms/step - loss: 1270.1570 - accuracy: 0.5275 - val_loss: 2629.4136 - val_accuracy: 0.5083\n",
      "Epoch 40/50\n",
      "61/61 [==============================] - 0s 2ms/step - loss: 3703.8855 - accuracy: 0.5075 - val_loss: 5102.2393 - val_accuracy: 0.5083\n",
      "Epoch 41/50\n",
      "61/61 [==============================] - 0s 2ms/step - loss: 3403.0244 - accuracy: 0.4576 - val_loss: 1970.3361 - val_accuracy: 0.4833\n",
      "Epoch 42/50\n",
      "61/61 [==============================] - 0s 2ms/step - loss: 3558.2104 - accuracy: 0.5241 - val_loss: 5569.8926 - val_accuracy: 0.5083\n",
      "Epoch 43/50\n",
      "61/61 [==============================] - 0s 2ms/step - loss: 7273.3545 - accuracy: 0.5175 - val_loss: 3064.8660 - val_accuracy: 0.4917\n",
      "Epoch 44/50\n",
      "61/61 [==============================] - 0s 2ms/step - loss: 3662.4993 - accuracy: 0.5491 - val_loss: 334.0942 - val_accuracy: 0.4083\n",
      "Epoch 45/50\n",
      "61/61 [==============================] - 0s 2ms/step - loss: 1731.7843 - accuracy: 0.4942 - val_loss: 3365.4861 - val_accuracy: 0.5083\n",
      "Epoch 46/50\n",
      "61/61 [==============================] - 0s 2ms/step - loss: 3209.8308 - accuracy: 0.5108 - val_loss: 12305.3936 - val_accuracy: 0.5083\n",
      "Epoch 47/50\n",
      "61/61 [==============================] - 0s 2ms/step - loss: 7085.3921 - accuracy: 0.5025 - val_loss: 8722.7559 - val_accuracy: 0.5083\n",
      "Epoch 48/50\n",
      "61/61 [==============================] - 0s 2ms/step - loss: 6516.3657 - accuracy: 0.5324 - val_loss: 3448.8008 - val_accuracy: 0.4917\n",
      "Epoch 49/50\n",
      "61/61 [==============================] - 0s 2ms/step - loss: 2669.0022 - accuracy: 0.5324 - val_loss: 1746.6831 - val_accuracy: 0.5083\n",
      "Epoch 50/50\n",
      "61/61 [==============================] - 0s 2ms/step - loss: 3832.3125 - accuracy: 0.5108 - val_loss: 516.8951 - val_accuracy: 0.4833\n"
     ]
    }
   ],
   "source": [
    "# Build MPL model\n",
    "n_features = X_train_pca.shape[1]\n",
    "model = Sequential()\n",
    "model.add(Dense(50, activation='relu', input_shape=(n_features,)))\n",
    "model.add(Dense(1, activation='sigmoid'))\n",
    "\n",
    "# Compile model\n",
    "model.compile(loss='binary_crossentropy', optimizer='adam', metrics=['accuracy'])\n",
    "\n",
    "# Fit model\n",
    "history = model.fit(X_train, y_train, epochs=50, validation_data=(X_test, y_test), batch_size=10)\n",
    "history\n",
    "\n",
    "# predict on test data\n",
    "y_pred = model.predict(X_test)"
   ]
  },
  {
   "cell_type": "code",
   "execution_count": 141,
   "metadata": {},
   "outputs": [
    {
     "data": {
      "text/plain": [
       "<AxesSubplot:>"
      ]
     },
     "execution_count": 141,
     "metadata": {},
     "output_type": "execute_result"
    },
    {
     "data": {
      "image/png": "[encoded data removed]",
      "text/plain": [
       "<Figure size 720x432 with 1 Axes>"
      ]
     },
     "metadata": {
      "needs_background": "light"
     },
     "output_type": "display_data"
    }
   ],
   "source": [
    "pd.DataFrame(history.history).plot(figsize=(10,6))"
   ]
  },
  {
   "cell_type": "markdown",
   "metadata": {},
   "source": [
    "#### MPL With PCA For Feature Reduction"
   ]
  },
  {
   "cell_type": "code",
   "execution_count": 142,
   "metadata": {},
   "outputs": [],
   "source": [
    "# Time series train/test split\n",
    "tss= TimeSeriesSplit(n_splits=5)\n",
    "\n",
    "# Keep all features, but remove the five target variables\n",
    "X = netflix.iloc[:, :-5]\n",
    "X = X.set_index(\"date\")\n",
    "\n",
    "# Create series for target \n",
    "y = netflix.iloc[:, -1]\n",
    "\n",
    "# Split tranining and test data by date\n",
    "for train_index, test_index in tss.split(X):\n",
    "    X_train, X_test = X.iloc[train_index, :], X.iloc[test_index,:]\n",
    "    y_train, y_test = y.iloc[train_index], y.iloc[test_index]"
   ]
  },
  {
   "cell_type": "code",
   "execution_count": 143,
   "metadata": {},
   "outputs": [
    {
     "name": "stdout",
     "output_type": "stream",
     "text": [
      "DatetimeIndex(['2019-01-23', '2019-01-24', '2019-01-25', '2019-01-28',\n",
      "               '2019-01-29', '2019-01-30', '2019-01-31', '2019-02-01',\n",
      "               '2019-02-04', '2019-02-05',\n",
      "               ...\n",
      "               '2021-09-21', '2021-09-22', '2021-09-23', '2021-09-24',\n",
      "               '2021-09-27', '2021-09-28', '2021-09-29', '2021-09-30',\n",
      "               '2021-10-01', '2021-10-04'],\n",
      "              dtype='datetime64[ns]', name='date', length=601, freq=None)\n",
      "DatetimeIndex(['2021-10-05', '2021-10-06', '2021-10-07', '2021-10-08',\n",
      "               '2021-10-12', '2021-10-13', '2021-10-14', '2021-10-15',\n",
      "               '2021-10-18', '2021-10-19',\n",
      "               ...\n",
      "               '2022-03-17', '2022-03-18', '2022-03-21', '2022-03-22',\n",
      "               '2022-03-23', '2022-03-24', '2022-03-25', '2022-03-28',\n",
      "               '2022-03-29', '2022-03-30'],\n",
      "              dtype='datetime64[ns]', name='date', length=120, freq=None)\n"
     ]
    }
   ],
   "source": [
    "# Print index of train and test data to check that they are split correctly\n",
    "print(X_train.index)\n",
    "print(X_test.index)"
   ]
  },
  {
   "cell_type": "code",
   "execution_count": 144,
   "metadata": {},
   "outputs": [],
   "source": [
    "# PCA feature reduction. 40 components is enough to explain ~85% of the variance (refer to Feture_selection notebook)\n",
    "sklearn_pca = PCA(n_components=40)\n",
    "X_train_pca = sklearn_pca.fit_transform(X_train)\n",
    "X_test_pca = sklearn_pca.transform(X_test)\n",
    "\n",
    "# Standardize the data\n",
    "scaler = StandardScaler()\n",
    "X_train_pca = scaler.fit_transform(X_train_pca)\n",
    "X_test_pca = scaler.fit_transform(X_test_pca)"
   ]
  },
  {
   "cell_type": "code",
   "execution_count": 145,
   "metadata": {},
   "outputs": [
    {
     "name": "stdout",
     "output_type": "stream",
     "text": [
      "Epoch 1/50\n",
      "61/61 [==============================] - 0s 3ms/step - loss: 0.7138 - accuracy: 0.5358 - val_loss: 0.7288 - val_accuracy: 0.4917\n",
      "Epoch 2/50\n",
      "61/61 [==============================] - 0s 1ms/step - loss: 0.6567 - accuracy: 0.6123 - val_loss: 0.7152 - val_accuracy: 0.5417\n",
      "Epoch 3/50\n",
      "61/61 [==============================] - 0s 1ms/step - loss: 0.6264 - accuracy: 0.6356 - val_loss: 0.7163 - val_accuracy: 0.5500\n",
      "Epoch 4/50\n",
      "61/61 [==============================] - 0s 2ms/step - loss: 0.6027 - accuracy: 0.6789 - val_loss: 0.7118 - val_accuracy: 0.5583\n",
      "Epoch 5/50\n",
      "61/61 [==============================] - 0s 2ms/step - loss: 0.5841 - accuracy: 0.6938 - val_loss: 0.7110 - val_accuracy: 0.5583\n",
      "Epoch 6/50\n",
      "61/61 [==============================] - 0s 2ms/step - loss: 0.5701 - accuracy: 0.7138 - val_loss: 0.7161 - val_accuracy: 0.5833\n",
      "Epoch 7/50\n",
      "61/61 [==============================] - 0s 2ms/step - loss: 0.5569 - accuracy: 0.7171 - val_loss: 0.7172 - val_accuracy: 0.6000\n",
      "Epoch 8/50\n",
      "61/61 [==============================] - 0s 2ms/step - loss: 0.5446 - accuracy: 0.7371 - val_loss: 0.7230 - val_accuracy: 0.5917\n",
      "Epoch 9/50\n",
      "61/61 [==============================] - 0s 1ms/step - loss: 0.5352 - accuracy: 0.7421 - val_loss: 0.7258 - val_accuracy: 0.6333\n",
      "Epoch 10/50\n",
      "61/61 [==============================] - 0s 2ms/step - loss: 0.5236 - accuracy: 0.7621 - val_loss: 0.7290 - val_accuracy: 0.5917\n",
      "Epoch 11/50\n",
      "61/61 [==============================] - 0s 2ms/step - loss: 0.5144 - accuracy: 0.7720 - val_loss: 0.7302 - val_accuracy: 0.5833\n",
      "Epoch 12/50\n",
      "61/61 [==============================] - 0s 2ms/step - loss: 0.5037 - accuracy: 0.7737 - val_loss: 0.7396 - val_accuracy: 0.6000\n",
      "Epoch 13/50\n",
      "61/61 [==============================] - 0s 1ms/step - loss: 0.4936 - accuracy: 0.7804 - val_loss: 0.7429 - val_accuracy: 0.5833\n",
      "Epoch 14/50\n",
      "61/61 [==============================] - 0s 2ms/step - loss: 0.4831 - accuracy: 0.7837 - val_loss: 0.7417 - val_accuracy: 0.6083\n",
      "Epoch 15/50\n",
      "61/61 [==============================] - 0s 2ms/step - loss: 0.4732 - accuracy: 0.8020 - val_loss: 0.7451 - val_accuracy: 0.6000\n",
      "Epoch 16/50\n",
      "61/61 [==============================] - 0s 2ms/step - loss: 0.4645 - accuracy: 0.8070 - val_loss: 0.7494 - val_accuracy: 0.5833\n",
      "Epoch 17/50\n",
      "61/61 [==============================] - 0s 1ms/step - loss: 0.4534 - accuracy: 0.8136 - val_loss: 0.7566 - val_accuracy: 0.5917\n",
      "Epoch 18/50\n",
      "61/61 [==============================] - 0s 2ms/step - loss: 0.4446 - accuracy: 0.8103 - val_loss: 0.7738 - val_accuracy: 0.5833\n",
      "Epoch 19/50\n",
      "61/61 [==============================] - 0s 2ms/step - loss: 0.4341 - accuracy: 0.8369 - val_loss: 0.7801 - val_accuracy: 0.5583\n",
      "Epoch 20/50\n",
      "61/61 [==============================] - 0s 2ms/step - loss: 0.4260 - accuracy: 0.8286 - val_loss: 0.7820 - val_accuracy: 0.5667\n",
      "Epoch 21/50\n",
      "61/61 [==============================] - 0s 2ms/step - loss: 0.4159 - accuracy: 0.8286 - val_loss: 0.7917 - val_accuracy: 0.5833\n",
      "Epoch 22/50\n",
      "61/61 [==============================] - 0s 1ms/step - loss: 0.4081 - accuracy: 0.8436 - val_loss: 0.7983 - val_accuracy: 0.5750\n",
      "Epoch 23/50\n",
      "61/61 [==============================] - 0s 2ms/step - loss: 0.3981 - accuracy: 0.8469 - val_loss: 0.7968 - val_accuracy: 0.5667\n",
      "Epoch 24/50\n",
      "61/61 [==============================] - 0s 2ms/step - loss: 0.3901 - accuracy: 0.8552 - val_loss: 0.8067 - val_accuracy: 0.5750\n",
      "Epoch 25/50\n",
      "61/61 [==============================] - 0s 2ms/step - loss: 0.3816 - accuracy: 0.8619 - val_loss: 0.8082 - val_accuracy: 0.5583\n",
      "Epoch 26/50\n",
      "61/61 [==============================] - 0s 2ms/step - loss: 0.3736 - accuracy: 0.8602 - val_loss: 0.8144 - val_accuracy: 0.5500\n",
      "Epoch 27/50\n",
      "61/61 [==============================] - 0s 2ms/step - loss: 0.3636 - accuracy: 0.8735 - val_loss: 0.8387 - val_accuracy: 0.5417\n",
      "Epoch 28/50\n",
      "61/61 [==============================] - 0s 2ms/step - loss: 0.3555 - accuracy: 0.8686 - val_loss: 0.8482 - val_accuracy: 0.5417\n",
      "Epoch 29/50\n",
      "61/61 [==============================] - 0s 2ms/step - loss: 0.3492 - accuracy: 0.8719 - val_loss: 0.8674 - val_accuracy: 0.5333\n",
      "Epoch 30/50\n",
      "61/61 [==============================] - 0s 2ms/step - loss: 0.3415 - accuracy: 0.8752 - val_loss: 0.8611 - val_accuracy: 0.5250\n",
      "Epoch 31/50\n",
      "61/61 [==============================] - 0s 2ms/step - loss: 0.3333 - accuracy: 0.8869 - val_loss: 0.8762 - val_accuracy: 0.5083\n",
      "Epoch 32/50\n",
      "61/61 [==============================] - 0s 1ms/step - loss: 0.3252 - accuracy: 0.8902 - val_loss: 0.8899 - val_accuracy: 0.5167\n",
      "Epoch 33/50\n",
      "61/61 [==============================] - 0s 1ms/step - loss: 0.3166 - accuracy: 0.8952 - val_loss: 0.9009 - val_accuracy: 0.5167\n",
      "Epoch 34/50\n",
      "61/61 [==============================] - 0s 1ms/step - loss: 0.3110 - accuracy: 0.8935 - val_loss: 0.9048 - val_accuracy: 0.5167\n",
      "Epoch 35/50\n",
      "61/61 [==============================] - 0s 2ms/step - loss: 0.3022 - accuracy: 0.8968 - val_loss: 0.9171 - val_accuracy: 0.5250\n",
      "Epoch 36/50\n",
      "61/61 [==============================] - 0s 2ms/step - loss: 0.2962 - accuracy: 0.9052 - val_loss: 0.9297 - val_accuracy: 0.5250\n",
      "Epoch 37/50\n",
      "61/61 [==============================] - 0s 2ms/step - loss: 0.2887 - accuracy: 0.9118 - val_loss: 0.9347 - val_accuracy: 0.5250\n",
      "Epoch 38/50\n",
      "61/61 [==============================] - 0s 1ms/step - loss: 0.2848 - accuracy: 0.9168 - val_loss: 0.9545 - val_accuracy: 0.5250\n",
      "Epoch 39/50\n",
      "61/61 [==============================] - 0s 2ms/step - loss: 0.2774 - accuracy: 0.9118 - val_loss: 0.9721 - val_accuracy: 0.5250\n",
      "Epoch 40/50\n",
      "61/61 [==============================] - 0s 1ms/step - loss: 0.2708 - accuracy: 0.9151 - val_loss: 0.9736 - val_accuracy: 0.5167\n",
      "Epoch 41/50\n",
      "61/61 [==============================] - 0s 1ms/step - loss: 0.2637 - accuracy: 0.9268 - val_loss: 0.9947 - val_accuracy: 0.5333\n",
      "Epoch 42/50\n",
      "61/61 [==============================] - 0s 2ms/step - loss: 0.2590 - accuracy: 0.9285 - val_loss: 0.9978 - val_accuracy: 0.5167\n",
      "Epoch 43/50\n",
      "61/61 [==============================] - 0s 1ms/step - loss: 0.2505 - accuracy: 0.9268 - val_loss: 1.0153 - val_accuracy: 0.5083\n",
      "Epoch 44/50\n",
      "61/61 [==============================] - 0s 2ms/step - loss: 0.2447 - accuracy: 0.9301 - val_loss: 1.0324 - val_accuracy: 0.5000\n",
      "Epoch 45/50\n",
      "61/61 [==============================] - 0s 2ms/step - loss: 0.2397 - accuracy: 0.9434 - val_loss: 1.0453 - val_accuracy: 0.4917\n",
      "Epoch 46/50\n",
      "61/61 [==============================] - 0s 1ms/step - loss: 0.2332 - accuracy: 0.9434 - val_loss: 1.0689 - val_accuracy: 0.4833\n",
      "Epoch 47/50\n",
      "61/61 [==============================] - 0s 2ms/step - loss: 0.2271 - accuracy: 0.9484 - val_loss: 1.0678 - val_accuracy: 0.5000\n",
      "Epoch 48/50\n",
      "61/61 [==============================] - 0s 1ms/step - loss: 0.2217 - accuracy: 0.9517 - val_loss: 1.0957 - val_accuracy: 0.4833\n",
      "Epoch 49/50\n",
      "61/61 [==============================] - 0s 2ms/step - loss: 0.2168 - accuracy: 0.9484 - val_loss: 1.1093 - val_accuracy: 0.5000\n",
      "Epoch 50/50\n",
      "61/61 [==============================] - 0s 2ms/step - loss: 0.2121 - accuracy: 0.9517 - val_loss: 1.1155 - val_accuracy: 0.5000\n"
     ]
    }
   ],
   "source": [
    "# Build MPL model\n",
    "n_features = X_train_pca.shape[1]\n",
    "model = Sequential()\n",
    "model.add(Dense(50, activation='relu', input_shape=(n_features,)))\n",
    "model.add(Dense(1, activation='sigmoid'))\n",
    "\n",
    "# Compile model\n",
    "model.compile(loss='binary_crossentropy', optimizer='adam', metrics=['accuracy'])\n",
    "\n",
    "# Fit model\n",
    "history = model.fit(X_train_pca, y_train, epochs=50, validation_data=(X_test_pca, y_test), batch_size=10)\n",
    "history\n",
    "\n",
    "# predict on test data\n",
    "y_pred = model.predict(X_test_pca)"
   ]
  },
  {
   "cell_type": "code",
   "execution_count": 146,
   "metadata": {},
   "outputs": [
    {
     "data": {
      "text/plain": [
       "<AxesSubplot:>"
      ]
     },
     "execution_count": 146,
     "metadata": {},
     "output_type": "execute_result"
    },
    {
     "data": {
      "image/png": "[encoded data removed]",
      "text/plain": [
       "<Figure size 720x432 with 1 Axes>"
      ]
     },
     "metadata": {
      "needs_background": "light"
     },
     "output_type": "display_data"
    }
   ],
   "source": [
    "pd.DataFrame(history.history).plot(figsize=(10,6))"
   ]
  },
  {
   "cell_type": "code",
   "execution_count": null,
   "metadata": {},
   "outputs": [],
   "source": []
  }
 ],
 "metadata": {
  "kernelspec": {
   "display_name": "Python 3",
   "language": "python",
   "name": "python3"
  },
  "language_info": {
   "codemirror_mode": {
    "name": "ipython",
    "version": 3
   },
   "file_extension": ".py",
   "mimetype": "text/x-python",
   "name": "python",
   "nbconvert_exporter": "python",
   "pygments_lexer": "ipython3",
   "version": "3.9.6"
  }
 },
 "nbformat": 4,
 "nbformat_minor": 4
}
