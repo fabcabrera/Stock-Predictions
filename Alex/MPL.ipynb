{
 "cells": [
  {
   "cell_type": "markdown",
   "metadata": {},
   "source": [
    "### Multi-Layer Perceptron "
   ]
  },
  {
   "cell_type": "code",
   "execution_count": 192,
   "metadata": {},
   "outputs": [],
   "source": [
    "import pandas as pd\n",
    "import numpy as np\n",
    "import matplotlib.pyplot as plt\n",
    "import seaborn as sns   \n",
    "import tensorflow as tf\n",
    "from sklearn import (\n",
    "    linear_model, metrics, neural_network, pipeline, model_selection\n",
    ")\n",
    "from sklearn.impute import SimpleImputer\n",
    "\n",
    "from sklearn.decomposition import PCA\n",
    "from sklearn.preprocessing import StandardScaler\n",
    "from sklearn.pipeline import Pipeline\n",
    "from sklearn.model_selection import train_test_split, GridSearchCV\n",
    "from sklearn.linear_model import Lasso\n",
    "from sklearn.preprocessing import MinMaxScaler\n",
    "from keras.models import Sequential\n",
    "from keras.layers import Dense, Dropout\n",
    "from sklearn.metrics import mean_squared_error, accuracy_score, precision_score, recall_score, f1_score\n",
    "from sklearn.model_selection import TimeSeriesSplit"
   ]
  },
  {
   "cell_type": "code",
   "execution_count": 103,
   "metadata": {},
   "outputs": [],
   "source": [
    "# import the data\n",
    "netflix = pd.read_csv('netflix_model_ready.csv')"
   ]
  },
  {
   "cell_type": "code",
   "execution_count": 104,
   "metadata": {},
   "outputs": [],
   "source": [
    "# Change \"date\" column to ensure datetime type and drop weekends\n",
    "netflix[\"date\"] = pd.to_datetime(netflix[\"date\"])"
   ]
  },
  {
   "cell_type": "markdown",
   "metadata": {},
   "source": [
    "#### MPL With Features From Feature Selection Process"
   ]
  },
  {
   "cell_type": "code",
   "execution_count": 210,
   "metadata": {},
   "outputs": [],
   "source": [
    "# TimeSeriesSplit the data\n",
    "tss = TimeSeriesSplit(n_splits=5)\n",
    "\n",
    "# Create feature dataframe based on feature selection results\n",
    "X = netflix[[\"date\", \"Google_rs\", \"Dow_MAvg_s_Move\", \"Stock_gain\", \"Volume\", \"Dow_loss\", \"Dow_diff\", \n",
    "             \"Google_MAvg_s\", \"Google_MAvg\", \"Google_EMA\", \"Wiki_Move\"]]\n",
    "\n",
    "X = X.set_index(\"date\")\n",
    "\n",
    "# Create y target dataset\n",
    "y = netflix[\"target_3\"]\n",
    "\n",
    "for train_index, test_index in tss.split(X):\n",
    "    X_train, X_test = X.iloc[train_index, :], X.iloc[test_index,:]\n",
    "    y_train, y_test = y.iloc[train_index], y.iloc[test_index]"
   ]
  },
  {
   "cell_type": "code",
   "execution_count": 211,
   "metadata": {},
   "outputs": [
    {
     "name": "stdout",
     "output_type": "stream",
     "text": [
      "DatetimeIndex(['2019-01-23', '2019-01-24', '2019-01-25', '2019-01-28',\n",
      "               '2019-01-29', '2019-01-30', '2019-01-31', '2019-02-01',\n",
      "               '2019-02-04', '2019-02-05',\n",
      "               ...\n",
      "               '2021-09-21', '2021-09-22', '2021-09-23', '2021-09-24',\n",
      "               '2021-09-27', '2021-09-28', '2021-09-29', '2021-09-30',\n",
      "               '2021-10-01', '2021-10-04'],\n",
      "              dtype='datetime64[ns]', name='date', length=601, freq=None)\n",
      "DatetimeIndex(['2021-10-05', '2021-10-06', '2021-10-07', '2021-10-08',\n",
      "               '2021-10-12', '2021-10-13', '2021-10-14', '2021-10-15',\n",
      "               '2021-10-18', '2021-10-19',\n",
      "               ...\n",
      "               '2022-03-17', '2022-03-18', '2022-03-21', '2022-03-22',\n",
      "               '2022-03-23', '2022-03-24', '2022-03-25', '2022-03-28',\n",
      "               '2022-03-29', '2022-03-30'],\n",
      "              dtype='datetime64[ns]', name='date', length=120, freq=None)\n"
     ]
    }
   ],
   "source": [
    "# Print index of train and test data to check that they are split correctly\n",
    "print(X_train.index)\n",
    "print(X_test.index)"
   ]
  },
  {
   "cell_type": "code",
   "execution_count": 234,
   "metadata": {},
   "outputs": [],
   "source": [
    "# Standardize the data\n",
    "scaler = MinMaxScaler()\n",
    "X_train_pca = scaler.fit_transform(X_train)\n",
    "X_test_pca = scaler.fit_transform(X_test)"
   ]
  },
  {
   "cell_type": "code",
   "execution_count": 235,
   "metadata": {},
   "outputs": [
    {
     "name": "stdout",
     "output_type": "stream",
     "text": [
      "Epoch 1/50\n",
      "55/55 [==============================] - 0s 3ms/step - loss: 40779112.0000 - accuracy: 0.4917 - val_loss: 3731636.5000 - val_accuracy: 0.5056\n",
      "Epoch 2/50\n",
      "55/55 [==============================] - 0s 1ms/step - loss: 5285714.5000 - accuracy: 0.4824 - val_loss: 2017997.3750 - val_accuracy: 0.4944\n",
      "Epoch 3/50\n",
      "55/55 [==============================] - 0s 1ms/step - loss: 1086509.6250 - accuracy: 0.4972 - val_loss: 1068901.8750 - val_accuracy: 0.4944\n",
      "Epoch 4/50\n",
      "55/55 [==============================] - 0s 2ms/step - loss: 1274632.8750 - accuracy: 0.4603 - val_loss: 567826.6875 - val_accuracy: 0.4944\n",
      "Epoch 5/50\n",
      "55/55 [==============================] - 0s 2ms/step - loss: 1555747.0000 - accuracy: 0.5287 - val_loss: 4394746.5000 - val_accuracy: 0.5056\n",
      "Epoch 6/50\n",
      "55/55 [==============================] - 0s 2ms/step - loss: 1615299.7500 - accuracy: 0.5231 - val_loss: 3751040.0000 - val_accuracy: 0.5056\n",
      "Epoch 7/50\n",
      "55/55 [==============================] - 0s 2ms/step - loss: 2635021.0000 - accuracy: 0.5065 - val_loss: 2035096.1250 - val_accuracy: 0.4944\n",
      "Epoch 8/50\n",
      "55/55 [==============================] - 0s 2ms/step - loss: 1138247.5000 - accuracy: 0.4991 - val_loss: 4475481.5000 - val_accuracy: 0.4944\n",
      "Epoch 9/50\n",
      "55/55 [==============================] - 0s 2ms/step - loss: 1511962.6250 - accuracy: 0.5416 - val_loss: 1038611.6250 - val_accuracy: 0.4944\n",
      "Epoch 10/50\n",
      "55/55 [==============================] - 0s 2ms/step - loss: 1463594.2500 - accuracy: 0.4935 - val_loss: 6131480.0000 - val_accuracy: 0.5056\n",
      "Epoch 11/50\n",
      "55/55 [==============================] - 0s 2ms/step - loss: 2390192.2500 - accuracy: 0.5009 - val_loss: 510553.1562 - val_accuracy: 0.5000\n",
      "Epoch 12/50\n",
      "55/55 [==============================] - 0s 2ms/step - loss: 908066.5000 - accuracy: 0.5231 - val_loss: 1061881.8750 - val_accuracy: 0.5056\n",
      "Epoch 13/50\n",
      "55/55 [==============================] - 0s 2ms/step - loss: 1508507.6250 - accuracy: 0.4954 - val_loss: 8223976.0000 - val_accuracy: 0.4944\n",
      "Epoch 14/50\n",
      "55/55 [==============================] - 0s 2ms/step - loss: 1265703.8750 - accuracy: 0.4843 - val_loss: 779619.0000 - val_accuracy: 0.5056\n",
      "Epoch 15/50\n",
      "55/55 [==============================] - 0s 2ms/step - loss: 1051878.5000 - accuracy: 0.4861 - val_loss: 454658.2188 - val_accuracy: 0.5056\n",
      "Epoch 16/50\n",
      "55/55 [==============================] - 0s 2ms/step - loss: 1261847.8750 - accuracy: 0.5065 - val_loss: 580574.8750 - val_accuracy: 0.5056\n",
      "Epoch 17/50\n",
      "55/55 [==============================] - 0s 2ms/step - loss: 1164449.1250 - accuracy: 0.5250 - val_loss: 1243879.2500 - val_accuracy: 0.5000\n",
      "Epoch 18/50\n",
      "55/55 [==============================] - 0s 2ms/step - loss: 1056951.6250 - accuracy: 0.5009 - val_loss: 2406280.2500 - val_accuracy: 0.4944\n",
      "Epoch 19/50\n",
      "55/55 [==============================] - 0s 2ms/step - loss: 2016939.5000 - accuracy: 0.5176 - val_loss: 2121236.5000 - val_accuracy: 0.5056\n",
      "Epoch 20/50\n",
      "55/55 [==============================] - 0s 2ms/step - loss: 1083992.0000 - accuracy: 0.5120 - val_loss: 4631895.5000 - val_accuracy: 0.4944\n",
      "Epoch 21/50\n",
      "55/55 [==============================] - 0s 2ms/step - loss: 1427443.8750 - accuracy: 0.4861 - val_loss: 196284.1094 - val_accuracy: 0.5056\n",
      "Epoch 22/50\n",
      "55/55 [==============================] - 0s 2ms/step - loss: 1262955.0000 - accuracy: 0.4935 - val_loss: 1774331.7500 - val_accuracy: 0.5056\n",
      "Epoch 23/50\n",
      "55/55 [==============================] - 0s 2ms/step - loss: 1492330.2500 - accuracy: 0.4769 - val_loss: 2560670.5000 - val_accuracy: 0.5056\n",
      "Epoch 24/50\n",
      "55/55 [==============================] - 0s 2ms/step - loss: 1814764.1250 - accuracy: 0.5287 - val_loss: 4549496.0000 - val_accuracy: 0.5056\n",
      "Epoch 25/50\n",
      "55/55 [==============================] - 0s 2ms/step - loss: 2005430.1250 - accuracy: 0.5213 - val_loss: 3521661.7500 - val_accuracy: 0.4944\n",
      "Epoch 26/50\n",
      "55/55 [==============================] - 0s 2ms/step - loss: 2180197.2500 - accuracy: 0.4658 - val_loss: 6232702.0000 - val_accuracy: 0.4944\n",
      "Epoch 27/50\n",
      "55/55 [==============================] - 0s 2ms/step - loss: 2299529.0000 - accuracy: 0.5083 - val_loss: 1665674.6250 - val_accuracy: 0.5000\n",
      "Epoch 28/50\n",
      "55/55 [==============================] - 0s 2ms/step - loss: 987251.2500 - accuracy: 0.4806 - val_loss: 629974.4375 - val_accuracy: 0.5056\n",
      "Epoch 29/50\n",
      "55/55 [==============================] - 0s 2ms/step - loss: 704966.4375 - accuracy: 0.5323 - val_loss: 1893805.5000 - val_accuracy: 0.5056\n",
      "Epoch 30/50\n",
      "55/55 [==============================] - 0s 2ms/step - loss: 902191.6250 - accuracy: 0.4917 - val_loss: 184200.2812 - val_accuracy: 0.4833\n",
      "Epoch 31/50\n",
      "55/55 [==============================] - 0s 2ms/step - loss: 559494.4375 - accuracy: 0.4954 - val_loss: 616859.5625 - val_accuracy: 0.5111\n",
      "Epoch 32/50\n",
      "55/55 [==============================] - 0s 2ms/step - loss: 663870.5000 - accuracy: 0.4972 - val_loss: 717394.3750 - val_accuracy: 0.5056\n",
      "Epoch 33/50\n",
      "55/55 [==============================] - 0s 2ms/step - loss: 1516278.1250 - accuracy: 0.5582 - val_loss: 3676053.7500 - val_accuracy: 0.5056\n",
      "Epoch 34/50\n",
      "55/55 [==============================] - 0s 2ms/step - loss: 3324105.2500 - accuracy: 0.4898 - val_loss: 5133368.0000 - val_accuracy: 0.4944\n",
      "Epoch 35/50\n",
      "55/55 [==============================] - 0s 2ms/step - loss: 2663755.2500 - accuracy: 0.4954 - val_loss: 2031775.1250 - val_accuracy: 0.5000\n",
      "Epoch 36/50\n",
      "55/55 [==============================] - 0s 2ms/step - loss: 661453.6250 - accuracy: 0.5213 - val_loss: 847428.6875 - val_accuracy: 0.5000\n",
      "Epoch 37/50\n",
      "55/55 [==============================] - 0s 1ms/step - loss: 1699706.7500 - accuracy: 0.4972 - val_loss: 7003278.0000 - val_accuracy: 0.4944\n",
      "Epoch 38/50\n",
      "55/55 [==============================] - 0s 2ms/step - loss: 1845420.3750 - accuracy: 0.5194 - val_loss: 1546220.5000 - val_accuracy: 0.5000\n",
      "Epoch 39/50\n",
      "55/55 [==============================] - 0s 2ms/step - loss: 1690386.0000 - accuracy: 0.4843 - val_loss: 3000231.5000 - val_accuracy: 0.5056\n",
      "Epoch 40/50\n",
      "55/55 [==============================] - 0s 2ms/step - loss: 848898.5625 - accuracy: 0.4935 - val_loss: 2082174.6250 - val_accuracy: 0.4944\n",
      "Epoch 41/50\n",
      "55/55 [==============================] - 0s 2ms/step - loss: 991434.7500 - accuracy: 0.5250 - val_loss: 263566.9688 - val_accuracy: 0.4889\n",
      "Epoch 42/50\n",
      "55/55 [==============================] - 0s 2ms/step - loss: 2299432.7500 - accuracy: 0.4621 - val_loss: 3155708.0000 - val_accuracy: 0.4944\n",
      "Epoch 43/50\n",
      "55/55 [==============================] - 0s 2ms/step - loss: 941579.7500 - accuracy: 0.4547 - val_loss: 1584108.2500 - val_accuracy: 0.5000\n",
      "Epoch 44/50\n",
      "55/55 [==============================] - 0s 2ms/step - loss: 844036.1250 - accuracy: 0.4898 - val_loss: 136701.4062 - val_accuracy: 0.5111\n",
      "Epoch 45/50\n",
      "55/55 [==============================] - 0s 2ms/step - loss: 1417066.2500 - accuracy: 0.5120 - val_loss: 2904024.2500 - val_accuracy: 0.4944\n",
      "Epoch 46/50\n",
      "55/55 [==============================] - 0s 2ms/step - loss: 855623.6250 - accuracy: 0.5028 - val_loss: 1170662.6250 - val_accuracy: 0.5000\n",
      "Epoch 47/50\n",
      "55/55 [==============================] - 0s 2ms/step - loss: 777318.0625 - accuracy: 0.5009 - val_loss: 1237017.5000 - val_accuracy: 0.5056\n",
      "Epoch 48/50\n",
      "55/55 [==============================] - 0s 2ms/step - loss: 919224.3750 - accuracy: 0.5157 - val_loss: 4178808.5000 - val_accuracy: 0.4944\n",
      "Epoch 49/50\n",
      "55/55 [==============================] - 0s 2ms/step - loss: 689841.1250 - accuracy: 0.5231 - val_loss: 758836.4375 - val_accuracy: 0.5056\n",
      "Epoch 50/50\n",
      "55/55 [==============================] - 0s 2ms/step - loss: 662255.1875 - accuracy: 0.5028 - val_loss: 2768609.7500 - val_accuracy: 0.4944\n"
     ]
    }
   ],
   "source": [
    "# Build MPL model\n",
    "n_features = X_train_pca.shape[1]\n",
    "model = Sequential()\n",
    "model.add(Dense(50, activation='relu', input_shape=(n_features,)))\n",
    "model.add(Dense(1, activation='sigmoid'))\n",
    "\n",
    "# Compile model\n",
    "model.compile(loss='binary_crossentropy', optimizer='adam', metrics=['accuracy'])\n",
    "\n",
    "# Fit model\n",
    "history = model.fit(X_train, y_train, epochs=50, validation_data=(X_test, y_test), batch_size=10)\n",
    "history\n",
    "\n",
    "# predict on test data\n",
    "y_pred = model.predict(X_test)"
   ]
  },
  {
   "cell_type": "code",
   "execution_count": 236,
   "metadata": {},
   "outputs": [
    {
     "data": {
      "text/plain": [
       "<AxesSubplot:>"
      ]
     },
     "execution_count": 236,
     "metadata": {},
     "output_type": "execute_result"
    },
    {
     "data": {
      "image/png": "[encoded data removed]",
      "text/plain": [
       "<Figure size 720x432 with 1 Axes>"
      ]
     },
     "metadata": {},
     "output_type": "display_data"
    }
   ],
   "source": [
    "pd.DataFrame(history.history).plot(figsize=(10,6))"
   ]
  },
  {
   "cell_type": "markdown",
   "metadata": {},
   "source": [
    "#### MPL With PCA For Feature Reduction"
   ]
  },
  {
   "cell_type": "code",
   "execution_count": 237,
   "metadata": {},
   "outputs": [],
   "source": [
    "# Time series train/test split\n",
    "tss= TimeSeriesSplit(n_splits=3)\n",
    "\n",
    "# Keep all features, but remove the five target variables\n",
    "X = netflix.iloc[:, :-5]\n",
    "X = X.set_index(\"date\")\n",
    "\n",
    "# Create series for target \n",
    "y = netflix.iloc[:, -3]\n",
    "\n",
    "# Split tranining and test data by date\n",
    "for train_index, test_index in tss.split(X):\n",
    "    X_train, X_test = X.iloc[train_index, :], X.iloc[test_index,:]\n",
    "    y_train, y_test = y.iloc[train_index], y.iloc[test_index]"
   ]
  },
  {
   "cell_type": "code",
   "execution_count": 238,
   "metadata": {},
   "outputs": [
    {
     "name": "stdout",
     "output_type": "stream",
     "text": [
      "DatetimeIndex(['2019-01-23', '2019-01-24', '2019-01-25', '2019-01-28',\n",
      "               '2019-01-29', '2019-01-30', '2019-01-31', '2019-02-01',\n",
      "               '2019-02-04', '2019-02-05',\n",
      "               ...\n",
      "               '2021-06-25', '2021-06-28', '2021-06-29', '2021-06-30',\n",
      "               '2021-07-01', '2021-07-02', '2021-07-06', '2021-07-07',\n",
      "               '2021-07-08', '2021-07-09'],\n",
      "              dtype='datetime64[ns]', name='date', length=541, freq=None)\n",
      "DatetimeIndex(['2021-07-12', '2021-07-13', '2021-07-14', '2021-07-15',\n",
      "               '2021-07-16', '2021-07-19', '2021-07-20', '2021-07-21',\n",
      "               '2021-07-22', '2021-07-23',\n",
      "               ...\n",
      "               '2022-03-17', '2022-03-18', '2022-03-21', '2022-03-22',\n",
      "               '2022-03-23', '2022-03-24', '2022-03-25', '2022-03-28',\n",
      "               '2022-03-29', '2022-03-30'],\n",
      "              dtype='datetime64[ns]', name='date', length=180, freq=None)\n"
     ]
    }
   ],
   "source": [
    "# Print index of train and test data to check that they are split correctly\n",
    "print(X_train.index)\n",
    "print(X_test.index)"
   ]
  },
  {
   "cell_type": "code",
   "execution_count": 221,
   "metadata": {},
   "outputs": [
    {
     "name": "stdout",
     "output_type": "stream",
     "text": [
      "(541, 159)\n",
      "(180, 159)\n"
     ]
    }
   ],
   "source": [
    "print(X_train.shape)\n",
    "print(X_test.shape)"
   ]
  },
  {
   "cell_type": "code",
   "execution_count": 239,
   "metadata": {},
   "outputs": [],
   "source": [
    "# PCA feature reduction. 20 components is enough to explain ~85% of the variance (refer to Feture_selection notebook)\n",
    "sklearn_pca = PCA(n_components=20)\n",
    "X_train_pca = sklearn_pca.fit_transform(X_train)\n",
    "X_test_pca = sklearn_pca.transform(X_test)\n",
    "\n",
    "# Standardize the data\n",
    "scaler = StandardScaler()\n",
    "X_train_pca = scaler.fit_transform(X_train_pca)\n",
    "X_test_pca = scaler.fit_transform(X_test_pca)"
   ]
  },
  {
   "cell_type": "code",
   "execution_count": 240,
   "metadata": {},
   "outputs": [
    {
     "name": "stdout",
     "output_type": "stream",
     "text": [
      "Epoch 1/40\n",
      "55/55 [==============================] - 1s 3ms/step - loss: 0.6991 - binary_accuracy: 0.5083 - val_loss: 0.7142 - val_binary_accuracy: 0.5056\n",
      "Epoch 2/40\n",
      "55/55 [==============================] - 0s 2ms/step - loss: 0.6930 - binary_accuracy: 0.5508 - val_loss: 0.7015 - val_binary_accuracy: 0.5111\n",
      "Epoch 3/40\n",
      "55/55 [==============================] - 0s 2ms/step - loss: 0.6750 - binary_accuracy: 0.5471 - val_loss: 0.7054 - val_binary_accuracy: 0.4944\n",
      "Epoch 4/40\n",
      "55/55 [==============================] - 0s 2ms/step - loss: 0.6656 - binary_accuracy: 0.5804 - val_loss: 0.7096 - val_binary_accuracy: 0.5000\n",
      "Epoch 5/40\n",
      "55/55 [==============================] - 0s 2ms/step - loss: 0.6530 - binary_accuracy: 0.6155 - val_loss: 0.7192 - val_binary_accuracy: 0.5278\n"
     ]
    },
    {
     "data": {
      "text/plain": [
       "<keras.callbacks.History at 0x1d067c0e1f0>"
      ]
     },
     "execution_count": 240,
     "metadata": {},
     "output_type": "execute_result"
    }
   ],
   "source": [
    "# Build MPL model\n",
    "n_features = X_train_pca.shape[1]\n",
    "model = Sequential()\n",
    "model.add(Dense(50, activation='relu', input_shape=(n_features,)))\n",
    "model.add(Dropout(0.2))\n",
    "model.add(Dense(100, activation='relu'))\n",
    "model.add(Dropout(0.2))\n",
    "model.add(Dense(1, activation='sigmoid'))\n",
    "\n",
    "# Compile model\n",
    "model.compile(loss='binary_crossentropy', optimizer='adam', metrics=['binary_accuracy'])\n",
    "\n",
    "# Define early stopping callback\n",
    "early_stopping_callback = tf.keras.callbacks.EarlyStopping(patience=3)\n",
    "\n",
    "# Fit model\n",
    "history = model.fit(X_train_pca, \n",
    "                    y_train, \n",
    "                    epochs=40, \n",
    "                    validation_data=(X_test_pca, y_test), \n",
    "                    batch_size=10,\n",
    "                    callbacks=[early_stopping_callback])\n",
    "history\n"
   ]
  },
  {
   "cell_type": "code",
   "execution_count": 205,
   "metadata": {},
   "outputs": [],
   "source": [
    "# predict on test data\n",
    "y_pred = model.predict(X_test_pca)"
   ]
  },
  {
   "cell_type": "code",
   "execution_count": 241,
   "metadata": {},
   "outputs": [
    {
     "data": {
      "text/plain": [
       "<AxesSubplot:>"
      ]
     },
     "execution_count": 241,
     "metadata": {},
     "output_type": "execute_result"
    },
    {
     "data": {
      "image/png": "[encoded data removed]",
      "text/plain": [
       "<Figure size 720x432 with 1 Axes>"
      ]
     },
     "metadata": {},
     "output_type": "display_data"
    }
   ],
   "source": [
    "pd.DataFrame(history.history).plot(figsize=(10,6))"
   ]
  },
  {
   "cell_type": "code",
   "execution_count": 242,
   "metadata": {},
   "outputs": [
    {
     "name": "stdout",
     "output_type": "stream",
     "text": [
      "Train split:\n",
      "17/17 [==============================] - 0s 1ms/step - loss: 0.6323 - binary_accuracy: 0.6266\n",
      "Accuracy: 62.66%\n"
     ]
    }
   ],
   "source": [
    "print('Train split:')\n",
    "loss, acc = model.evaluate(X_train_pca, y_train, verbose=1)\n",
    "\n",
    "print(\"Accuracy: %.2f%%\" % (acc * 100))"
   ]
  },
  {
   "cell_type": "code",
   "execution_count": 243,
   "metadata": {},
   "outputs": [
    {
     "name": "stdout",
     "output_type": "stream",
     "text": [
      "Test split:\n",
      "6/6 [==============================] - 0s 2ms/step - loss: 0.7192 - binary_accuracy: 0.5278\n",
      "Accuracy: 52.78%\n"
     ]
    }
   ],
   "source": [
    "print('Test split:')\n",
    "loss, acc = model.evaluate(X_test_pca, y_test, verbose=1)\n",
    "\n",
    "print(\"Accuracy: %.2f%%\" % (acc * 100))"
   ]
  },
  {
   "cell_type": "code",
   "execution_count": 244,
   "metadata": {},
   "outputs": [
    {
     "data": {
      "text/plain": [
       "[Text(0, 0.5, 'True: 0'), Text(0, 1.5, 'True: 1')]"
      ]
     },
     "execution_count": 244,
     "metadata": {},
     "output_type": "execute_result"
    },
    {
     "data": {
      "image/png": "[encoded data removed]",
      "text/plain": [
       "<Figure size 432x288 with 2 Axes>"
      ]
     },
     "metadata": {},
     "output_type": "display_data"
    }
   ],
   "source": [
    "# Display confusion matrix results\n",
    "from sklearn.metrics import confusion_matrix\n",
    "\n",
    "ax = plt.subplot()\n",
    "predicted = model.predict(X_test_pca)\n",
    "predicted = (predicted > 0.5)\n",
    "\n",
    "confusion = confusion_matrix(y_test, predicted)\n",
    "\n",
    "sns.heatmap(confusion, annot=True, ax=ax)\n",
    "\n",
    "ax.set_xlabel('Predicted')\n",
    "ax.set_ylabel('True')\n",
    "ax.set_title('Confusion Matrix')\n",
    "ax.xaxis.set_ticklabels([\"Predicted: 0\", \"Predicted: 1\"])\n",
    "ax.yaxis.set_ticklabels([\"True: 0\", \"True: 1\"])\n",
    "\n"
   ]
  },
  {
   "cell_type": "code",
   "execution_count": null,
   "metadata": {},
   "outputs": [],
   "source": []
  }
 ],
 "metadata": {
  "kernelspec": {
   "display_name": "Python 3",
   "language": "python",
   "name": "python3"
  },
  "language_info": {
   "codemirror_mode": {
    "name": "ipython",
    "version": 3
   },
   "file_extension": ".py",
   "mimetype": "text/x-python",
   "name": "python",
   "nbconvert_exporter": "python",
   "pygments_lexer": "ipython3",
   "version": "3.9.6"
  }
 },
 "nbformat": 4,
 "nbformat_minor": 4
}
