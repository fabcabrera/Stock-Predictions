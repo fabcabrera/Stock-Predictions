{
 "cells": [
  {
   "cell_type": "markdown",
   "metadata": {},
   "source": [
    "### Multi-Layer Perceptron "
   ]
  },
  {
   "cell_type": "code",
   "execution_count": 43,
   "metadata": {},
   "outputs": [],
   "source": [
    "import pandas as pd\n",
    "import numpy as np\n",
    "import matplotlib.pyplot as plt\n",
    "import tensorflow as tf\n",
    "from sklearn import (\n",
    "    linear_model, metrics, neural_network, pipeline, model_selection\n",
    ")\n",
    "from sklearn.impute import SimpleImputer\n",
    "\n",
    "from sklearn.decomposition import PCA\n",
    "from sklearn.preprocessing import StandardScaler\n",
    "from sklearn.pipeline import Pipeline\n",
    "from sklearn.model_selection import train_test_split, GridSearchCV\n",
    "from sklearn.linear_model import Lasso\n",
    "from sklearn.preprocessing import MinMaxScaler\n",
    "from keras.models import Sequential\n",
    "from keras.layers import Dense\n",
    "from sklearn.metrics import mean_squared_error, accuracy_score, precision_score, recall_score, f1_score\n",
    "from sklearn.model_selection import TimeSeriesSplit"
   ]
  },
  {
   "cell_type": "code",
   "execution_count": 103,
   "metadata": {},
   "outputs": [],
   "source": [
    "# import the data\n",
    "netflix = pd.read_csv('netflix_model_ready.csv')"
   ]
  },
  {
   "cell_type": "code",
   "execution_count": 104,
   "metadata": {},
   "outputs": [],
   "source": [
    "# Change \"date\" column to ensure datetime type and drop weekends\n",
    "netflix[\"date\"] = pd.to_datetime(netflix[\"date\"])"
   ]
  },
  {
   "cell_type": "code",
   "execution_count": 86,
   "metadata": {},
   "outputs": [],
   "source": [
    "# TimeSeriesSplit the data\n",
    "tss = TimeSeriesSplit(n_splits=5)\n",
    "\n",
    "# Create feature dataframe based on feature selection results\n",
    "X = netflix[[\"date\", \"Google_rs\", \"Dow_MAvg_s_Move\", \"Stock_gain\", \"Volume\", \"Dow_loss\", \"Dow_diff\", \n",
    "             \"Google_MAvg_s\", \"Google_MAvg\", \"Google_EMA\", \"Wiki_Move\"]]\n",
    "\n",
    "X = X.set_index(\"date\")\n",
    "\n",
    "# Create y target dataset\n",
    "y = netflix[\"target_1\"]\n",
    "\n",
    "for train_index, test_index in tss.split(X):\n",
    "    X_train, X_test = X.iloc[train_index, :], X.iloc[test_index,:]\n",
    "    y_train, y_test = y.iloc[train_index], y.iloc[test_index]"
   ]
  },
  {
   "cell_type": "code",
   "execution_count": 112,
   "metadata": {},
   "outputs": [],
   "source": [
    "tss= TimeSeriesSplit(n_splits=5)\n",
    "\n",
    "X = netflix.iloc[:, :-5]\n",
    "X = X.set_index(\"date\")\n",
    "\n",
    "y = netflix.iloc[:, -1]\n",
    "\n",
    "for train_index, test_index in tss.split(X):\n",
    "    X_train, X_test = X.iloc[train_index, :], X.iloc[test_index,:]\n",
    "    y_train, y_test = y.iloc[train_index], y.iloc[test_index]\n"
   ]
  },
  {
   "cell_type": "code",
   "execution_count": 113,
   "metadata": {},
   "outputs": [
    {
     "name": "stdout",
     "output_type": "stream",
     "text": [
      "DatetimeIndex(['2019-01-23', '2019-01-24', '2019-01-25', '2019-01-28',\n",
      "               '2019-01-29', '2019-01-30', '2019-01-31', '2019-02-01',\n",
      "               '2019-02-04', '2019-02-05',\n",
      "               ...\n",
      "               '2021-09-21', '2021-09-22', '2021-09-23', '2021-09-24',\n",
      "               '2021-09-27', '2021-09-28', '2021-09-29', '2021-09-30',\n",
      "               '2021-10-01', '2021-10-04'],\n",
      "              dtype='datetime64[ns]', name='date', length=601, freq=None)\n",
      "DatetimeIndex(['2021-10-05', '2021-10-06', '2021-10-07', '2021-10-08',\n",
      "               '2021-10-12', '2021-10-13', '2021-10-14', '2021-10-15',\n",
      "               '2021-10-18', '2021-10-19',\n",
      "               ...\n",
      "               '2022-03-17', '2022-03-18', '2022-03-21', '2022-03-22',\n",
      "               '2022-03-23', '2022-03-24', '2022-03-25', '2022-03-28',\n",
      "               '2022-03-29', '2022-03-30'],\n",
      "              dtype='datetime64[ns]', name='date', length=120, freq=None)\n"
     ]
    }
   ],
   "source": [
    "# Print index of train and test data to check that they are split correctly\n",
    "print(X_train.index)\n",
    "print(X_test.index)"
   ]
  },
  {
   "cell_type": "code",
   "execution_count": 126,
   "metadata": {},
   "outputs": [],
   "source": [
    "# PCA feature reduction. 40 components is enough to explain ~85% of the variance (refer to Feture_selection notebook)\n",
    "sklearn_pca = PCA(n_components=40)\n",
    "X_train_pca = sklearn_pca.fit_transform(X_train)\n",
    "X_test_pca = sklearn_pca.transform(X_test)"
   ]
  },
  {
   "cell_type": "code",
   "execution_count": 127,
   "metadata": {},
   "outputs": [],
   "source": [
    "# Standardize the data\n",
    "scaler = StandardScaler()\n",
    "X_train_pca = scaler.fit_transform(X_train_pca)\n",
    "X_test_pca = scaler.fit_transform(X_test_pca)"
   ]
  },
  {
   "cell_type": "code",
   "execution_count": 130,
   "metadata": {},
   "outputs": [
    {
     "name": "stdout",
     "output_type": "stream",
     "text": [
      "Epoch 1/50\n",
      "61/61 [==============================] - 0s 3ms/step - loss: 0.7988 - accuracy: 0.5008 - val_loss: 0.7646 - val_accuracy: 0.5083\n",
      "Epoch 2/50\n",
      "61/61 [==============================] - 0s 2ms/step - loss: 0.6998 - accuracy: 0.5691 - val_loss: 0.7370 - val_accuracy: 0.5000\n",
      "Epoch 3/50\n",
      "61/61 [==============================] - 0s 2ms/step - loss: 0.6571 - accuracy: 0.6156 - val_loss: 0.7243 - val_accuracy: 0.5250\n",
      "Epoch 4/50\n",
      "61/61 [==============================] - 0s 2ms/step - loss: 0.6291 - accuracy: 0.6639 - val_loss: 0.7207 - val_accuracy: 0.5333\n",
      "Epoch 5/50\n",
      "61/61 [==============================] - 0s 2ms/step - loss: 0.6086 - accuracy: 0.6889 - val_loss: 0.7222 - val_accuracy: 0.5250\n",
      "Epoch 6/50\n",
      "61/61 [==============================] - 0s 2ms/step - loss: 0.5950 - accuracy: 0.7038 - val_loss: 0.7273 - val_accuracy: 0.5333\n",
      "Epoch 7/50\n",
      "61/61 [==============================] - 0s 2ms/step - loss: 0.5800 - accuracy: 0.7171 - val_loss: 0.7264 - val_accuracy: 0.5250\n",
      "Epoch 8/50\n",
      "61/61 [==============================] - 0s 2ms/step - loss: 0.5681 - accuracy: 0.7221 - val_loss: 0.7257 - val_accuracy: 0.5250\n",
      "Epoch 9/50\n",
      "61/61 [==============================] - 0s 2ms/step - loss: 0.5565 - accuracy: 0.7338 - val_loss: 0.7253 - val_accuracy: 0.5333\n",
      "Epoch 10/50\n",
      "61/61 [==============================] - 0s 2ms/step - loss: 0.5459 - accuracy: 0.7338 - val_loss: 0.7355 - val_accuracy: 0.5333\n",
      "Epoch 11/50\n",
      "61/61 [==============================] - 0s 2ms/step - loss: 0.5371 - accuracy: 0.7371 - val_loss: 0.7347 - val_accuracy: 0.5417\n",
      "Epoch 12/50\n",
      "61/61 [==============================] - 0s 2ms/step - loss: 0.5267 - accuracy: 0.7454 - val_loss: 0.7447 - val_accuracy: 0.5167\n",
      "Epoch 13/50\n",
      "61/61 [==============================] - 0s 2ms/step - loss: 0.5179 - accuracy: 0.7504 - val_loss: 0.7491 - val_accuracy: 0.5083\n",
      "Epoch 14/50\n",
      "61/61 [==============================] - 0s 2ms/step - loss: 0.5094 - accuracy: 0.7404 - val_loss: 0.7571 - val_accuracy: 0.5167\n",
      "Epoch 15/50\n",
      "61/61 [==============================] - 0s 2ms/step - loss: 0.5027 - accuracy: 0.7687 - val_loss: 0.7496 - val_accuracy: 0.5417\n",
      "Epoch 16/50\n",
      "61/61 [==============================] - 0s 2ms/step - loss: 0.4923 - accuracy: 0.7671 - val_loss: 0.7591 - val_accuracy: 0.5083\n",
      "Epoch 17/50\n",
      "61/61 [==============================] - 0s 2ms/step - loss: 0.4827 - accuracy: 0.7704 - val_loss: 0.7616 - val_accuracy: 0.5083\n",
      "Epoch 18/50\n",
      "61/61 [==============================] - 0s 2ms/step - loss: 0.4742 - accuracy: 0.7937 - val_loss: 0.7642 - val_accuracy: 0.5167\n",
      "Epoch 19/50\n",
      "61/61 [==============================] - 0s 2ms/step - loss: 0.4668 - accuracy: 0.7887 - val_loss: 0.7742 - val_accuracy: 0.5083\n",
      "Epoch 20/50\n",
      "61/61 [==============================] - 0s 2ms/step - loss: 0.4579 - accuracy: 0.8020 - val_loss: 0.7821 - val_accuracy: 0.5250\n",
      "Epoch 21/50\n",
      "61/61 [==============================] - 0s 3ms/step - loss: 0.4515 - accuracy: 0.8186 - val_loss: 0.7846 - val_accuracy: 0.5167\n",
      "Epoch 22/50\n",
      "61/61 [==============================] - 0s 2ms/step - loss: 0.4420 - accuracy: 0.8186 - val_loss: 0.7939 - val_accuracy: 0.5167\n",
      "Epoch 23/50\n",
      "61/61 [==============================] - 0s 2ms/step - loss: 0.4346 - accuracy: 0.8153 - val_loss: 0.8023 - val_accuracy: 0.5500\n",
      "Epoch 24/50\n",
      "61/61 [==============================] - 0s 2ms/step - loss: 0.4263 - accuracy: 0.8220 - val_loss: 0.8152 - val_accuracy: 0.5167\n",
      "Epoch 25/50\n",
      "61/61 [==============================] - 0s 2ms/step - loss: 0.4180 - accuracy: 0.8286 - val_loss: 0.8217 - val_accuracy: 0.5417\n",
      "Epoch 26/50\n",
      "61/61 [==============================] - 0s 2ms/step - loss: 0.4092 - accuracy: 0.8236 - val_loss: 0.8298 - val_accuracy: 0.5333\n",
      "Epoch 27/50\n",
      "61/61 [==============================] - 0s 3ms/step - loss: 0.4017 - accuracy: 0.8336 - val_loss: 0.8438 - val_accuracy: 0.5333\n",
      "Epoch 28/50\n",
      "61/61 [==============================] - 0s 3ms/step - loss: 0.3920 - accuracy: 0.8436 - val_loss: 0.8387 - val_accuracy: 0.5417\n",
      "Epoch 29/50\n",
      "61/61 [==============================] - 0s 1ms/step - loss: 0.3850 - accuracy: 0.8519 - val_loss: 0.8542 - val_accuracy: 0.5417\n",
      "Epoch 30/50\n",
      "61/61 [==============================] - 0s 1ms/step - loss: 0.3770 - accuracy: 0.8586 - val_loss: 0.8632 - val_accuracy: 0.5333\n",
      "Epoch 31/50\n",
      "61/61 [==============================] - 0s 1ms/step - loss: 0.3700 - accuracy: 0.8602 - val_loss: 0.8732 - val_accuracy: 0.5417\n",
      "Epoch 32/50\n",
      "61/61 [==============================] - 0s 1ms/step - loss: 0.3626 - accuracy: 0.8669 - val_loss: 0.8800 - val_accuracy: 0.5500\n",
      "Epoch 33/50\n",
      "61/61 [==============================] - 0s 2ms/step - loss: 0.3561 - accuracy: 0.8769 - val_loss: 0.8834 - val_accuracy: 0.5333\n",
      "Epoch 34/50\n",
      "61/61 [==============================] - 0s 2ms/step - loss: 0.3487 - accuracy: 0.8819 - val_loss: 0.8868 - val_accuracy: 0.5583\n",
      "Epoch 35/50\n",
      "61/61 [==============================] - 0s 3ms/step - loss: 0.3397 - accuracy: 0.8819 - val_loss: 0.9083 - val_accuracy: 0.5417\n",
      "Epoch 36/50\n",
      "61/61 [==============================] - 0s 2ms/step - loss: 0.3333 - accuracy: 0.8885 - val_loss: 0.9241 - val_accuracy: 0.5500\n",
      "Epoch 37/50\n",
      "61/61 [==============================] - 0s 2ms/step - loss: 0.3266 - accuracy: 0.8935 - val_loss: 0.9305 - val_accuracy: 0.5417\n",
      "Epoch 38/50\n",
      "61/61 [==============================] - 0s 2ms/step - loss: 0.3199 - accuracy: 0.9018 - val_loss: 0.9419 - val_accuracy: 0.5583\n",
      "Epoch 39/50\n",
      "61/61 [==============================] - 0s 2ms/step - loss: 0.3130 - accuracy: 0.9035 - val_loss: 0.9531 - val_accuracy: 0.5500\n",
      "Epoch 40/50\n",
      "61/61 [==============================] - 0s 2ms/step - loss: 0.3061 - accuracy: 0.9068 - val_loss: 0.9673 - val_accuracy: 0.5583\n",
      "Epoch 41/50\n",
      "61/61 [==============================] - 0s 2ms/step - loss: 0.3000 - accuracy: 0.9035 - val_loss: 0.9728 - val_accuracy: 0.5583\n",
      "Epoch 42/50\n",
      "61/61 [==============================] - 0s 2ms/step - loss: 0.2940 - accuracy: 0.9035 - val_loss: 0.9901 - val_accuracy: 0.5500\n",
      "Epoch 43/50\n",
      "61/61 [==============================] - 0s 2ms/step - loss: 0.2880 - accuracy: 0.9168 - val_loss: 0.9994 - val_accuracy: 0.5583\n",
      "Epoch 44/50\n",
      "61/61 [==============================] - 0s 2ms/step - loss: 0.2818 - accuracy: 0.9251 - val_loss: 1.0057 - val_accuracy: 0.5500\n",
      "Epoch 45/50\n",
      "61/61 [==============================] - 0s 2ms/step - loss: 0.2750 - accuracy: 0.9218 - val_loss: 1.0180 - val_accuracy: 0.5667\n",
      "Epoch 46/50\n",
      "61/61 [==============================] - 0s 2ms/step - loss: 0.2701 - accuracy: 0.9251 - val_loss: 1.0360 - val_accuracy: 0.5667\n",
      "Epoch 47/50\n",
      "61/61 [==============================] - 0s 2ms/step - loss: 0.2639 - accuracy: 0.9268 - val_loss: 1.0425 - val_accuracy: 0.5583\n",
      "Epoch 48/50\n",
      "61/61 [==============================] - 0s 2ms/step - loss: 0.2595 - accuracy: 0.9301 - val_loss: 1.0583 - val_accuracy: 0.5667\n",
      "Epoch 49/50\n",
      "61/61 [==============================] - 0s 2ms/step - loss: 0.2546 - accuracy: 0.9334 - val_loss: 1.0719 - val_accuracy: 0.5750\n",
      "Epoch 50/50\n",
      "61/61 [==============================] - 0s 2ms/step - loss: 0.2476 - accuracy: 0.9351 - val_loss: 1.0802 - val_accuracy: 0.5583\n"
     ]
    }
   ],
   "source": [
    "# Build MPL model\n",
    "n_features = X_train_pca.shape[1]\n",
    "model = Sequential()\n",
    "model.add(Dense(50, activation='relu', input_shape=(n_features,)))\n",
    "model.add(Dense(1, activation='sigmoid'))\n",
    "\n",
    "# Compile model\n",
    "model.compile(loss='binary_crossentropy', optimizer='adam', metrics=['accuracy'])\n",
    "\n",
    "# Fit model\n",
    "history = model.fit(X_train_pca, y_train, epochs=50, validation_data=(X_test_pca, y_test), batch_size=10)\n",
    "history\n",
    "\n",
    "# predict on test data\n",
    "y_pred = model.predict(X_test_pca)"
   ]
  },
  {
   "cell_type": "code",
   "execution_count": 131,
   "metadata": {},
   "outputs": [
    {
     "data": {
      "text/plain": [
       "<AxesSubplot:>"
      ]
     },
     "execution_count": 131,
     "metadata": {},
     "output_type": "execute_result"
    },
    {
     "data": {
      "image/png": "[encoded data removed]",
      "text/plain": [
       "<Figure size 720x432 with 1 Axes>"
      ]
     },
     "metadata": {
      "needs_background": "light"
     },
     "output_type": "display_data"
    }
   ],
   "source": [
    "pd.DataFrame(history.history).plot(figsize=(10,6))"
   ]
  }
 ],
 "metadata": {
  "kernelspec": {
   "display_name": "Python 3",
   "language": "python",
   "name": "python3"
  },
  "language_info": {
   "codemirror_mode": {
    "name": "ipython",
    "version": 3
   },
   "file_extension": ".py",
   "mimetype": "text/x-python",
   "name": "python",
   "nbconvert_exporter": "python",
   "pygments_lexer": "ipython3",
   "version": "3.9.6"
  }
 },
 "nbformat": 4,
 "nbformat_minor": 4
}
