{
 "cells": [
  {
   "cell_type": "markdown",
   "metadata": {},
   "source": [
    "### RNN "
   ]
  },
  {
   "cell_type": "code",
   "execution_count": 1,
   "metadata": {},
   "outputs": [],
   "source": [
    "import pandas as pd\n",
    "import numpy as np\n",
    "import matplotlib.pyplot as plt\n",
    "import seaborn as sns   \n",
    "import tensorflow as tf\n",
    "from tensorflow import keras\n",
    "from sklearn import (\n",
    "    linear_model, metrics, neural_network, pipeline, model_selection\n",
    ")\n",
    "from sklearn.impute import SimpleImputer\n",
    "\n",
    "from sklearn.decomposition import PCA\n",
    "from sklearn.preprocessing import StandardScaler\n",
    "from sklearn.pipeline import Pipeline\n",
    "from sklearn.model_selection import train_test_split, GridSearchCV\n",
    "from sklearn.linear_model import Lasso\n",
    "from sklearn.preprocessing import MinMaxScaler\n",
    "from keras.models import Sequential\n",
    "from keras.layers import Dense, Dropout, SimpleRNN, LSTM\n",
    "from sklearn.metrics import mean_squared_error, accuracy_score, precision_score, recall_score, f1_score\n",
    "from sklearn.model_selection import TimeSeriesSplit"
   ]
  },
  {
   "cell_type": "code",
   "execution_count": 2,
   "metadata": {},
   "outputs": [],
   "source": [
    "# import the data\n",
    "netflix = pd.read_csv('netflix_model_ready.csv')\n",
    "\n",
    "# Change \"date\" column to ensure datetime type and drop weekends\n",
    "netflix[\"date\"] = pd.to_datetime(netflix[\"date\"])"
   ]
  },
  {
   "cell_type": "code",
   "execution_count": 6,
   "metadata": {},
   "outputs": [],
   "source": [
    "# Time series train/test split\n",
    "tss= TimeSeriesSplit(n_splits=2)\n",
    "\n",
    "# Keep all features, but remove the five target variables\n",
    "X = netflix.iloc[:, :-5]\n",
    "X = X.set_index(\"date\")\n",
    "\n",
    "# Create series for target \n",
    "y = netflix.iloc[:, -3]\n",
    "\n",
    "# Split tranining and test data by date\n",
    "for train_index, test_index in tss.split(X):\n",
    "    X_train, X_test = X.iloc[train_index, :], X.iloc[test_index,:]\n",
    "    y_train, y_test = y.iloc[train_index], y.iloc[test_index]"
   ]
  },
  {
   "cell_type": "code",
   "execution_count": 7,
   "metadata": {},
   "outputs": [],
   "source": [
    "# Standardize the data\n",
    "scaler = MinMaxScaler()\n",
    "X_train = scaler.fit_transform(X_train)\n",
    "X_test = scaler.fit_transform(X_test)\n",
    "\n",
    "# PCA feature reduction. 20 components is enough to explain ~85% of the variance (refer to Feture_selection notebook)\n",
    "sklearn_pca = PCA(n_components=20)\n",
    "X_train_pca = sklearn_pca.fit_transform(X_train)\n",
    "X_test_pca = sklearn_pca.transform(X_test)"
   ]
  },
  {
   "cell_type": "code",
   "execution_count": 8,
   "metadata": {},
   "outputs": [],
   "source": [
    "X_train_3D = np.reshape(X_train_pca, (X_train_pca.shape[0], X_train_pca.shape[1], 1))\n",
    "X_test_3D = np.reshape(X_test_pca, (X_test_pca.shape[0], X_test_pca.shape[1], 1))\n"
   ]
  },
  {
   "cell_type": "code",
   "execution_count": 13,
   "metadata": {},
   "outputs": [],
   "source": [
    "# Construct Long-Short Term Memory (LSTM) model\n",
    "lstm = Sequential()\n",
    "lstm.add(LSTM(units = 20, return_sequences = True, input_shape = (X_train_pca.shape[1], 1))) \n",
    "lstm.add(LSTM(units = 20, return_sequences = True))\n",
    "lstm.add(LSTM(units = 20, return_sequences = True))\n",
    "lstm.add(LSTM(units = 20))\n",
    "lstm.add(Dense(units = 1))\n",
    "lstm.compile(optimizer = \"adam\", loss = \"binary_crossentropy\", metrics = [\"accuracy\"])"
   ]
  },
  {
   "cell_type": "code",
   "execution_count": 14,
   "metadata": {},
   "outputs": [
    {
     "name": "stdout",
     "output_type": "stream",
     "text": [
      "Epoch 1/10\n",
      "97/97 [==============================] - 8s 35ms/step - loss: 0.9833 - accuracy: 0.4844 - val_loss: 0.7003 - val_accuracy: 0.4833\n",
      "Epoch 2/10\n",
      "97/97 [==============================] - 3s 26ms/step - loss: 0.7009 - accuracy: 0.4782 - val_loss: 0.6940 - val_accuracy: 0.5125\n",
      "Epoch 3/10\n",
      "97/97 [==============================] - 2s 25ms/step - loss: 0.6987 - accuracy: 0.5114 - val_loss: 0.7007 - val_accuracy: 0.4750\n",
      "Epoch 4/10\n",
      "97/97 [==============================] - 3s 26ms/step - loss: 0.7093 - accuracy: 0.4782 - val_loss: 0.7111 - val_accuracy: 0.5208\n",
      "Epoch 5/10\n",
      "97/97 [==============================] - 2s 24ms/step - loss: 0.7127 - accuracy: 0.4990 - val_loss: 0.6970 - val_accuracy: 0.4625\n",
      "Epoch 6/10\n",
      "97/97 [==============================] - 3s 26ms/step - loss: 0.7073 - accuracy: 0.4740 - val_loss: 0.6931 - val_accuracy: 0.5208\n",
      "Epoch 7/10\n",
      "97/97 [==============================] - 2s 26ms/step - loss: 0.6976 - accuracy: 0.5260 - val_loss: 0.7024 - val_accuracy: 0.4708\n",
      "Epoch 8/10\n",
      "97/97 [==============================] - 3s 26ms/step - loss: 0.6978 - accuracy: 0.4823 - val_loss: 0.7182 - val_accuracy: 0.5208\n",
      "Epoch 9/10\n",
      "97/97 [==============================] - 2s 25ms/step - loss: 0.6934 - accuracy: 0.5260 - val_loss: 0.6970 - val_accuracy: 0.4750\n",
      "Epoch 10/10\n",
      "97/97 [==============================] - 3s 27ms/step - loss: 0.7008 - accuracy: 0.5073 - val_loss: 0.7120 - val_accuracy: 0.4792\n"
     ]
    },
    {
     "data": {
      "text/plain": [
       "<keras.callbacks.History at 0x1ad391af970>"
      ]
     },
     "execution_count": 14,
     "metadata": {},
     "output_type": "execute_result"
    }
   ],
   "source": [
    "# fit the model\n",
    "lstm.fit(X_train_3D, \n",
    "        y_train, \n",
    "        epochs = 10, \n",
    "        validation_data=(X_test_3D, y_test),\n",
    "        batch_size = 5)"
   ]
  },
  {
   "cell_type": "code",
   "execution_count": null,
   "metadata": {},
   "outputs": [],
   "source": []
  }
 ],
 "metadata": {
  "kernelspec": {
   "display_name": "Python 3",
   "language": "python",
   "name": "python3"
  },
  "language_info": {
   "codemirror_mode": {
    "name": "ipython",
    "version": 3
   },
   "file_extension": ".py",
   "mimetype": "text/x-python",
   "name": "python",
   "nbconvert_exporter": "python",
   "pygments_lexer": "ipython3",
   "version": "3.9.6"
  }
 },
 "nbformat": 4,
 "nbformat_minor": 4
}
