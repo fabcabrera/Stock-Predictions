{
 "cells": [
  {
   "cell_type": "markdown",
   "metadata": {},
   "source": [
    "### RNN "
   ]
  },
  {
   "cell_type": "code",
   "execution_count": 220,
   "metadata": {},
   "outputs": [],
   "source": [
    "import pandas as pd\n",
    "import numpy as np\n",
    "import matplotlib.pyplot as plt\n",
    "import seaborn as sns   \n",
    "import tensorflow as tf\n",
    "from tensorflow import keras\n",
    "from sklearn import (\n",
    "    linear_model, metrics, neural_network, pipeline, model_selection\n",
    ")\n",
    "from sklearn.impute import SimpleImputer\n",
    "\n",
    "from sklearn.decomposition import PCA\n",
    "from sklearn.preprocessing import StandardScaler\n",
    "from sklearn.pipeline import Pipeline\n",
    "from sklearn.model_selection import train_test_split, GridSearchCV\n",
    "from sklearn.linear_model import Lasso\n",
    "from sklearn.preprocessing import MinMaxScaler\n",
    "from keras.models import Sequential\n",
    "from keras.layers import Dense, Dropout, SimpleRNN, LSTM, TimeDistributed, BatchNormalization\n",
    "from sklearn.metrics import mean_squared_error, accuracy_score, precision_score, recall_score, f1_score\n",
    "from sklearn.model_selection import TimeSeriesSplit\n",
    "from keras.regularizers import l1, l2\n",
    "from keras.callbacks import ReduceLROnPlateau, EarlyStopping"
   ]
  },
  {
   "cell_type": "code",
   "execution_count": 316,
   "metadata": {},
   "outputs": [],
   "source": [
    "# import the data\n",
    "netflix = pd.read_csv('netflix_model_ready.csv',\n",
    "                        parse_dates=True,\n",
    "                        infer_datetime_format=True,\n",
    "                        index_col=\"date\"\n",
    "                        )\n",
    "                      \n"
   ]
  },
  {
   "cell_type": "code",
   "execution_count": 179,
   "metadata": {},
   "outputs": [],
   "source": [
    "# Time series train/test split\n",
    "tss= TimeSeriesSplit(n_splits=2)\n",
    "\n",
    "# Keep all features, but remove the five target variables\n",
    "X = netflix.iloc[:, :-5]\n",
    "\n",
    "# Create series for target \n",
    "y = netflix.iloc[:, -3]\n",
    "\n",
    "# Split tranining and test data by date\n",
    "for train_index, test_index in tss.split(X):\n",
    "    X_train, X_test = X.iloc[train_index, :], X.iloc[test_index,:]\n",
    "    y_train, y_test = y.iloc[train_index], y.iloc[test_index]"
   ]
  },
  {
   "cell_type": "code",
   "execution_count": 7,
   "metadata": {},
   "outputs": [],
   "source": [
    "# Standardize the data\n",
    "scaler = MinMaxScaler()\n",
    "X_train = scaler.fit_transform(X_train)\n",
    "X_test = scaler.fit_transform(X_test)\n",
    "\n",
    "# PCA feature reduction. 20 components is enough to explain ~85% of the variance (refer to Feture_selection notebook)\n",
    "sklearn_pca = PCA(n_components=20)\n",
    "X_train_pca = sklearn_pca.fit_transform(X_train)\n",
    "X_test_pca = sklearn_pca.transform(X_test)"
   ]
  },
  {
   "cell_type": "code",
   "execution_count": 94,
   "metadata": {},
   "outputs": [],
   "source": [
    "X_train_3D = np.reshape(X_train_pca, (X_train_pca.shape[0], 1, X_train_pca.shape[1]))\n",
    "X_test_3D = np.reshape(X_test_pca, (X_test_pca.shape[0], 1, X_test_pca.shape[1]))\n"
   ]
  },
  {
   "cell_type": "code",
   "execution_count": 95,
   "metadata": {},
   "outputs": [
    {
     "data": {
      "text/plain": [
       "(240, 1, 20)"
      ]
     },
     "execution_count": 95,
     "metadata": {},
     "output_type": "execute_result"
    }
   ],
   "source": [
    "X_test_3D.shape"
   ]
  },
  {
   "cell_type": "code",
   "execution_count": 96,
   "metadata": {},
   "outputs": [],
   "source": [
    "# Construct Long-Short Term Memory (LSTM) model\n",
    "lstm = Sequential()\n",
    "lstm.add(LSTM(units = 100, return_sequences = True, input_shape = (1, X_train_pca.shape[1]))) \n",
    "lstm.add(Dense(units = 1, activation=\"sigmoid\"))"
   ]
  },
  {
   "cell_type": "code",
   "execution_count": 97,
   "metadata": {},
   "outputs": [
    {
     "name": "stdout",
     "output_type": "stream",
     "text": [
      "Epoch 1/10\n",
      "49/49 [==============================] - 2s 11ms/step - loss: 0.6950 - accuracy: 0.4678 - val_loss: 0.6919 - val_accuracy: 0.5208\n",
      "Epoch 2/10\n",
      "49/49 [==============================] - 0s 4ms/step - loss: 0.6879 - accuracy: 0.5717 - val_loss: 0.6923 - val_accuracy: 0.5208\n",
      "Epoch 3/10\n",
      "49/49 [==============================] - 0s 3ms/step - loss: 0.6832 - accuracy: 0.5967 - val_loss: 0.6935 - val_accuracy: 0.5083\n",
      "Epoch 4/10\n",
      "49/49 [==============================] - 0s 3ms/step - loss: 0.6788 - accuracy: 0.5967 - val_loss: 0.6948 - val_accuracy: 0.5000\n",
      "Epoch 5/10\n",
      "49/49 [==============================] - 0s 3ms/step - loss: 0.6757 - accuracy: 0.5738 - val_loss: 0.6947 - val_accuracy: 0.5125\n",
      "Epoch 6/10\n",
      "49/49 [==============================] - 0s 3ms/step - loss: 0.6726 - accuracy: 0.5925 - val_loss: 0.6973 - val_accuracy: 0.4917\n",
      "Epoch 7/10\n",
      "49/49 [==============================] - 0s 3ms/step - loss: 0.6693 - accuracy: 0.5904 - val_loss: 0.6979 - val_accuracy: 0.5042\n",
      "Epoch 8/10\n",
      "49/49 [==============================] - 0s 3ms/step - loss: 0.6673 - accuracy: 0.6091 - val_loss: 0.7008 - val_accuracy: 0.4958\n",
      "Epoch 9/10\n",
      "49/49 [==============================] - 0s 3ms/step - loss: 0.6632 - accuracy: 0.5967 - val_loss: 0.7007 - val_accuracy: 0.5250\n",
      "Epoch 10/10\n",
      "49/49 [==============================] - 0s 3ms/step - loss: 0.6603 - accuracy: 0.6008 - val_loss: 0.7040 - val_accuracy: 0.5167\n"
     ]
    }
   ],
   "source": [
    "# Compile\n",
    "lstm.compile(optimizer = \"adam\", loss = \"binary_crossentropy\", metrics = [\"accuracy\"])\n",
    "\n",
    "# Fit \n",
    "history = lstm.fit(X_train_3D, \n",
    "                y_train, \n",
    "                epochs = 10, \n",
    "                validation_data=(X_test_3D, y_test),\n",
    "                batch_size = 10)"
   ]
  },
  {
   "cell_type": "code",
   "execution_count": 34,
   "metadata": {},
   "outputs": [
    {
     "name": "stdout",
     "output_type": "stream",
     "text": [
      "8/8 [==============================] - 0s 4ms/step - loss: 0.6924 - accuracy: 0.5208\n"
     ]
    },
    {
     "data": {
      "text/plain": [
       "[0.6924440264701843, 0.5208333134651184]"
      ]
     },
     "execution_count": 34,
     "metadata": {},
     "output_type": "execute_result"
    }
   ],
   "source": [
    "test_preds = lstm.predict(X_test_3D)\n",
    "lstm.evaluate(X_test_3D, y_test)"
   ]
  },
  {
   "cell_type": "code",
   "execution_count": 36,
   "metadata": {},
   "outputs": [
    {
     "data": {
      "text/plain": [
       "<AxesSubplot:>"
      ]
     },
     "execution_count": 36,
     "metadata": {},
     "output_type": "execute_result"
    },
    {
     "data": {
      "image/png": "[encoded data removed]",
      "text/plain": [
       "<Figure size 720x432 with 1 Axes>"
      ]
     },
     "metadata": {
      "needs_background": "light"
     },
     "output_type": "display_data"
    }
   ],
   "source": [
    "pd.DataFrame(history.history).plot(figsize=(10,6))"
   ]
  },
  {
   "cell_type": "markdown",
   "metadata": {},
   "source": [
    "### Approach 2"
   ]
  },
  {
   "cell_type": "code",
   "execution_count": 317,
   "metadata": {},
   "outputs": [],
   "source": [
    "netflix = netflix.drop(['target_1', 'target_2', 'target_4', 'target_5'], axis=1)\n",
    "target_3 = netflix[\"target_3\"]\n",
    "\n",
    "#splitting into training sets \n",
    "column_indices = {name: i for i, name in enumerate(netflix.columns)}\n",
    "\n",
    "n = len(netflix)\n",
    "X_train = netflix[0:int(n*0.7)]\n",
    "X_val = netflix[int(n*0.7):int(n*0.9)]\n",
    "X_test = netflix[int(n*0.9):]\n",
    "\n",
    "y_train = target_3[0:int(n*0.7)]\n",
    "y_val = target_3[int(n*0.7):int(n*0.9)]\n",
    "y_test = target_3[int(n*0.9):]"
   ]
  },
  {
   "cell_type": "code",
   "execution_count": 318,
   "metadata": {},
   "outputs": [],
   "source": [
    "Mscaler = MinMaxScaler() # keeps binarys at zero and 1 :)\n",
    "\n",
    "X_train = pd.DataFrame(Mscaler.fit_transform(X_train), columns = netflix.columns)\n",
    "X_val = pd.DataFrame(Mscaler.fit_transform(X_val), columns = netflix.columns)\n",
    "X_test = pd.DataFrame(Mscaler.fit_transform(X_test), columns = netflix.columns)"
   ]
  },
  {
   "cell_type": "code",
   "execution_count": 319,
   "metadata": {},
   "outputs": [],
   "source": [
    "def df_to_X_y2(df, target, window_size=10):\n",
    "  df_as_np = df.to_numpy() # converts to matrix of numpy arrays\n",
    "  X = []\n",
    "  y = []\n",
    "  for i in range(len(df_as_np)-window_size): # length of data frame - window_size so it does't take empty values at the end, \n",
    "    # does force you to loose the last 5 values, could fix with padding\n",
    "    row = [r for r in df_as_np[i:i+window_size]] # grabs row i and all rows above within the window size length\n",
    "    X.append(row) # creates 3 dimentional array, (# obseravtions, # rows in window, # features)\n",
    "    label = target[i+window_size] # pulls the target variable after the window, target varible needs to be column zero in this \n",
    "    y.append(label) # returns (N,) martix of targets i+window_length time periods away\n",
    "  return np.array(X), np.array(y)"
   ]
  },
  {
   "cell_type": "code",
   "execution_count": 320,
   "metadata": {},
   "outputs": [
    {
     "name": "stdout",
     "output_type": "stream",
     "text": [
      "(494, 10, 20) (494, 1)\n",
      "(134, 10, 20) (134, 1)\n",
      "(63, 10, 20) (63, 1)\n"
     ]
    }
   ],
   "source": [
    "sklearn_pca = PCA(n_components=20)\n",
    "X_train_1 = pd.DataFrame(sklearn_pca.fit_transform(X_train))\n",
    "X_val_1 = pd.DataFrame(sklearn_pca.fit_transform(X_val))\n",
    "X_test_1 = pd.DataFrame(sklearn_pca.fit_transform(X_test))\n",
    "\n",
    "# converting to window format, in this case 5 periods\n",
    "X_train_1, train_5w = df_to_X_y2(X_train_1,y_train)\n",
    "X_val_1, val_5w = df_to_X_y2(X_val_1, y_val)\n",
    "X_test_1, test_5w = df_to_X_y2(X_test_1,y_test) \n",
    "\n",
    "X_train1, train_5w = np.array(X_train), np.array(train_5w).reshape(-1,1)\n",
    "X_val1, val_5w = np.array(X_val), np.array(val_5w).reshape(-1,1)\n",
    "X_test1, test_5w = np.array(X_test), np.array(test_5w).reshape(-1,1)\n",
    "\n",
    "\n",
    "print(X_train_1.shape, train_5w.shape)\n",
    "print(X_val_1.shape, val_5w.shape)\n",
    "print(X_test_1.shape, test_5w.shape)"
   ]
  },
  {
   "cell_type": "code",
   "execution_count": 321,
   "metadata": {},
   "outputs": [],
   "source": [
    "n_steps = X_train_1.shape[1]\n",
    "n_features = X_train_1.shape[2]\n",
    "\n",
    "# Let's make a list of CONSTANTS for modelling:\n",
    "LAYERS = [8, 8, 8, 1]                # number of units in hidden and output layers\n",
    "M_TRAIN = X_train_1.shape[0]           # number of training examples (2D)\n",
    "M_TEST = X_test_1.shape[0]             # number of test examples (2D),full=X_test.shape[0]\n",
    "N = X_train_1.shape[2]                 # number of features\n",
    "BATCH = M_TRAIN                          # batch size\n",
    "EPOCH = 10                           # number of epochs\n",
    "LR = 5e-2                            # learning rate of the gradient descent\n",
    "LAMBD = 3e-2                         # lambda in L2 regularizaion\n",
    "DP = 0.0                             # dropout rate\n",
    "RDP = 0.0                            # recurrent dropout rate\n",
    "\n",
    "# Build the Model\n",
    "model = Sequential()\n",
    "model.add(LSTM(input_shape=(n_steps, n_features), units=LAYERS[0],\n",
    "               activation='tanh', recurrent_activation='hard_sigmoid',\n",
    "               kernel_regularizer=l2(LAMBD), recurrent_regularizer=l2(LAMBD),\n",
    "               dropout=DP, recurrent_dropout=RDP,\n",
    "               return_sequences=True, return_state=False,\n",
    "               stateful=False, unroll=False\n",
    "              ))\n",
    "model.add(BatchNormalization())\n",
    "model.add(LSTM(units=LAYERS[1],\n",
    "               activation='tanh', recurrent_activation='hard_sigmoid', \n",
    "               kernel_regularizer=l2(LAMBD), recurrent_regularizer=l2(LAMBD),\n",
    "               dropout=DP, recurrent_dropout=RDP,\n",
    "               return_sequences=True, return_state=False,\n",
    "               stateful=False, unroll=False\n",
    "              ))\n",
    "model.add(BatchNormalization())\n",
    "model.add(LSTM(units=LAYERS[2],\n",
    "               activation='tanh', recurrent_activation='hard_sigmoid',\n",
    "               kernel_regularizer=l2(LAMBD), recurrent_regularizer=l2(LAMBD),\n",
    "               dropout=DP, recurrent_dropout=RDP,\n",
    "               return_sequences=False, return_state=False,\n",
    "               stateful=False, unroll=False\n",
    "              ))\n",
    "\n",
    "model.add(BatchNormalization())\n",
    "model.add(Dense(units=LAYERS[3], activation='sigmoid'))"
   ]
  },
  {
   "cell_type": "code",
   "execution_count": 322,
   "metadata": {},
   "outputs": [
    {
     "name": "stdout",
     "output_type": "stream",
     "text": [
      "Model: \"sequential_28\"\n",
      "_________________________________________________________________\n",
      " Layer (type)                Output Shape              Param #   \n",
      "=================================================================\n",
      " lstm_56 (LSTM)              (None, 10, 8)             928       \n",
      "                                                                 \n",
      " batch_normalization_24 (Bat  (None, 10, 8)            32        \n",
      " chNormalization)                                                \n",
      "                                                                 \n",
      " lstm_57 (LSTM)              (None, 10, 8)             544       \n",
      "                                                                 \n",
      " batch_normalization_25 (Bat  (None, 10, 8)            32        \n",
      " chNormalization)                                                \n",
      "                                                                 \n",
      " lstm_58 (LSTM)              (None, 8)                 544       \n",
      "                                                                 \n",
      " batch_normalization_26 (Bat  (None, 8)                32        \n",
      " chNormalization)                                                \n",
      "                                                                 \n",
      " dense_29 (Dense)            (None, 1)                 9         \n",
      "                                                                 \n",
      "=================================================================\n",
      "Total params: 2,121\n",
      "Trainable params: 2,073\n",
      "Non-trainable params: 48\n",
      "_________________________________________________________________\n",
      "None\n"
     ]
    }
   ],
   "source": [
    "model.compile(loss='binary_crossentropy',\n",
    "              metrics=['accuracy'],\n",
    "              optimizer=\"adam\")\n",
    "print(model.summary())"
   ]
  },
  {
   "cell_type": "code",
   "execution_count": 323,
   "metadata": {},
   "outputs": [
    {
     "name": "stdout",
     "output_type": "stream",
     "text": [
      "Epoch 1/100\n",
      "10/10 [==============================] - 5s 72ms/step - loss: 3.1790 - accuracy: 0.4960 - val_loss: 2.8588 - val_accuracy: 0.5373\n",
      "Epoch 2/100\n",
      "10/10 [==============================] - 0s 24ms/step - loss: 2.9460 - accuracy: 0.4980 - val_loss: 2.7345 - val_accuracy: 0.5821\n",
      "Epoch 3/100\n",
      "10/10 [==============================] - 0s 18ms/step - loss: 2.7665 - accuracy: 0.4879 - val_loss: 2.6162 - val_accuracy: 0.5821\n",
      "Epoch 4/100\n",
      "10/10 [==============================] - 0s 20ms/step - loss: 2.6325 - accuracy: 0.5121 - val_loss: 2.5040 - val_accuracy: 0.5821\n",
      "Epoch 5/100\n",
      "10/10 [==============================] - 0s 19ms/step - loss: 2.4915 - accuracy: 0.5445 - val_loss: 2.3966 - val_accuracy: 0.5821\n",
      "Epoch 6/100\n",
      "10/10 [==============================] - 0s 19ms/step - loss: 2.3795 - accuracy: 0.5466 - val_loss: 2.2952 - val_accuracy: 0.5821\n",
      "Epoch 7/100\n",
      "10/10 [==============================] - 0s 18ms/step - loss: 2.2601 - accuracy: 0.5506 - val_loss: 2.1986 - val_accuracy: 0.5821\n",
      "Epoch 8/100\n",
      "10/10 [==============================] - 0s 19ms/step - loss: 2.1606 - accuracy: 0.5688 - val_loss: 2.1080 - val_accuracy: 0.5821\n",
      "Epoch 9/100\n",
      "10/10 [==============================] - 0s 19ms/step - loss: 2.0698 - accuracy: 0.5547 - val_loss: 2.0228 - val_accuracy: 0.5821\n",
      "Epoch 10/100\n",
      "10/10 [==============================] - 0s 18ms/step - loss: 1.9886 - accuracy: 0.5506 - val_loss: 1.9428 - val_accuracy: 0.5821\n",
      "Epoch 11/100\n",
      "10/10 [==============================] - 0s 20ms/step - loss: 1.9029 - accuracy: 0.5607 - val_loss: 1.8670 - val_accuracy: 0.5821\n",
      "Epoch 12/100\n",
      "10/10 [==============================] - 0s 20ms/step - loss: 1.8238 - accuracy: 0.5850 - val_loss: 1.7958 - val_accuracy: 0.5821\n",
      "Epoch 13/100\n",
      "10/10 [==============================] - 0s 20ms/step - loss: 1.7486 - accuracy: 0.5972 - val_loss: 1.7296 - val_accuracy: 0.5821\n",
      "Epoch 14/100\n",
      "10/10 [==============================] - 0s 20ms/step - loss: 1.6863 - accuracy: 0.5891 - val_loss: 1.6671 - val_accuracy: 0.5672\n",
      "Epoch 15/100\n",
      "10/10 [==============================] - 0s 18ms/step - loss: 1.6236 - accuracy: 0.6012 - val_loss: 1.6099 - val_accuracy: 0.5299\n",
      "Epoch 16/100\n",
      "10/10 [==============================] - 0s 19ms/step - loss: 1.5640 - accuracy: 0.5972 - val_loss: 1.5553 - val_accuracy: 0.5224\n",
      "Epoch 17/100\n",
      "10/10 [==============================] - 0s 19ms/step - loss: 1.5142 - accuracy: 0.5769 - val_loss: 1.5041 - val_accuracy: 0.5224\n",
      "Epoch 18/100\n",
      "10/10 [==============================] - 0s 17ms/step - loss: 1.4621 - accuracy: 0.6113 - val_loss: 1.4549 - val_accuracy: 0.5597\n",
      "Epoch 19/100\n",
      "10/10 [==============================] - 0s 18ms/step - loss: 1.4133 - accuracy: 0.5972 - val_loss: 1.4103 - val_accuracy: 0.5597\n",
      "Epoch 20/100\n",
      "10/10 [==============================] - 0s 20ms/step - loss: 1.3670 - accuracy: 0.6194 - val_loss: 1.3692 - val_accuracy: 0.5373\n",
      "Epoch 21/100\n",
      "10/10 [==============================] - 0s 18ms/step - loss: 1.3298 - accuracy: 0.6012 - val_loss: 1.3317 - val_accuracy: 0.5075\n",
      "Epoch 22/100\n",
      "10/10 [==============================] - 0s 19ms/step - loss: 1.2861 - accuracy: 0.6275 - val_loss: 1.2935 - val_accuracy: 0.5373\n",
      "Epoch 23/100\n",
      "10/10 [==============================] - 0s 18ms/step - loss: 1.2439 - accuracy: 0.6194 - val_loss: 1.2592 - val_accuracy: 0.5299\n",
      "Epoch 24/100\n",
      "10/10 [==============================] - 0s 21ms/step - loss: 1.2117 - accuracy: 0.6255 - val_loss: 1.2273 - val_accuracy: 0.5224\n",
      "Epoch 25/100\n",
      "10/10 [==============================] - 0s 21ms/step - loss: 1.1842 - accuracy: 0.6397 - val_loss: 1.1971 - val_accuracy: 0.5149\n",
      "Epoch 26/100\n",
      "10/10 [==============================] - 0s 20ms/step - loss: 1.1497 - accuracy: 0.6437 - val_loss: 1.1697 - val_accuracy: 0.5075\n",
      "Epoch 27/100\n",
      "10/10 [==============================] - 0s 19ms/step - loss: 1.1247 - accuracy: 0.6296 - val_loss: 1.1432 - val_accuracy: 0.5149\n",
      "Epoch 28/100\n",
      "10/10 [==============================] - 0s 18ms/step - loss: 1.0938 - accuracy: 0.6417 - val_loss: 1.1184 - val_accuracy: 0.5224\n",
      "Epoch 29/100\n",
      "10/10 [==============================] - 0s 20ms/step - loss: 1.0726 - accuracy: 0.6356 - val_loss: 1.0981 - val_accuracy: 0.5224\n",
      "Epoch 30/100\n",
      "10/10 [==============================] - 0s 19ms/step - loss: 1.0463 - accuracy: 0.6559 - val_loss: 1.0762 - val_accuracy: 0.5000\n",
      "Epoch 31/100\n",
      "10/10 [==============================] - 0s 18ms/step - loss: 1.0208 - accuracy: 0.6437 - val_loss: 1.0596 - val_accuracy: 0.5149\n",
      "Epoch 32/100\n",
      "10/10 [==============================] - 0s 19ms/step - loss: 0.9994 - accuracy: 0.6457 - val_loss: 1.0412 - val_accuracy: 0.5149\n",
      "Epoch 33/100\n",
      "10/10 [==============================] - 0s 19ms/step - loss: 0.9861 - accuracy: 0.6478 - val_loss: 1.0244 - val_accuracy: 0.5299\n",
      "Epoch 34/100\n",
      "10/10 [==============================] - 0s 19ms/step - loss: 0.9616 - accuracy: 0.6599 - val_loss: 1.0083 - val_accuracy: 0.5224\n",
      "Epoch 35/100\n",
      "10/10 [==============================] - 0s 18ms/step - loss: 0.9402 - accuracy: 0.6964 - val_loss: 0.9967 - val_accuracy: 0.5224\n",
      "Epoch 36/100\n",
      "10/10 [==============================] - 0s 19ms/step - loss: 0.9336 - accuracy: 0.6640 - val_loss: 0.9863 - val_accuracy: 0.5299\n",
      "Epoch 37/100\n",
      "10/10 [==============================] - 0s 19ms/step - loss: 0.9096 - accuracy: 0.6822 - val_loss: 0.9721 - val_accuracy: 0.5000\n",
      "Epoch 38/100\n",
      "10/10 [==============================] - 0s 19ms/step - loss: 0.9001 - accuracy: 0.6761 - val_loss: 0.9670 - val_accuracy: 0.4925\n",
      "Epoch 39/100\n",
      "10/10 [==============================] - 0s 17ms/step - loss: 0.8895 - accuracy: 0.6660 - val_loss: 0.9512 - val_accuracy: 0.5000\n",
      "Epoch 40/100\n",
      "10/10 [==============================] - 0s 19ms/step - loss: 0.8777 - accuracy: 0.6478 - val_loss: 0.9413 - val_accuracy: 0.5299\n",
      "Epoch 41/100\n",
      "10/10 [==============================] - 0s 19ms/step - loss: 0.8598 - accuracy: 0.6943 - val_loss: 0.9445 - val_accuracy: 0.4925\n",
      "Epoch 42/100\n",
      "10/10 [==============================] - 0s 18ms/step - loss: 0.8494 - accuracy: 0.6660 - val_loss: 0.9357 - val_accuracy: 0.4701\n",
      "Epoch 43/100\n",
      "10/10 [==============================] - 0s 20ms/step - loss: 0.8407 - accuracy: 0.6862 - val_loss: 0.9324 - val_accuracy: 0.5000\n",
      "Epoch 44/100\n",
      "10/10 [==============================] - 0s 18ms/step - loss: 0.8234 - accuracy: 0.6781 - val_loss: 0.9310 - val_accuracy: 0.4925\n",
      "Epoch 45/100\n",
      "10/10 [==============================] - 0s 18ms/step - loss: 0.8241 - accuracy: 0.6802 - val_loss: 0.9291 - val_accuracy: 0.4851\n",
      "Epoch 46/100\n",
      "10/10 [==============================] - 0s 18ms/step - loss: 0.8155 - accuracy: 0.6822 - val_loss: 0.9299 - val_accuracy: 0.4851\n",
      "Epoch 47/100\n",
      "10/10 [==============================] - 0s 18ms/step - loss: 0.8079 - accuracy: 0.6761 - val_loss: 0.9264 - val_accuracy: 0.4701\n",
      "Epoch 48/100\n",
      "10/10 [==============================] - 0s 19ms/step - loss: 0.7916 - accuracy: 0.6802 - val_loss: 0.9231 - val_accuracy: 0.5000\n",
      "Epoch 49/100\n",
      "10/10 [==============================] - 0s 18ms/step - loss: 0.7947 - accuracy: 0.6842 - val_loss: 0.9327 - val_accuracy: 0.4851\n",
      "Epoch 50/100\n",
      "10/10 [==============================] - 0s 20ms/step - loss: 0.7837 - accuracy: 0.6862 - val_loss: 0.9377 - val_accuracy: 0.4776\n",
      "Epoch 51/100\n",
      "10/10 [==============================] - 0s 18ms/step - loss: 0.7911 - accuracy: 0.6599 - val_loss: 0.9318 - val_accuracy: 0.4851\n",
      "Epoch 52/100\n",
      "10/10 [==============================] - 0s 20ms/step - loss: 0.7718 - accuracy: 0.7004 - val_loss: 0.9322 - val_accuracy: 0.5000\n",
      "Epoch 53/100\n",
      "10/10 [==============================] - 0s 17ms/step - loss: 0.7714 - accuracy: 0.6761 - val_loss: 0.9477 - val_accuracy: 0.5000\n",
      "Epoch 54/100\n",
      "10/10 [==============================] - 0s 19ms/step - loss: 0.7612 - accuracy: 0.6984 - val_loss: 0.9356 - val_accuracy: 0.5000\n",
      "Epoch 55/100\n",
      "10/10 [==============================] - 0s 21ms/step - loss: 0.7595 - accuracy: 0.6923 - val_loss: 0.9464 - val_accuracy: 0.5299\n",
      "Epoch 56/100\n",
      "10/10 [==============================] - 0s 21ms/step - loss: 0.7600 - accuracy: 0.6883 - val_loss: 0.9779 - val_accuracy: 0.5075\n",
      "Epoch 57/100\n",
      "10/10 [==============================] - 0s 22ms/step - loss: 0.7560 - accuracy: 0.6862 - val_loss: 0.9591 - val_accuracy: 0.5224\n",
      "Epoch 58/100\n",
      "10/10 [==============================] - 0s 22ms/step - loss: 0.7389 - accuracy: 0.7004 - val_loss: 0.9701 - val_accuracy: 0.5149\n",
      "Epoch 59/100\n",
      "10/10 [==============================] - 0s 22ms/step - loss: 0.7234 - accuracy: 0.7166 - val_loss: 0.9825 - val_accuracy: 0.5000\n",
      "Epoch 60/100\n",
      "10/10 [==============================] - 0s 19ms/step - loss: 0.7296 - accuracy: 0.7186 - val_loss: 0.9721 - val_accuracy: 0.5075\n",
      "Epoch 61/100\n",
      "10/10 [==============================] - 0s 20ms/step - loss: 0.7229 - accuracy: 0.7004 - val_loss: 1.0020 - val_accuracy: 0.4925\n",
      "Epoch 62/100\n",
      "10/10 [==============================] - 0s 19ms/step - loss: 0.7419 - accuracy: 0.6883 - val_loss: 0.9996 - val_accuracy: 0.5149\n",
      "Epoch 63/100\n",
      "10/10 [==============================] - 0s 18ms/step - loss: 0.7215 - accuracy: 0.7105 - val_loss: 1.0198 - val_accuracy: 0.4925\n",
      "Epoch 64/100\n",
      "10/10 [==============================] - 0s 20ms/step - loss: 0.7202 - accuracy: 0.7126 - val_loss: 1.0201 - val_accuracy: 0.4925\n",
      "Epoch 65/100\n",
      "10/10 [==============================] - 0s 18ms/step - loss: 0.7137 - accuracy: 0.7045 - val_loss: 1.0234 - val_accuracy: 0.4925\n",
      "Epoch 66/100\n",
      "10/10 [==============================] - 0s 19ms/step - loss: 0.7045 - accuracy: 0.7166 - val_loss: 1.0399 - val_accuracy: 0.4925\n",
      "Epoch 67/100\n",
      "10/10 [==============================] - 0s 18ms/step - loss: 0.7017 - accuracy: 0.7267 - val_loss: 1.0835 - val_accuracy: 0.4627\n",
      "Epoch 68/100\n",
      "10/10 [==============================] - 0s 19ms/step - loss: 0.6846 - accuracy: 0.7409 - val_loss: 1.0660 - val_accuracy: 0.5299\n",
      "Epoch 69/100\n",
      "10/10 [==============================] - 0s 19ms/step - loss: 0.7056 - accuracy: 0.6984 - val_loss: 1.0662 - val_accuracy: 0.5224\n",
      "Epoch 70/100\n",
      "10/10 [==============================] - 0s 19ms/step - loss: 0.7236 - accuracy: 0.6923 - val_loss: 1.1349 - val_accuracy: 0.5000\n",
      "Epoch 71/100\n",
      "10/10 [==============================] - 0s 18ms/step - loss: 0.6991 - accuracy: 0.7227 - val_loss: 1.1462 - val_accuracy: 0.5075\n",
      "Epoch 72/100\n",
      "10/10 [==============================] - 0s 18ms/step - loss: 0.6879 - accuracy: 0.7166 - val_loss: 1.1770 - val_accuracy: 0.4925\n",
      "Epoch 73/100\n",
      "10/10 [==============================] - 0s 19ms/step - loss: 0.7100 - accuracy: 0.7004 - val_loss: 1.1679 - val_accuracy: 0.4925\n",
      "Epoch 74/100\n",
      "10/10 [==============================] - 0s 18ms/step - loss: 0.6893 - accuracy: 0.7267 - val_loss: 1.1927 - val_accuracy: 0.4925\n",
      "Epoch 75/100\n",
      "10/10 [==============================] - 0s 19ms/step - loss: 0.6868 - accuracy: 0.7348 - val_loss: 1.1944 - val_accuracy: 0.5000\n",
      "Epoch 76/100\n",
      "10/10 [==============================] - 0s 19ms/step - loss: 0.6779 - accuracy: 0.7308 - val_loss: 1.1578 - val_accuracy: 0.5149\n",
      "Epoch 77/100\n",
      "10/10 [==============================] - 0s 19ms/step - loss: 0.6739 - accuracy: 0.7287 - val_loss: 1.2013 - val_accuracy: 0.5075\n",
      "Epoch 78/100\n",
      "10/10 [==============================] - 0s 20ms/step - loss: 0.6678 - accuracy: 0.7287 - val_loss: 1.1989 - val_accuracy: 0.5075\n",
      "Epoch 79/100\n",
      "10/10 [==============================] - 0s 17ms/step - loss: 0.6690 - accuracy: 0.7206 - val_loss: 1.2328 - val_accuracy: 0.5000\n",
      "Epoch 80/100\n",
      "10/10 [==============================] - 0s 19ms/step - loss: 0.6640 - accuracy: 0.7389 - val_loss: 1.2389 - val_accuracy: 0.4851\n",
      "Epoch 81/100\n",
      "10/10 [==============================] - 0s 19ms/step - loss: 0.6522 - accuracy: 0.7409 - val_loss: 1.2148 - val_accuracy: 0.5224\n",
      "Epoch 82/100\n",
      "10/10 [==============================] - 0s 18ms/step - loss: 0.6608 - accuracy: 0.7551 - val_loss: 1.3137 - val_accuracy: 0.5000\n",
      "Epoch 83/100\n",
      "10/10 [==============================] - 0s 19ms/step - loss: 0.6696 - accuracy: 0.7348 - val_loss: 1.2934 - val_accuracy: 0.5075\n",
      "Epoch 84/100\n",
      "10/10 [==============================] - 0s 18ms/step - loss: 0.6638 - accuracy: 0.7247 - val_loss: 1.2995 - val_accuracy: 0.4925\n",
      "Epoch 85/100\n",
      "10/10 [==============================] - 0s 18ms/step - loss: 0.6557 - accuracy: 0.7449 - val_loss: 1.3441 - val_accuracy: 0.4925\n",
      "Epoch 86/100\n",
      "10/10 [==============================] - 0s 19ms/step - loss: 0.6464 - accuracy: 0.7773 - val_loss: 1.3751 - val_accuracy: 0.5000\n",
      "Epoch 87/100\n",
      "10/10 [==============================] - 0s 18ms/step - loss: 0.6458 - accuracy: 0.7713 - val_loss: 1.3747 - val_accuracy: 0.5000\n",
      "Epoch 88/100\n",
      "10/10 [==============================] - 0s 19ms/step - loss: 0.6391 - accuracy: 0.7429 - val_loss: 1.4195 - val_accuracy: 0.4925\n",
      "Epoch 89/100\n",
      "10/10 [==============================] - 0s 19ms/step - loss: 0.6428 - accuracy: 0.7409 - val_loss: 1.4141 - val_accuracy: 0.5000\n",
      "Epoch 90/100\n",
      "10/10 [==============================] - 0s 18ms/step - loss: 0.6172 - accuracy: 0.7530 - val_loss: 1.4726 - val_accuracy: 0.4627\n",
      "Epoch 91/100\n",
      "10/10 [==============================] - 0s 20ms/step - loss: 0.6326 - accuracy: 0.7530 - val_loss: 1.5382 - val_accuracy: 0.4776\n",
      "Epoch 92/100\n",
      "10/10 [==============================] - 0s 19ms/step - loss: 0.6268 - accuracy: 0.7632 - val_loss: 1.5103 - val_accuracy: 0.4701\n",
      "Epoch 93/100\n",
      "10/10 [==============================] - 0s 21ms/step - loss: 0.6303 - accuracy: 0.7490 - val_loss: 1.5261 - val_accuracy: 0.4701\n",
      "Epoch 94/100\n",
      "10/10 [==============================] - 0s 19ms/step - loss: 0.6461 - accuracy: 0.7551 - val_loss: 1.5293 - val_accuracy: 0.5000\n",
      "Epoch 95/100\n",
      "10/10 [==============================] - 0s 17ms/step - loss: 0.6424 - accuracy: 0.7510 - val_loss: 1.5534 - val_accuracy: 0.4851\n",
      "Epoch 96/100\n",
      "10/10 [==============================] - 0s 18ms/step - loss: 0.6182 - accuracy: 0.7652 - val_loss: 1.6259 - val_accuracy: 0.4925\n",
      "Epoch 97/100\n",
      "10/10 [==============================] - 0s 19ms/step - loss: 0.6434 - accuracy: 0.7449 - val_loss: 1.6086 - val_accuracy: 0.4776\n",
      "Epoch 98/100\n",
      "10/10 [==============================] - 0s 19ms/step - loss: 0.6155 - accuracy: 0.7834 - val_loss: 1.6469 - val_accuracy: 0.4851\n",
      "Epoch 99/100\n",
      "10/10 [==============================] - 0s 18ms/step - loss: 0.6126 - accuracy: 0.7935 - val_loss: 1.6212 - val_accuracy: 0.4851\n",
      "Epoch 100/100\n",
      "10/10 [==============================] - 0s 18ms/step - loss: 0.5974 - accuracy: 0.7773 - val_loss: 1.6977 - val_accuracy: 0.4925\n"
     ]
    }
   ],
   "source": [
    "lr_decay = ReduceLROnPlateau(monitor='loss', \n",
    "                             patience=1, verbose=0, \n",
    "                             factor=0.5, min_lr=1e-8)\n",
    "# Define Early Stopping:\n",
    "early_stop = EarlyStopping(monitor='val_acc', min_delta=0, \n",
    "                           patience=30, verbose=1, mode='auto',\n",
    "                           baseline=0, restore_best_weights=True)\n",
    "# Train the model. \n",
    "# The dataset is small for NN - let's use test_data for validation\n",
    "\n",
    "history = model.fit(X_train_1, train_5w,\n",
    "                    epochs=100,\n",
    "                    batch_size=50,\n",
    "                    validation_data=(X_val_1, val_5w))"
   ]
  },
  {
   "cell_type": "code",
   "execution_count": 324,
   "metadata": {},
   "outputs": [
    {
     "name": "stdout",
     "output_type": "stream",
     "text": [
      "-----------------------------------------------------------------\n",
      "train accuracy = 78.5425%\n",
      "test accuracy = 58.7302%\n",
      "test error = 26 out of 63 examples\n"
     ]
    }
   ],
   "source": [
    "# Evaluate the model:\n",
    "train_loss, train_acc = model.evaluate(X_train_1, train_5w,\n",
    "                                       batch_size=M_TRAIN, verbose=0)\n",
    "test_loss, test_acc = model.evaluate(X_test_1, test_5w,\n",
    "                                     batch_size=M_TEST, verbose=0)\n",
    "print('-'*65)\n",
    "print(f'train accuracy = {round(train_acc * 100, 4)}%')\n",
    "print(f'test accuracy = {round(test_acc * 100, 4)}%')\n",
    "print(f'test error = {round((1 - test_acc) * M_TEST)} out of {M_TEST} examples')"
   ]
  },
  {
   "cell_type": "code",
   "execution_count": 325,
   "metadata": {},
   "outputs": [
    {
     "data": {
      "image/png": "[encoded data removed]",
      "text/plain": [
       "<Figure size 1296x432 with 2 Axes>"
      ]
     },
     "metadata": {},
     "output_type": "display_data"
    }
   ],
   "source": [
    "# Plot the loss and accuracy curves over epochs:\n",
    "fig, axs = plt.subplots(nrows=1, ncols=2, figsize=(18,6))\n",
    "axs[0].plot(history.history['loss'], color='b', label='Training loss')\n",
    "axs[0].plot(history.history['val_loss'], color='r', label='Validation loss')\n",
    "axs[0].set_title(\"Loss curves\")\n",
    "axs[0].legend(loc='best', shadow=True)\n",
    "axs[1].plot(history.history['accuracy'], color='b', label='Training accuracy')\n",
    "axs[1].plot(history.history['val_accuracy'], color='r', label='Validation accuracy')\n",
    "axs[1].set_title(\"Accuracy curves\")\n",
    "axs[1].legend(loc='best', shadow=True)\n",
    "plt.show()"
   ]
  },
  {
   "cell_type": "code",
   "execution_count": 326,
   "metadata": {},
   "outputs": [
    {
     "name": "stdout",
     "output_type": "stream",
     "text": [
      "2/2 [==============================] - 0s 4ms/step\n",
      "2017-01-02 00:00:00 [0.46685308] [1]\n",
      "2017-01-03 00:00:00 [0.43207592] [0]\n",
      "2017-01-04 00:00:00 [0.4612383] [0]\n",
      "2017-01-05 00:00:00 [0.3173728] [0]\n",
      "2017-01-06 00:00:00 [0.45985132] [0]\n",
      "2017-01-09 00:00:00 [0.74836016] [0]\n",
      "2017-01-10 00:00:00 [0.8405076] [0]\n",
      "2017-01-11 00:00:00 [0.7706932] [1]\n",
      "2017-01-12 00:00:00 [0.46109092] [0]\n",
      "2017-01-13 00:00:00 [0.43437532] [0]\n",
      "2017-01-16 00:00:00 [0.6006009] [1]\n",
      "2017-01-17 00:00:00 [0.28386158] [0]\n",
      "2017-01-18 00:00:00 [0.33040583] [1]\n",
      "2017-01-19 00:00:00 [0.33440152] [0]\n",
      "2017-01-20 00:00:00 [0.86545956] [0]\n",
      "2017-01-23 00:00:00 [0.8913096] [0]\n",
      "2017-01-24 00:00:00 [0.827403] [0]\n",
      "2017-01-25 00:00:00 [0.71182984] [0]\n",
      "2017-01-26 00:00:00 [0.5869225] [1]\n",
      "2017-01-27 00:00:00 [0.15369791] [0]\n",
      "2017-01-30 00:00:00 [0.13840401] [1]\n",
      "2017-01-31 00:00:00 [0.08958736] [1]\n",
      "2017-02-01 00:00:00 [0.08092052] [0]\n",
      "2017-02-02 00:00:00 [0.0476065] [0]\n",
      "2017-02-03 00:00:00 [0.06149894] [1]\n",
      "2017-02-06 00:00:00 [0.151703] [0]\n",
      "2017-02-07 00:00:00 [0.40519497] [1]\n",
      "2017-02-08 00:00:00 [0.6732424] [1]\n",
      "2017-02-09 00:00:00 [0.41045618] [0]\n",
      "2017-02-10 00:00:00 [0.14203268] [0]\n",
      "2017-02-13 00:00:00 [0.17945024] [1]\n",
      "2017-02-14 00:00:00 [0.7479795] [1]\n",
      "2017-02-15 00:00:00 [0.7888922] [0]\n",
      "2017-02-16 00:00:00 [0.85614794] [0]\n",
      "2017-02-17 00:00:00 [0.8094454] [1]\n",
      "2017-02-20 00:00:00 [0.8911337] [0]\n",
      "2017-02-21 00:00:00 [0.90910983] [0]\n",
      "2017-02-22 00:00:00 [0.78882897] [1]\n",
      "2017-02-23 00:00:00 [0.6193814] [1]\n",
      "2017-02-24 00:00:00 [0.3744828] [1]\n",
      "2017-02-27 00:00:00 [0.10801539] [0]\n",
      "2017-02-28 00:00:00 [0.20038217] [0]\n",
      "2017-03-01 00:00:00 [0.16551092] [0]\n",
      "2017-03-02 00:00:00 [0.43179655] [0]\n",
      "2017-03-03 00:00:00 [0.41876832] [0]\n",
      "2017-03-06 00:00:00 [0.8281698] [0]\n",
      "2017-03-07 00:00:00 [0.94422996] [1]\n",
      "2017-03-08 00:00:00 [0.9124131] [0]\n",
      "2017-03-09 00:00:00 [0.8643928] [0]\n",
      "2017-03-10 00:00:00 [0.92219377] [0]\n",
      "2017-03-13 00:00:00 [0.956761] [1]\n",
      "2017-03-14 00:00:00 [0.7277112] [1]\n",
      "2017-03-15 00:00:00 [0.5638267] [1]\n",
      "2017-03-16 00:00:00 [0.5811791] [1]\n",
      "2017-03-17 00:00:00 [0.35907134] [0]\n",
      "2017-03-20 00:00:00 [0.2045806] [1]\n",
      "2017-03-21 00:00:00 [0.02160335] [0]\n",
      "2017-03-22 00:00:00 [0.01009771] [1]\n",
      "2017-03-23 00:00:00 [0.00314331] [0]\n",
      "2017-03-24 00:00:00 [0.00234073] [1]\n",
      "2017-03-27 00:00:00 [0.00395611] [1]\n",
      "2017-03-28 00:00:00 [0.00455105] [0]\n",
      "2017-03-29 00:00:00 [0.09459478] [0]\n"
     ]
    }
   ],
   "source": [
    "y_hat = model.predict(X_test_1, batch_size=50, verbose=1)\n",
    "#score = sum(y_hat == y_test) / len(y_test)\n",
    "#print(f'Prediction accuracy = {score*100}%')\n",
    "index = pd.date_range(start='2017-01-02', end='2018-06-19', freq='B')\n",
    "for i in range(y_hat.shape[0]):\n",
    "    print(index[i], y_hat[i], test_5w[i])"
   ]
  },
  {
   "cell_type": "code",
   "execution_count": 327,
   "metadata": {},
   "outputs": [
    {
     "data": {
      "text/plain": [
       "[Text(0, 0.5, 'True: 0'), Text(0, 1.5, 'True: 1')]"
      ]
     },
     "execution_count": 327,
     "metadata": {},
     "output_type": "execute_result"
    },
    {
     "data": {
      "image/png": "[encoded data removed]",
      "text/plain": [
       "<Figure size 432x288 with 2 Axes>"
      ]
     },
     "metadata": {},
     "output_type": "display_data"
    }
   ],
   "source": [
    "# Display confusion matrix results\n",
    "from sklearn.metrics import confusion_matrix\n",
    "\n",
    "ax = plt.subplot()\n",
    "predicted = model.predict(X_test_1)\n",
    "predicted = (predicted > 0.5)\n",
    "\n",
    "confusion = confusion_matrix(test_5w, predicted)\n",
    "\n",
    "sns.heatmap(confusion, annot=True, ax=ax)\n",
    "\n",
    "ax.set_xlabel('Predicted')\n",
    "ax.set_ylabel('True')\n",
    "ax.set_title('Confusion Matrix')\n",
    "ax.xaxis.set_ticklabels([\"Predicted: 0\", \"Predicted: 1\"])\n",
    "ax.yaxis.set_ticklabels([\"True: 0\", \"True: 1\"])"
   ]
  },
  {
   "cell_type": "code",
   "execution_count": null,
   "metadata": {},
   "outputs": [],
   "source": []
  }
 ],
 "metadata": {
  "kernelspec": {
   "display_name": "Python 3",
   "language": "python",
   "name": "python3"
  },
  "language_info": {
   "codemirror_mode": {
    "name": "ipython",
    "version": 3
   },
   "file_extension": ".py",
   "mimetype": "text/x-python",
   "name": "python",
   "nbconvert_exporter": "python",
   "pygments_lexer": "ipython3",
   "version": "3.9.6"
  }
 },
 "nbformat": 4,
 "nbformat_minor": 4
}
