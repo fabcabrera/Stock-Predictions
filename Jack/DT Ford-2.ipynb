{
 "cells": [
  {
   "cell_type": "markdown",
   "id": "5c6020d9-1b70-4da2-b1ed-e390895281e2",
   "metadata": {},
   "source": [
    "# Decision Trees with Ford Data"
   ]
  },
  {
   "cell_type": "code",
   "execution_count": null,
   "id": "54114fd3-1988-4f75-aa8a-28348565d275",
   "metadata": {},
   "outputs": [],
   "source": []
  }
 ],
 "metadata": {
  "kernelspec": {
   "display_name": "Python 3",
   "language": "python",
   "name": "python3"
  },
  "language_info": {
   "codemirror_mode": {
    "name": "ipython",
    "version": 3
   },
   "file_extension": ".py",
   "mimetype": "text/x-python",
   "name": "python",
   "nbconvert_exporter": "python",
   "pygments_lexer": "ipython3",
   "version": "3.8.8"
  }
 },
 "nbformat": 4,
 "nbformat_minor": 5
}
