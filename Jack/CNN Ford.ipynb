{
 "cells": [
  {
   "cell_type": "code",
   "execution_count": 2,
   "id": "515730c1-45ed-49e9-86b8-dbd07f2dbd0e",
   "metadata": {},
   "outputs": [],
   "source": [
    "# CNN Model using full Ford data now"
   ]
  },
  {
   "cell_type": "code",
   "execution_count": null,
   "id": "ecb74ca8-4ea0-46a4-afa0-b61173feef12",
   "metadata": {},
   "outputs": [],
   "source": []
  }
 ],
 "metadata": {
  "kernelspec": {
   "display_name": "Python 3",
   "language": "python",
   "name": "python3"
  },
  "language_info": {
   "codemirror_mode": {
    "name": "ipython",
    "version": 3
   },
   "file_extension": ".py",
   "mimetype": "text/x-python",
   "name": "python",
   "nbconvert_exporter": "python",
   "pygments_lexer": "ipython3",
   "version": "3.8.8"
  }
 },
 "nbformat": 4,
 "nbformat_minor": 5
}
