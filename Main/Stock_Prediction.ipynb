{
 "cells": [
  {
   "cell_type": "markdown",
   "metadata": {},
   "source": [
    "This notebook was prepared by:\n",
    "\n",
    "Jack Brennen (jpb9088@nyu.edu)\n",
    "\n",
    "Fabrizio Cabrera (fc2250@nyu.edu)\n",
    "\n",
    "Alex Ferrante (af3913@nyu.edu)\n",
    "\n",
    "Graduate School of Arts and Sciences (GSAS) at New York University (NYU)\n",
    "\n",
    "May 2022\n",
    "\n",
    "# One Day Ahead Movement Stock Prediction - Application of Machine Learning Binary Classifiers  \n",
    "\n",
    "In the stock market shares of firms are traded. Trading is an important feature of the economy because it gives firms access to capital in exchange for a share of ownership. Speculation in stock prices means that traders buy when they think prices are going up and sell when they think prices are going down. This would be profitable for traders making accurate predictions of stock prices. However, the predictability of stock prices has been questioned.\n",
    "\n",
    "According to the efficient market hypothesis (EMH) the stock market follows a random walk and is inherently unpredictable (Sargent, 1986). The EMH implies that all information available today is reflected in prices of stocks today and the changes in tomorrows price will only depend on the news of tomorrow. This is because that the stock market is perceived to be very informationally efficient and comopetitive. Since we cannot predict news, stock forecasting is impossible. This would have the consequence that prices are fairly priced and one can not beat the market using current information. Burton Malkiel claims that a strong argument for the market being efficient and unpredictable is that fact that expert investors are unable to beat the market (Malkiel, 2003).\n",
    "\n",
    "The ability to predict the movement of a stock was once far fetched, however, thanks to advancements in machine learning techniques, there is reason to believe short-run predictions are possible, within reason. So what makes stock movement prediction tricky? Well, several factors, but one which is most obscure is market noise. With most persons' having access to the internet, news spreads quickly. This means consumers' sentiments are subject to changing quickly, resulting in short-run market fluctuations. Exogenous shocks to the market come in many forms and all of which are reported on. With the rise of internet news platforms these sources server as venues for market particpants to consume stock information which subsequetly informs short-run behavior. \n",
    "\n",
    "Since we believe that capturing trends in agents news consumption is valuable in explaining short-run movements in stocks, this project will include data from Google Trends and Wikipedia API's to serve as indexes to inform the frequency and popularity of stock news. In addition to data collected from Google Trends and Wikipedia API's we also collect general stock data (open, close, volumem ect.). Through the use of random forrests, convolutional neural networks (CNN), and recursive neural networks (RNN) we will contruct a binary-classification task and see how accurately we can model short-run stock movement. While there are an array of targets we could test, the target for the procedding models will be whether the stock closing price will increase tomorrow (1) or whether it will decrease (0). \n",
    "\n",
    "Given constraints in time and computing power, we will collect data from 01/01/2019 to 03/31/2022 for Ford, Netflix, and UBS. The stocks selected cover three different industires which will allow us to tests our models preictive power in varying markets.   \n"
   ]
  },
  {
   "cell_type": "markdown",
   "metadata": {},
   "source": [
    "## 1. Pulling Together the Data"
   ]
  },
  {
   "cell_type": "markdown",
   "metadata": {},
   "source": [
    "As the saying goes, garbage in, garbage out. Thus, we gave some serious thought on how to best collect our data. This section reviews the necessary steps taken to aquire the stock and news data from their respective API's and the subsequent data cleaning procedures. Given that the web scraping process was computationally expensive, this section will display the code in its raw form. At the end of section two the cleaned and transformed CSV data files will be made available. Your computer will thank us later."
   ]
  },
  {
   "cell_type": "code",
   "execution_count": 14,
   "metadata": {},
   "outputs": [],
   "source": [
    "# Import the necessary data cleaning packages\n",
    "import pandas as pd\n",
    "import numpy as np\n",
    "import os\n",
    "import matplotlib.pyplot as plt\n",
    "import seaborn as sns\n",
    "from IPython.display import Image\n",
    "\n",
    "#%pip install pytrends\n",
    "import pytrends\n",
    "from pytrends.request import TrendReq\n",
    "#%pip install pageviewapi\n",
    "import pageviewapi\n",
    "#%pip install yfinance\n",
    "import yfinance as yf\n",
    "\n",
    "# Import machine learning packages\n",
    "import tensorflow as tf\n",
    "from sklearn import (\n",
    "    linear_model, metrics, neural_network, pipeline, model_selection\n",
    ")\n",
    "from sklearn.impute import SimpleImputer\n",
    "from sklearn.decomposition import PCA\n",
    "from sklearn.preprocessing import StandardScaler\n",
    "from sklearn.model_selection import train_test_split, GridSearchCV, RandomizedSearchCV\n",
    "from sklearn.feature_selection import SelectKBest, f_regression\n",
    "from sklearn.linear_model import Lasso\n",
    "from sklearn.preprocessing import MinMaxScaler\n",
    "from sklearn.metrics import mean_squared_error, accuracy_score, precision_score, recall_score, f1_score\n",
    "from keras.models import Sequential\n",
    "from keras.layers import Dense, Dropout, SimpleRNN, LSTM, TimeDistributed, BatchNormalization, Conv1D, MaxPooling1D, Flatten, InputLayer\n",
    "from sklearn.model_selection import TimeSeriesSplit\n",
    "from keras.regularizers import l1, l2\n",
    "from keras.callbacks import ReduceLROnPlateau, EarlyStopping\n",
    "from sklearn.metrics import classification_report,confusion_matrix\n",
    "from sklearn.ensemble import RandomForestClassifier\n",
    "import keras_tuner as kt"
   ]
  },
  {
   "cell_type": "markdown",
   "metadata": {},
   "source": [
    "Below is the function used to web scrape the data from Yahoo Finance, Google Trends, and Wikipedia. We will walk through the data collection process and will provide an example using Ford. Note, Netflix and UBS followed an identical processes. "
   ]
  },
  {
   "cell_type": "code",
   "execution_count": null,
   "metadata": {},
   "outputs": [],
   "source": [
    "def Big_scraper(kw_list_1, kw_list_2, ticker, start,end):\n",
    "    \n",
    "    \"\"\"\n",
    "    Description:\n",
    "    ------------\n",
    "    \n",
    "    The function initially grabs historical, indexed, hourly data for when the keyword \n",
    "    was searched most as shown on Google Trends' Interest Over Time section.\n",
    "    It then cleans the data to show daily hits on the keyword in Google news.\n",
    "\n",
    "    \n",
    "    input:\n",
    "    -----\n",
    "    kw_list_1: List of up to 5 key words that will be scraped from google trends for the dates given.\n",
    "             Here, the scraping will pull the total posted items in google news that contains\n",
    "             one of the key words.\n",
    "    \n",
    "    kw_list_2: List of wikipedia article titles (unlimited length) that will pull the amount of\n",
    "            views the article recieved each day. \n",
    "\n",
    "    ticker: the ticker abriviation of the desired stock. Must be netered in as an all capitalized string \n",
    "    example Apple Inc. woud be \"AAPL\"\n",
    "             \n",
    "    start: the start of the desired timeline you want scrape. Date Must be entered in as \"YYYYMMDD\"\n",
    "    \n",
    "    end: the end of the desired timeline you want scrape. Date Must be entered in as \"YYYYMMDD\"\n",
    "             \n",
    "    return:\n",
    "    -------\n",
    "    \n",
    "    combined: a dataframe containing the sum of the daily keyword hits in google news (key words labeled _x),\n",
    "    \n",
    "    data frame cointaing stock info including open, close, high, low prices of the stock,\n",
    "    as well as the stocks daily trading volume and the amount if there was a split or dividend \n",
    "    preformed on the stock that day,\n",
    "    \n",
    "    and the sum of how many times key word wikipedia pages were viewed in a day (key words labeled _y)\n",
    "    \"\"\"\n",
    "    \n",
    "    year_s = int(start[0:4])\n",
    "    month_s = int(start[4:6])\n",
    "    day_s = int(start[6:8])\n",
    "    year_e = int(end[0:4])\n",
    "    month_e = int(end[4:6])\n",
    "    day_e = int(end[6:8])\n",
    "    \n",
    "    starter = pd.to_datetime(f\"'{year_s}-{month_s}-{day_s}'\")\n",
    "    ender = pd.to_datetime(f\"'{year_e}-{month_e}-{day_e}'\")\n",
    "    \n",
    "    \n",
    "    pytrends = TrendReq(hl='en-US', tz=360, retries=10)\n",
    "    jeff = pytrends.get_historical_interest(kw_list_1, \\\n",
    "                                 year_start = year_s, month_start = month_s, day_start = day_s, hour_start = 1, \\\n",
    "                                 year_end = year_e, month_end = month_e, day_end = day_e, hour_end = 23, \\\n",
    "                                 cat = 0, geo = '', gprop = 'news', sleep = 60)\n",
    "    \n",
    "    jeff = jeff.iloc[:, 0:-1] # eliminates the isPartial Column\n",
    "    jeff = jeff.reset_index().drop_duplicates(subset = \"date\") #removing duplicates from the index\n",
    "    jeff = jeff.groupby(pd.Grouper(key=\"date\", freq=\"D\")).mean() # coverts to the mean of daily scores\n",
    "\n",
    "    dow = yf.Ticker(\"^DJI\")\n",
    "    dow_h = dow.history(start=starter, end=ender)\n",
    "    dow_h = pd.DataFrame(dow_h)\n",
    "    dow_names = {\"Open\":\"dow_open\",\"Close\":\"dow_close\",\"Low\": \"dow_low\",\n",
    "    'High':'dow_high','Volume':'dow_vol'}\n",
    "    dow_h=dow_h.rename(dow_names, axis=1).drop([\"Dividends\",\"Stock Splits\"], axis=1)\n",
    "\n",
    "    nas = yf.Ticker(\"^IXIC\")\n",
    "    nas_h = nas.history(start=starter, end=ender)\n",
    "    nas_h = pd.DataFrame(nas_h)\n",
    "    nas_names = {\"Open\":\"nas_open\", \"Close\":\"nas_close\", \"Low\": \"nas_low\",\n",
    "    'High':'nas_high','Volume':'nas_vol'}\n",
    "    nas_h=nas_h.rename(nas_names, axis=1).drop([\"Dividends\",\"Stock Splits\"], axis=1)\n",
    "\n",
    "    market = dow_h.merge(nas_h,left_index=True, right_index=True, how=\"left\")\n",
    "    \n",
    "    tick = yf.Ticker(ticker)\n",
    "    hist = tick.history(start=starter, end=ender)\n",
    "    hist = pd.DataFrame(hist)\n",
    "    \n",
    "    combined = jeff.merge(hist, left_index=True, right_index=True, how=\"left\")\n",
    "    combined = combined.merge(market, left_index=True, right_index=True, how=\"left\")  \n",
    "    \n",
    "    d = pd.DataFrame()\n",
    "    for key_word in kw_list_2:\n",
    "        geoff = pageviewapi.per_article('en.wikipedia', key_word, start, end,\n",
    "                                    access='all-access', agent='all-agents', granularity='daily')\n",
    "        dicty = dict(geoff)\n",
    "        views = pd.DataFrame(dicty[\"items\"])\n",
    "        views[\"timestamp\"] = pd.to_datetime((views[\"timestamp\"]), format=\"%Y%m%d%H\")\n",
    "        views = views.set_index(\"timestamp\")\n",
    "        page = pd.Series(views[\"views\"])\n",
    "        d[key_word] = page\n",
    "        \n",
    "    combined = combined.merge(d, left_index=True, right_index=True, how=\"left\") \n",
    "    \n",
    "    return combined"
   ]
  },
  {
   "cell_type": "markdown",
   "metadata": {},
   "source": [
    "When it comes to collecting data on daily stock performance indicators (i.e Open, close, volume, ect.) the Yahoo Finance API works wonders. With respect to our decision to incorporate news data, the task becomes a little more involved. Within the funtion above you will notice the kw_list_1 and kw_list_2 parameters. These are necessary requisits for the Google News and Wikipedia API's. The keywords selected in kw_list_1 were arbitrarily determined, but choosen in the context of capturing relevant stock news. The keywords in kw_list_2 were also a bit arbitrary, however, in order for the Wikipedia API to work, the list of strings must correspond to exisiting Wikipedia webpages. Below are the keywords lists implemented for Ford. "
   ]
  },
  {
   "cell_type": "code",
   "execution_count": null,
   "metadata": {},
   "outputs": [],
   "source": [
    "kw_list_1 = [\"Ford\", \"F-150\", \"Ford Bronco\", \"Ford Mustang\", \"Ford Stock\"]\n",
    "kw_list_2 = [\"Ford Motor Company\", \"Ford Mustang\", \"Ford F Series\", \"Ford Bronco\", \"Lincoln Navigator\", \"Lincoln Aviator\", \"Ford GT\"]"
   ]
  },
  {
   "cell_type": "markdown",
   "metadata": {},
   "source": [
    "Once the key words were determined, we then implemented the big_scraper function and web scraped data for the specified time-frames. The scraper was ran four times, creating seperate data files for each year."
   ]
  },
  {
   "cell_type": "code",
   "execution_count": null,
   "metadata": {},
   "outputs": [],
   "source": [
    "# Concatenate each of the annual datafiles to create one main\n",
    "Ford_19 = Big_scraper(kw_list_1, kw_list_2,\"F\", \"20190101\", \"20191231\")\n",
    "Ford_20 = Big_scraper(kw_list_1, kw_list_2,\"F\", \"20200101\", \"20201231\")\n",
    "Ford_21 = Big_scraper(kw_list_1, kw_list_2,\"F\", \"20210101\", \"20211231\")\n",
    "Ford_22 = Big_scraper(kw_list_1, kw_list_2,\"F\", \"20220101\", \"20220331\")\n",
    "\n",
    "ford = pd.concat([Ford_19, Ford_20, Ford_21, Ford_22])"
   ]
  },
  {
   "cell_type": "markdown",
   "metadata": {},
   "source": [
    "Since stocks are traded only during weekdays and news data is reported daily, we decided to drop data collected for weekends and holidays. While this reduces the number of news observations, it was a step taken to reduce the amont of NaN values in our data.  "
   ]
  },
  {
   "cell_type": "code",
   "execution_count": null,
   "metadata": {},
   "outputs": [],
   "source": [
    "#converting the date column back to datetime \n",
    "Ford.date = pd.to_datetime(Ford.date)\n",
    "\n",
    "from pandas.tseries.holiday import USFederalHolidayCalendar\n",
    "from pandas.tseries.offsets import CustomBusinessDay\n",
    "\n",
    "# create dateframe 2019-01-01 to 2022-03-31 which excludes weekends and holidays\n",
    "us_bd = CustomBusinessDay(calendar=USFederalHolidayCalendar())\n",
    "dates = pd.date_range(start='2019-01-01', end='2022-03-31', freq=us_bd)\n",
    "dates = pd.DataFrame(dates)\n",
    "dates = dates.rename(columns={0: \"date\"})\n",
    "\n",
    "# Merge on new date range to remove weekends and holidays in ford dataset\n",
    "Ford = dates.merge(Ford, on=\"date\", how=\"left\")\n",
    "Ford = Ford.set_index(\"date\")\n",
    "Ford.head()"
   ]
  },
  {
   "cell_type": "markdown",
   "metadata": {},
   "source": [
    "### 2. Data Processing - Feature and Target Creation\n",
    "\n",
    "In this next phase of data processing we focus on using the existing data pulled to generate additional features and targets. From the Google News and Wikipedia data collected, we sum across each of the keyword list results to create two new features noted as \"Wiki_total\" and \"Google_total\", respectively. These new \"total\" features will then be used as denominator values and assist in creating more features which with the hope of providing greater explanantory power to our future models.   "
   ]
  },
  {
   "cell_type": "code",
   "execution_count": null,
   "metadata": {},
   "outputs": [],
   "source": [
    "# creating base varibles to be used in variable creator functions\n",
    "Ford[\"Wiki_total\"] = (Ford[\"Ford Motor Company\"] + \n",
    "    Ford[\"Ford Mustang_y\"] + Ford[\"Ford F Series\"] + \n",
    "    Ford[\"Ford Bronco_y\"] + Ford[\"Lincoln Navigator\"] + \n",
    "    Ford[\"Lincoln Aviator\"] + Ford[\"Ford GT\"])\n",
    "\n",
    "Ford[\"Google_total\"] = (Ford[\"Ford\"] +\n",
    "    Ford[\"F-150\"] + Ford[\"Ford Bronco_x\"] +\n",
    "    Ford[\"Ford Mustang_x\"] + Ford[\"Ford Stock\"])\n",
    "\n",
    "Ford[\"Stock_total\"] = Ford[\"Close\"]\n",
    "Ford[\"Nas_total\"] = Ford[\"nas_close\"]\n",
    "Ford[\"Dow_total\"] = Ford[\"dow_close\"]"
   ]
  },
  {
   "cell_type": "code",
   "execution_count": null,
   "metadata": {},
   "outputs": [],
   "source": [
    "def variables_creator(df, variable_list, w=7):\n",
    "    \n",
    "    '''\n",
    "    descrition:\n",
    "    -----------\n",
    "    takes dataframe and returns new varibles based on recommmended calcualtions, \n",
    "    it should be done seporately with internet based and stock based dataframes\n",
    "\n",
    "    Note: When using for aggreated varaibles, for example Wiki_total, the sum of all the wiki pages daily page view counts, \n",
    "    you MUST calculate Wiki_total in the dataframe seperately BEFORE this function can be used. \n",
    "\n",
    "    For example if you had wiki page counts for Ford Bronco and Ford Ranger, Wiki_total would equal Ford Bronco + Ford ranger counts, \n",
    "    AGAIN Wiki_total must be calculated in the desired dateframe before using this function \n",
    "\n",
    "    input:\n",
    "    ------\n",
    "    df: dataframe containing the google trends, yahoo finance, and or wikipedia page count data\n",
    "\n",
    "    variable_list: list of strings to be added to the equations to calculate the new varaibles. \n",
    "    ex. insertting the string \"Wiki\" will add to df[f\"{}_total\"] to become \"Wiki_total\"\n",
    "\n",
    "    w: the window length for one period shift. Default is 7 providing 7 day moving averages for wiki and google data, \n",
    "        FOR STOCK DATA THIS WILL NEED TO BE CHANGED TO 5.\n",
    "\n",
    "    output:\n",
    "    -------\n",
    "    df: the same dataframe as was inputted but now containing variables for \n",
    "    Momemtum, Disparity, Moving Average, Exponential Moving Aerage, Rator Change, and RSI index score.\n",
    "    Also containg are moving variables, which are boolean with 1 indicating an increase in the above variables\n",
    "    '''   \n",
    "    \n",
    "    for i in variable_list:\n",
    "        # Momentum_1\n",
    "        df[f\"{i}_Moment_1\"] =  (df[f\"{i}_total\"] / df[f\"{i}_total\"].shift(w)) * 100\n",
    "        # Momentum_2\n",
    "        df[f\"{i}_Moment_2\"] =  (df[f\"{i}_total\"] - df[f\"{i}_total\"].shift(w)) * 100\n",
    "        # Momentum_1_s three day shift (instead of w)\n",
    "        df[f\"{i}_Moment_1_s\"] =  (df[f\"{i}_total\"] / df[f\"{i}_total\"].shift(3)) * 100\n",
    "        # Momentum_2_s\n",
    "        df[f\"{i}_Moment_2_s\"] =  (df[f\"{i}_total\"] - df[f\"{i}_total\"].shift(3)) * 100\n",
    "        # Moving average\n",
    "        df[f\"{i}_MAvg\"] = df[f\"{i}_total\"].rolling(f\"{w}d\").mean()\n",
    "        # Moving average 3 day\n",
    "        df[f\"{i}_MAvg_s\"] = df[f\"{i}_total\"].rolling(\"3d\").mean()\n",
    "        # Disparity\n",
    "        df[f\"{i}_Disparity\"] = (df[f\"{i}_total\"]/df[f\"{i}_MAvg\"]) * 100\n",
    "        # Disparity 3 day\n",
    "        df[f\"{i}_Disparity_s\"] = (df[f\"{i}_total\"]/df[f\"{i}_MAvg_s\"]) * 100\n",
    "        # Rate of Change Normal Way\n",
    "        df[f\"{i}_ROC\"] = (df[f\"{i}_total\"]-df[f\"{i}_total\"].shift(w))/(df[f\"{i}_total\"].shift(w)) *100\n",
    "        df[f\"{i}_ROC_s\"] = (df[f\"{i}_total\"]-df[f\"{i}_total\"].shift(3))/(df[f\"{i}_total\"].shift(3)) *100\n",
    "        #Rate of Change Paper Way (doesn't make sense but just in case)\n",
    "        df[f'{i}_Rocp'] = (df[f\"{i}_total\"]/df[f\"{i}_Moment_2\"]) *100\n",
    "        # Exponential Moving Average\n",
    "        df[f\"{i}_EMA\"] = (df[f\"{i}_total\"]-df[f\"{i}_MAvg\"].shift(1))*(2/(w+1))+df[f\"{i}_MAvg\"].shift(1)\n",
    "\n",
    "        # calculating the Relative Strength Index, based on 14 day window\n",
    "        df[f\"{i}_diff\"] = df[f\"{i}_total\"].diff(1)\n",
    "        df[f\"{i}_gain\"] = df[f\"{i}_diff\"].clip(lower=0).round(2) #keeps all values above or below a given threshold, lower=lower bound\n",
    "        df[f\"{i}_loss\"] = df[f\"{i}_diff\"].clip(upper=0).round(2)\n",
    "        df[f'{i}_avg_gain'] = df[f'{i}_gain'].rolling(14).mean()\n",
    "        df[f'{i}_avg_loss'] = df[f'{i}_loss'].rolling(14).mean()\n",
    "        df[f'{i}_rs'] = df[f'{i}_avg_gain'] / df[f'{i}_avg_loss']\n",
    "        df[f'{i}_RSI'] = 100 - (100 / (1.0 + df[f'{i}_rs']))\n",
    "\n",
    "        # Calculatiing the Move Variables \n",
    "        df[f\"{i}_Move\"] = df[f\"{i}_total\"] > df[f\"{i}_total\"].shift(1) \n",
    "        df[f\"{i}_Move\"] = df[f\"{i}_Move\"].replace({True:1,False: 0})\n",
    "    \n",
    "      \n",
    "        df[f\"{i}_MAvg_Move\"] = df[f\"{i}_MAvg\"] > df[f\"{i}_MAvg\"].shift(1) \n",
    "        df[f\"{i}_MAvg_Move\"] = df[f\"{i}_MAvg_Move\"].replace({True:1,False: 0})\n",
    "        df[f\"{i}_MAvg_s_Move\"] = df[f\"{i}_MAvg_s\"] > df[f\"{i}_MAvg_s\"].shift(1) \n",
    "        df[f\"{i}_MAvg_s_Move\"] = df[f\"{i}_MAvg_s_Move\"].replace({True:1,False: 0})\n",
    "\n",
    "        df[f\"{i}_EMA_Move\"] = df[f\"{i}_EMA\"] > df[f\"{i}_EMA\"].shift(1) \n",
    "        df[f\"{i}_EMA_Move\"] = df[f\"{i}_EMA_Move\"].replace({True:1,False: 0})\n",
    "\n",
    "        df[f\"{i}_Disparity_Move\"] = df[f\"{i}_Disparity\"] > df[f\"{i}_Disparity\"].shift(1) \n",
    "        df[f\"{i}_Disparity_Move\"] = df[f\"{i}_Disparity_Move\"].replace({True:1,False: 0})\n",
    "        df[f\"{i}_Disparity_s_Move\"] = df[f\"{i}_Disparity_s\"] > df[f\"{i}_Disparity_s\"].shift(1) \n",
    "        df[f\"{i}_Disparity_s_Move\"] = df[f\"{i}_Disparity_s_Move\"].replace({True:1,False: 0})\n",
    "\n",
    "        df[f\"{i}_RSI_Move\"] = df[f\"{i}_RSI\"] > df[f\"{i}_RSI\"].shift(1) \n",
    "        df[f\"{i}_RSI_Move\"] = df[f\"{i}_RSI_Move\"].replace({True:1,False: 0})\n",
    "        \n",
    "    return df"
   ]
  },
  {
   "cell_type": "code",
   "execution_count": null,
   "metadata": {},
   "outputs": [],
   "source": [
    "Ford = variables_creator(Ford, [\"Wiki\",\"Google\", \"Stock\", \"Nas\", \"Dow\"], 5)"
   ]
  },
  {
   "cell_type": "markdown",
   "metadata": {},
   "source": [
    "Now that we have a comprehesive feature matrix of data, we turn to generating the targets. As mentioned, there are a variety of targets that could be tested to predict stock movement. Below we have generated five binary targets, each either related to the stock close price, open price, or volumne. For the purposes of the models developed in this project, we will focus on trying to accurately predict \"target_3\" - the difference in closing price. This target's result is binary where an increase in the closing price returns a value of 1 and a decrease in the closing price returns 0."
   ]
  },
  {
   "cell_type": "code",
   "execution_count": null,
   "metadata": {},
   "outputs": [],
   "source": [
    "def target_creator(df):\n",
    "    '''\n",
    "    description: creates the differnt types of target variables based on tomorrow minus today,\n",
    "    '''\n",
    "        \n",
    "    # target 1, Open(t+1) - Close(t)\n",
    "    df[\"target_1\"] = (df[\"Open\"].shift(-1) - df[\"Close\"]) > 0\n",
    "    df[\"target_1\"] = df[\"target_1\"].replace({True:1,False: 0})\n",
    "    # target 2\n",
    "    df[\"target_2\"] = (df[\"Open\"].shift(-1) - df[\"Open\"]) > 0\n",
    "    df[\"target_2\"] = df[\"target_2\"].replace({True:1,False: 0})\n",
    "    # target 3\n",
    "    df[\"target_3\"] = (df[\"Close\"].shift(-1) - df[\"Close\"]) > 0\n",
    "    df[\"target_3\"] = df[\"target_3\"].replace({True:1,False: 0})\n",
    "    # target 4\n",
    "    df[\"target_4\"] = (df[\"Close\"].shift(-1) - df[\"Open\"]) > 0\n",
    "    df[\"target_4\"] = df[\"target_4\"].replace({True:1,False: 0})\n",
    "    # target 5\n",
    "    df[\"target_5\"] = (df[\"Volume\"].shift(-1) - df[\"Volume\"]) > 0\n",
    "    df[\"target_5\"] = df[\"target_5\"].replace({True:1,False: 0})\n",
    " \n",
    "    return df\n",
    "\n",
    "Ford = target_creator(Ford)"
   ]
  },
  {
   "cell_type": "markdown",
   "metadata": {},
   "source": [
    "Finally, we've made it to a stage where out data set includes many features and targets to test them on. \n",
    "\n",
    "Below are the fully cleaned and model ready CSV files for Ford, Netflix, and UBS."
   ]
  },
  {
   "cell_type": "code",
   "execution_count": 3,
   "metadata": {},
   "outputs": [],
   "source": [
    "# Import Ford, Neflix, and UBS data \n",
    "\n",
    "Ford = pd.read_csv(\"Ford_Cleaned_Date.csv\",\n",
    "                  parse_dates=True,\n",
    "                  infer_datetime_format=True,\n",
    "                  index_col=\"date\")\n",
    "\n",
    "netflix = pd.read_csv(\"netflix_model_ready.csv\",\n",
    "                      parse_dates=True,\n",
    "                      infer_datetime_format=True,\n",
    "                      index_col=\"date\")\n",
    "\n",
    "ubs = pd.read_csv(\"UBS_Cleaned_Date.csv\",\n",
    "                 parse_dates=True,\n",
    "                 infer_datetime_format=True,\n",
    "                 index_col=\"date\")"
   ]
  },
  {
   "cell_type": "markdown",
   "metadata": {},
   "source": [
    "### 3. Feature Selection "
   ]
  },
  {
   "cell_type": "markdown",
   "metadata": {},
   "source": [
    "Now that we have the data cleaned, additional features created, and targets set, we can begin to think about constucting our models. However, before jumping into deciding which model to use and the appropriate architecture for this time-series, binary classfication task, we must first give some thought to what features are going to give our models the greatest preictive power.\n",
    "\n",
    "Taking a look first at the shape of our data, we notice that there are quite a few features present."
   ]
  },
  {
   "cell_type": "code",
   "execution_count": 180,
   "metadata": {},
   "outputs": [
    {
     "name": "stdout",
     "output_type": "stream",
     "text": [
      "There are 815 observations and 169 features\n"
     ]
    }
   ],
   "source": [
    "# Print shape of Ford data \n",
    "print(\"There are {} observations and {} features\".format(Ford.shape[0], Ford.shape[1]))"
   ]
  },
  {
   "cell_type": "markdown",
   "metadata": {},
   "source": [
    "With 169 features in total, it is likely the case that not all variable are valuable in predicting our target. A generic, although not often recommended approach would be the kitchen sink, where all 169 features would be included in our models. While this would be simple, if we work under the assumption that some variables are not relevant in explaining our target, then this approach would negatively affect our models ability to learn since we would be introducing unnecessary noise. While there are many approaches to feature selection, we decide on the implement the following strategies:\n",
    "\n",
    "1) SelectKBest\n",
    "\n",
    "2) Principal Component Analysis\n",
    "\n",
    "3) Blended - Identify the \"best features\" through SelectKBest, then run a PCA on those features\n",
    "\n",
    "From the Keras \"feature_selection\" library, the SelectKBest function works by implementing an f-regression to identify the N number of features that have the greatest significance in explaining the identified target.  \n",
    "\n",
    "Let's continue with using Ford as an example and see how these feature selection methodologies are implemented.\n",
    "\n",
    "We'll first do a little more data manipulation."
   ]
  },
  {
   "cell_type": "code",
   "execution_count": 4,
   "metadata": {},
   "outputs": [
    {
     "name": "stdout",
     "output_type": "stream",
     "text": [
      "(709, 162) (709,)\n",
      "                   Features         Score\n",
      "161                target_3  1.675813e+17\n",
      "105          Stock_EMA_Move  3.460924e+00\n",
      "125            Nas_avg_loss  3.262932e+00\n",
      "4                Ford Stock  2.887783e+00\n",
      "107  Stock_Disparity_s_Move  2.847750e+00\n",
      "152                  Dow_rs  2.302643e+00\n",
      "54      Wiki_Disparity_Move  2.212012e+00\n",
      "103         Stock_MAvg_Move  2.207490e+00\n",
      "151            Dow_avg_loss  2.078600e+00\n",
      "91                Stock_ROC  1.979319e+00\n",
      "83           Stock_Moment_1  1.979319e+00\n",
      "51           Wiki_MAvg_Move  1.953221e+00\n",
      "99           Stock_avg_loss  1.892805e+00\n",
      "84           Stock_Moment_2  1.720291e+00\n",
      "128                Nas_Move  1.711026e+00\n",
      "65               Google_ROC  1.707825e+00\n",
      "57          Google_Moment_1  1.707825e+00\n",
      "49                 Wiki_RSI  1.693034e+00\n",
      "96               Stock_gain  1.597459e+00\n",
      "145                Dow_Rocp  1.469532e+00\n",
      "104       Stock_MAvg_s_Move  1.460520e+00\n",
      "8                     Close  1.422680e+00\n",
      "6                      High  1.385813e+00\n",
      "134            Nas_RSI_Move  1.370561e+00\n",
      "7                       Low  1.362325e+00\n",
      "88             Stock_MAvg_s  1.358587e+00\n",
      "5                      Open  1.337740e+00\n",
      "159    Dow_Disparity_s_Move  1.285615e+00\n",
      "87               Stock_MAvg  1.253407e+00\n",
      "94                Stock_EMA  1.219640e+00\n",
      "86         Stock_Moment_2_s  1.217396e+00\n",
      "15            Ford Bronco_y  1.107614e+00\n",
      "77         Google_MAvg_Move  1.102972e+00\n",
      "53            Wiki_EMA_Move  1.102473e+00\n",
      "1                     F-150  1.078817e+00\n",
      "10                Dividends  1.057615e+00\n",
      "50                Wiki_Move  1.043051e+00\n",
      "160            Dow_RSI_Move  9.958267e-01\n",
      "92              Stock_ROC_s  9.719498e-01\n",
      "85         Stock_Moment_1_s  9.719498e-01\n"
     ]
    },
    {
     "name": "stderr",
     "output_type": "stream",
     "text": [
      "c:\\Users\\alexa\\AppData\\Local\\Programs\\Python\\Python39\\lib\\site-packages\\sklearn\\feature_selection\\_univariate_selection.py:302: RuntimeWarning: invalid value encountered in true_divide\n",
      "  corr /= X_norms\n"
     ]
    }
   ],
   "source": [
    "# SelectKBest implementation\n",
    "\n",
    "# to remove first 14 days that include NaNs due to some calculations\n",
    "Ford = Ford.iloc[14:, :] \n",
    "\n",
    "# to remove duplicated columns\n",
    "Ford = Ford.drop([\"Nas_total\", 'Stock_total', 'Dow_total'],axis=1) \n",
    "\n",
    "Ford_0 = Ford.dropna()\n",
    "Ford_0 = Ford_0[~(Ford_0.isin([np.inf, -np.inf]).any(axis=1))] \n",
    "\n",
    "# Drop additional targets\n",
    "Ford_0 = Ford_0.drop(['target_1', 'target_2', 'target_4', 'target_5'], axis=1)\n",
    "\n",
    "# Target will be 3 (close to close)\n",
    "target_3_0 = Ford_0[\"target_3\"]\n",
    "\n",
    "# Print shape \n",
    "print(Ford_0.shape, target_3_0.shape)\n",
    "\n",
    "# Standardize the data \n",
    "Mscaler = MinMaxScaler()\n",
    "Ford_0 = pd.DataFrame(Mscaler.fit_transform(Ford_0), columns = Ford_0.columns)\n",
    "\n",
    "# Implement SelectKBest class to extract 40 best features\n",
    "bestfeatures = SelectKBest(score_func=f_regression, k=40)\n",
    "best_fit = bestfeatures.fit(Ford_0, target_3_0)\n",
    "best_scores = pd.DataFrame(best_fit.scores_)\n",
    "best_columns = pd.DataFrame(Ford_0.columns)\n",
    "\n",
    "# concatenate the dataframes for better visualization\n",
    "features_score = pd.concat([best_columns, best_scores], axis=1)\n",
    "features_score.columns = ['Features', 'Score'] \n",
    "print(features_score.nlargest(40, 'Score'))  \n"
   ]
  },
  {
   "cell_type": "markdown",
   "metadata": {},
   "source": [
    "Shown above the top 40 features (descending order) that have the greatest significance with respect to target 3. This list can now give us greater insight into which features should be included in model testing and which should be dropped.\n",
    "\n",
    "Alternatively, we could use a PCA approach to reduce the dimenstionality of the data without having to necessarily hand pick features. Let's see this in action."
   ]
  },
  {
   "cell_type": "code",
   "execution_count": 5,
   "metadata": {},
   "outputs": [
    {
     "data": {
      "image/png": "[encoded data removed]",
      "text/plain": [
       "<Figure size 864x576 with 1 Axes>"
      ]
     },
     "metadata": {
      "needs_background": "light"
     },
     "output_type": "display_data"
    },
    {
     "name": "stdout",
     "output_type": "stream",
     "text": [
      "[ 15.31107174  26.97356724  35.4158046   42.8039859   49.56347884\n",
      "  54.32643416  57.52773904  60.36003731  62.99532704  65.43458547\n",
      "  67.82910224  70.1041639   72.16151327  74.15746023  75.74478932\n",
      "  77.25280616  78.68520942  80.05502218  81.25627283  82.36456728\n",
      "  83.44883405  84.46545182  85.46627417  86.4034451   87.29597109\n",
      "  88.11190775  88.83198647  89.50943912  90.1678721   90.76544485\n",
      "  91.34184936  91.88739678  92.38234018  92.86520706  93.33285019\n",
      "  93.78859523  94.23467756  94.63323099  95.01318674  95.36270847\n",
      "  95.69626479  96.01170645  96.30888682  96.56420145  96.80475474\n",
      "  97.03328609  97.23941988  97.42897703  97.61554051  97.78427353\n",
      "  97.93944351  98.08818003  98.22313548  98.33031171  98.43416827\n",
      "  98.53328939  98.6288264   98.7133186   98.79275952  98.86910748\n",
      "  98.93941168  99.00341745  99.0648662   99.12138947  99.17505735\n",
      "  99.22818871  99.27753475  99.32174712  99.36306824  99.40151556\n",
      "  99.43852772  99.47325582  99.50642342  99.53803014  99.56646037\n",
      "  99.5930642   99.61724664  99.64050699  99.66214328  99.68155807\n",
      "  99.7006898   99.7184354   99.73513247  99.75115767  99.76631388\n",
      "  99.78093511  99.79432084  99.80684589  99.81895527  99.83055721\n",
      "  99.84166748  99.85237234  99.8629395   99.87265186  99.88221609\n",
      "  99.89156899  99.90069553  99.90944067  99.9177228   99.92561091\n",
      "  99.933248    99.94070192  99.94785148  99.95403335  99.9601746\n",
      "  99.96537798  99.96999672  99.97386319  99.97750355  99.9808853\n",
      "  99.98361239  99.98589701  99.98798915  99.98993739  99.99159557\n",
      "  99.99321008  99.99440343  99.99534723  99.9960516   99.99663051\n",
      "  99.99717207  99.99765184  99.99804763  99.99839324  99.99867347\n",
      "  99.99894191  99.99918632  99.99932704  99.99944437  99.99953407\n",
      "  99.99960829  99.99967982  99.99974635  99.99980321  99.9998521\n",
      "  99.99989102  99.99992293  99.99994788  99.9999655   99.99997827\n",
      "  99.99998864  99.99999489  99.99999732  99.99999882  99.99999999\n",
      " 100.         100.         100.         100.         100.\n",
      " 100.         100.         100.         100.         100.\n",
      " 100.         100.         100.         100.         100.\n",
      " 100.         100.        ]\n"
     ]
    }
   ],
   "source": [
    "# PCA implementation\n",
    "pca = PCA().fit(Ford_0)\n",
    "fig, ax = plt.subplots(figsize=(12,8))\n",
    "\n",
    "# Display cumulated explained variance ratio\n",
    "plt.plot(np.cumsum(pca.explained_variance_ratio_))\n",
    "plt.title('Cumulative Explained Variance Ratio', fontsize=16)\n",
    "plt.xlabel('Number of Components', fontsize=(15))\n",
    "plt.ylabel('Variance (%)', fontsize=(15)) \n",
    "\n",
    "annotation = 29\n",
    "plt.axvline(annotation, color='r', linestyle='--')\n",
    "plt.annotate('~ 90% Explained Variance', xy=(annotation, 0.8), xytext=(annotation, 0.9))\n",
    "\n",
    "ax.spines[['top', 'right']].set_visible(False)\n",
    "\n",
    "plt.show()\n",
    "\n",
    "print(np.cumsum(pca.explained_variance_ratio_) * 100) \n"
   ]
  },
  {
   "cell_type": "markdown",
   "metadata": {},
   "source": [
    "From the graph depicted above, we can apply a PCA decomposition on our origional feature data and with using only 29 principal components explain approximately ~90% of the variance of our target.\n",
    "\n",
    "In the third and final approach mentioned, we look to blend the two feature selection strategies by running a PCA decomposition, but only on the N best features found using SelectKbest. The rationale behind this blended strategy is that if we look at the bottom half of the SelectKBest results (presented above), we notice that many of the features are marginally significant in explaining the target. It could be the case that including features which have little explanitory power is causing more harm than good. Mainly, thier inclusion could introduce more noise than predicitve power. Thus, by only selecting features which have a relitively stronger and significant relationship to the target we can have greater confidence that we are mitigating the inculsion of noisy features."
   ]
  },
  {
   "cell_type": "code",
   "execution_count": 6,
   "metadata": {},
   "outputs": [
    {
     "name": "stderr",
     "output_type": "stream",
     "text": [
      "c:\\Users\\alexa\\AppData\\Local\\Programs\\Python\\Python39\\lib\\site-packages\\sklearn\\feature_selection\\_univariate_selection.py:302: RuntimeWarning: invalid value encountered in true_divide\n",
      "  corr /= X_norms\n"
     ]
    }
   ],
   "source": [
    "# Apply SelectKBest class to extract top 40 best features\n",
    "bestfeatures = SelectKBest(score_func=f_regression, k=41)\n",
    "best_fit = bestfeatures.fit(Ford_0, target_3_0)\n",
    "best_scores = pd.DataFrame(best_fit.scores_)\n",
    "best_columns = pd.DataFrame(Ford_0.columns)\n",
    "\n",
    "# Concatenate the dataframes for better visualization\n",
    "features_score = pd.concat([best_columns, best_scores], axis=1)\n",
    "features_score.columns = ['Features', 'Score'] \n",
    "feats_kb = list(features_score.nlargest(41, 'Score').iloc[1:41]['Features'])\n",
    "\n",
    "# Keep only the top 40 features\n",
    "Ford_best = Ford_0[feats_kb]"
   ]
  },
  {
   "cell_type": "code",
   "execution_count": 184,
   "metadata": {},
   "outputs": [
    {
     "data": {
      "image/png": "[encoded data removed]",
      "text/plain": [
       "<Figure size 864x576 with 1 Axes>"
      ]
     },
     "metadata": {
      "needs_background": "light"
     },
     "output_type": "display_data"
    },
    {
     "name": "stdout",
     "output_type": "stream",
     "text": [
      "[ 17.70747223  34.68033139  45.29003853  53.36039847  60.20281895\n",
      "  66.77182757  73.15808383  78.13339596  81.74622545  84.96194723\n",
      "  87.49526292  89.946743    92.22990157  94.43213885  95.83029608\n",
      "  96.99276953  97.66773605  98.27514108  98.82005779  99.11936491\n",
      "  99.28992001  99.43904401  99.58304976  99.68102714  99.7744482\n",
      "  99.83968806  99.89126222  99.92826366  99.95974658  99.98931676\n",
      "  99.99630461  99.998119    99.99887178  99.99930094  99.99962716\n",
      "  99.99987783 100.         100.         100.         100.        ]\n"
     ]
    }
   ],
   "source": [
    "# PCA implementation\n",
    "pca = PCA().fit(Ford_best)\n",
    "fig, ax = plt.subplots(figsize=(12,8))\n",
    "\n",
    "# Display cumulated explained variance ratio\n",
    "plt.plot(np.cumsum(pca.explained_variance_ratio_))\n",
    "plt.title('Cumulative Explained Variance Ratio (SelectKBest)', fontsize=16)\n",
    "plt.xlabel('Number of Components', fontsize=(15))\n",
    "plt.ylabel('Variance (%)', fontsize=(15)) \n",
    "\n",
    "annotation = 12\n",
    "plt.axvline(annotation, color='r', linestyle='--')\n",
    "plt.annotate('~ 90% Explained Variance', xy=(annotation, 0.8), xytext=(annotation, 0.91))\n",
    "\n",
    "ax.spines[['top', 'right']].set_visible(False)\n",
    "\n",
    "plt.show()\n",
    "\n",
    "print(np.cumsum(pca.explained_variance_ratio_) * 100) "
   ]
  },
  {
   "cell_type": "markdown",
   "metadata": {},
   "source": [
    "When using a PCA transform on the features found from SelectKBest, it is possible to explain ~90% of the variance with far fewer principal components. "
   ]
  },
  {
   "cell_type": "markdown",
   "metadata": {},
   "source": [
    "### 4. Model Development and Testing"
   ]
  },
  {
   "cell_type": "markdown",
   "metadata": {},
   "source": [
    "In the previous section we reviewed a few of the possible feature selection techniques used by machine learning practitioners. In this section we will dive into model development and testing, where we begin to see the fruits of our computers labor. One thing to note is that each of the three algorthms presented (Random Forest, CNN'S, and RNN's) were tested using each of the feature selection methodologies. We felt that this approach would allow us to be comprehesive in finding optimal results, while also added an experimetnal element to model development. That being said, trialing feature selection approaches resulted in many models being created. In an effort to reduce unnecesary confusion, we will only present the models which generated the best results and the processes undertaken to arrive at them. Additionally, the following section will only present the code used in the development of Fords models. Results for Netlifx and UBS will be presented, however, for brevity the code will not be included. Additional code can be found on the project GitHub repository (https://github.com/fabcabrera/Stock-Predictions). "
   ]
  },
  {
   "cell_type": "markdown",
   "metadata": {},
   "source": [
    "#### 4.1 Random Forest\n",
    "\n",
    "Random forest uses several decision trees and takes the mean output of all the trees as the result. Each tree is trained randomly on a subset of the input data. Doing this removes the issue of over-training and allows for more features for a smaller performance cost (Kam Ho, 1995). \n",
    "Decision trees are flowcharts that depict outcome probabilities depending on given variables. The problem of creating such trees optimally is nondeterministic-polynomial-time complete (Hyafil, 1976) but approximate methods do exist. For example, induction of decision is a common method. With this method the set of input is divided based on some output value being above a threshold that is random. Then an input variable is chosen and a threshold set so that as many values are classified correctly as possible. This process continues recursively until all the data is classified in a correct way, or no improvement can be made (Ross Quinlan, 1986).\n",
    "\n",
    "The following code will work through the steps taken to build our random forest. "
   ]
  },
  {
   "cell_type": "code",
   "execution_count": 7,
   "metadata": {},
   "outputs": [],
   "source": [
    "# Drop NaNs\n",
    "Ford = Ford.dropna()\n",
    "Ford = Ford[~(Ford.isin([np.inf, -np.inf]).any(axis=1))] \n",
    "\n",
    "# Generate target vector and feature matirx \n",
    "target_3 = Ford[\"target_3\"]\n",
    "Ford = Ford.drop(['target_1', 'target_2', 'target_4', 'target_5'], axis=1)\n",
    "\n",
    "# Split into training and testing sets \n",
    "column_indices = {name: i for i, name in enumerate(Ford.columns)}\n",
    "\n",
    "n = len(Ford)\n",
    "\n",
    "X_train = Ford[0:int(n*0.9)]\n",
    "X_test = Ford[int(n*0.9):]\n",
    "\n",
    "y_train = target_3[0:int(n*0.9)]\n",
    "y_test = target_3[int(n*0.9):]"
   ]
  },
  {
   "cell_type": "code",
   "execution_count": 8,
   "metadata": {},
   "outputs": [
    {
     "name": "stdout",
     "output_type": "stream",
     "text": [
      "target_3\n",
      "0    330\n",
      "1    308\n",
      "Name: target_3, dtype: int64\n"
     ]
    }
   ],
   "source": [
    "# Print distirbution of target variable\n",
    "counts = y_train.groupby(by = y_train).count()\n",
    "counts = pd.Series(counts)\n",
    "print(counts)"
   ]
  },
  {
   "cell_type": "code",
   "execution_count": 9,
   "metadata": {},
   "outputs": [],
   "source": [
    "# Standardize the data\n",
    "Mscaler = MinMaxScaler() \n",
    "\n",
    "X_train = pd.DataFrame(Mscaler.fit_transform(X_train), columns = Ford.columns)\n",
    "X_test = pd.DataFrame(Mscaler.fit_transform(X_test), columns = Ford.columns)"
   ]
  },
  {
   "cell_type": "code",
   "execution_count": 10,
   "metadata": {},
   "outputs": [
    {
     "name": "stderr",
     "output_type": "stream",
     "text": [
      "c:\\Users\\alexa\\AppData\\Local\\Programs\\Python\\Python39\\lib\\site-packages\\sklearn\\feature_selection\\_univariate_selection.py:302: RuntimeWarning: invalid value encountered in true_divide\n",
      "  corr /= X_norms\n"
     ]
    }
   ],
   "source": [
    "# Apply SelectKBest class to extract top 40 best features\n",
    "bestfeatures = SelectKBest(score_func=f_regression, k=41)\n",
    "best_fit = bestfeatures.fit(X_train, y_train)\n",
    "best_scores = pd.DataFrame(best_fit.scores_)\n",
    "best_columns = pd.DataFrame(Ford.columns)\n",
    "\n",
    "# Concatenate the dataframes for better visualization\n",
    "features_score = pd.concat([best_columns, best_scores], axis=1)\n",
    "features_score.columns = ['Features', 'Score'] \n",
    "feats_kb = list(features_score.nlargest(41, 'Score').iloc[1:41]['Features'])\n",
    "\n",
    "# Set SelectKBest to train and test data\n",
    "X_train_kb = X_train[feats_kb]\n",
    "X_test_kb = X_test[feats_kb]\n",
    "\n",
    "# Apply PCA to the training and testing data\n",
    "pca_kb = PCA(n_components = 12).fit(X_train_kb.to_numpy())\n",
    "X_train_kb = pca_kb.transform(X_train_kb.to_numpy())\n",
    "X_test_kb = pca_kb.transform(X_test_kb.to_numpy())"
   ]
  },
  {
   "cell_type": "code",
   "execution_count": 11,
   "metadata": {},
   "outputs": [
    {
     "name": "stdout",
     "output_type": "stream",
     "text": [
      "Fitting 10 folds for each of 100 candidates, totalling 1000 fits\n"
     ]
    }
   ],
   "source": [
    "# Build Random Forest classifier\n",
    "random_search = {'criterion': ['entropy', 'gini'],\n",
    "               'max_depth': list(np.linspace(10, 1200, 10, dtype = int)) + [None],\n",
    "               'max_features': ['auto', 'sqrt','log2', None],\n",
    "               'min_samples_leaf': [4, 6, 8, 12],\n",
    "               'min_samples_split': [5, 7, 10, 14],\n",
    "               'n_estimators': list(np.linspace(10, 1200, 15, dtype = int))}\n",
    "\n",
    "clf = RandomForestClassifier()\n",
    "model_kb = RandomizedSearchCV(estimator = clf, param_distributions = random_search, n_iter = 100, \n",
    "                               cv = 10, verbose= 5, random_state= 101, n_jobs = -1)\n",
    "                \n",
    "model_kb.fit(X_train_kb,y_train)\n",
    "\n",
    "model_kb.best_params_\n",
    "\n",
    "y_kb_hat = model_kb.best_estimator_.predict(X_test_kb)"
   ]
  },
  {
   "cell_type": "code",
   "execution_count": 190,
   "metadata": {},
   "outputs": [
    {
     "name": "stdout",
     "output_type": "stream",
     "text": [
      "Random Forest Accuracy with SelectKBest features: 45.07%\n"
     ]
    }
   ],
   "source": [
    "print(\"Random Forest Accuracy with SelectKBest features: {}%\".format(accuracy_score(y_test, y_kb_hat).round(4)*100))"
   ]
  },
  {
   "cell_type": "markdown",
   "metadata": {},
   "source": [
    "Using the SelectKBest to determine the 40 most significant features, our random forest model returns an accuracy score or 57%. With the basic model structure down, we can next begin to test various hyperparamters in hopes of improving the models predictive accuracy. The next set of models will be tested using varying amounts of input features from SelectKBest. By testing several models with different numbers of features we can begin to hypothesize which models are out performing others and whether this is a function of our input shape. "
   ]
  },
  {
   "cell_type": "code",
   "execution_count": 191,
   "metadata": {},
   "outputs": [],
   "source": [
    "def kbest_creator(k, df, df_test):\n",
    "    \"\"\"\n",
    "    Returns list of k best features and the number of efficient principle components to use with said k features\n",
    "    \"\"\"\n",
    "    # Apply SelectKBest class to extract top 40 best features\n",
    "    bestfeatures = SelectKBest(score_func=f_regression, k=k)\n",
    "    best_fit = bestfeatures.fit(df, y_train)\n",
    "    best_scores = pd.DataFrame(best_fit.scores_)\n",
    "    best_columns = pd.DataFrame(Ford.columns)\n",
    "    \n",
    "    # Concatenate the dataframes for better visualization\n",
    "    features_score = pd.concat([best_columns, best_scores], axis=1)\n",
    "    features_score.columns = ['Features', 'Score']  # naming the dataframe columns\n",
    "    feats_kb = list(features_score.nlargest(k, 'Score').iloc[1:k]['Features'])\n",
    "\n",
    "    # Run PCA decomposition on the K best features\n",
    "    pca = PCA().fit(df[feats_kb])\n",
    "    pca_scores = np.cumsum(pca.explained_variance_ratio_) * 100\n",
    "    res = next(x for x, val in enumerate(pca_scores) if val > 90) \n",
    "    res = res + 1\n",
    "    res\n",
    "    \n",
    "    pca_kb_1 = PCA(n_components = res).fit(df[feats_kb].to_numpy())\n",
    "    df = pca_kb_1.transform(df[feats_kb].to_numpy())\n",
    "    df_test = pca_kb_1.transform(df_test[feats_kb].to_numpy())\n",
    "    \n",
    "    return df, df_test"
   ]
  },
  {
   "cell_type": "code",
   "execution_count": 192,
   "metadata": {},
   "outputs": [
    {
     "name": "stderr",
     "output_type": "stream",
     "text": [
      "C:\\Users\\alexa\\AppData\\Local\\Programs\\Python\\Python39\\lib\\site-packages\\sklearn\\feature_selection\\_univariate_selection.py:302: RuntimeWarning: invalid value encountered in true_divide\n",
      "  corr /= X_norms\n",
      "C:\\Users\\alexa\\AppData\\Local\\Programs\\Python\\Python39\\lib\\site-packages\\sklearn\\feature_selection\\_univariate_selection.py:302: RuntimeWarning: invalid value encountered in true_divide\n",
      "  corr /= X_norms\n",
      "C:\\Users\\alexa\\AppData\\Local\\Programs\\Python\\Python39\\lib\\site-packages\\sklearn\\feature_selection\\_univariate_selection.py:302: RuntimeWarning: invalid value encountered in true_divide\n",
      "  corr /= X_norms\n"
     ]
    }
   ],
   "source": [
    "# Create train and test data with varying number of K best features\n",
    "X_train_kb_1, X_test_kb_1, = kbest_creator(11, X_train, X_test)\n",
    "X_train_kb_2, X_test_kb_2, = kbest_creator(26, X_train, X_test)\n",
    "X_train_kb_3, X_test_kb_3, = kbest_creator(76, X_train, X_test)"
   ]
  },
  {
   "cell_type": "code",
   "execution_count": 193,
   "metadata": {},
   "outputs": [
    {
     "name": "stdout",
     "output_type": "stream",
     "text": [
      "Fitting 10 folds for each of 100 candidates, totalling 1000 fits\n"
     ]
    }
   ],
   "source": [
    "# Test using 11 K best features\n",
    "random_search = {'criterion': ['entropy', 'gini'],\n",
    "               'max_depth': list(np.linspace(10, 1200, 10, dtype = int)) + [None],\n",
    "               'max_features': ['auto', 'sqrt','log2', None],\n",
    "               'min_samples_leaf': [4, 6, 8, 12],\n",
    "               'min_samples_split': [5, 7, 10, 14],\n",
    "               'n_estimators': list(np.linspace(10, 1200, 15, dtype = int))}\n",
    "clf = RandomForestClassifier()\n",
    "model1 = RandomizedSearchCV(estimator = clf, param_distributions = random_search, n_iter = 100, \n",
    "                               cv = 10, verbose= 5, random_state= 101, n_jobs = -1)\n",
    "model_kb1 = RandomizedSearchCV(estimator = clf, param_distributions = random_search, n_iter = 100, \n",
    "                               cv = 10, verbose= 5, random_state= 101, n_jobs = -1)\n",
    "\n",
    "model_kb1.fit(X_train_kb_1,y_train)\n",
    "\n",
    "y_kb_hat_1 = model_kb1.best_estimator_.predict(X_test_kb_1)"
   ]
  },
  {
   "cell_type": "code",
   "execution_count": 194,
   "metadata": {},
   "outputs": [
    {
     "name": "stdout",
     "output_type": "stream",
     "text": [
      "Fitting 10 folds for each of 100 candidates, totalling 1000 fits\n"
     ]
    }
   ],
   "source": [
    "# Test using 26 K best features\n",
    "model_kb2 = RandomizedSearchCV(estimator = clf, param_distributions = random_search, n_iter = 100, \n",
    "                               cv = 10, verbose= 5, random_state= 101, n_jobs = -1)\n",
    "model_kb2.fit(X_train_kb_2,y_train)\n",
    "\n",
    "y_kb_hat_2 = model_kb2.best_estimator_.predict(X_test_kb_2)"
   ]
  },
  {
   "cell_type": "code",
   "execution_count": 195,
   "metadata": {},
   "outputs": [
    {
     "name": "stdout",
     "output_type": "stream",
     "text": [
      "Fitting 10 folds for each of 100 candidates, totalling 1000 fits\n"
     ]
    }
   ],
   "source": [
    "# Test using 76 K best features\n",
    "model_kb3 = RandomizedSearchCV(estimator = clf, param_distributions = random_search, n_iter = 100, \n",
    "                               cv = 10, verbose= 5, random_state= 101, n_jobs = -1)\n",
    "model_kb3.fit(X_train_kb_3,y_train)\n",
    "\n",
    "y_kb_hat_3 = model_kb3.best_estimator_.predict(X_test_kb_3)"
   ]
  },
  {
   "cell_type": "code",
   "execution_count": 100,
   "metadata": {},
   "outputs": [
    {
     "name": "stdout",
     "output_type": "stream",
     "text": [
      "Random Forest Accuracy with 11 SelectKBest features: 45.07%\n",
      "Random Forest Accuracy with 26 SelectKBest features: 60.56%\n",
      "Random Forest Accuracy with 76 SelectKBest features: 57.75%\n"
     ]
    }
   ],
   "source": [
    "print(\"Random Forest Accuracy with 11 SelectKBest features: {}%\".format(accuracy_score(y_test, y_kb_hat_1).round(4)*100))\n",
    "print(\"Random Forest Accuracy with 26 SelectKBest features: {}%\".format(accuracy_score(y_test, y_kb_hat_2).round(4)*100))\n",
    "print(\"Random Forest Accuracy with 76 SelectKBest features: {}%\".format(accuracy_score(y_test, y_kb_hat_3).round(4)*100))"
   ]
  },
  {
   "cell_type": "markdown",
   "metadata": {},
   "source": [
    "While it may not be much, after a little hyperparamter tuning, we are able to increase our random forest models prediction accuracy to a modest 60%. What is interesting to note from the results is the 15% increase in the models accuracy when we go from including 11 to 26 features. However, the rate in which accuracy increases with the number of features included seems to be diminishing since the jump from 26 to 76 features leads to a decrease in model performance. This reaffirms the notion that including features with marginal explanatory power are harmful to model performance.     "
   ]
  },
  {
   "cell_type": "markdown",
   "metadata": {},
   "source": [
    "Moreover, we run the random forest model for UBS and Netflix, and after doing hyperparameter tuning and applying the K best features, we obtained the following results:"
   ]
  },
  {
   "cell_type": "markdown",
   "metadata": {},
   "source": [
    "##### UBS\n",
    "        Random Forest Accuracy with 11 SelectKBest features: 66.67%\n",
    "        Random Forest Accuracy with 26 SelectKBest features: 48.0%\n",
    "        Random Forest Accuracy with 76 SelectKBest features: 46.67%"
   ]
  },
  {
   "cell_type": "markdown",
   "metadata": {},
   "source": [
    "Thus, we could argue that random forest prediction model has the highest accuracy when selecting 11 K best features. The result yields a 66.67% accuracy. Then, as we increase the selection of K best features, we can see that our accuracy drops by almost 15%. The random forest accuracy with 26 K best features is 48%, whereas model with 76 K best features is 46.67%. Therefore, we could say that the random forest prediction model has a better accuracy for UBS data than for Ford data. "
   ]
  },
  {
   "cell_type": "markdown",
   "metadata": {},
   "source": [
    "##### Netflix\n",
    "        Random Forest Accuracy with 11 SelectKBest features: 45.07%\n",
    "        Random Forest Accuracy with 26 SelectKBest features: 60.56%\n",
    "        Random Forest Accuracy with 76 SelectKBest features: 57.75%"
   ]
  },
  {
   "cell_type": "markdown",
   "metadata": {},
   "source": [
    "* note that these are not the results yet. I'll add a little description once my code runs entirely"
   ]
  },
  {
   "cell_type": "markdown",
   "metadata": {},
   "source": [
    "#### 4.2 Convolutional Neural Network (CNN)"
   ]
  },
  {
   "cell_type": "markdown",
   "metadata": {},
   "source": [
    "As the title suggests, the next classification algorithm we will explore applying is the convolutional neural network (CNN). Typically used for classifcation problems related to images, speech, or audio, CNN's also perform well in inter-temporal settings. What is unique about CNN architecture is the use of a convolutional layer, pooling layer, and fully connected layer. Below is an image which visually displays how each of the layers works. While we could spend a fair amount of time getting deep in the weeds of how each of these exciting layers functions, let's press forward with the application to better understand how it preforms relative to the random forest models."
   ]
  },
  {
   "cell_type": "code",
   "execution_count": 15,
   "metadata": {},
   "outputs": [
    {
     "data": {
      "image/png": "[encoded data removed]",
      "text/plain": [
       "<IPython.core.display.Image object>"
      ]
     },
     "execution_count": 15,
     "metadata": {
      "image/png": {
       "height": 400,
       "width": 1000
      }
     },
     "output_type": "execute_result"
    }
   ],
   "source": [
    "Image(filename = 'CNN_1.png', width = 1000, height = 400)"
   ]
  },
  {
   "cell_type": "markdown",
   "metadata": {},
   "source": [
    "We'll begin by creating our train, test, and validation datasets in a similar fashion and also standardize the data using MinMaxScaler. "
   ]
  },
  {
   "cell_type": "code",
   "execution_count": 46,
   "metadata": {},
   "outputs": [],
   "source": [
    "# Create train, validation and test data \n",
    "column_indices = {name: i for i, name in enumerate(Ford.columns)}\n",
    "\n",
    "n = len(Ford)\n",
    "X_train = Ford[0:int(n*0.7)]\n",
    "X_val = Ford[int(n*0.7):int(n*0.9)]\n",
    "X_test = Ford[int(n*0.9):]\n",
    "\n",
    "y_train = target_3[0:int(n*0.7)]\n",
    "y_val = target_3[int(n*0.7):int(n*0.9)]\n",
    "y_test = target_3[int(n*0.9):]"
   ]
  },
  {
   "cell_type": "code",
   "execution_count": 47,
   "metadata": {},
   "outputs": [],
   "source": [
    "# Standardize the data using MinMaxScaler\n",
    "X_train = pd.DataFrame(Mscaler.fit_transform(X_train), columns = Ford.columns)\n",
    "X_val = pd.DataFrame(Mscaler.fit_transform(X_val), columns = Ford.columns)\n",
    "X_test = pd.DataFrame(Mscaler.fit_transform(X_test), columns = Ford.columns)"
   ]
  },
  {
   "cell_type": "markdown",
   "metadata": {},
   "source": [
    "Here is where the CNN application methods differ from the random forest. In a time-series application of the CNN, it is necessary to create windows for future prediction. Since we are looking to make a prediction about whether a stocks closing price increased or decreased tomorrow relative to today, we will use intervals of data to predict subsequent data. In the code below we create a window of length five. Window length can be picked arbitrarily and is generally tested at varying lengths."
   ]
  },
  {
   "cell_type": "code",
   "execution_count": 48,
   "metadata": {},
   "outputs": [],
   "source": [
    "def df_to_X_y2(df, target, window_size=5):\n",
    "    \"\"\"\n",
    "    Generates a a timeseries window to all for prediction of future values. \n",
    "    \"\"\"\n",
    "    # converts to matrix of numpy arrays  \n",
    "    df_as_np = df.to_numpy() \n",
    "\n",
    "    X = []\n",
    "    y = []\n",
    "\n",
    "    # Length of data frame - window_size so it does't take empty values at the end\n",
    "    for i in range(len(df_as_np)-window_size): \n",
    "    \n",
    "        # Takes row i and all rows above within the window size length\n",
    "        row = [r for r in df_as_np[i:i+window_size]] \n",
    "\n",
    "        # Creates 3 dimentional array (obseravtions, rows in window, features)\n",
    "        X.append(row)\n",
    "\n",
    "        # Pulls the target variable after the window, target varible needs to be column zero in this \n",
    "        label = target[i+window_size] \n",
    "\n",
    "        # returns (N,) martix of targets i+window_length time periods away\n",
    "        y.append(label) \n",
    "\n",
    "    return np.array(X), np.array(y)"
   ]
  },
  {
   "cell_type": "code",
   "execution_count": 49,
   "metadata": {},
   "outputs": [],
   "source": [
    "def kbest_creator(k):\n",
    "    \"\"\"\n",
    "    Returns list of k best features and the number of efficient principle compents to use with said k features.\n",
    "    Differs from the kbest_creator function in the random forest section where the only paramter now\n",
    "    is k.\n",
    "    \"\"\"\n",
    "    # Apply SelectKBest class to extract top 40 best features\n",
    "    bestfeatures = SelectKBest(score_func=f_regression, k=k)\n",
    "    best_fit = bestfeatures.fit(X_train, y_train)\n",
    "    best_scores = pd.DataFrame(best_fit.scores_)\n",
    "    best_columns = pd.DataFrame(Ford.columns)\n",
    "    \n",
    "    # Concatenate the dataframes for better visualization\n",
    "    features_score = pd.concat([best_columns, best_scores], axis=1)\n",
    "    features_score.columns = ['Features', 'Score']  # naming the dataframe columns\n",
    "    feats = list(features_score.nlargest(k, 'Score')['Features'])\n",
    "\n",
    "    # Run PCA decomposition on the K best features\n",
    "    pca = PCA().fit(X_train[feats])\n",
    "    pca_scores = np.cumsum(pca.explained_variance_ratio_) * 100\n",
    "    res = next(x for x, val in enumerate(pca_scores) if val > 90) # update to 90 and rerun models \n",
    "    res = res +1\n",
    "    res\n",
    "    \n",
    "    return feats, res"
   ]
  },
  {
   "cell_type": "code",
   "execution_count": 58,
   "metadata": {},
   "outputs": [
    {
     "name": "stderr",
     "output_type": "stream",
     "text": [
      "c:\\Users\\alexa\\AppData\\Local\\Programs\\Python\\Python39\\lib\\site-packages\\sklearn\\feature_selection\\_univariate_selection.py:302: RuntimeWarning: invalid value encountered in true_divide\n",
      "  corr /= X_norms\n"
     ]
    }
   ],
   "source": [
    "feats, comp = kbest_creator(10)\n",
    "\n",
    "sklearn_pca = PCA(n_components=comp)\n",
    "X_train_1 = pd.DataFrame(sklearn_pca.fit_transform(X_train[feats]))\n",
    "X_val_1 = pd.DataFrame(sklearn_pca.transform(X_val[feats]))\n",
    "X_test_1 = pd.DataFrame(sklearn_pca.transform(X_test[feats]))\n",
    "\n",
    "# converting to window format, in this case 5 periods\n",
    "X_train_1, train_5w = df_to_X_y2(X_train_1,y_train)\n",
    "X_val_1, val_5w = df_to_X_y2(X_val_1, y_val)\n",
    "X_test_1, test_5w = df_to_X_y2(X_test_1, y_test)"
   ]
  },
  {
   "cell_type": "markdown",
   "metadata": {},
   "source": [
    "Through the use of our window and PCA function, we can see that our train, validation, and test data are now three dimensional arrays. The first dimension corresponds to number of observations, the second is window length, and third is number of features or in this case, principal components."
   ]
  },
  {
   "cell_type": "code",
   "execution_count": 59,
   "metadata": {},
   "outputs": [
    {
     "name": "stdout",
     "output_type": "stream",
     "text": [
      "(491, 5, 4) (137, 5, 4) (66, 5, 4)\n"
     ]
    }
   ],
   "source": [
    "print(X_train_1.shape, X_val_1.shape, X_test_1.shape)"
   ]
  },
  {
   "cell_type": "code",
   "execution_count": 60,
   "metadata": {},
   "outputs": [
    {
     "name": "stdout",
     "output_type": "stream",
     "text": [
      "Epoch 1/30\n"
     ]
    },
    {
     "name": "stderr",
     "output_type": "stream",
     "text": [
      "c:\\Users\\alexa\\AppData\\Local\\Programs\\Python\\Python39\\lib\\site-packages\\tensorflow\\python\\util\\dispatch.py:1082: UserWarning: \"`binary_crossentropy` received `from_logits=True`, but the `output` argument was produced by a sigmoid or softmax activation and thus does not represent logits. Was this intended?\"\n",
      "  return dispatch_target(*args, **kwargs)\n"
     ]
    },
    {
     "name": "stdout",
     "output_type": "stream",
     "text": [
      "16/16 [==============================] - 1s 9ms/step - loss: 0.6937 - accuracy: 0.5112 - val_loss: 0.6959 - val_accuracy: 0.5255\n",
      "Epoch 2/30\n",
      "16/16 [==============================] - 0s 3ms/step - loss: 0.6891 - accuracy: 0.5418 - val_loss: 0.7000 - val_accuracy: 0.4891\n",
      "Epoch 3/30\n",
      "16/16 [==============================] - 0s 4ms/step - loss: 0.6854 - accuracy: 0.5519 - val_loss: 0.7032 - val_accuracy: 0.4818\n",
      "Epoch 4/30\n",
      "16/16 [==============================] - 0s 3ms/step - loss: 0.6819 - accuracy: 0.5458 - val_loss: 0.7066 - val_accuracy: 0.4891\n",
      "Epoch 5/30\n",
      "16/16 [==============================] - 0s 3ms/step - loss: 0.6781 - accuracy: 0.5662 - val_loss: 0.7135 - val_accuracy: 0.4745\n",
      "Epoch 6/30\n",
      "16/16 [==============================] - 0s 3ms/step - loss: 0.6741 - accuracy: 0.5947 - val_loss: 0.7181 - val_accuracy: 0.4453\n",
      "Epoch 7/30\n",
      "16/16 [==============================] - 0s 3ms/step - loss: 0.6698 - accuracy: 0.5947 - val_loss: 0.7278 - val_accuracy: 0.4380\n",
      "Epoch 8/30\n",
      "16/16 [==============================] - 0s 3ms/step - loss: 0.6646 - accuracy: 0.6049 - val_loss: 0.7397 - val_accuracy: 0.4234\n"
     ]
    },
    {
     "data": {
      "text/plain": [
       "<keras.callbacks.History at 0x2880877cb50>"
      ]
     },
     "execution_count": 60,
     "metadata": {},
     "output_type": "execute_result"
    }
   ],
   "source": [
    "# Construct the CNN model\n",
    "early_stopping_monitor = EarlyStopping(patience=7)\n",
    "\n",
    "# Window and feature dimensions\n",
    "n_steps = X_train_1.shape[1]\n",
    "n_features = X_train_1.shape[2]\n",
    "\n",
    "model1_2 = Sequential()\n",
    "model1_2.add(Conv1D(filters=64, kernel_size=2, activation='relu', input_shape=(n_steps,n_features))) \n",
    "model1_2.add(Conv1D(filters=15, kernel_size=2, activation='relu'))\n",
    "# better without pooling layer\n",
    "model1_2.add(Flatten())\n",
    "model1_2.add(Dense(30, activation='relu')) \n",
    "model1_2.add(Dense(30, activation='relu')) \n",
    "model1_2.add(Dense(1, activation='sigmoid'))\n",
    "\n",
    "model1_2.compile(optimizer='adam', \n",
    "                loss=tf.keras.losses.BinaryCrossentropy(from_logits=True),\n",
    "                metrics=[\"accuracy\"])\n",
    "\n",
    "model1_2_hist = model1_2.fit(X_train_1, train_5w,epochs=30,  \n",
    "                            validation_data=(X_val_1, val_5w), \n",
    "                            callbacks = [early_stopping_monitor])\n",
    "\n",
    "model1_2_hist\n"
   ]
  },
  {
   "cell_type": "code",
   "execution_count": 61,
   "metadata": {},
   "outputs": [
    {
     "name": "stdout",
     "output_type": "stream",
     "text": [
      "-----------------------------------------------------------------\n",
      "train accuracy = 61.0998%\n",
      "test accuracy = 54.5455%\n"
     ]
    },
    {
     "data": {
      "image/png": "[encoded data removed]",
      "text/plain": [
       "<Figure size 1296x432 with 2 Axes>"
      ]
     },
     "metadata": {
      "needs_background": "light"
     },
     "output_type": "display_data"
    }
   ],
   "source": [
    "# Predict on test data\n",
    "y_hat1_2 = model1_2.predict(X_test_1)\n",
    "\n",
    "# Find the accuracy of the model. Values greater than 0.5 are considered 1, else 0.\n",
    "y_hat1_2 = y_hat1_2 > .5\n",
    "\n",
    "# Evaluate the model:\n",
    "train_loss, train_acc = model1_2.evaluate(X_train_1, train_5w,\n",
    "                                       batch_size=50, verbose=0)\n",
    "test_loss, test_acc = model1_2.evaluate(X_test_1, test_5w,\n",
    "                                     batch_size=50, verbose=0)\n",
    "print('-'*65)\n",
    "print(f'train accuracy = {round(train_acc * 100, 4)}%')\n",
    "print(f'test accuracy = {round(test_acc * 100, 4)}%')\n",
    "\n",
    "# Plot the loss and accuracy curves over epochs:\n",
    "fig, axs = plt.subplots(nrows=1, ncols=2, figsize=(18,6))\n",
    "\n",
    "axs[0].plot(model1_2_hist.history['loss'], color='b', label='Training loss')\n",
    "axs[0].plot(model1_2_hist.history['val_loss'], color='r', label='Validation loss')\n",
    "\n",
    "axs[0].set_title(\"Loss curves\")\n",
    "axs[0].legend(loc='best', shadow=True)\n",
    "\n",
    "axs[1].plot(model1_2_hist.history['accuracy'], color='b', label='Training accuracy')\n",
    "axs[1].plot(model1_2_hist.history['val_accuracy'], color='r', label='Validation accuracy')\n",
    "axs[1].set_title(\"Accuracy curves\")\n",
    "axs[1].legend(loc='best', shadow=True)\n",
    "\n",
    "plt.show()"
   ]
  },
  {
   "cell_type": "markdown",
   "metadata": {},
   "source": [
    "Depicted in the plots above are the loss curves (left) and accuracy curves (right) for our CNN model. Clearly, there is some serious overfitting taking place. Let's try some hyperparamter tuning to see if we can compress the explosive overfitting."
   ]
  },
  {
   "cell_type": "code",
   "execution_count": 225,
   "metadata": {},
   "outputs": [
    {
     "name": "stdout",
     "output_type": "stream",
     "text": [
      "INFO:tensorflow:Reloading Oracle from existing project .\\untitled_project\\oracle.json\n",
      "\n",
      "Search: Running Trial #1\n",
      "\n",
      "Value             |Best Value So Far |Hyperparameter\n",
      "124               |?                 |units\n",
      "2                 |?                 |tuner/epochs\n",
      "0                 |?                 |tuner/initial_epoch\n",
      "3                 |?                 |tuner/bracket\n",
      "0                 |?                 |tuner/round\n",
      "\n",
      "INFO:tensorflow:Assets written to: ram://257d51c8-aa5a-46a9-afff-ec4b6ecc6974/assets\n"
     ]
    },
    {
     "ename": "ValueError",
     "evalue": "All callbacks used during a search should be deep-copyable (since they are reused across trials). It is not possible to do `copy.deepcopy([<keras.callbacks.EarlyStopping object at 0x000002965B674250>])`",
     "output_type": "error",
     "traceback": [
      "\u001b[1;31m---------------------------------------------------------------------------\u001b[0m",
      "\u001b[1;31mFileNotFoundError\u001b[0m                         Traceback (most recent call last)",
      "\u001b[1;32m~\\AppData\\Local\\Programs\\Python\\Python39\\lib\\site-packages\\keras_tuner\\engine\\tuner.py\u001b[0m in \u001b[0;36m_deepcopy_callbacks\u001b[1;34m(self, callbacks)\u001b[0m\n\u001b[0;32m    367\u001b[0m         \u001b[1;32mtry\u001b[0m\u001b[1;33m:\u001b[0m\u001b[1;33m\u001b[0m\u001b[1;33m\u001b[0m\u001b[0m\n\u001b[1;32m--> 368\u001b[1;33m             \u001b[0mcallbacks\u001b[0m \u001b[1;33m=\u001b[0m \u001b[0mcopy\u001b[0m\u001b[1;33m.\u001b[0m\u001b[0mdeepcopy\u001b[0m\u001b[1;33m(\u001b[0m\u001b[0mcallbacks\u001b[0m\u001b[1;33m)\u001b[0m\u001b[1;33m\u001b[0m\u001b[1;33m\u001b[0m\u001b[0m\n\u001b[0m\u001b[0;32m    369\u001b[0m         \u001b[1;32mexcept\u001b[0m\u001b[1;33m:\u001b[0m\u001b[1;33m\u001b[0m\u001b[1;33m\u001b[0m\u001b[0m\n",
      "\u001b[1;32m~\\AppData\\Local\\Programs\\Python\\Python39\\lib\\copy.py\u001b[0m in \u001b[0;36mdeepcopy\u001b[1;34m(x, memo, _nil)\u001b[0m\n\u001b[0;32m    145\u001b[0m     \u001b[1;32mif\u001b[0m \u001b[0mcopier\u001b[0m \u001b[1;32mis\u001b[0m \u001b[1;32mnot\u001b[0m \u001b[1;32mNone\u001b[0m\u001b[1;33m:\u001b[0m\u001b[1;33m\u001b[0m\u001b[1;33m\u001b[0m\u001b[0m\n\u001b[1;32m--> 146\u001b[1;33m         \u001b[0my\u001b[0m \u001b[1;33m=\u001b[0m \u001b[0mcopier\u001b[0m\u001b[1;33m(\u001b[0m\u001b[0mx\u001b[0m\u001b[1;33m,\u001b[0m \u001b[0mmemo\u001b[0m\u001b[1;33m)\u001b[0m\u001b[1;33m\u001b[0m\u001b[1;33m\u001b[0m\u001b[0m\n\u001b[0m\u001b[0;32m    147\u001b[0m     \u001b[1;32melse\u001b[0m\u001b[1;33m:\u001b[0m\u001b[1;33m\u001b[0m\u001b[1;33m\u001b[0m\u001b[0m\n",
      "\u001b[1;32m~\\AppData\\Local\\Programs\\Python\\Python39\\lib\\copy.py\u001b[0m in \u001b[0;36m_deepcopy_list\u001b[1;34m(x, memo, deepcopy)\u001b[0m\n\u001b[0;32m    204\u001b[0m     \u001b[1;32mfor\u001b[0m \u001b[0ma\u001b[0m \u001b[1;32min\u001b[0m \u001b[0mx\u001b[0m\u001b[1;33m:\u001b[0m\u001b[1;33m\u001b[0m\u001b[1;33m\u001b[0m\u001b[0m\n\u001b[1;32m--> 205\u001b[1;33m         \u001b[0mappend\u001b[0m\u001b[1;33m(\u001b[0m\u001b[0mdeepcopy\u001b[0m\u001b[1;33m(\u001b[0m\u001b[0ma\u001b[0m\u001b[1;33m,\u001b[0m \u001b[0mmemo\u001b[0m\u001b[1;33m)\u001b[0m\u001b[1;33m)\u001b[0m\u001b[1;33m\u001b[0m\u001b[1;33m\u001b[0m\u001b[0m\n\u001b[0m\u001b[0;32m    206\u001b[0m     \u001b[1;32mreturn\u001b[0m \u001b[0my\u001b[0m\u001b[1;33m\u001b[0m\u001b[1;33m\u001b[0m\u001b[0m\n",
      "\u001b[1;32m~\\AppData\\Local\\Programs\\Python\\Python39\\lib\\copy.py\u001b[0m in \u001b[0;36mdeepcopy\u001b[1;34m(x, memo, _nil)\u001b[0m\n\u001b[0;32m    171\u001b[0m                 \u001b[1;32melse\u001b[0m\u001b[1;33m:\u001b[0m\u001b[1;33m\u001b[0m\u001b[1;33m\u001b[0m\u001b[0m\n\u001b[1;32m--> 172\u001b[1;33m                     \u001b[0my\u001b[0m \u001b[1;33m=\u001b[0m \u001b[0m_reconstruct\u001b[0m\u001b[1;33m(\u001b[0m\u001b[0mx\u001b[0m\u001b[1;33m,\u001b[0m \u001b[0mmemo\u001b[0m\u001b[1;33m,\u001b[0m \u001b[1;33m*\u001b[0m\u001b[0mrv\u001b[0m\u001b[1;33m)\u001b[0m\u001b[1;33m\u001b[0m\u001b[1;33m\u001b[0m\u001b[0m\n\u001b[0m\u001b[0;32m    173\u001b[0m \u001b[1;33m\u001b[0m\u001b[0m\n",
      "\u001b[1;32m~\\AppData\\Local\\Programs\\Python\\Python39\\lib\\copy.py\u001b[0m in \u001b[0;36m_reconstruct\u001b[1;34m(x, memo, func, args, state, listiter, dictiter, deepcopy)\u001b[0m\n\u001b[0;32m    269\u001b[0m         \u001b[1;32mif\u001b[0m \u001b[0mdeep\u001b[0m\u001b[1;33m:\u001b[0m\u001b[1;33m\u001b[0m\u001b[1;33m\u001b[0m\u001b[0m\n\u001b[1;32m--> 270\u001b[1;33m             \u001b[0mstate\u001b[0m \u001b[1;33m=\u001b[0m \u001b[0mdeepcopy\u001b[0m\u001b[1;33m(\u001b[0m\u001b[0mstate\u001b[0m\u001b[1;33m,\u001b[0m \u001b[0mmemo\u001b[0m\u001b[1;33m)\u001b[0m\u001b[1;33m\u001b[0m\u001b[1;33m\u001b[0m\u001b[0m\n\u001b[0m\u001b[0;32m    271\u001b[0m         \u001b[1;32mif\u001b[0m \u001b[0mhasattr\u001b[0m\u001b[1;33m(\u001b[0m\u001b[0my\u001b[0m\u001b[1;33m,\u001b[0m \u001b[1;34m'__setstate__'\u001b[0m\u001b[1;33m)\u001b[0m\u001b[1;33m:\u001b[0m\u001b[1;33m\u001b[0m\u001b[1;33m\u001b[0m\u001b[0m\n",
      "\u001b[1;32m~\\AppData\\Local\\Programs\\Python\\Python39\\lib\\copy.py\u001b[0m in \u001b[0;36mdeepcopy\u001b[1;34m(x, memo, _nil)\u001b[0m\n\u001b[0;32m    145\u001b[0m     \u001b[1;32mif\u001b[0m \u001b[0mcopier\u001b[0m \u001b[1;32mis\u001b[0m \u001b[1;32mnot\u001b[0m \u001b[1;32mNone\u001b[0m\u001b[1;33m:\u001b[0m\u001b[1;33m\u001b[0m\u001b[1;33m\u001b[0m\u001b[0m\n\u001b[1;32m--> 146\u001b[1;33m         \u001b[0my\u001b[0m \u001b[1;33m=\u001b[0m \u001b[0mcopier\u001b[0m\u001b[1;33m(\u001b[0m\u001b[0mx\u001b[0m\u001b[1;33m,\u001b[0m \u001b[0mmemo\u001b[0m\u001b[1;33m)\u001b[0m\u001b[1;33m\u001b[0m\u001b[1;33m\u001b[0m\u001b[0m\n\u001b[0m\u001b[0;32m    147\u001b[0m     \u001b[1;32melse\u001b[0m\u001b[1;33m:\u001b[0m\u001b[1;33m\u001b[0m\u001b[1;33m\u001b[0m\u001b[0m\n",
      "\u001b[1;32m~\\AppData\\Local\\Programs\\Python\\Python39\\lib\\copy.py\u001b[0m in \u001b[0;36m_deepcopy_dict\u001b[1;34m(x, memo, deepcopy)\u001b[0m\n\u001b[0;32m    229\u001b[0m     \u001b[1;32mfor\u001b[0m \u001b[0mkey\u001b[0m\u001b[1;33m,\u001b[0m \u001b[0mvalue\u001b[0m \u001b[1;32min\u001b[0m \u001b[0mx\u001b[0m\u001b[1;33m.\u001b[0m\u001b[0mitems\u001b[0m\u001b[1;33m(\u001b[0m\u001b[1;33m)\u001b[0m\u001b[1;33m:\u001b[0m\u001b[1;33m\u001b[0m\u001b[1;33m\u001b[0m\u001b[0m\n\u001b[1;32m--> 230\u001b[1;33m         \u001b[0my\u001b[0m\u001b[1;33m[\u001b[0m\u001b[0mdeepcopy\u001b[0m\u001b[1;33m(\u001b[0m\u001b[0mkey\u001b[0m\u001b[1;33m,\u001b[0m \u001b[0mmemo\u001b[0m\u001b[1;33m)\u001b[0m\u001b[1;33m]\u001b[0m \u001b[1;33m=\u001b[0m \u001b[0mdeepcopy\u001b[0m\u001b[1;33m(\u001b[0m\u001b[0mvalue\u001b[0m\u001b[1;33m,\u001b[0m \u001b[0mmemo\u001b[0m\u001b[1;33m)\u001b[0m\u001b[1;33m\u001b[0m\u001b[1;33m\u001b[0m\u001b[0m\n\u001b[0m\u001b[0;32m    231\u001b[0m     \u001b[1;32mreturn\u001b[0m \u001b[0my\u001b[0m\u001b[1;33m\u001b[0m\u001b[1;33m\u001b[0m\u001b[0m\n",
      "\u001b[1;32m~\\AppData\\Local\\Programs\\Python\\Python39\\lib\\copy.py\u001b[0m in \u001b[0;36mdeepcopy\u001b[1;34m(x, memo, _nil)\u001b[0m\n\u001b[0;32m    152\u001b[0m             \u001b[1;32mif\u001b[0m \u001b[0mcopier\u001b[0m \u001b[1;32mis\u001b[0m \u001b[1;32mnot\u001b[0m \u001b[1;32mNone\u001b[0m\u001b[1;33m:\u001b[0m\u001b[1;33m\u001b[0m\u001b[1;33m\u001b[0m\u001b[0m\n\u001b[1;32m--> 153\u001b[1;33m                 \u001b[0my\u001b[0m \u001b[1;33m=\u001b[0m \u001b[0mcopier\u001b[0m\u001b[1;33m(\u001b[0m\u001b[0mmemo\u001b[0m\u001b[1;33m)\u001b[0m\u001b[1;33m\u001b[0m\u001b[1;33m\u001b[0m\u001b[0m\n\u001b[0m\u001b[0;32m    154\u001b[0m             \u001b[1;32melse\u001b[0m\u001b[1;33m:\u001b[0m\u001b[1;33m\u001b[0m\u001b[1;33m\u001b[0m\u001b[0m\n",
      "\u001b[1;32m~\\AppData\\Local\\Programs\\Python\\Python39\\lib\\site-packages\\keras\\engine\\training.py\u001b[0m in \u001b[0;36m__deepcopy__\u001b[1;34m(self, memo)\u001b[0m\n\u001b[0;32m    327\u001b[0m     \u001b[1;32mif\u001b[0m \u001b[0mself\u001b[0m\u001b[1;33m.\u001b[0m\u001b[0mbuilt\u001b[0m\u001b[1;33m:\u001b[0m\u001b[1;33m\u001b[0m\u001b[1;33m\u001b[0m\u001b[0m\n\u001b[1;32m--> 328\u001b[1;33m       new = pickle_utils.deserialize_model_from_bytecode(\n\u001b[0m\u001b[0;32m    329\u001b[0m           *pickle_utils.serialize_model_as_bytecode(self))\n",
      "\u001b[1;32m~\\AppData\\Local\\Programs\\Python\\Python39\\lib\\site-packages\\keras\\saving\\pickle_utils.py\u001b[0m in \u001b[0;36mdeserialize_model_from_bytecode\u001b[1;34m(serialized_model)\u001b[0m\n\u001b[0;32m     47\u001b[0m           \u001b[0mf\u001b[0m\u001b[1;33m.\u001b[0m\u001b[0mwrite\u001b[0m\u001b[1;33m(\u001b[0m\u001b[0marchive\u001b[0m\u001b[1;33m.\u001b[0m\u001b[0mextractfile\u001b[0m\u001b[1;33m(\u001b[0m\u001b[0mname\u001b[0m\u001b[1;33m)\u001b[0m\u001b[1;33m.\u001b[0m\u001b[0mread\u001b[0m\u001b[1;33m(\u001b[0m\u001b[1;33m)\u001b[0m\u001b[1;33m)\u001b[0m\u001b[1;33m\u001b[0m\u001b[1;33m\u001b[0m\u001b[0m\n\u001b[1;32m---> 48\u001b[1;33m   \u001b[0mmodel\u001b[0m \u001b[1;33m=\u001b[0m \u001b[0msave_module\u001b[0m\u001b[1;33m.\u001b[0m\u001b[0mload_model\u001b[0m\u001b[1;33m(\u001b[0m\u001b[0mtemp_dir\u001b[0m\u001b[1;33m)\u001b[0m\u001b[1;33m\u001b[0m\u001b[1;33m\u001b[0m\u001b[0m\n\u001b[0m\u001b[0;32m     49\u001b[0m   \u001b[0mtf\u001b[0m\u001b[1;33m.\u001b[0m\u001b[0mio\u001b[0m\u001b[1;33m.\u001b[0m\u001b[0mgfile\u001b[0m\u001b[1;33m.\u001b[0m\u001b[0mrmtree\u001b[0m\u001b[1;33m(\u001b[0m\u001b[0mtemp_dir\u001b[0m\u001b[1;33m)\u001b[0m\u001b[1;33m\u001b[0m\u001b[1;33m\u001b[0m\u001b[0m\n",
      "\u001b[1;32m~\\AppData\\Local\\Programs\\Python\\Python39\\lib\\site-packages\\keras\\utils\\traceback_utils.py\u001b[0m in \u001b[0;36merror_handler\u001b[1;34m(*args, **kwargs)\u001b[0m\n\u001b[0;32m     66\u001b[0m       \u001b[0mfiltered_tb\u001b[0m \u001b[1;33m=\u001b[0m \u001b[0m_process_traceback_frames\u001b[0m\u001b[1;33m(\u001b[0m\u001b[0me\u001b[0m\u001b[1;33m.\u001b[0m\u001b[0m__traceback__\u001b[0m\u001b[1;33m)\u001b[0m\u001b[1;33m\u001b[0m\u001b[1;33m\u001b[0m\u001b[0m\n\u001b[1;32m---> 67\u001b[1;33m       \u001b[1;32mraise\u001b[0m \u001b[0me\u001b[0m\u001b[1;33m.\u001b[0m\u001b[0mwith_traceback\u001b[0m\u001b[1;33m(\u001b[0m\u001b[0mfiltered_tb\u001b[0m\u001b[1;33m)\u001b[0m \u001b[1;32mfrom\u001b[0m \u001b[1;32mNone\u001b[0m\u001b[1;33m\u001b[0m\u001b[1;33m\u001b[0m\u001b[0m\n\u001b[0m\u001b[0;32m     68\u001b[0m     \u001b[1;32mfinally\u001b[0m\u001b[1;33m:\u001b[0m\u001b[1;33m\u001b[0m\u001b[1;33m\u001b[0m\u001b[0m\n",
      "\u001b[1;32m~\\AppData\\Local\\Programs\\Python\\Python39\\lib\\site-packages\\tensorflow\\python\\saved_model\\load.py\u001b[0m in \u001b[0;36mload_internal\u001b[1;34m(export_dir, tags, options, loader_cls, filters)\u001b[0m\n\u001b[0;32m    976\u001b[0m       \u001b[1;32mexcept\u001b[0m \u001b[0merrors\u001b[0m\u001b[1;33m.\u001b[0m\u001b[0mNotFoundError\u001b[0m \u001b[1;32mas\u001b[0m \u001b[0merr\u001b[0m\u001b[1;33m:\u001b[0m\u001b[1;33m\u001b[0m\u001b[1;33m\u001b[0m\u001b[0m\n\u001b[1;32m--> 977\u001b[1;33m         raise FileNotFoundError(\n\u001b[0m\u001b[0;32m    978\u001b[0m             \u001b[0mstr\u001b[0m\u001b[1;33m(\u001b[0m\u001b[0merr\u001b[0m\u001b[1;33m)\u001b[0m \u001b[1;33m+\u001b[0m \u001b[1;34m\"\\n You may be trying to load on a different device \"\u001b[0m\u001b[1;33m\u001b[0m\u001b[1;33m\u001b[0m\u001b[0m\n",
      "\u001b[1;31mFileNotFoundError\u001b[0m: Unsuccessful TensorSliceReader constructor: Failed to find any matching files for ram://8bc07f80-b419-4122-bbf7-72b7e55112c5/variables/variables\n You may be trying to load on a different device from the computational device. Consider setting the `experimental_io_device` option in `tf.saved_model.LoadOptions` to the io_device such as '/job:localhost'.",
      "\nDuring handling of the above exception, another exception occurred:\n",
      "\u001b[1;31mValueError\u001b[0m                                Traceback (most recent call last)",
      "\u001b[1;32m~\\AppData\\Local\\Temp/ipykernel_600/2311133028.py\u001b[0m in \u001b[0;36m<module>\u001b[1;34m\u001b[0m\n\u001b[0;32m     26\u001b[0m                      )\n\u001b[0;32m     27\u001b[0m \u001b[1;33m\u001b[0m\u001b[0m\n\u001b[1;32m---> 28\u001b[1;33m \u001b[0mtuner\u001b[0m\u001b[1;33m.\u001b[0m\u001b[0msearch\u001b[0m\u001b[1;33m(\u001b[0m\u001b[0mX_train_1\u001b[0m\u001b[1;33m,\u001b[0m \u001b[0mtrain_5w\u001b[0m\u001b[1;33m,\u001b[0m \u001b[0mepochs\u001b[0m\u001b[1;33m=\u001b[0m\u001b[1;36m50\u001b[0m\u001b[1;33m,\u001b[0m \u001b[0mvalidation_data\u001b[0m\u001b[1;33m=\u001b[0m\u001b[1;33m(\u001b[0m\u001b[0mX_val_1\u001b[0m\u001b[1;33m,\u001b[0m \u001b[0mval_5w\u001b[0m\u001b[1;33m)\u001b[0m\u001b[1;33m,\u001b[0m \u001b[0mcallbacks\u001b[0m \u001b[1;33m=\u001b[0m \u001b[1;33m[\u001b[0m\u001b[0mearly_stopping_monitor\u001b[0m\u001b[1;33m]\u001b[0m\u001b[1;33m)\u001b[0m\u001b[1;33m\u001b[0m\u001b[1;33m\u001b[0m\u001b[0m\n\u001b[0m\u001b[0;32m     29\u001b[0m \u001b[1;33m\u001b[0m\u001b[0m\n\u001b[0;32m     30\u001b[0m \u001b[1;31m#model1_1.fit(X_train_kb_10, train_5w,epochs=30,  validation_data=(X_val_kb_10, val_5w), callbacks = [early_stopping_monitor])\u001b[0m\u001b[1;33m\u001b[0m\u001b[1;33m\u001b[0m\u001b[1;33m\u001b[0m\u001b[0m\n",
      "\u001b[1;32m~\\AppData\\Local\\Programs\\Python\\Python39\\lib\\site-packages\\keras_tuner\\engine\\base_tuner.py\u001b[0m in \u001b[0;36msearch\u001b[1;34m(self, *fit_args, **fit_kwargs)\u001b[0m\n\u001b[0;32m    177\u001b[0m \u001b[1;33m\u001b[0m\u001b[0m\n\u001b[0;32m    178\u001b[0m             \u001b[0mself\u001b[0m\u001b[1;33m.\u001b[0m\u001b[0mon_trial_begin\u001b[0m\u001b[1;33m(\u001b[0m\u001b[0mtrial\u001b[0m\u001b[1;33m)\u001b[0m\u001b[1;33m\u001b[0m\u001b[1;33m\u001b[0m\u001b[0m\n\u001b[1;32m--> 179\u001b[1;33m             \u001b[0mresults\u001b[0m \u001b[1;33m=\u001b[0m \u001b[0mself\u001b[0m\u001b[1;33m.\u001b[0m\u001b[0mrun_trial\u001b[0m\u001b[1;33m(\u001b[0m\u001b[0mtrial\u001b[0m\u001b[1;33m,\u001b[0m \u001b[1;33m*\u001b[0m\u001b[0mfit_args\u001b[0m\u001b[1;33m,\u001b[0m \u001b[1;33m**\u001b[0m\u001b[0mfit_kwargs\u001b[0m\u001b[1;33m)\u001b[0m\u001b[1;33m\u001b[0m\u001b[1;33m\u001b[0m\u001b[0m\n\u001b[0m\u001b[0;32m    180\u001b[0m             \u001b[1;31m# `results` is None indicates user updated oracle in `run_trial()`.\u001b[0m\u001b[1;33m\u001b[0m\u001b[1;33m\u001b[0m\u001b[1;33m\u001b[0m\u001b[0m\n\u001b[0;32m    181\u001b[0m             \u001b[1;32mif\u001b[0m \u001b[0mresults\u001b[0m \u001b[1;32mis\u001b[0m \u001b[1;32mNone\u001b[0m\u001b[1;33m:\u001b[0m\u001b[1;33m\u001b[0m\u001b[1;33m\u001b[0m\u001b[0m\n",
      "\u001b[1;32m~\\AppData\\Local\\Programs\\Python\\Python39\\lib\\site-packages\\keras_tuner\\tuners\\hyperband.py\u001b[0m in \u001b[0;36mrun_trial\u001b[1;34m(self, trial, *fit_args, **fit_kwargs)\u001b[0m\n\u001b[0;32m    382\u001b[0m             \u001b[0mfit_kwargs\u001b[0m\u001b[1;33m[\u001b[0m\u001b[1;34m\"epochs\"\u001b[0m\u001b[1;33m]\u001b[0m \u001b[1;33m=\u001b[0m \u001b[0mhp\u001b[0m\u001b[1;33m.\u001b[0m\u001b[0mvalues\u001b[0m\u001b[1;33m[\u001b[0m\u001b[1;34m\"tuner/epochs\"\u001b[0m\u001b[1;33m]\u001b[0m\u001b[1;33m\u001b[0m\u001b[1;33m\u001b[0m\u001b[0m\n\u001b[0;32m    383\u001b[0m             \u001b[0mfit_kwargs\u001b[0m\u001b[1;33m[\u001b[0m\u001b[1;34m\"initial_epoch\"\u001b[0m\u001b[1;33m]\u001b[0m \u001b[1;33m=\u001b[0m \u001b[0mhp\u001b[0m\u001b[1;33m.\u001b[0m\u001b[0mvalues\u001b[0m\u001b[1;33m[\u001b[0m\u001b[1;34m\"tuner/initial_epoch\"\u001b[0m\u001b[1;33m]\u001b[0m\u001b[1;33m\u001b[0m\u001b[1;33m\u001b[0m\u001b[0m\n\u001b[1;32m--> 384\u001b[1;33m         \u001b[1;32mreturn\u001b[0m \u001b[0msuper\u001b[0m\u001b[1;33m(\u001b[0m\u001b[0mHyperband\u001b[0m\u001b[1;33m,\u001b[0m \u001b[0mself\u001b[0m\u001b[1;33m)\u001b[0m\u001b[1;33m.\u001b[0m\u001b[0mrun_trial\u001b[0m\u001b[1;33m(\u001b[0m\u001b[0mtrial\u001b[0m\u001b[1;33m,\u001b[0m \u001b[1;33m*\u001b[0m\u001b[0mfit_args\u001b[0m\u001b[1;33m,\u001b[0m \u001b[1;33m**\u001b[0m\u001b[0mfit_kwargs\u001b[0m\u001b[1;33m)\u001b[0m\u001b[1;33m\u001b[0m\u001b[1;33m\u001b[0m\u001b[0m\n\u001b[0m\u001b[0;32m    385\u001b[0m \u001b[1;33m\u001b[0m\u001b[0m\n\u001b[0;32m    386\u001b[0m     \u001b[1;32mdef\u001b[0m \u001b[0m_build_model\u001b[0m\u001b[1;33m(\u001b[0m\u001b[0mself\u001b[0m\u001b[1;33m,\u001b[0m \u001b[0mhp\u001b[0m\u001b[1;33m)\u001b[0m\u001b[1;33m:\u001b[0m\u001b[1;33m\u001b[0m\u001b[1;33m\u001b[0m\u001b[0m\n",
      "\u001b[1;32m~\\AppData\\Local\\Programs\\Python\\Python39\\lib\\site-packages\\keras_tuner\\engine\\tuner.py\u001b[0m in \u001b[0;36mrun_trial\u001b[1;34m(self, trial, *args, **kwargs)\u001b[0m\n\u001b[0;32m    286\u001b[0m         \u001b[1;32mfor\u001b[0m \u001b[0mexecution\u001b[0m \u001b[1;32min\u001b[0m \u001b[0mrange\u001b[0m\u001b[1;33m(\u001b[0m\u001b[0mself\u001b[0m\u001b[1;33m.\u001b[0m\u001b[0mexecutions_per_trial\u001b[0m\u001b[1;33m)\u001b[0m\u001b[1;33m:\u001b[0m\u001b[1;33m\u001b[0m\u001b[1;33m\u001b[0m\u001b[0m\n\u001b[0;32m    287\u001b[0m             \u001b[0mcopied_kwargs\u001b[0m \u001b[1;33m=\u001b[0m \u001b[0mcopy\u001b[0m\u001b[1;33m.\u001b[0m\u001b[0mcopy\u001b[0m\u001b[1;33m(\u001b[0m\u001b[0mkwargs\u001b[0m\u001b[1;33m)\u001b[0m\u001b[1;33m\u001b[0m\u001b[1;33m\u001b[0m\u001b[0m\n\u001b[1;32m--> 288\u001b[1;33m             \u001b[0mcallbacks\u001b[0m \u001b[1;33m=\u001b[0m \u001b[0mself\u001b[0m\u001b[1;33m.\u001b[0m\u001b[0m_deepcopy_callbacks\u001b[0m\u001b[1;33m(\u001b[0m\u001b[0moriginal_callbacks\u001b[0m\u001b[1;33m)\u001b[0m\u001b[1;33m\u001b[0m\u001b[1;33m\u001b[0m\u001b[0m\n\u001b[0m\u001b[0;32m    289\u001b[0m             \u001b[0mself\u001b[0m\u001b[1;33m.\u001b[0m\u001b[0m_configure_tensorboard_dir\u001b[0m\u001b[1;33m(\u001b[0m\u001b[0mcallbacks\u001b[0m\u001b[1;33m,\u001b[0m \u001b[0mtrial\u001b[0m\u001b[1;33m,\u001b[0m \u001b[0mexecution\u001b[0m\u001b[1;33m)\u001b[0m\u001b[1;33m\u001b[0m\u001b[1;33m\u001b[0m\u001b[0m\n\u001b[0;32m    290\u001b[0m             \u001b[0mcallbacks\u001b[0m\u001b[1;33m.\u001b[0m\u001b[0mappend\u001b[0m\u001b[1;33m(\u001b[0m\u001b[0mtuner_utils\u001b[0m\u001b[1;33m.\u001b[0m\u001b[0mTunerCallback\u001b[0m\u001b[1;33m(\u001b[0m\u001b[0mself\u001b[0m\u001b[1;33m,\u001b[0m \u001b[0mtrial\u001b[0m\u001b[1;33m)\u001b[0m\u001b[1;33m)\u001b[0m\u001b[1;33m\u001b[0m\u001b[1;33m\u001b[0m\u001b[0m\n",
      "\u001b[1;32m~\\AppData\\Local\\Programs\\Python\\Python39\\lib\\site-packages\\keras_tuner\\engine\\tuner.py\u001b[0m in \u001b[0;36m_deepcopy_callbacks\u001b[1;34m(self, callbacks)\u001b[0m\n\u001b[0;32m    368\u001b[0m             \u001b[0mcallbacks\u001b[0m \u001b[1;33m=\u001b[0m \u001b[0mcopy\u001b[0m\u001b[1;33m.\u001b[0m\u001b[0mdeepcopy\u001b[0m\u001b[1;33m(\u001b[0m\u001b[0mcallbacks\u001b[0m\u001b[1;33m)\u001b[0m\u001b[1;33m\u001b[0m\u001b[1;33m\u001b[0m\u001b[0m\n\u001b[0;32m    369\u001b[0m         \u001b[1;32mexcept\u001b[0m\u001b[1;33m:\u001b[0m\u001b[1;33m\u001b[0m\u001b[1;33m\u001b[0m\u001b[0m\n\u001b[1;32m--> 370\u001b[1;33m             raise ValueError(\n\u001b[0m\u001b[0;32m    371\u001b[0m                 \u001b[1;34m\"All callbacks used during a search \"\u001b[0m\u001b[1;33m\u001b[0m\u001b[1;33m\u001b[0m\u001b[0m\n\u001b[0;32m    372\u001b[0m                 \u001b[1;34m\"should be deep-copyable (since they are \"\u001b[0m\u001b[1;33m\u001b[0m\u001b[1;33m\u001b[0m\u001b[0m\n",
      "\u001b[1;31mValueError\u001b[0m: All callbacks used during a search should be deep-copyable (since they are reused across trials). It is not possible to do `copy.deepcopy([<keras.callbacks.EarlyStopping object at 0x000002965B674250>])`"
     ]
    }
   ],
   "source": [
    "def model_builder_1_1(hp):\n",
    "    n_steps = X_train_1.shape[1]\n",
    "    n_features = X_train_1.shape[2]\n",
    "\n",
    "    model1_2 = Sequential()\n",
    "\n",
    "    hp_filters = hp.Int('units', min_value=4, max_value=128, step=4)\n",
    "    hp_units = hp.Int('units', min_value=5, max_value=100, step=10)\n",
    "    model1_2.add(Conv1D(filters=hp_filters, kernel_size=2, activation='relu', input_shape=(n_steps,n_features))) \n",
    "\n",
    "    model1_2.add(Flatten())\n",
    "    model1_2.add(Dense(units = hp_units, activation='relu')) \n",
    "    model1_2.add(Dense(1, activation='sigmoid'))\n",
    "\n",
    "    model1_2.compile(optimizer='adam', loss=tf.keras.losses.BinaryCrossentropy(from_logits=True),\n",
    "                   metrics=[\"BinaryAccuracy\"])\n",
    "\n",
    "    return model1_2\n",
    "\n",
    "tuner = kt.Hyperband(model_builder_1_1,\n",
    "                     objective='val_binary_accuracy',\n",
    "                     max_epochs=30,\n",
    "                     factor=3,\n",
    "                     # directory='my_dir',    don't know what to do with this for now\n",
    "                     # project_name='intro_to_kt' # sasme with this\n",
    "                     )\n",
    "\n",
    "tuner.search(X_train_1, train_5w, epochs=50, validation_data=(X_val_1, val_5w), callbacks = [early_stopping_monitor])\n",
    "\n",
    "#model1_1.fit(X_train_kb_10, train_5w,epochs=30,  validation_data=(X_val_kb_10, val_5w), callbacks = [early_stopping_monitor])"
   ]
  },
  {
   "cell_type": "markdown",
   "metadata": {},
   "source": [
    "Add CNN results for Netflix and UBS and concluding remarks"
   ]
  },
  {
   "cell_type": "markdown",
   "metadata": {},
   "source": [
    "#### 4.3 Recurrent Neural Network"
   ]
  },
  {
   "cell_type": "markdown",
   "metadata": {},
   "source": [
    "Our last algorithm we will test is the recurrent neural network (RNN). Considered highly suitable for a time-series tasks such as predicting stock movements, the RNN is favored amongst many machine learning practicioners as the network which will perform best when using sequential data. What makes the RNN useful for timeseries is it's recurrent structure. Unlike most neural networks which presume that the inputs and outputs are independent, in the RNN space, outputs depends on prior elements in the network. Another aspect of RNN's which make them unique is that they share parameters across each layer. In more traditional feedforward networks, each node may have a different weight, however, in RNN networks each layer has the same weight parameter. \n",
    "\n",
    "Intuitively, the RNN models should out perform the random forest and CNN. Let's put that intuition to the test."
   ]
  },
  {
   "cell_type": "code",
   "execution_count": 8,
   "metadata": {},
   "outputs": [],
   "source": [
    "# Split data into training, validation and test sets \n",
    "column_indices = {name: i for i, name in enumerate(Ford.columns)}\n",
    "\n",
    "n = len(Ford)\n",
    "X_train = Ford[0:int(n*0.9)]\n",
    "X_val = Ford[int(n*0.7):int(n*0.9)]\n",
    "X_test = Ford[int(n*0.9):]\n",
    "\n",
    "y_train = target_3[0:int(n*0.9)]\n",
    "y_val = target_3[int(n*0.7):int(n*0.9)]\n",
    "y_test = target_3[int(n*0.9):]"
   ]
  },
  {
   "cell_type": "code",
   "execution_count": 9,
   "metadata": {},
   "outputs": [],
   "source": [
    "# Normalize the data\n",
    "X_train = pd.DataFrame(Mscaler.fit_transform(X_train), columns = Ford.columns)\n",
    "X_val = pd.DataFrame(Mscaler.fit_transform(X_val), columns = Ford.columns)\n",
    "X_test = pd.DataFrame(Mscaler.fit_transform(X_test), columns = Ford.columns)"
   ]
  },
  {
   "cell_type": "code",
   "execution_count": 10,
   "metadata": {},
   "outputs": [],
   "source": [
    "def kbest_creator(k):\n",
    "    \"\"\"\n",
    "    returns list of k best features and the number of efficient principle compents to use with said k features\n",
    "    \"\"\"\n",
    "    # apply SelectKBest class to extract top 40 best features\n",
    "    bestfeatures = SelectKBest(score_func=f_regression, k=k)\n",
    "    best_fit = bestfeatures.fit(X_train, y_train)\n",
    "    best_scores = pd.DataFrame(best_fit.scores_)\n",
    "    best_columns = pd.DataFrame(Ford.columns)\n",
    "    \n",
    "    # concatenate the dataframes for better visualization\n",
    "    features_score = pd.concat([best_columns, best_scores], axis=1)\n",
    "    features_score.columns = ['Features', 'Score']  # naming the dataframe columns\n",
    "    feats = list(features_score.nlargest(k, 'Score')['Features'])\n",
    "\n",
    "    pca = PCA().fit(X_train[feats])\n",
    "    pca_scores = np.cumsum(pca.explained_variance_ratio_) * 100\n",
    "    res = next(x for x, val in enumerate(pca_scores) if val > 90) \n",
    "    res = res +1\n",
    "    res\n",
    "    \n",
    "    return feats, res\n"
   ]
  },
  {
   "cell_type": "code",
   "execution_count": 20,
   "metadata": {},
   "outputs": [
    {
     "name": "stdout",
     "output_type": "stream",
     "text": [
      "(633, 5, 15) (633,)\n",
      "(137, 5, 15) (137,)\n",
      "(66, 5, 15) (66,)\n"
     ]
    },
    {
     "name": "stderr",
     "output_type": "stream",
     "text": [
      "C:\\Users\\Alexander.Ferrante\\Anaconda3\\lib\\site-packages\\sklearn\\feature_selection\\_univariate_selection.py:302: RuntimeWarning: invalid value encountered in true_divide\n",
      "  corr /= X_norms\n"
     ]
    }
   ],
   "source": [
    "feats, pcs = kbest_creator(40)\n",
    "\n",
    "# 15 compenents explain 90% \n",
    "pca_kb = PCA(n_components = pcs)\n",
    "X_train_kb = pd.DataFrame(pca_kb.fit_transform(X_train[feats]))\n",
    "X_val_kb = pd.DataFrame(pca_kb.fit_transform(X_val[feats]))\n",
    "X_test_kb = pd.DataFrame(pca_kb.fit_transform(X_test[feats]))\n",
    "\n",
    "# Apply window formatting, in this case 5 periods\n",
    "X_train_1, train_5w = df_to_X_y2(X_train_kb,y_train)\n",
    "X_val_1, val_5w = df_to_X_y2(X_val_kb, y_val)\n",
    "X_test_1, test_5w = df_to_X_y2(X_test_kb,y_test) \n",
    "\n",
    "print(X_train_1.shape, train_5w.shape)\n",
    "print(X_val_1.shape, val_5w.shape)\n",
    "print(X_test_1.shape, test_5w.shape)"
   ]
  },
  {
   "cell_type": "code",
   "execution_count": 21,
   "metadata": {},
   "outputs": [],
   "source": [
    "# Model using the PCA od 40 SelectKBest features \n",
    "n_steps = X_train_1.shape[1]\n",
    "n_features = X_train_1.shape[2]\n",
    "\n",
    "# Let's make a list of CONSTANTS for modelling:\n",
    "LAYERS = [8, 8, 8, 1]                # number of units in hidden and output layers\n",
    "M_TRAIN = X_train_1.shape[0]           # number of training examples (2D)\n",
    "M_TEST = X_test_1.shape[0]             # number of test examples (2D),full=X_test.shape[0]\n",
    "N = X_train_1.shape[2]                 # number of features\n",
    "BATCH = M_TRAIN                          # batch size\n",
    "EPOCH = 10                           # number of epochs\n",
    "LR = 5e-2                            # learning rate of the gradient descent\n",
    "LAMBD = 3e-2                         # lambda in L2 regularizaion\n",
    "DP = 0.0                             # dropout rate\n",
    "RDP = 0.0                            # recurrent dropout rate\n",
    "\n",
    "# Build the Model\n",
    "model = Sequential()\n",
    "model.add(LSTM(input_shape=(n_steps, n_features), units=LAYERS[0],\n",
    "               activation='tanh', recurrent_activation='hard_sigmoid',\n",
    "               kernel_regularizer=l2(LAMBD), recurrent_regularizer=l2(LAMBD),\n",
    "               dropout=DP, recurrent_dropout=RDP,\n",
    "               return_sequences=True, return_state=False,\n",
    "               stateful=False, unroll=False\n",
    "              ))\n",
    "model.add(BatchNormalization())\n",
    "model.add(LSTM(units=LAYERS[1],\n",
    "               activation='tanh', recurrent_activation='hard_sigmoid', \n",
    "               kernel_regularizer=l2(LAMBD), recurrent_regularizer=l2(LAMBD),\n",
    "               dropout=DP, recurrent_dropout=RDP,\n",
    "               return_sequences=True, return_state=False,\n",
    "               stateful=False, unroll=False\n",
    "              ))\n",
    "model.add(BatchNormalization())\n",
    "model.add(LSTM(units=LAYERS[2],\n",
    "               activation='tanh', recurrent_activation='hard_sigmoid',\n",
    "               kernel_regularizer=l2(LAMBD), recurrent_regularizer=l2(LAMBD),\n",
    "               dropout=DP, recurrent_dropout=RDP,\n",
    "               return_sequences=False, return_state=False,\n",
    "               stateful=False, unroll=False\n",
    "              ))\n",
    "\n",
    "model.add(BatchNormalization())\n",
    "model.add(Dense(units=LAYERS[3], activation='sigmoid'))"
   ]
  },
  {
   "cell_type": "code",
   "execution_count": 22,
   "metadata": {},
   "outputs": [
    {
     "name": "stdout",
     "output_type": "stream",
     "text": [
      "Model: \"sequential\"\n",
      "_________________________________________________________________\n",
      " Layer (type)                Output Shape              Param #   \n",
      "=================================================================\n",
      " lstm (LSTM)                 (None, 5, 8)              768       \n",
      "                                                                 \n",
      " batch_normalization (BatchN  (None, 5, 8)             32        \n",
      " ormalization)                                                   \n",
      "                                                                 \n",
      " lstm_1 (LSTM)               (None, 5, 8)              544       \n",
      "                                                                 \n",
      " batch_normalization_1 (Batc  (None, 5, 8)             32        \n",
      " hNormalization)                                                 \n",
      "                                                                 \n",
      " lstm_2 (LSTM)               (None, 8)                 544       \n",
      "                                                                 \n",
      " batch_normalization_2 (Batc  (None, 8)                32        \n",
      " hNormalization)                                                 \n",
      "                                                                 \n",
      " dense (Dense)               (None, 1)                 9         \n",
      "                                                                 \n",
      "=================================================================\n",
      "Total params: 1,961\n",
      "Trainable params: 1,913\n",
      "Non-trainable params: 48\n",
      "_________________________________________________________________\n",
      "None\n"
     ]
    }
   ],
   "source": [
    "# Compile Model\n",
    "model.compile(loss='binary_crossentropy',\n",
    "              metrics=['accuracy'],\n",
    "              optimizer=\"adam\")\n",
    "              \n",
    "print(model.summary())"
   ]
  },
  {
   "cell_type": "code",
   "execution_count": 23,
   "metadata": {},
   "outputs": [
    {
     "name": "stdout",
     "output_type": "stream",
     "text": [
      "Epoch 1/100\n",
      "13/13 [==============================] - 7s 61ms/step - loss: 2.8102 - accuracy: 0.5340 - val_loss: 2.6140 - val_accuracy: 0.4599\n",
      "Epoch 2/100\n",
      "13/13 [==============================] - 0s 13ms/step - loss: 2.5875 - accuracy: 0.5355 - val_loss: 2.4495 - val_accuracy: 0.5255\n",
      "Epoch 3/100\n",
      "13/13 [==============================] - 0s 13ms/step - loss: 2.3911 - accuracy: 0.5482 - val_loss: 2.2968 - val_accuracy: 0.5255\n",
      "Epoch 4/100\n",
      "13/13 [==============================] - 0s 13ms/step - loss: 2.2313 - accuracy: 0.5450 - val_loss: 2.1553 - val_accuracy: 0.5401\n",
      "Epoch 5/100\n",
      "13/13 [==============================] - 0s 12ms/step - loss: 2.0827 - accuracy: 0.5798 - val_loss: 2.0255 - val_accuracy: 0.5401\n",
      "Epoch 6/100\n",
      "13/13 [==============================] - 0s 13ms/step - loss: 1.9571 - accuracy: 0.5750 - val_loss: 1.9068 - val_accuracy: 0.5255\n",
      "Epoch 7/100\n",
      "13/13 [==============================] - 0s 13ms/step - loss: 1.8424 - accuracy: 0.5924 - val_loss: 1.7990 - val_accuracy: 0.5328\n",
      "Epoch 8/100\n",
      "13/13 [==============================] - 0s 13ms/step - loss: 1.7315 - accuracy: 0.5750 - val_loss: 1.7009 - val_accuracy: 0.5182\n",
      "Epoch 9/100\n",
      "13/13 [==============================] - 0s 15ms/step - loss: 1.6364 - accuracy: 0.5735 - val_loss: 1.6118 - val_accuracy: 0.4891\n",
      "Epoch 10/100\n",
      "13/13 [==============================] - 0s 14ms/step - loss: 1.5494 - accuracy: 0.5908 - val_loss: 1.5308 - val_accuracy: 0.4964\n",
      "Epoch 11/100\n",
      "13/13 [==============================] - 0s 12ms/step - loss: 1.4725 - accuracy: 0.5987 - val_loss: 1.4574 - val_accuracy: 0.4891\n",
      "Epoch 12/100\n",
      "13/13 [==============================] - 0s 12ms/step - loss: 1.3982 - accuracy: 0.6019 - val_loss: 1.3904 - val_accuracy: 0.4891\n",
      "Epoch 13/100\n",
      "13/13 [==============================] - 0s 13ms/step - loss: 1.3308 - accuracy: 0.5956 - val_loss: 1.3300 - val_accuracy: 0.4891\n",
      "Epoch 14/100\n",
      "13/13 [==============================] - 0s 14ms/step - loss: 1.2706 - accuracy: 0.6082 - val_loss: 1.2752 - val_accuracy: 0.4453\n",
      "Epoch 15/100\n",
      "13/13 [==============================] - 0s 13ms/step - loss: 1.2203 - accuracy: 0.6019 - val_loss: 1.2258 - val_accuracy: 0.4453\n",
      "Epoch 16/100\n",
      "13/13 [==============================] - 0s 13ms/step - loss: 1.1711 - accuracy: 0.5893 - val_loss: 1.1809 - val_accuracy: 0.4453\n",
      "Epoch 17/100\n",
      "13/13 [==============================] - 0s 18ms/step - loss: 1.1271 - accuracy: 0.6082 - val_loss: 1.1405 - val_accuracy: 0.4672\n",
      "Epoch 18/100\n",
      "13/13 [==============================] - 0s 14ms/step - loss: 1.0858 - accuracy: 0.6066 - val_loss: 1.1041 - val_accuracy: 0.4745\n",
      "Epoch 19/100\n",
      "13/13 [==============================] - 0s 13ms/step - loss: 1.0491 - accuracy: 0.6177 - val_loss: 1.0704 - val_accuracy: 0.5182\n",
      "Epoch 20/100\n",
      "13/13 [==============================] - 0s 14ms/step - loss: 1.0157 - accuracy: 0.6130 - val_loss: 1.0404 - val_accuracy: 0.4380\n",
      "Epoch 21/100\n",
      "13/13 [==============================] - 0s 13ms/step - loss: 0.9881 - accuracy: 0.6288 - val_loss: 1.0133 - val_accuracy: 0.4745\n",
      "Epoch 22/100\n",
      "13/13 [==============================] - 0s 13ms/step - loss: 0.9631 - accuracy: 0.6066 - val_loss: 0.9888 - val_accuracy: 0.5328\n",
      "Epoch 23/100\n",
      "13/13 [==============================] - 0s 14ms/step - loss: 0.9348 - accuracy: 0.6209 - val_loss: 0.9667 - val_accuracy: 0.5109\n",
      "Epoch 24/100\n",
      "13/13 [==============================] - 0s 14ms/step - loss: 0.9153 - accuracy: 0.6177 - val_loss: 0.9469 - val_accuracy: 0.5109\n",
      "Epoch 25/100\n",
      "13/13 [==============================] - 0s 14ms/step - loss: 0.8959 - accuracy: 0.6256 - val_loss: 0.9290 - val_accuracy: 0.4891\n",
      "Epoch 26/100\n",
      "13/13 [==============================] - 0s 13ms/step - loss: 0.8765 - accuracy: 0.6224 - val_loss: 0.9119 - val_accuracy: 0.5036\n",
      "Epoch 27/100\n",
      "13/13 [==============================] - 0s 14ms/step - loss: 0.8616 - accuracy: 0.6209 - val_loss: 0.8982 - val_accuracy: 0.4891\n",
      "Epoch 28/100\n",
      "13/13 [==============================] - 0s 14ms/step - loss: 0.8437 - accuracy: 0.6509 - val_loss: 0.8848 - val_accuracy: 0.4964\n",
      "Epoch 29/100\n",
      "13/13 [==============================] - 0s 13ms/step - loss: 0.8314 - accuracy: 0.6256 - val_loss: 0.8729 - val_accuracy: 0.5036\n",
      "Epoch 30/100\n",
      "13/13 [==============================] - 0s 11ms/step - loss: 0.8209 - accuracy: 0.6288 - val_loss: 0.8631 - val_accuracy: 0.4964\n",
      "Epoch 31/100\n",
      "13/13 [==============================] - 0s 13ms/step - loss: 0.8085 - accuracy: 0.6367 - val_loss: 0.8525 - val_accuracy: 0.5255\n",
      "Epoch 32/100\n",
      "13/13 [==============================] - 0s 14ms/step - loss: 0.7956 - accuracy: 0.6209 - val_loss: 0.8440 - val_accuracy: 0.5109\n",
      "Epoch 33/100\n",
      "13/13 [==============================] - 0s 12ms/step - loss: 0.7876 - accuracy: 0.6351 - val_loss: 0.8387 - val_accuracy: 0.4891\n",
      "Epoch 34/100\n",
      "13/13 [==============================] - 0s 13ms/step - loss: 0.7805 - accuracy: 0.6256 - val_loss: 0.8282 - val_accuracy: 0.4818\n",
      "Epoch 35/100\n",
      "13/13 [==============================] - 0s 13ms/step - loss: 0.7730 - accuracy: 0.6319 - val_loss: 0.8225 - val_accuracy: 0.4526\n",
      "Epoch 36/100\n",
      "13/13 [==============================] - 0s 14ms/step - loss: 0.7608 - accuracy: 0.6445 - val_loss: 0.8164 - val_accuracy: 0.4818\n",
      "Epoch 37/100\n",
      "13/13 [==============================] - 0s 13ms/step - loss: 0.7595 - accuracy: 0.6382 - val_loss: 0.8152 - val_accuracy: 0.4672\n",
      "Epoch 38/100\n",
      "13/13 [==============================] - 0s 13ms/step - loss: 0.7523 - accuracy: 0.6698 - val_loss: 0.8093 - val_accuracy: 0.4818\n",
      "Epoch 39/100\n",
      "13/13 [==============================] - 0s 13ms/step - loss: 0.7563 - accuracy: 0.6240 - val_loss: 0.8061 - val_accuracy: 0.5036\n",
      "Epoch 40/100\n",
      "13/13 [==============================] - 0s 15ms/step - loss: 0.7432 - accuracy: 0.6461 - val_loss: 0.8035 - val_accuracy: 0.5036\n",
      "Epoch 41/100\n",
      "13/13 [==============================] - 0s 15ms/step - loss: 0.7467 - accuracy: 0.6367 - val_loss: 0.7937 - val_accuracy: 0.5109\n",
      "Epoch 42/100\n",
      "13/13 [==============================] - 0s 15ms/step - loss: 0.7322 - accuracy: 0.6588 - val_loss: 0.7944 - val_accuracy: 0.5255\n",
      "Epoch 43/100\n",
      "13/13 [==============================] - 0s 15ms/step - loss: 0.7258 - accuracy: 0.6572 - val_loss: 0.7963 - val_accuracy: 0.4964\n",
      "Epoch 44/100\n",
      "13/13 [==============================] - 0s 14ms/step - loss: 0.7307 - accuracy: 0.6382 - val_loss: 0.7979 - val_accuracy: 0.5036\n",
      "Epoch 45/100\n",
      "13/13 [==============================] - 0s 13ms/step - loss: 0.7272 - accuracy: 0.6398 - val_loss: 0.7937 - val_accuracy: 0.5036\n",
      "Epoch 46/100\n",
      "13/13 [==============================] - 0s 13ms/step - loss: 0.7236 - accuracy: 0.6493 - val_loss: 0.7910 - val_accuracy: 0.4964\n",
      "Epoch 47/100\n",
      "13/13 [==============================] - 0s 13ms/step - loss: 0.7223 - accuracy: 0.6335 - val_loss: 0.7905 - val_accuracy: 0.4891\n",
      "Epoch 48/100\n",
      "13/13 [==============================] - 0s 12ms/step - loss: 0.7163 - accuracy: 0.6445 - val_loss: 0.7853 - val_accuracy: 0.4964\n",
      "Epoch 49/100\n",
      "13/13 [==============================] - 0s 14ms/step - loss: 0.7121 - accuracy: 0.6493 - val_loss: 0.7866 - val_accuracy: 0.4672\n",
      "Epoch 50/100\n",
      "13/13 [==============================] - 0s 14ms/step - loss: 0.7122 - accuracy: 0.6177 - val_loss: 0.7893 - val_accuracy: 0.5036\n",
      "Epoch 51/100\n",
      "13/13 [==============================] - 0s 13ms/step - loss: 0.7049 - accuracy: 0.6619 - val_loss: 0.7932 - val_accuracy: 0.4964\n",
      "Epoch 52/100\n",
      "13/13 [==============================] - 0s 12ms/step - loss: 0.7064 - accuracy: 0.6430 - val_loss: 0.7859 - val_accuracy: 0.4818\n",
      "Epoch 53/100\n",
      "13/13 [==============================] - 0s 13ms/step - loss: 0.7000 - accuracy: 0.6477 - val_loss: 0.7912 - val_accuracy: 0.5109\n",
      "Epoch 54/100\n",
      "13/13 [==============================] - 0s 13ms/step - loss: 0.7054 - accuracy: 0.6351 - val_loss: 0.7947 - val_accuracy: 0.5036\n",
      "Epoch 55/100\n",
      "13/13 [==============================] - 0s 12ms/step - loss: 0.7028 - accuracy: 0.6430 - val_loss: 0.7867 - val_accuracy: 0.4891\n",
      "Epoch 56/100\n",
      "13/13 [==============================] - 0s 13ms/step - loss: 0.6884 - accuracy: 0.6635 - val_loss: 0.7873 - val_accuracy: 0.5182\n",
      "Epoch 57/100\n",
      "13/13 [==============================] - 0s 12ms/step - loss: 0.7062 - accuracy: 0.6367 - val_loss: 0.7891 - val_accuracy: 0.5182\n",
      "Epoch 58/100\n",
      "13/13 [==============================] - 0s 13ms/step - loss: 0.6882 - accuracy: 0.6461 - val_loss: 0.7934 - val_accuracy: 0.5474\n",
      "Epoch 59/100\n",
      "13/13 [==============================] - 0s 18ms/step - loss: 0.6926 - accuracy: 0.6445 - val_loss: 0.7991 - val_accuracy: 0.4891\n",
      "Epoch 60/100\n",
      "13/13 [==============================] - 0s 14ms/step - loss: 0.6896 - accuracy: 0.6509 - val_loss: 0.8117 - val_accuracy: 0.5036\n",
      "Epoch 61/100\n",
      "13/13 [==============================] - 0s 14ms/step - loss: 0.6850 - accuracy: 0.6746 - val_loss: 0.7957 - val_accuracy: 0.5255\n",
      "Epoch 62/100\n",
      "13/13 [==============================] - 0s 14ms/step - loss: 0.6875 - accuracy: 0.6540 - val_loss: 0.7940 - val_accuracy: 0.4964\n",
      "Epoch 63/100\n",
      "13/13 [==============================] - 0s 13ms/step - loss: 0.6744 - accuracy: 0.6777 - val_loss: 0.8027 - val_accuracy: 0.4745\n",
      "Epoch 64/100\n",
      "13/13 [==============================] - 0s 13ms/step - loss: 0.6815 - accuracy: 0.6603 - val_loss: 0.7953 - val_accuracy: 0.4672\n",
      "Epoch 65/100\n",
      "13/13 [==============================] - 0s 12ms/step - loss: 0.6813 - accuracy: 0.6382 - val_loss: 0.8006 - val_accuracy: 0.5182\n",
      "Epoch 66/100\n",
      "13/13 [==============================] - 0s 14ms/step - loss: 0.6829 - accuracy: 0.6651 - val_loss: 0.7995 - val_accuracy: 0.5474\n",
      "Epoch 67/100\n",
      "13/13 [==============================] - 0s 13ms/step - loss: 0.6834 - accuracy: 0.6635 - val_loss: 0.7898 - val_accuracy: 0.5401\n",
      "Epoch 68/100\n",
      "13/13 [==============================] - 0s 13ms/step - loss: 0.6853 - accuracy: 0.6382 - val_loss: 0.8034 - val_accuracy: 0.5401\n",
      "Epoch 69/100\n",
      "13/13 [==============================] - 0s 13ms/step - loss: 0.6762 - accuracy: 0.6730 - val_loss: 0.7929 - val_accuracy: 0.5109\n",
      "Epoch 70/100\n",
      "13/13 [==============================] - 0s 16ms/step - loss: 0.6793 - accuracy: 0.6540 - val_loss: 0.8068 - val_accuracy: 0.4818\n",
      "Epoch 71/100\n",
      "13/13 [==============================] - 0s 15ms/step - loss: 0.6769 - accuracy: 0.6698 - val_loss: 0.8103 - val_accuracy: 0.5182\n",
      "Epoch 72/100\n",
      "13/13 [==============================] - 0s 15ms/step - loss: 0.6762 - accuracy: 0.6603 - val_loss: 0.8208 - val_accuracy: 0.5328\n",
      "Epoch 73/100\n",
      "13/13 [==============================] - 0s 13ms/step - loss: 0.6823 - accuracy: 0.6619 - val_loss: 0.8242 - val_accuracy: 0.5109\n",
      "Epoch 74/100\n",
      "13/13 [==============================] - 0s 14ms/step - loss: 0.6726 - accuracy: 0.6714 - val_loss: 0.8320 - val_accuracy: 0.5036\n",
      "Epoch 75/100\n",
      "13/13 [==============================] - 0s 11ms/step - loss: 0.6770 - accuracy: 0.6809 - val_loss: 0.8250 - val_accuracy: 0.4745\n",
      "Epoch 76/100\n",
      "13/13 [==============================] - 0s 13ms/step - loss: 0.6721 - accuracy: 0.6635 - val_loss: 0.8267 - val_accuracy: 0.5328\n",
      "Epoch 77/100\n",
      "13/13 [==============================] - 0s 13ms/step - loss: 0.6659 - accuracy: 0.6746 - val_loss: 0.8185 - val_accuracy: 0.5182\n",
      "Epoch 78/100\n",
      "13/13 [==============================] - 0s 13ms/step - loss: 0.6688 - accuracy: 0.6714 - val_loss: 0.8222 - val_accuracy: 0.5401\n",
      "Epoch 79/100\n",
      "13/13 [==============================] - 0s 14ms/step - loss: 0.6632 - accuracy: 0.6777 - val_loss: 0.8292 - val_accuracy: 0.4891\n",
      "Epoch 80/100\n",
      "13/13 [==============================] - 0s 13ms/step - loss: 0.6642 - accuracy: 0.6761 - val_loss: 0.8263 - val_accuracy: 0.5328\n",
      "Epoch 81/100\n",
      "13/13 [==============================] - 0s 13ms/step - loss: 0.6696 - accuracy: 0.6509 - val_loss: 0.8374 - val_accuracy: 0.4964\n",
      "Epoch 82/100\n",
      "13/13 [==============================] - 0s 12ms/step - loss: 0.6616 - accuracy: 0.6588 - val_loss: 0.8520 - val_accuracy: 0.4599\n",
      "Epoch 83/100\n",
      "13/13 [==============================] - 0s 14ms/step - loss: 0.6679 - accuracy: 0.6509 - val_loss: 0.8412 - val_accuracy: 0.4745\n",
      "Epoch 84/100\n",
      "13/13 [==============================] - 0s 12ms/step - loss: 0.6679 - accuracy: 0.6714 - val_loss: 0.8380 - val_accuracy: 0.5036\n",
      "Epoch 85/100\n",
      "13/13 [==============================] - 0s 15ms/step - loss: 0.6772 - accuracy: 0.6588 - val_loss: 0.8361 - val_accuracy: 0.4818\n",
      "Epoch 86/100\n",
      "13/13 [==============================] - 0s 13ms/step - loss: 0.6731 - accuracy: 0.6714 - val_loss: 0.8450 - val_accuracy: 0.4964\n",
      "Epoch 87/100\n",
      "13/13 [==============================] - 0s 12ms/step - loss: 0.6692 - accuracy: 0.6667 - val_loss: 0.8334 - val_accuracy: 0.5474\n",
      "Epoch 88/100\n",
      "13/13 [==============================] - 0s 14ms/step - loss: 0.6560 - accuracy: 0.6667 - val_loss: 0.8414 - val_accuracy: 0.4745\n",
      "Epoch 89/100\n",
      "13/13 [==============================] - 0s 11ms/step - loss: 0.6613 - accuracy: 0.6651 - val_loss: 0.8282 - val_accuracy: 0.5109\n",
      "Epoch 90/100\n",
      "13/13 [==============================] - 0s 14ms/step - loss: 0.6608 - accuracy: 0.6777 - val_loss: 0.8489 - val_accuracy: 0.5036\n",
      "Epoch 91/100\n",
      "13/13 [==============================] - 0s 15ms/step - loss: 0.6653 - accuracy: 0.6667 - val_loss: 0.8684 - val_accuracy: 0.4672\n",
      "Epoch 92/100\n",
      "13/13 [==============================] - 0s 13ms/step - loss: 0.6607 - accuracy: 0.6746 - val_loss: 0.8579 - val_accuracy: 0.4672\n",
      "Epoch 93/100\n",
      "13/13 [==============================] - 0s 13ms/step - loss: 0.6550 - accuracy: 0.6856 - val_loss: 0.8378 - val_accuracy: 0.5036\n",
      "Epoch 94/100\n",
      "13/13 [==============================] - 0s 13ms/step - loss: 0.6705 - accuracy: 0.6730 - val_loss: 0.8432 - val_accuracy: 0.5328\n",
      "Epoch 95/100\n",
      "13/13 [==============================] - 0s 13ms/step - loss: 0.6597 - accuracy: 0.6588 - val_loss: 0.8438 - val_accuracy: 0.5255\n",
      "Epoch 96/100\n",
      "13/13 [==============================] - 0s 12ms/step - loss: 0.6595 - accuracy: 0.6777 - val_loss: 0.8434 - val_accuracy: 0.5036\n",
      "Epoch 97/100\n",
      "13/13 [==============================] - 0s 14ms/step - loss: 0.6430 - accuracy: 0.7062 - val_loss: 0.8456 - val_accuracy: 0.5109\n",
      "Epoch 98/100\n",
      "13/13 [==============================] - 0s 13ms/step - loss: 0.6549 - accuracy: 0.6746 - val_loss: 0.8576 - val_accuracy: 0.4745\n",
      "Epoch 99/100\n",
      "13/13 [==============================] - 0s 13ms/step - loss: 0.6607 - accuracy: 0.6793 - val_loss: 0.8698 - val_accuracy: 0.4964\n",
      "Epoch 100/100\n",
      "13/13 [==============================] - 0s 13ms/step - loss: 0.6463 - accuracy: 0.6809 - val_loss: 0.8619 - val_accuracy: 0.4964\n"
     ]
    }
   ],
   "source": [
    "# Fit model \n",
    "lr_decay = ReduceLROnPlateau(monitor='loss', \n",
    "                             patience=1, verbose=0, \n",
    "                             factor=0.5, min_lr=1e-8)\n",
    "# Define Early Stopping:\n",
    "early_stop = EarlyStopping(monitor='val_acc', min_delta=0, \n",
    "                           patience=30, verbose=1, mode='auto',\n",
    "                           baseline=0, restore_best_weights=True)\n",
    "# Train the model. \n",
    "# The dataset is small for NN - let's use test_data for validation\n",
    "\n",
    "history = model.fit(X_train_1, train_5w,\n",
    "                    epochs=100,\n",
    "                    batch_size=50,\n",
    "                    validation_data=(X_val_1, val_5w))"
   ]
  },
  {
   "cell_type": "code",
   "execution_count": 24,
   "metadata": {},
   "outputs": [
    {
     "name": "stdout",
     "output_type": "stream",
     "text": [
      "-----------------------------------------------------------------\n",
      "train accuracy = 70.6161%\n",
      "test accuracy = 50.0%\n",
      "test error = 33 out of 66 examples\n"
     ]
    }
   ],
   "source": [
    "# Evaluate the model:\n",
    "train_loss, train_acc = model.evaluate(X_train_1, train_5w,\n",
    "                                       batch_size=M_TRAIN, verbose=0)\n",
    "test_loss, test_acc = model.evaluate(X_test_1, test_5w,\n",
    "                                     batch_size=M_TEST, verbose=0)\n",
    "print('-'*65)\n",
    "print(f'train accuracy = {round(train_acc * 100, 4)}%')\n",
    "print(f'test accuracy = {round(test_acc * 100, 4)}%')\n",
    "print(f'test error = {round((1 - test_acc) * M_TEST)} out of {M_TEST} examples')"
   ]
  },
  {
   "cell_type": "code",
   "execution_count": 25,
   "metadata": {},
   "outputs": [
    {
     "data": {
      "image/png": "[encoded data removed]",
      "text/plain": [
       "<Figure size 1296x432 with 2 Axes>"
      ]
     },
     "metadata": {
      "needs_background": "light"
     },
     "output_type": "display_data"
    }
   ],
   "source": [
    "# Plot the loss and accuracy curves over epochs:\n",
    "fig, axs = plt.subplots(nrows=1, ncols=2, figsize=(18,6))\n",
    "axs[0].plot(history.history['loss'], color='b', label='Training loss')\n",
    "axs[0].plot(history.history['val_loss'], color='r', label='Validation loss')\n",
    "axs[0].set_title(\"Loss curves\")\n",
    "axs[0].legend(loc='best', shadow=True)\n",
    "axs[1].plot(history.history['accuracy'], color='b', label='Training accuracy')\n",
    "axs[1].plot(history.history['val_accuracy'], color='r', label='Validation accuracy')\n",
    "axs[1].set_title(\"Accuracy curves\")\n",
    "axs[1].legend(loc='best', shadow=True)\n",
    "plt.show()"
   ]
  },
  {
   "cell_type": "code",
   "execution_count": 26,
   "metadata": {},
   "outputs": [
    {
     "name": "stdout",
     "output_type": "stream",
     "text": [
      "2/2 [==============================] - 1s 4ms/step\n",
      "2017-01-02 00:00:00 [0.91148275] 1\n",
      "2017-01-03 00:00:00 [0.7908968] 0\n",
      "2017-01-04 00:00:00 [0.3051197] 0\n",
      "2017-01-05 00:00:00 [0.5898801] 0\n",
      "2017-01-06 00:00:00 [0.40324372] 1\n",
      "2017-01-09 00:00:00 [0.07845059] 1\n",
      "2017-01-10 00:00:00 [0.03774798] 0\n",
      "2017-01-11 00:00:00 [0.12581652] 1\n",
      "2017-01-12 00:00:00 [0.6747093] 0\n",
      "2017-01-13 00:00:00 [0.9021783] 0\n",
      "2017-01-16 00:00:00 [0.9198288] 1\n",
      "2017-01-17 00:00:00 [0.24044833] 1\n",
      "2017-01-18 00:00:00 [0.06340772] 1\n",
      "2017-01-19 00:00:00 [0.07416627] 1\n",
      "2017-01-20 00:00:00 [0.18310702] 0\n",
      "2017-01-23 00:00:00 [0.4013644] 0\n",
      "2017-01-24 00:00:00 [0.48780796] 0\n",
      "2017-01-25 00:00:00 [0.36813882] 0\n",
      "2017-01-26 00:00:00 [0.176905] 0\n",
      "2017-01-27 00:00:00 [0.09006059] 0\n",
      "2017-01-30 00:00:00 [0.04057518] 0\n",
      "2017-01-31 00:00:00 [0.8312367] 0\n",
      "2017-02-01 00:00:00 [0.7457682] 1\n",
      "2017-02-02 00:00:00 [0.718813] 1\n",
      "2017-02-03 00:00:00 [0.44349346] 1\n",
      "2017-02-06 00:00:00 [0.62839234] 0\n",
      "2017-02-07 00:00:00 [0.5359686] 0\n",
      "2017-02-08 00:00:00 [0.33429828] 0\n",
      "2017-02-09 00:00:00 [0.25996715] 0\n",
      "2017-02-10 00:00:00 [0.5003998] 0\n",
      "2017-02-13 00:00:00 [0.76379675] 1\n",
      "2017-02-14 00:00:00 [0.74085563] 0\n",
      "2017-02-15 00:00:00 [0.1703876] 0\n",
      "2017-02-16 00:00:00 [0.04492202] 0\n",
      "2017-02-17 00:00:00 [0.19244334] 1\n",
      "2017-02-20 00:00:00 [0.7030407] 0\n",
      "2017-02-21 00:00:00 [0.58672947] 0\n",
      "2017-02-22 00:00:00 [0.29170358] 1\n",
      "2017-02-23 00:00:00 [0.48933983] 0\n",
      "2017-02-24 00:00:00 [0.47260925] 0\n",
      "2017-02-27 00:00:00 [0.5526642] 1\n",
      "2017-02-28 00:00:00 [0.49482223] 1\n",
      "2017-03-01 00:00:00 [0.7521565] 0\n",
      "2017-03-02 00:00:00 [0.6882391] 0\n",
      "2017-03-03 00:00:00 [0.46845135] 1\n",
      "2017-03-06 00:00:00 [0.19200459] 0\n",
      "2017-03-07 00:00:00 [0.24794257] 0\n",
      "2017-03-08 00:00:00 [0.7125015] 0\n",
      "2017-03-09 00:00:00 [0.9436852] 1\n",
      "2017-03-10 00:00:00 [0.9849298] 1\n",
      "2017-03-13 00:00:00 [0.9838326] 0\n",
      "2017-03-14 00:00:00 [0.9292369] 0\n",
      "2017-03-15 00:00:00 [0.9282192] 0\n",
      "2017-03-16 00:00:00 [0.749707] 1\n",
      "2017-03-17 00:00:00 [0.39883882] 1\n",
      "2017-03-20 00:00:00 [0.4106574] 0\n",
      "2017-03-21 00:00:00 [0.442437] 1\n",
      "2017-03-22 00:00:00 [0.4219235] 0\n",
      "2017-03-23 00:00:00 [0.41106945] 1\n",
      "2017-03-24 00:00:00 [0.22221023] 0\n",
      "2017-03-27 00:00:00 [0.37539738] 1\n",
      "2017-03-28 00:00:00 [0.42249167] 0\n",
      "2017-03-29 00:00:00 [0.68354744] 1\n",
      "2017-03-30 00:00:00 [0.49230078] 1\n",
      "2017-03-31 00:00:00 [0.32751364] 0\n",
      "2017-04-03 00:00:00 [0.11661428] 0\n"
     ]
    }
   ],
   "source": [
    "# Display the predictioned vs actuals \n",
    "y_hat = model.predict(X_test_1, batch_size=50, verbose=1)\n",
    "#score = sum(y_hat == y_test) / len(y_test)\n",
    "#print(f'Prediction accuracy = {score*100}%')\n",
    "index = pd.date_range(start='2017-01-02', end='2018-06-19', freq='B')\n",
    "for i in range(y_hat.shape[0]):\n",
    "    print(index[i], y_hat[i], test_5w[i])"
   ]
  },
  {
   "cell_type": "code",
   "execution_count": 27,
   "metadata": {},
   "outputs": [
    {
     "data": {
      "text/plain": [
       "[Text(0, 0.5, 'True: 0'), Text(0, 1.5, 'True: 1')]"
      ]
     },
     "execution_count": 27,
     "metadata": {},
     "output_type": "execute_result"
    },
    {
     "data": {
      "image/png": "[encoded data removed]",
      "text/plain": [
       "<Figure size 432x288 with 2 Axes>"
      ]
     },
     "metadata": {
      "needs_background": "light"
     },
     "output_type": "display_data"
    }
   ],
   "source": [
    "# Display confusion matrix results\n",
    "from sklearn.metrics import confusion_matrix\n",
    "\n",
    "ax = plt.subplot()\n",
    "predicted = model.predict(X_test_1)\n",
    "predicted = (predicted > 0.5)\n",
    "\n",
    "confusion = confusion_matrix(test_5w, predicted)\n",
    "\n",
    "sns.heatmap(confusion, annot=True, ax=ax)\n",
    "\n",
    "ax.set_xlabel('Predicted')\n",
    "ax.set_ylabel('True')\n",
    "ax.set_title('Confusion Matrix')\n",
    "ax.xaxis.set_ticklabels([\"Predicted: 0\", \"Predicted: 1\"])\n",
    "ax.yaxis.set_ticklabels([\"True: 0\", \"True: 1\"])\n"
   ]
  },
  {
   "cell_type": "markdown",
   "metadata": {},
   "source": [
    "Let's see what happens to the accuracy when we decrease the amount of SelectKBest features"
   ]
  },
  {
   "cell_type": "code",
   "execution_count": 35,
   "metadata": {},
   "outputs": [
    {
     "name": "stdout",
     "output_type": "stream",
     "text": [
      "(633, 5, 12) (633,)\n",
      "(137, 5, 12) (137,)\n",
      "(66, 5, 12) (66,)\n"
     ]
    },
    {
     "name": "stderr",
     "output_type": "stream",
     "text": [
      "C:\\Users\\Alexander.Ferrante\\Anaconda3\\lib\\site-packages\\sklearn\\feature_selection\\_univariate_selection.py:302: RuntimeWarning: invalid value encountered in true_divide\n",
      "  corr /= X_norms\n"
     ]
    }
   ],
   "source": [
    "feats, pcs = kbest_creator(26)\n",
    "\n",
    "pca_kb = PCA(n_components = pcs)\n",
    "X_train_kb = pd.DataFrame(pca_kb.fit_transform(X_train[feats]))\n",
    "X_val_kb = pd.DataFrame(pca_kb.fit_transform(X_val[feats]))\n",
    "X_test_kb = pd.DataFrame(pca_kb.fit_transform(X_test[feats]))\n",
    "\n",
    "# Apply window formatting, in this case 5 periods\n",
    "X_train_1, train_5w = df_to_X_y2(X_train_kb,y_train)\n",
    "X_val_1, val_5w = df_to_X_y2(X_val_kb, y_val)\n",
    "X_test_1, test_5w = df_to_X_y2(X_test_kb,y_test) \n",
    "\n",
    "print(X_train_1.shape, train_5w.shape)\n",
    "print(X_val_1.shape, val_5w.shape)\n",
    "print(X_test_1.shape, test_5w.shape)"
   ]
  },
  {
   "cell_type": "code",
   "execution_count": 36,
   "metadata": {},
   "outputs": [],
   "source": [
    "# Same model structure as inital model \n",
    "n_steps = X_train_1.shape[1]\n",
    "n_features = X_train_1.shape[2]\n",
    "\n",
    "# Let's make a list of CONSTANTS for modelling:\n",
    "LAYERS = [8, 8, 8, 1]                # number of units in hidden and output layers\n",
    "M_TRAIN = X_train_1.shape[0]           # number of training examples (2D)\n",
    "M_TEST = X_test_1.shape[0]             # number of test examples (2D),full=X_test.shape[0]\n",
    "N = X_train_1.shape[2]                 # number of features\n",
    "BATCH = M_TRAIN                          # batch size\n",
    "EPOCH = 10                           # number of epochs\n",
    "LR = 5e-2                            # learning rate of the gradient descent\n",
    "LAMBD = 3e-2                         # lambda in L2 regularizaion\n",
    "DP = 0.0                             # dropout rate\n",
    "RDP = 0.0                            # recurrent dropout rate\n",
    "\n",
    "# Build the Model\n",
    "model = Sequential()\n",
    "model.add(LSTM(input_shape=(n_steps, n_features), units=LAYERS[0],\n",
    "               activation='tanh', recurrent_activation='hard_sigmoid',\n",
    "               kernel_regularizer=l2(LAMBD), recurrent_regularizer=l2(LAMBD),\n",
    "               dropout=DP, recurrent_dropout=RDP,\n",
    "               return_sequences=True, return_state=False,\n",
    "               stateful=False, unroll=False\n",
    "              ))\n",
    "model.add(BatchNormalization())\n",
    "model.add(LSTM(units=LAYERS[1],\n",
    "               activation='tanh', recurrent_activation='hard_sigmoid', \n",
    "               kernel_regularizer=l2(LAMBD), recurrent_regularizer=l2(LAMBD),\n",
    "               dropout=DP, recurrent_dropout=RDP,\n",
    "               return_sequences=True, return_state=False,\n",
    "               stateful=False, unroll=False\n",
    "              ))\n",
    "model.add(BatchNormalization())\n",
    "model.add(LSTM(units=LAYERS[2],\n",
    "               activation='tanh', recurrent_activation='hard_sigmoid',\n",
    "               kernel_regularizer=l2(LAMBD), recurrent_regularizer=l2(LAMBD),\n",
    "               dropout=DP, recurrent_dropout=RDP,\n",
    "               return_sequences=False, return_state=False,\n",
    "               stateful=False, unroll=False\n",
    "              ))\n",
    "\n",
    "model.add(BatchNormalization())\n",
    "model.add(Dense(units=LAYERS[3], activation='sigmoid'))"
   ]
  },
  {
   "cell_type": "code",
   "execution_count": 37,
   "metadata": {},
   "outputs": [
    {
     "name": "stdout",
     "output_type": "stream",
     "text": [
      "Model: \"sequential_1\"\n",
      "_________________________________________________________________\n",
      " Layer (type)                Output Shape              Param #   \n",
      "=================================================================\n",
      " lstm_3 (LSTM)               (None, 5, 8)              672       \n",
      "                                                                 \n",
      " batch_normalization_3 (Batc  (None, 5, 8)             32        \n",
      " hNormalization)                                                 \n",
      "                                                                 \n",
      " lstm_4 (LSTM)               (None, 5, 8)              544       \n",
      "                                                                 \n",
      " batch_normalization_4 (Batc  (None, 5, 8)             32        \n",
      " hNormalization)                                                 \n",
      "                                                                 \n",
      " lstm_5 (LSTM)               (None, 8)                 544       \n",
      "                                                                 \n",
      " batch_normalization_5 (Batc  (None, 8)                32        \n",
      " hNormalization)                                                 \n",
      "                                                                 \n",
      " dense_1 (Dense)             (None, 1)                 9         \n",
      "                                                                 \n",
      "=================================================================\n",
      "Total params: 1,865\n",
      "Trainable params: 1,817\n",
      "Non-trainable params: 48\n",
      "_________________________________________________________________\n",
      "None\n"
     ]
    }
   ],
   "source": [
    "# Compile Model\n",
    "model.compile(loss='binary_crossentropy',\n",
    "              metrics=['accuracy'],\n",
    "              optimizer=\"adam\")\n",
    "              \n",
    "print(model.summary())"
   ]
  },
  {
   "cell_type": "code",
   "execution_count": 38,
   "metadata": {},
   "outputs": [
    {
     "name": "stdout",
     "output_type": "stream",
     "text": [
      "Epoch 1/100\n",
      "13/13 [==============================] - 7s 68ms/step - loss: 2.9577 - accuracy: 0.5008 - val_loss: 2.5446 - val_accuracy: 0.4818\n",
      "Epoch 2/100\n",
      "13/13 [==============================] - 0s 12ms/step - loss: 2.7006 - accuracy: 0.5150 - val_loss: 2.4079 - val_accuracy: 0.4964\n",
      "Epoch 3/100\n",
      "13/13 [==============================] - 0s 12ms/step - loss: 2.4855 - accuracy: 0.5024 - val_loss: 2.2794 - val_accuracy: 0.4891\n",
      "Epoch 4/100\n",
      "13/13 [==============================] - 0s 13ms/step - loss: 2.3218 - accuracy: 0.5071 - val_loss: 2.1598 - val_accuracy: 0.4891\n",
      "Epoch 5/100\n",
      "13/13 [==============================] - 0s 12ms/step - loss: 2.1617 - accuracy: 0.5387 - val_loss: 2.0485 - val_accuracy: 0.4380\n",
      "Epoch 6/100\n",
      "13/13 [==============================] - 0s 13ms/step - loss: 2.0257 - accuracy: 0.5561 - val_loss: 1.9451 - val_accuracy: 0.4599\n",
      "Epoch 7/100\n",
      "13/13 [==============================] - 0s 15ms/step - loss: 1.9224 - accuracy: 0.5498 - val_loss: 1.8502 - val_accuracy: 0.4453\n",
      "Epoch 8/100\n",
      "13/13 [==============================] - 0s 14ms/step - loss: 1.8226 - accuracy: 0.5403 - val_loss: 1.7627 - val_accuracy: 0.4672\n",
      "Epoch 9/100\n",
      "13/13 [==============================] - 0s 17ms/step - loss: 1.7231 - accuracy: 0.5545 - val_loss: 1.6823 - val_accuracy: 0.4599\n",
      "Epoch 10/100\n",
      "13/13 [==============================] - 0s 18ms/step - loss: 1.6436 - accuracy: 0.5513 - val_loss: 1.6081 - val_accuracy: 0.4672\n",
      "Epoch 11/100\n",
      "13/13 [==============================] - 0s 18ms/step - loss: 1.5723 - accuracy: 0.5798 - val_loss: 1.5403 - val_accuracy: 0.4380\n",
      "Epoch 12/100\n",
      "13/13 [==============================] - 0s 19ms/step - loss: 1.5013 - accuracy: 0.5671 - val_loss: 1.4782 - val_accuracy: 0.4380\n",
      "Epoch 13/100\n",
      "13/13 [==============================] - 0s 18ms/step - loss: 1.4360 - accuracy: 0.6019 - val_loss: 1.4212 - val_accuracy: 0.4891\n",
      "Epoch 14/100\n",
      "13/13 [==============================] - 0s 14ms/step - loss: 1.3761 - accuracy: 0.5845 - val_loss: 1.3686 - val_accuracy: 0.4964\n",
      "Epoch 15/100\n",
      "13/13 [==============================] - 0s 15ms/step - loss: 1.3251 - accuracy: 0.5861 - val_loss: 1.3209 - val_accuracy: 0.5036\n",
      "Epoch 16/100\n",
      "13/13 [==============================] - 0s 18ms/step - loss: 1.2755 - accuracy: 0.5908 - val_loss: 1.2772 - val_accuracy: 0.5182\n",
      "Epoch 17/100\n",
      "13/13 [==============================] - 0s 12ms/step - loss: 1.2323 - accuracy: 0.5845 - val_loss: 1.2375 - val_accuracy: 0.5328\n",
      "Epoch 18/100\n",
      "13/13 [==============================] - 0s 15ms/step - loss: 1.1931 - accuracy: 0.5972 - val_loss: 1.2009 - val_accuracy: 0.5109\n",
      "Epoch 19/100\n",
      "13/13 [==============================] - 0s 16ms/step - loss: 1.1560 - accuracy: 0.5924 - val_loss: 1.1671 - val_accuracy: 0.5328\n",
      "Epoch 20/100\n",
      "13/13 [==============================] - 0s 16ms/step - loss: 1.1190 - accuracy: 0.6082 - val_loss: 1.1368 - val_accuracy: 0.5109\n",
      "Epoch 21/100\n",
      "13/13 [==============================] - 0s 16ms/step - loss: 1.0938 - accuracy: 0.5893 - val_loss: 1.1088 - val_accuracy: 0.5328\n",
      "Epoch 22/100\n",
      "13/13 [==============================] - 0s 13ms/step - loss: 1.0669 - accuracy: 0.5766 - val_loss: 1.0824 - val_accuracy: 0.5109\n",
      "Epoch 23/100\n",
      "13/13 [==============================] - 0s 15ms/step - loss: 1.0412 - accuracy: 0.6066 - val_loss: 1.0588 - val_accuracy: 0.4964\n",
      "Epoch 24/100\n",
      "13/13 [==============================] - 0s 14ms/step - loss: 1.0098 - accuracy: 0.6082 - val_loss: 1.0377 - val_accuracy: 0.5255\n",
      "Epoch 25/100\n",
      "13/13 [==============================] - 0s 15ms/step - loss: 0.9907 - accuracy: 0.6288 - val_loss: 1.0182 - val_accuracy: 0.5401\n",
      "Epoch 26/100\n",
      "13/13 [==============================] - 0s 15ms/step - loss: 0.9706 - accuracy: 0.6098 - val_loss: 0.9996 - val_accuracy: 0.5328\n",
      "Epoch 27/100\n",
      "13/13 [==============================] - 0s 15ms/step - loss: 0.9492 - accuracy: 0.6130 - val_loss: 0.9838 - val_accuracy: 0.5109\n",
      "Epoch 28/100\n",
      "13/13 [==============================] - 0s 12ms/step - loss: 0.9339 - accuracy: 0.6193 - val_loss: 0.9699 - val_accuracy: 0.5182\n",
      "Epoch 29/100\n",
      "13/13 [==============================] - 0s 15ms/step - loss: 0.9226 - accuracy: 0.5893 - val_loss: 0.9570 - val_accuracy: 0.5109\n",
      "Epoch 30/100\n",
      "13/13 [==============================] - 0s 20ms/step - loss: 0.9071 - accuracy: 0.6209 - val_loss: 0.9432 - val_accuracy: 0.5036\n",
      "Epoch 31/100\n",
      "13/13 [==============================] - 0s 16ms/step - loss: 0.8890 - accuracy: 0.6209 - val_loss: 0.9306 - val_accuracy: 0.5036\n",
      "Epoch 32/100\n",
      "13/13 [==============================] - 0s 16ms/step - loss: 0.8752 - accuracy: 0.6082 - val_loss: 0.9218 - val_accuracy: 0.4672\n",
      "Epoch 33/100\n",
      "13/13 [==============================] - 0s 15ms/step - loss: 0.8650 - accuracy: 0.6082 - val_loss: 0.9121 - val_accuracy: 0.4526\n",
      "Epoch 34/100\n",
      "13/13 [==============================] - 0s 16ms/step - loss: 0.8587 - accuracy: 0.6035 - val_loss: 0.9028 - val_accuracy: 0.4599\n",
      "Epoch 35/100\n",
      "13/13 [==============================] - 0s 15ms/step - loss: 0.8511 - accuracy: 0.6256 - val_loss: 0.8917 - val_accuracy: 0.4599\n",
      "Epoch 36/100\n",
      "13/13 [==============================] - 0s 19ms/step - loss: 0.8372 - accuracy: 0.6414 - val_loss: 0.8867 - val_accuracy: 0.4818\n",
      "Epoch 37/100\n",
      "13/13 [==============================] - 0s 15ms/step - loss: 0.8285 - accuracy: 0.6288 - val_loss: 0.8839 - val_accuracy: 0.4672\n",
      "Epoch 38/100\n",
      "13/13 [==============================] - 0s 15ms/step - loss: 0.8232 - accuracy: 0.6019 - val_loss: 0.8736 - val_accuracy: 0.4380\n",
      "Epoch 39/100\n",
      "13/13 [==============================] - 0s 14ms/step - loss: 0.8192 - accuracy: 0.6098 - val_loss: 0.8685 - val_accuracy: 0.4672\n",
      "Epoch 40/100\n",
      "13/13 [==============================] - 0s 13ms/step - loss: 0.8058 - accuracy: 0.6272 - val_loss: 0.8652 - val_accuracy: 0.4526\n",
      "Epoch 41/100\n",
      "13/13 [==============================] - 0s 14ms/step - loss: 0.8049 - accuracy: 0.6114 - val_loss: 0.8602 - val_accuracy: 0.4818\n",
      "Epoch 42/100\n",
      "13/13 [==============================] - 0s 11ms/step - loss: 0.7941 - accuracy: 0.6161 - val_loss: 0.8516 - val_accuracy: 0.4891\n",
      "Epoch 43/100\n",
      "13/13 [==============================] - 0s 12ms/step - loss: 0.7903 - accuracy: 0.6319 - val_loss: 0.8495 - val_accuracy: 0.4599\n",
      "Epoch 44/100\n",
      "13/13 [==============================] - 0s 14ms/step - loss: 0.7820 - accuracy: 0.6398 - val_loss: 0.8474 - val_accuracy: 0.4745\n",
      "Epoch 45/100\n",
      "13/13 [==============================] - 0s 15ms/step - loss: 0.7779 - accuracy: 0.6367 - val_loss: 0.8458 - val_accuracy: 0.4818\n",
      "Epoch 46/100\n",
      "13/13 [==============================] - 0s 14ms/step - loss: 0.7757 - accuracy: 0.6240 - val_loss: 0.8421 - val_accuracy: 0.4745\n",
      "Epoch 47/100\n",
      "13/13 [==============================] - 0s 20ms/step - loss: 0.7704 - accuracy: 0.6224 - val_loss: 0.8344 - val_accuracy: 0.4818\n",
      "Epoch 48/100\n",
      "13/13 [==============================] - 0s 17ms/step - loss: 0.7711 - accuracy: 0.6240 - val_loss: 0.8305 - val_accuracy: 0.4599\n",
      "Epoch 49/100\n",
      "13/13 [==============================] - 0s 18ms/step - loss: 0.7588 - accuracy: 0.6351 - val_loss: 0.8321 - val_accuracy: 0.4526\n",
      "Epoch 50/100\n",
      "13/13 [==============================] - 0s 18ms/step - loss: 0.7614 - accuracy: 0.6066 - val_loss: 0.8262 - val_accuracy: 0.4672\n",
      "Epoch 51/100\n",
      "13/13 [==============================] - 0s 19ms/step - loss: 0.7555 - accuracy: 0.6414 - val_loss: 0.8205 - val_accuracy: 0.4818\n",
      "Epoch 52/100\n",
      "13/13 [==============================] - 0s 17ms/step - loss: 0.7479 - accuracy: 0.6461 - val_loss: 0.8264 - val_accuracy: 0.4891\n",
      "Epoch 53/100\n",
      "13/13 [==============================] - 0s 18ms/step - loss: 0.7543 - accuracy: 0.6335 - val_loss: 0.8204 - val_accuracy: 0.5182\n",
      "Epoch 54/100\n",
      "13/13 [==============================] - 0s 18ms/step - loss: 0.7452 - accuracy: 0.6367 - val_loss: 0.8207 - val_accuracy: 0.5109\n",
      "Epoch 55/100\n",
      "13/13 [==============================] - 0s 15ms/step - loss: 0.7449 - accuracy: 0.6540 - val_loss: 0.8171 - val_accuracy: 0.5036\n",
      "Epoch 56/100\n",
      "13/13 [==============================] - 0s 14ms/step - loss: 0.7479 - accuracy: 0.6145 - val_loss: 0.8179 - val_accuracy: 0.5182\n",
      "Epoch 57/100\n",
      "13/13 [==============================] - 0s 14ms/step - loss: 0.7385 - accuracy: 0.6367 - val_loss: 0.8099 - val_accuracy: 0.5036\n",
      "Epoch 58/100\n",
      "13/13 [==============================] - 0s 12ms/step - loss: 0.7305 - accuracy: 0.6430 - val_loss: 0.8120 - val_accuracy: 0.5182\n",
      "Epoch 59/100\n",
      "13/13 [==============================] - 0s 11ms/step - loss: 0.7280 - accuracy: 0.6635 - val_loss: 0.8130 - val_accuracy: 0.5182\n",
      "Epoch 60/100\n",
      "13/13 [==============================] - 0s 10ms/step - loss: 0.7266 - accuracy: 0.6572 - val_loss: 0.8031 - val_accuracy: 0.5474\n",
      "Epoch 61/100\n",
      "13/13 [==============================] - 0s 10ms/step - loss: 0.7353 - accuracy: 0.6367 - val_loss: 0.8168 - val_accuracy: 0.5401\n",
      "Epoch 62/100\n",
      "13/13 [==============================] - 0s 10ms/step - loss: 0.7234 - accuracy: 0.6288 - val_loss: 0.8122 - val_accuracy: 0.5401\n",
      "Epoch 63/100\n",
      "13/13 [==============================] - 0s 13ms/step - loss: 0.7265 - accuracy: 0.6319 - val_loss: 0.8087 - val_accuracy: 0.5255\n",
      "Epoch 64/100\n",
      "13/13 [==============================] - 0s 13ms/step - loss: 0.7093 - accuracy: 0.6509 - val_loss: 0.8161 - val_accuracy: 0.5109\n",
      "Epoch 65/100\n",
      "13/13 [==============================] - 0s 13ms/step - loss: 0.7183 - accuracy: 0.6524 - val_loss: 0.8172 - val_accuracy: 0.5182\n",
      "Epoch 66/100\n",
      "13/13 [==============================] - 0s 13ms/step - loss: 0.7227 - accuracy: 0.6382 - val_loss: 0.8303 - val_accuracy: 0.5255\n",
      "Epoch 67/100\n",
      "13/13 [==============================] - 0s 10ms/step - loss: 0.7123 - accuracy: 0.6335 - val_loss: 0.8240 - val_accuracy: 0.4964\n",
      "Epoch 68/100\n",
      "13/13 [==============================] - 0s 11ms/step - loss: 0.7171 - accuracy: 0.6430 - val_loss: 0.8094 - val_accuracy: 0.5474\n",
      "Epoch 69/100\n",
      "13/13 [==============================] - 0s 13ms/step - loss: 0.7108 - accuracy: 0.6667 - val_loss: 0.8247 - val_accuracy: 0.5401\n",
      "Epoch 70/100\n",
      "13/13 [==============================] - 0s 13ms/step - loss: 0.7129 - accuracy: 0.6493 - val_loss: 0.8012 - val_accuracy: 0.5328\n",
      "Epoch 71/100\n",
      "13/13 [==============================] - 0s 12ms/step - loss: 0.7167 - accuracy: 0.6603 - val_loss: 0.8271 - val_accuracy: 0.5693\n",
      "Epoch 72/100\n",
      "13/13 [==============================] - 0s 13ms/step - loss: 0.7113 - accuracy: 0.6477 - val_loss: 0.8302 - val_accuracy: 0.5328\n",
      "Epoch 73/100\n",
      "13/13 [==============================] - 0s 12ms/step - loss: 0.7004 - accuracy: 0.6777 - val_loss: 0.8438 - val_accuracy: 0.5036\n",
      "Epoch 74/100\n",
      "13/13 [==============================] - 0s 14ms/step - loss: 0.6988 - accuracy: 0.6619 - val_loss: 0.8416 - val_accuracy: 0.5255\n",
      "Epoch 75/100\n",
      "13/13 [==============================] - 0s 14ms/step - loss: 0.6951 - accuracy: 0.6493 - val_loss: 0.8584 - val_accuracy: 0.5474\n",
      "Epoch 76/100\n",
      "13/13 [==============================] - 0s 13ms/step - loss: 0.6949 - accuracy: 0.6840 - val_loss: 0.8609 - val_accuracy: 0.5182\n",
      "Epoch 77/100\n",
      "13/13 [==============================] - 0s 13ms/step - loss: 0.6936 - accuracy: 0.6588 - val_loss: 0.8385 - val_accuracy: 0.5255\n",
      "Epoch 78/100\n",
      "13/13 [==============================] - 0s 11ms/step - loss: 0.6853 - accuracy: 0.6809 - val_loss: 0.8579 - val_accuracy: 0.5328\n",
      "Epoch 79/100\n",
      "13/13 [==============================] - 0s 12ms/step - loss: 0.7044 - accuracy: 0.6430 - val_loss: 0.8602 - val_accuracy: 0.5109\n",
      "Epoch 80/100\n",
      "13/13 [==============================] - 0s 17ms/step - loss: 0.7065 - accuracy: 0.6524 - val_loss: 0.8558 - val_accuracy: 0.5036\n",
      "Epoch 81/100\n",
      "13/13 [==============================] - 0s 13ms/step - loss: 0.6947 - accuracy: 0.6588 - val_loss: 0.8608 - val_accuracy: 0.4964\n",
      "Epoch 82/100\n",
      "13/13 [==============================] - 0s 14ms/step - loss: 0.6943 - accuracy: 0.6588 - val_loss: 0.8571 - val_accuracy: 0.4891\n",
      "Epoch 83/100\n",
      "13/13 [==============================] - 0s 13ms/step - loss: 0.6959 - accuracy: 0.6556 - val_loss: 0.8567 - val_accuracy: 0.5255\n",
      "Epoch 84/100\n",
      "13/13 [==============================] - 0s 14ms/step - loss: 0.6953 - accuracy: 0.6588 - val_loss: 0.8641 - val_accuracy: 0.5401\n",
      "Epoch 85/100\n",
      "13/13 [==============================] - 0s 12ms/step - loss: 0.6937 - accuracy: 0.6603 - val_loss: 0.8641 - val_accuracy: 0.5547\n",
      "Epoch 86/100\n",
      "13/13 [==============================] - 0s 11ms/step - loss: 0.6907 - accuracy: 0.6667 - val_loss: 0.8719 - val_accuracy: 0.5547\n",
      "Epoch 87/100\n",
      "13/13 [==============================] - 0s 11ms/step - loss: 0.6844 - accuracy: 0.6935 - val_loss: 0.8598 - val_accuracy: 0.5620\n",
      "Epoch 88/100\n",
      "13/13 [==============================] - 0s 12ms/step - loss: 0.6970 - accuracy: 0.6540 - val_loss: 0.8478 - val_accuracy: 0.5328\n",
      "Epoch 89/100\n",
      "13/13 [==============================] - 0s 15ms/step - loss: 0.6806 - accuracy: 0.6856 - val_loss: 0.8851 - val_accuracy: 0.5036\n",
      "Epoch 90/100\n",
      "13/13 [==============================] - 0s 15ms/step - loss: 0.6703 - accuracy: 0.6951 - val_loss: 0.8671 - val_accuracy: 0.5547\n",
      "Epoch 91/100\n",
      "13/13 [==============================] - 0s 12ms/step - loss: 0.6769 - accuracy: 0.6809 - val_loss: 0.8682 - val_accuracy: 0.5182\n",
      "Epoch 92/100\n",
      "13/13 [==============================] - 0s 12ms/step - loss: 0.6860 - accuracy: 0.6619 - val_loss: 0.8725 - val_accuracy: 0.5547\n",
      "Epoch 93/100\n",
      "13/13 [==============================] - 0s 13ms/step - loss: 0.6994 - accuracy: 0.6667 - val_loss: 0.8692 - val_accuracy: 0.5547\n",
      "Epoch 94/100\n",
      "13/13 [==============================] - 0s 12ms/step - loss: 0.6799 - accuracy: 0.6619 - val_loss: 0.8998 - val_accuracy: 0.5401\n",
      "Epoch 95/100\n",
      "13/13 [==============================] - 0s 13ms/step - loss: 0.6869 - accuracy: 0.6367 - val_loss: 0.8609 - val_accuracy: 0.5328\n",
      "Epoch 96/100\n",
      "13/13 [==============================] - 0s 12ms/step - loss: 0.6750 - accuracy: 0.6761 - val_loss: 0.8955 - val_accuracy: 0.5255\n",
      "Epoch 97/100\n",
      "13/13 [==============================] - 0s 12ms/step - loss: 0.6662 - accuracy: 0.6856 - val_loss: 0.8985 - val_accuracy: 0.5328\n",
      "Epoch 98/100\n",
      "13/13 [==============================] - 0s 15ms/step - loss: 0.6732 - accuracy: 0.6746 - val_loss: 0.8770 - val_accuracy: 0.5620\n",
      "Epoch 99/100\n",
      "13/13 [==============================] - 0s 14ms/step - loss: 0.6738 - accuracy: 0.6840 - val_loss: 0.8663 - val_accuracy: 0.5182\n",
      "Epoch 100/100\n",
      "13/13 [==============================] - 0s 13ms/step - loss: 0.6684 - accuracy: 0.6856 - val_loss: 0.8954 - val_accuracy: 0.5255\n"
     ]
    }
   ],
   "source": [
    "# Fit model \n",
    "lr_decay = ReduceLROnPlateau(monitor='loss', \n",
    "                             patience=1, verbose=0, \n",
    "                             factor=0.5, min_lr=1e-8)\n",
    "# Define Early Stopping:\n",
    "early_stop = EarlyStopping(monitor='val_acc', min_delta=0, \n",
    "                           patience=30, verbose=1, mode='auto',\n",
    "                           baseline=0, restore_best_weights=True)\n",
    "\n",
    "history = model.fit(X_train_1, train_5w,\n",
    "                    epochs=100,\n",
    "                    batch_size=50,\n",
    "                    validation_data=(X_val_1, val_5w))"
   ]
  },
  {
   "cell_type": "code",
   "execution_count": 39,
   "metadata": {},
   "outputs": [
    {
     "name": "stdout",
     "output_type": "stream",
     "text": [
      "-----------------------------------------------------------------\n",
      "train accuracy = 68.8784%\n",
      "test accuracy = 54.5455%\n",
      "test error = 30 out of 66 examples\n"
     ]
    }
   ],
   "source": [
    "# Evaluate the model:\n",
    "train_loss, train_acc = model.evaluate(X_train_1, train_5w,\n",
    "                                       batch_size=M_TRAIN, verbose=0)\n",
    "test_loss, test_acc = model.evaluate(X_test_1, test_5w,\n",
    "                                     batch_size=M_TEST, verbose=0)\n",
    "print('-'*65)\n",
    "print(f'train accuracy = {round(train_acc * 100, 4)}%')\n",
    "print(f'test accuracy = {round(test_acc * 100, 4)}%')\n",
    "print(f'test error = {round((1 - test_acc) * M_TEST)} out of {M_TEST} examples')"
   ]
  },
  {
   "cell_type": "markdown",
   "metadata": {},
   "source": [
    "Relative to the inital RNN model, the one directly above appears to be slighly more accruacte, and experiencing less overfitting. This seems to be a function of the number of features included in the PCA decomposition. Perhaps we were a little overzelous with our model structure, lets see what happens when we simplify and reduce the amount of hidden layers. "
   ]
  },
  {
   "cell_type": "code",
   "execution_count": 42,
   "metadata": {},
   "outputs": [],
   "source": [
    "n_steps = X_train_1.shape[1]\n",
    "n_features = X_train_1.shape[2]\n",
    "\n",
    "# Let's make a list of CONSTANTS for modelling:\n",
    "LAYERS = [32, 32, 32, 1]                # number of units in hidden and output layers\n",
    "M_TRAIN = X_train_1.shape[0]           # number of training examples (2D)\n",
    "M_TEST = X_test_1.shape[0]             # number of test examples (2D),full=X_test.shape[0]\n",
    "N = X_train_1.shape[2]                 # number of features\n",
    "BATCH = M_TRAIN                          # batch size\n",
    "EPOCH = 10                           # number of epochs\n",
    "LR = 5e-2                            # learning rate of the gradient descent\n",
    "LAMBD = 3e-2                         # lambda in L2 regularizaion\n",
    "DP = 0.0                             # dropout rate\n",
    "RDP = 0.0                            # recurrent dropout rate\n",
    "\n",
    "# Build the Model\n",
    "model = Sequential()\n",
    "\n",
    "model.add(LSTM(units=LAYERS[2], input_shape=(n_steps, n_features),\n",
    "               activation='tanh', recurrent_activation='hard_sigmoid',\n",
    "               kernel_regularizer=l2(LAMBD), recurrent_regularizer=l2(LAMBD),\n",
    "               dropout=DP, recurrent_dropout=RDP,\n",
    "               return_sequences=False, return_state=False,\n",
    "               stateful=False, unroll=False\n",
    "              ))\n",
    "\n",
    "model.add(BatchNormalization())\n",
    "model.add(Dense(units=LAYERS[3], activation='sigmoid'))"
   ]
  },
  {
   "cell_type": "code",
   "execution_count": 43,
   "metadata": {},
   "outputs": [
    {
     "name": "stdout",
     "output_type": "stream",
     "text": [
      "Model: \"sequential_4\"\n",
      "_________________________________________________________________\n",
      " Layer (type)                Output Shape              Param #   \n",
      "=================================================================\n",
      " lstm_8 (LSTM)               (None, 32)                5760      \n",
      "                                                                 \n",
      " batch_normalization_8 (Batc  (None, 32)               128       \n",
      " hNormalization)                                                 \n",
      "                                                                 \n",
      " dense_4 (Dense)             (None, 1)                 33        \n",
      "                                                                 \n",
      "=================================================================\n",
      "Total params: 5,921\n",
      "Trainable params: 5,857\n",
      "Non-trainable params: 64\n",
      "_________________________________________________________________\n",
      "None\n"
     ]
    }
   ],
   "source": [
    "model.compile(loss='binary_crossentropy',\n",
    "              metrics=['accuracy'],\n",
    "              optimizer=\"adam\")\n",
    "              \n",
    "print(model.summary())"
   ]
  },
  {
   "cell_type": "code",
   "execution_count": 44,
   "metadata": {},
   "outputs": [
    {
     "name": "stdout",
     "output_type": "stream",
     "text": [
      "Epoch 1/100\n",
      "20/20 [==============================] - 2s 20ms/step - loss: 2.3467 - accuracy: 0.4961 - val_loss: 1.9429 - val_accuracy: 0.5109\n",
      "Epoch 2/100\n",
      "20/20 [==============================] - 0s 6ms/step - loss: 1.8418 - accuracy: 0.5150 - val_loss: 1.6440 - val_accuracy: 0.5036\n",
      "Epoch 3/100\n",
      "20/20 [==============================] - 0s 6ms/step - loss: 1.5361 - accuracy: 0.5371 - val_loss: 1.4213 - val_accuracy: 0.5182\n",
      "Epoch 4/100\n",
      "20/20 [==============================] - 0s 6ms/step - loss: 1.3298 - accuracy: 0.5387 - val_loss: 1.2562 - val_accuracy: 0.5182\n",
      "Epoch 5/100\n",
      "20/20 [==============================] - 0s 6ms/step - loss: 1.1841 - accuracy: 0.5513 - val_loss: 1.1332 - val_accuracy: 0.5255\n",
      "Epoch 6/100\n",
      "20/20 [==============================] - 0s 6ms/step - loss: 1.0711 - accuracy: 0.5750 - val_loss: 1.0436 - val_accuracy: 0.5182\n",
      "Epoch 7/100\n",
      "20/20 [==============================] - 0s 6ms/step - loss: 0.9889 - accuracy: 0.5719 - val_loss: 0.9737 - val_accuracy: 0.5255\n",
      "Epoch 8/100\n",
      "20/20 [==============================] - 0s 6ms/step - loss: 0.9298 - accuracy: 0.5640 - val_loss: 0.9235 - val_accuracy: 0.5182\n",
      "Epoch 9/100\n",
      "20/20 [==============================] - 0s 7ms/step - loss: 0.8778 - accuracy: 0.5861 - val_loss: 0.8838 - val_accuracy: 0.5255\n",
      "Epoch 10/100\n",
      "20/20 [==============================] - 0s 7ms/step - loss: 0.8467 - accuracy: 0.5829 - val_loss: 0.8533 - val_accuracy: 0.5109\n",
      "Epoch 11/100\n",
      "20/20 [==============================] - 0s 6ms/step - loss: 0.8219 - accuracy: 0.5750 - val_loss: 0.8314 - val_accuracy: 0.5182\n",
      "Epoch 12/100\n",
      "20/20 [==============================] - 0s 6ms/step - loss: 0.8017 - accuracy: 0.5687 - val_loss: 0.8137 - val_accuracy: 0.5328\n",
      "Epoch 13/100\n",
      "20/20 [==============================] - 0s 9ms/step - loss: 0.7863 - accuracy: 0.5608 - val_loss: 0.8029 - val_accuracy: 0.4964\n",
      "Epoch 14/100\n",
      "20/20 [==============================] - 0s 6ms/step - loss: 0.7727 - accuracy: 0.6003 - val_loss: 0.7884 - val_accuracy: 0.5109\n",
      "Epoch 15/100\n",
      "20/20 [==============================] - 0s 7ms/step - loss: 0.7632 - accuracy: 0.5924 - val_loss: 0.7829 - val_accuracy: 0.4818\n",
      "Epoch 16/100\n",
      "20/20 [==============================] - 0s 7ms/step - loss: 0.7536 - accuracy: 0.5750 - val_loss: 0.7765 - val_accuracy: 0.4599\n",
      "Epoch 17/100\n",
      "20/20 [==============================] - 0s 5ms/step - loss: 0.7502 - accuracy: 0.5861 - val_loss: 0.7738 - val_accuracy: 0.4745\n",
      "Epoch 18/100\n",
      "20/20 [==============================] - 0s 6ms/step - loss: 0.7450 - accuracy: 0.5766 - val_loss: 0.7647 - val_accuracy: 0.4891\n",
      "Epoch 19/100\n",
      "20/20 [==============================] - 0s 6ms/step - loss: 0.7435 - accuracy: 0.5687 - val_loss: 0.7647 - val_accuracy: 0.4672\n",
      "Epoch 20/100\n",
      "20/20 [==============================] - 0s 5ms/step - loss: 0.7374 - accuracy: 0.5829 - val_loss: 0.7613 - val_accuracy: 0.4672\n",
      "Epoch 21/100\n",
      "20/20 [==============================] - 0s 5ms/step - loss: 0.7300 - accuracy: 0.6035 - val_loss: 0.7592 - val_accuracy: 0.4307\n",
      "Epoch 22/100\n",
      "20/20 [==============================] - 0s 5ms/step - loss: 0.7223 - accuracy: 0.6019 - val_loss: 0.7563 - val_accuracy: 0.4161\n",
      "Epoch 23/100\n",
      "20/20 [==============================] - 0s 5ms/step - loss: 0.7241 - accuracy: 0.5861 - val_loss: 0.7552 - val_accuracy: 0.4088\n",
      "Epoch 24/100\n",
      "20/20 [==============================] - 0s 7ms/step - loss: 0.7224 - accuracy: 0.5972 - val_loss: 0.7549 - val_accuracy: 0.4453\n",
      "Epoch 25/100\n",
      "20/20 [==============================] - 0s 8ms/step - loss: 0.7219 - accuracy: 0.5845 - val_loss: 0.7555 - val_accuracy: 0.4380\n",
      "Epoch 26/100\n",
      "20/20 [==============================] - 0s 8ms/step - loss: 0.7222 - accuracy: 0.5703 - val_loss: 0.7509 - val_accuracy: 0.4599\n",
      "Epoch 27/100\n",
      "20/20 [==============================] - 0s 6ms/step - loss: 0.7133 - accuracy: 0.5893 - val_loss: 0.7609 - val_accuracy: 0.4453\n",
      "Epoch 28/100\n",
      "20/20 [==============================] - 0s 5ms/step - loss: 0.7181 - accuracy: 0.5877 - val_loss: 0.7502 - val_accuracy: 0.4818\n",
      "Epoch 29/100\n",
      "20/20 [==============================] - 0s 5ms/step - loss: 0.7114 - accuracy: 0.5893 - val_loss: 0.7576 - val_accuracy: 0.4088\n",
      "Epoch 30/100\n",
      "20/20 [==============================] - 0s 5ms/step - loss: 0.7171 - accuracy: 0.5972 - val_loss: 0.7510 - val_accuracy: 0.4526\n",
      "Epoch 31/100\n",
      "20/20 [==============================] - 0s 5ms/step - loss: 0.7102 - accuracy: 0.5750 - val_loss: 0.7526 - val_accuracy: 0.4599\n",
      "Epoch 32/100\n",
      "20/20 [==============================] - 0s 5ms/step - loss: 0.7105 - accuracy: 0.5940 - val_loss: 0.7554 - val_accuracy: 0.4599\n",
      "Epoch 33/100\n",
      "20/20 [==============================] - 0s 5ms/step - loss: 0.7119 - accuracy: 0.5908 - val_loss: 0.7471 - val_accuracy: 0.5036\n",
      "Epoch 34/100\n",
      "20/20 [==============================] - 0s 5ms/step - loss: 0.7147 - accuracy: 0.5893 - val_loss: 0.7547 - val_accuracy: 0.4599\n",
      "Epoch 35/100\n",
      "20/20 [==============================] - 0s 6ms/step - loss: 0.7057 - accuracy: 0.5798 - val_loss: 0.7485 - val_accuracy: 0.4526\n",
      "Epoch 36/100\n",
      "20/20 [==============================] - 0s 6ms/step - loss: 0.7057 - accuracy: 0.5861 - val_loss: 0.7682 - val_accuracy: 0.4307\n",
      "Epoch 37/100\n",
      "20/20 [==============================] - 0s 6ms/step - loss: 0.7022 - accuracy: 0.5972 - val_loss: 0.7582 - val_accuracy: 0.4453\n",
      "Epoch 38/100\n",
      "20/20 [==============================] - 0s 6ms/step - loss: 0.7059 - accuracy: 0.5893 - val_loss: 0.7666 - val_accuracy: 0.4745\n",
      "Epoch 39/100\n",
      "20/20 [==============================] - 0s 6ms/step - loss: 0.7051 - accuracy: 0.5766 - val_loss: 0.7521 - val_accuracy: 0.4599\n",
      "Epoch 40/100\n",
      "20/20 [==============================] - 0s 5ms/step - loss: 0.7029 - accuracy: 0.5766 - val_loss: 0.7504 - val_accuracy: 0.4818\n",
      "Epoch 41/100\n",
      "20/20 [==============================] - 0s 5ms/step - loss: 0.7072 - accuracy: 0.5735 - val_loss: 0.7446 - val_accuracy: 0.4745\n",
      "Epoch 42/100\n",
      "20/20 [==============================] - 0s 5ms/step - loss: 0.7020 - accuracy: 0.5687 - val_loss: 0.7581 - val_accuracy: 0.4453\n",
      "Epoch 43/100\n",
      "20/20 [==============================] - 0s 5ms/step - loss: 0.7009 - accuracy: 0.5798 - val_loss: 0.7542 - val_accuracy: 0.5036\n",
      "Epoch 44/100\n",
      "20/20 [==============================] - 0s 6ms/step - loss: 0.7005 - accuracy: 0.5687 - val_loss: 0.7550 - val_accuracy: 0.5036\n",
      "Epoch 45/100\n",
      "20/20 [==============================] - 0s 5ms/step - loss: 0.7010 - accuracy: 0.5829 - val_loss: 0.7518 - val_accuracy: 0.5036\n",
      "Epoch 46/100\n",
      "20/20 [==============================] - 0s 8ms/step - loss: 0.7055 - accuracy: 0.5735 - val_loss: 0.7560 - val_accuracy: 0.4526\n",
      "Epoch 47/100\n",
      "20/20 [==============================] - 0s 6ms/step - loss: 0.7012 - accuracy: 0.5972 - val_loss: 0.7480 - val_accuracy: 0.4964\n",
      "Epoch 48/100\n",
      "20/20 [==============================] - 0s 5ms/step - loss: 0.6955 - accuracy: 0.6019 - val_loss: 0.7499 - val_accuracy: 0.5182\n",
      "Epoch 49/100\n",
      "20/20 [==============================] - 0s 5ms/step - loss: 0.6978 - accuracy: 0.5814 - val_loss: 0.7494 - val_accuracy: 0.4818\n",
      "Epoch 50/100\n",
      "20/20 [==============================] - 0s 5ms/step - loss: 0.6975 - accuracy: 0.5814 - val_loss: 0.7474 - val_accuracy: 0.5036\n",
      "Epoch 51/100\n",
      "20/20 [==============================] - 0s 5ms/step - loss: 0.6964 - accuracy: 0.5719 - val_loss: 0.7556 - val_accuracy: 0.4599\n",
      "Epoch 52/100\n",
      "20/20 [==============================] - 0s 5ms/step - loss: 0.6996 - accuracy: 0.6066 - val_loss: 0.7438 - val_accuracy: 0.4964\n",
      "Epoch 53/100\n",
      "20/20 [==============================] - 0s 5ms/step - loss: 0.7063 - accuracy: 0.5577 - val_loss: 0.7548 - val_accuracy: 0.4745\n",
      "Epoch 54/100\n",
      "20/20 [==============================] - 0s 5ms/step - loss: 0.6922 - accuracy: 0.5877 - val_loss: 0.7567 - val_accuracy: 0.4964\n",
      "Epoch 55/100\n",
      "20/20 [==============================] - 0s 5ms/step - loss: 0.6966 - accuracy: 0.5703 - val_loss: 0.7604 - val_accuracy: 0.4745\n",
      "Epoch 56/100\n",
      "20/20 [==============================] - 0s 5ms/step - loss: 0.6990 - accuracy: 0.5498 - val_loss: 0.7494 - val_accuracy: 0.4745\n",
      "Epoch 57/100\n",
      "20/20 [==============================] - 0s 5ms/step - loss: 0.6937 - accuracy: 0.5893 - val_loss: 0.7498 - val_accuracy: 0.4672\n",
      "Epoch 58/100\n",
      "20/20 [==============================] - 0s 5ms/step - loss: 0.6966 - accuracy: 0.5798 - val_loss: 0.7527 - val_accuracy: 0.4891\n",
      "Epoch 59/100\n",
      "20/20 [==============================] - 0s 5ms/step - loss: 0.6941 - accuracy: 0.5750 - val_loss: 0.7612 - val_accuracy: 0.4453\n",
      "Epoch 60/100\n",
      "20/20 [==============================] - 0s 6ms/step - loss: 0.7009 - accuracy: 0.5908 - val_loss: 0.7474 - val_accuracy: 0.4818\n",
      "Epoch 61/100\n",
      "20/20 [==============================] - 0s 5ms/step - loss: 0.6979 - accuracy: 0.5924 - val_loss: 0.7485 - val_accuracy: 0.4745\n",
      "Epoch 62/100\n",
      "20/20 [==============================] - 0s 6ms/step - loss: 0.6962 - accuracy: 0.5687 - val_loss: 0.7445 - val_accuracy: 0.4891\n",
      "Epoch 63/100\n",
      "20/20 [==============================] - 0s 5ms/step - loss: 0.6942 - accuracy: 0.5814 - val_loss: 0.7393 - val_accuracy: 0.4672\n",
      "Epoch 64/100\n",
      "20/20 [==============================] - 0s 5ms/step - loss: 0.6974 - accuracy: 0.5735 - val_loss: 0.7503 - val_accuracy: 0.4964\n",
      "Epoch 65/100\n",
      "20/20 [==============================] - 0s 5ms/step - loss: 0.6925 - accuracy: 0.5798 - val_loss: 0.7514 - val_accuracy: 0.4964\n",
      "Epoch 66/100\n",
      "20/20 [==============================] - 0s 5ms/step - loss: 0.6927 - accuracy: 0.5703 - val_loss: 0.7540 - val_accuracy: 0.4964\n",
      "Epoch 67/100\n",
      "20/20 [==============================] - 0s 5ms/step - loss: 0.6904 - accuracy: 0.5972 - val_loss: 0.7442 - val_accuracy: 0.5036\n",
      "Epoch 68/100\n",
      "20/20 [==============================] - 0s 6ms/step - loss: 0.6902 - accuracy: 0.5924 - val_loss: 0.7402 - val_accuracy: 0.4891\n",
      "Epoch 69/100\n",
      "20/20 [==============================] - 0s 6ms/step - loss: 0.6931 - accuracy: 0.5940 - val_loss: 0.7380 - val_accuracy: 0.5182\n",
      "Epoch 70/100\n",
      "20/20 [==============================] - 0s 6ms/step - loss: 0.6921 - accuracy: 0.6003 - val_loss: 0.7512 - val_accuracy: 0.5036\n",
      "Epoch 71/100\n",
      "20/20 [==============================] - 0s 6ms/step - loss: 0.6941 - accuracy: 0.5766 - val_loss: 0.7583 - val_accuracy: 0.4745\n",
      "Epoch 72/100\n",
      "20/20 [==============================] - 0s 6ms/step - loss: 0.6912 - accuracy: 0.5924 - val_loss: 0.7378 - val_accuracy: 0.5036\n",
      "Epoch 73/100\n",
      "20/20 [==============================] - 0s 5ms/step - loss: 0.6917 - accuracy: 0.5656 - val_loss: 0.7458 - val_accuracy: 0.4891\n",
      "Epoch 74/100\n",
      "20/20 [==============================] - 0s 6ms/step - loss: 0.6852 - accuracy: 0.5972 - val_loss: 0.7536 - val_accuracy: 0.4599\n",
      "Epoch 75/100\n",
      "20/20 [==============================] - 0s 6ms/step - loss: 0.6871 - accuracy: 0.5987 - val_loss: 0.7454 - val_accuracy: 0.4964\n",
      "Epoch 76/100\n",
      "20/20 [==============================] - 0s 6ms/step - loss: 0.6884 - accuracy: 0.5798 - val_loss: 0.7371 - val_accuracy: 0.5036\n",
      "Epoch 77/100\n",
      "20/20 [==============================] - 0s 6ms/step - loss: 0.6843 - accuracy: 0.5893 - val_loss: 0.7479 - val_accuracy: 0.5036\n",
      "Epoch 78/100\n",
      "20/20 [==============================] - 0s 5ms/step - loss: 0.6839 - accuracy: 0.6019 - val_loss: 0.7377 - val_accuracy: 0.5328\n",
      "Epoch 79/100\n",
      "20/20 [==============================] - 0s 6ms/step - loss: 0.6868 - accuracy: 0.5750 - val_loss: 0.7383 - val_accuracy: 0.4964\n",
      "Epoch 80/100\n",
      "20/20 [==============================] - 0s 5ms/step - loss: 0.6854 - accuracy: 0.5956 - val_loss: 0.7452 - val_accuracy: 0.4964\n",
      "Epoch 81/100\n",
      "20/20 [==============================] - 0s 5ms/step - loss: 0.6844 - accuracy: 0.6051 - val_loss: 0.7461 - val_accuracy: 0.4599\n",
      "Epoch 82/100\n",
      "20/20 [==============================] - 0s 5ms/step - loss: 0.6822 - accuracy: 0.6019 - val_loss: 0.7378 - val_accuracy: 0.5401\n",
      "Epoch 83/100\n",
      "20/20 [==============================] - 0s 5ms/step - loss: 0.6892 - accuracy: 0.5750 - val_loss: 0.7464 - val_accuracy: 0.4891\n",
      "Epoch 84/100\n",
      "20/20 [==============================] - 0s 5ms/step - loss: 0.6908 - accuracy: 0.5924 - val_loss: 0.7347 - val_accuracy: 0.5109\n",
      "Epoch 85/100\n",
      "20/20 [==============================] - 0s 6ms/step - loss: 0.6830 - accuracy: 0.6066 - val_loss: 0.7391 - val_accuracy: 0.4599\n",
      "Epoch 86/100\n",
      "20/20 [==============================] - 0s 5ms/step - loss: 0.6793 - accuracy: 0.6051 - val_loss: 0.7648 - val_accuracy: 0.4891\n",
      "Epoch 87/100\n",
      "20/20 [==============================] - 0s 6ms/step - loss: 0.6894 - accuracy: 0.5798 - val_loss: 0.7395 - val_accuracy: 0.5255\n",
      "Epoch 88/100\n",
      "20/20 [==============================] - 0s 6ms/step - loss: 0.6930 - accuracy: 0.5703 - val_loss: 0.7315 - val_accuracy: 0.5255\n",
      "Epoch 89/100\n",
      "20/20 [==============================] - 0s 6ms/step - loss: 0.6840 - accuracy: 0.5924 - val_loss: 0.7417 - val_accuracy: 0.4672\n",
      "Epoch 90/100\n",
      "20/20 [==============================] - 0s 6ms/step - loss: 0.6820 - accuracy: 0.5956 - val_loss: 0.7348 - val_accuracy: 0.5109\n",
      "Epoch 91/100\n",
      "20/20 [==============================] - 0s 5ms/step - loss: 0.6843 - accuracy: 0.5987 - val_loss: 0.7314 - val_accuracy: 0.4891\n",
      "Epoch 92/100\n",
      "20/20 [==============================] - 0s 5ms/step - loss: 0.6812 - accuracy: 0.5924 - val_loss: 0.7486 - val_accuracy: 0.5036\n",
      "Epoch 93/100\n",
      "20/20 [==============================] - 0s 5ms/step - loss: 0.6884 - accuracy: 0.5798 - val_loss: 0.7434 - val_accuracy: 0.5109\n",
      "Epoch 94/100\n",
      "20/20 [==============================] - 0s 6ms/step - loss: 0.6816 - accuracy: 0.5861 - val_loss: 0.7363 - val_accuracy: 0.5182\n",
      "Epoch 95/100\n",
      "20/20 [==============================] - 0s 6ms/step - loss: 0.6829 - accuracy: 0.5877 - val_loss: 0.7332 - val_accuracy: 0.5036\n",
      "Epoch 96/100\n",
      "20/20 [==============================] - 0s 5ms/step - loss: 0.6842 - accuracy: 0.6066 - val_loss: 0.7338 - val_accuracy: 0.4964\n",
      "Epoch 97/100\n",
      "20/20 [==============================] - 0s 5ms/step - loss: 0.6900 - accuracy: 0.5798 - val_loss: 0.7449 - val_accuracy: 0.4891\n",
      "Epoch 98/100\n",
      "20/20 [==============================] - 0s 5ms/step - loss: 0.6831 - accuracy: 0.5845 - val_loss: 0.7440 - val_accuracy: 0.4891\n",
      "Epoch 99/100\n",
      "20/20 [==============================] - 0s 5ms/step - loss: 0.6849 - accuracy: 0.5829 - val_loss: 0.7340 - val_accuracy: 0.5109\n",
      "Epoch 100/100\n",
      "20/20 [==============================] - 0s 5ms/step - loss: 0.6837 - accuracy: 0.6019 - val_loss: 0.7336 - val_accuracy: 0.5036\n"
     ]
    }
   ],
   "source": [
    "history = model.fit(X_train_1, train_5w,\n",
    "                    epochs=100,\n",
    "                    validation_data=(X_val_1, val_5w))"
   ]
  },
  {
   "cell_type": "code",
   "execution_count": 45,
   "metadata": {},
   "outputs": [
    {
     "name": "stdout",
     "output_type": "stream",
     "text": [
      "-----------------------------------------------------------------\n",
      "train accuracy = 58.1359%\n",
      "test accuracy = 53.0303%\n",
      "test error = 31 out of 66 examples\n"
     ]
    }
   ],
   "source": [
    "train_loss, train_acc = model.evaluate(X_train_1, train_5w,\n",
    "                                       batch_size=M_TRAIN, verbose=0)\n",
    "test_loss, test_acc = model.evaluate(X_test_1, test_5w,\n",
    "                                     batch_size=M_TEST, verbose=0)\n",
    "print('-'*65)\n",
    "print(f'train accuracy = {round(train_acc * 100, 4)}%')\n",
    "print(f'test accuracy = {round(test_acc * 100, 4)}%')\n",
    "print(f'test error = {round((1 - test_acc) * M_TEST)} out of {M_TEST} examples')"
   ]
  },
  {
   "cell_type": "code",
   "execution_count": 46,
   "metadata": {},
   "outputs": [
    {
     "data": {
      "text/plain": [
       "[Text(0, 0.5, 'True: 0'), Text(0, 1.5, 'True: 1')]"
      ]
     },
     "execution_count": 46,
     "metadata": {},
     "output_type": "execute_result"
    },
    {
     "data": {
      "image/png": "[encoded data removed]",
      "text/plain": [
       "<Figure size 432x288 with 2 Axes>"
      ]
     },
     "metadata": {
      "needs_background": "light"
     },
     "output_type": "display_data"
    }
   ],
   "source": [
    "# Display confusion matrix results\n",
    "from sklearn.metrics import confusion_matrix\n",
    "\n",
    "ax = plt.subplot()\n",
    "predicted = model.predict(X_test_1)\n",
    "predicted = (predicted > 0.5)\n",
    "\n",
    "confusion = confusion_matrix(test_5w, predicted)\n",
    "\n",
    "sns.heatmap(confusion, annot=True, ax=ax)\n",
    "\n",
    "ax.set_xlabel('Predicted')\n",
    "ax.set_ylabel('True')\n",
    "ax.set_title('Confusion Matrix')\n",
    "ax.xaxis.set_ticklabels([\"Predicted: 0\", \"Predicted: 1\"])\n",
    "ax.yaxis.set_ticklabels([\"True: 0\", \"True: 1\"])"
   ]
  },
  {
   "cell_type": "markdown",
   "metadata": {},
   "source": [
    "Interesting, the simplistic model which included fewer SelectKBest features had a similar level of accuracy and experienced less overfitting. We can confirm this since the training accuracy and testing accuracy are growing closer while the loss functions are decreasing (improving). "
   ]
  },
  {
   "cell_type": "code",
   "execution_count": null,
   "metadata": {},
   "outputs": [],
   "source": []
  },
  {
   "cell_type": "markdown",
   "metadata": {},
   "source": [
    "### 5. Discussion of Findings "
   ]
  },
  {
   "cell_type": "markdown",
   "metadata": {},
   "source": []
  }
 ],
 "metadata": {
  "interpreter": {
   "hash": "f3d42ad487b2b2994e012ab0306cc0a65d83ea9d079e1ade1e8453053e613de7"
  },
  "kernelspec": {
   "display_name": "Python 3.9.6 64-bit",
   "language": "python",
   "name": "python3"
  },
  "language_info": {
   "codemirror_mode": {
    "name": "ipython",
    "version": 3
   },
   "file_extension": ".py",
   "mimetype": "text/x-python",
   "name": "python",
   "nbconvert_exporter": "python",
   "pygments_lexer": "ipython3",
   "version": "3.9.6"
  }
 },
 "nbformat": 4,
 "nbformat_minor": 4
}
