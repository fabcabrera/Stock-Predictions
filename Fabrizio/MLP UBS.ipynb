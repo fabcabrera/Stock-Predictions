{
 "cells": [
  {
   "cell_type": "markdown",
   "metadata": {},
   "source": [
    "### Multi-Layer Perceptron "
   ]
  },
  {
   "cell_type": "code",
   "execution_count": 140,
   "metadata": {},
   "outputs": [],
   "source": [
    "import pandas as pd\n",
    "import numpy as np\n",
    "import matplotlib.pyplot as plt\n",
    "import tensorflow as tf\n",
    "from sklearn import (\n",
    "    linear_model, metrics, neural_network, pipeline, model_selection\n",
    ")\n",
    "from sklearn.impute import SimpleImputer\n",
    "\n",
    "from sklearn.decomposition import PCA\n",
    "from sklearn.preprocessing import StandardScaler\n",
    "from sklearn.pipeline import Pipeline\n",
    "from sklearn.model_selection import train_test_split, GridSearchCV\n",
    "from sklearn.linear_model import Lasso\n",
    "from sklearn.preprocessing import MinMaxScaler\n",
    "from keras.models import Sequential\n",
    "from keras.layers import Dense\n",
    "from sklearn.metrics import mean_squared_error, accuracy_score, precision_score, recall_score, f1_score\n",
    "from sklearn.model_selection import TimeSeriesSplit"
   ]
  },
  {
   "cell_type": "code",
   "execution_count": 141,
   "metadata": {},
   "outputs": [],
   "source": [
    "# import the data\n",
    "df = pd.read_csv('UBS_Cleaned_Date.csv')"
   ]
  },
  {
   "cell_type": "code",
   "execution_count": 142,
   "metadata": {},
   "outputs": [],
   "source": [
    "# cleaning\n",
    "df = df.dropna() # to remove NaN\n",
    "df = df[~(df.isin([np.inf, -np.inf]).any(axis=1))] # to remove inf"
   ]
  },
  {
   "cell_type": "code",
   "execution_count": 143,
   "metadata": {},
   "outputs": [],
   "source": [
    "# Change \"date\" column to ensure datetime type and drop weekends\n",
    "df[\"date\"] = pd.to_datetime(df[\"date\"])"
   ]
  },
  {
   "cell_type": "markdown",
   "metadata": {},
   "source": [
    "#### MPL With Features From Feature Selection Process"
   ]
  },
  {
   "cell_type": "code",
   "execution_count": 144,
   "metadata": {},
   "outputs": [],
   "source": [
    "# TimeSeriesSplit the data\n",
    "tss = TimeSeriesSplit(n_splits=5)\n",
    "\n",
    "# Create feature dataframe based on feature selection results\n",
    "X = df[[\"date\", \"Change_Close\",\n",
    "            \"Wiki_RSI_Move\", \"Dow_Disparity_Move\", \n",
    "            \"Wiki_MAvg_Move\", \"Nas_Move\",\n",
    "            \"Google_rs\", \"Google_ROC_Move\", \n",
    "            \"Nas_Disparity_Move\", \"Google_Disparity_s_Move\",\n",
    "            \"Nas_Disparity_s_Move\", \"Google_gain\",\n",
    "            \"Dow_Disparity_s_Move\", \"Google_RSI_Move\", \"Google_diff\",\n",
    "            \"Dow_Move\", \"Google_Moment_2_s\", \"Dow_Rocp\", \"Nas_gain\",\n",
    "            \"Wiki_Disparity_s\", \"Nas_MAvg_s_Move\", \"Google_Move\",\n",
    "            \"Google_Disparity_s\", \"Google_total\", \"UBS_y\", \"Google_Rocp\",\n",
    "            \"target_1\"\n",
    "            ]]\n",
    "\n",
    "X = X.set_index(\"date\")\n",
    "\n",
    "# Create y target dataset\n",
    "y = df[\"target_1\"]\n",
    "\n",
    "for train_index, test_index in tss.split(X):\n",
    "    X_train, X_test = X.iloc[train_index, :], X.iloc[test_index,:]\n",
    "    y_train, y_test = y.iloc[train_index], y.iloc[test_index]"
   ]
  },
  {
   "cell_type": "code",
   "execution_count": 145,
   "metadata": {},
   "outputs": [
    {
     "data": {
      "text/html": [
       "<div>\n",
       "<style scoped>\n",
       "    .dataframe tbody tr th:only-of-type {\n",
       "        vertical-align: middle;\n",
       "    }\n",
       "\n",
       "    .dataframe tbody tr th {\n",
       "        vertical-align: top;\n",
       "    }\n",
       "\n",
       "    .dataframe thead th {\n",
       "        text-align: right;\n",
       "    }\n",
       "</style>\n",
       "<table border=\"1\" class=\"dataframe\">\n",
       "  <thead>\n",
       "    <tr style=\"text-align: right;\">\n",
       "      <th></th>\n",
       "      <th>Change_Close</th>\n",
       "      <th>Wiki_RSI_Move</th>\n",
       "      <th>Dow_Disparity_Move</th>\n",
       "      <th>Wiki_MAvg_Move</th>\n",
       "      <th>Nas_Move</th>\n",
       "      <th>Google_rs</th>\n",
       "      <th>Google_ROC_Move</th>\n",
       "      <th>Nas_Disparity_Move</th>\n",
       "      <th>Google_Disparity_s_Move</th>\n",
       "      <th>Nas_Disparity_s_Move</th>\n",
       "      <th>...</th>\n",
       "      <th>Dow_Rocp</th>\n",
       "      <th>Nas_gain</th>\n",
       "      <th>Wiki_Disparity_s</th>\n",
       "      <th>Nas_MAvg_s_Move</th>\n",
       "      <th>Google_Move</th>\n",
       "      <th>Google_Disparity_s</th>\n",
       "      <th>Google_total</th>\n",
       "      <th>UBS_y</th>\n",
       "      <th>Google_Rocp</th>\n",
       "      <th>target_1</th>\n",
       "    </tr>\n",
       "  </thead>\n",
       "  <tbody>\n",
       "    <tr>\n",
       "      <th>0</th>\n",
       "      <td>0</td>\n",
       "      <td>0</td>\n",
       "      <td>0</td>\n",
       "      <td>0</td>\n",
       "      <td>0</td>\n",
       "      <td>0</td>\n",
       "      <td>0</td>\n",
       "      <td>0</td>\n",
       "      <td>0</td>\n",
       "      <td>0</td>\n",
       "      <td>...</td>\n",
       "      <td>0</td>\n",
       "      <td>0</td>\n",
       "      <td>0</td>\n",
       "      <td>0</td>\n",
       "      <td>0</td>\n",
       "      <td>0</td>\n",
       "      <td>0</td>\n",
       "      <td>0</td>\n",
       "      <td>0</td>\n",
       "      <td>0</td>\n",
       "    </tr>\n",
       "  </tbody>\n",
       "</table>\n",
       "<p>1 rows × 26 columns</p>\n",
       "</div>"
      ],
      "text/plain": [
       "   Change_Close  Wiki_RSI_Move  Dow_Disparity_Move  Wiki_MAvg_Move  Nas_Move  \\\n",
       "0             0              0                   0               0         0   \n",
       "\n",
       "   Google_rs  Google_ROC_Move  Nas_Disparity_Move  Google_Disparity_s_Move  \\\n",
       "0          0                0                   0                        0   \n",
       "\n",
       "   Nas_Disparity_s_Move  ...  Dow_Rocp  Nas_gain  Wiki_Disparity_s  \\\n",
       "0                     0  ...         0         0                 0   \n",
       "\n",
       "   Nas_MAvg_s_Move  Google_Move  Google_Disparity_s  Google_total  UBS_y  \\\n",
       "0                0            0                   0             0      0   \n",
       "\n",
       "   Google_Rocp  target_1  \n",
       "0            0         0  \n",
       "\n",
       "[1 rows x 26 columns]"
      ]
     },
     "execution_count": 145,
     "metadata": {},
     "output_type": "execute_result"
    }
   ],
   "source": [
    "pd.DataFrame(X.isna().sum()).T"
   ]
  },
  {
   "cell_type": "code",
   "execution_count": 146,
   "metadata": {},
   "outputs": [
    {
     "name": "stdout",
     "output_type": "stream",
     "text": [
      "DatetimeIndex(['2019-01-28', '2019-01-29', '2019-01-30', '2019-02-01',\n",
      "               '2019-02-04', '2019-02-05', '2019-02-06', '2019-02-07',\n",
      "               '2019-02-08', '2019-02-11',\n",
      "               ...\n",
      "               '2021-09-09', '2021-09-10', '2021-09-14', '2021-09-15',\n",
      "               '2021-09-16', '2021-09-17', '2021-09-20', '2021-09-21',\n",
      "               '2021-09-22', '2021-09-23'],\n",
      "              dtype='datetime64[ns]', name='date', length=624, freq=None)\n",
      "DatetimeIndex(['2021-09-24', '2021-09-27', '2021-09-28', '2021-09-29',\n",
      "               '2021-09-30', '2021-10-01', '2021-10-04', '2021-10-05',\n",
      "               '2021-10-06', '2021-10-07',\n",
      "               ...\n",
      "               '2022-03-16', '2022-03-17', '2022-03-18', '2022-03-21',\n",
      "               '2022-03-22', '2022-03-23', '2022-03-24', '2022-03-25',\n",
      "               '2022-03-28', '2022-03-29'],\n",
      "              dtype='datetime64[ns]', name='date', length=124, freq=None)\n"
     ]
    }
   ],
   "source": [
    "# Print index of train and test data to check that they are split correctly\n",
    "print(X_train.index)\n",
    "print(X_test.index)"
   ]
  },
  {
   "cell_type": "code",
   "execution_count": 147,
   "metadata": {},
   "outputs": [],
   "source": [
    "# Standardize the data\n",
    "scaler = StandardScaler()\n",
    "X_train_pca = scaler.fit_transform(X_train)\n",
    "X_test_pca = scaler.fit_transform(X_test)"
   ]
  },
  {
   "cell_type": "code",
   "execution_count": 148,
   "metadata": {},
   "outputs": [
    {
     "name": "stdout",
     "output_type": "stream",
     "text": [
      "Epoch 1/50\n",
      "63/63 [==============================] - 1s 7ms/step - loss: 437.2392 - accuracy: 0.5064 - val_loss: 65.2254 - val_accuracy: 0.5887\n",
      "Epoch 2/50\n",
      "63/63 [==============================] - 0s 3ms/step - loss: 72.6860 - accuracy: 0.5288 - val_loss: 39.1483 - val_accuracy: 0.4919\n",
      "Epoch 3/50\n",
      "63/63 [==============================] - 0s 5ms/step - loss: 66.7219 - accuracy: 0.5048 - val_loss: 19.9510 - val_accuracy: 0.4919\n",
      "Epoch 4/50\n",
      "63/63 [==============================] - 0s 4ms/step - loss: 43.4590 - accuracy: 0.5385 - val_loss: 51.6309 - val_accuracy: 0.5242\n",
      "Epoch 5/50\n",
      "63/63 [==============================] - 0s 5ms/step - loss: 51.8796 - accuracy: 0.4952 - val_loss: 14.5036 - val_accuracy: 0.5645\n",
      "Epoch 6/50\n",
      "63/63 [==============================] - 0s 4ms/step - loss: 32.7724 - accuracy: 0.5593 - val_loss: 36.0019 - val_accuracy: 0.5403\n",
      "Epoch 7/50\n",
      "63/63 [==============================] - 0s 5ms/step - loss: 22.4844 - accuracy: 0.5321 - val_loss: 30.8538 - val_accuracy: 0.5484\n",
      "Epoch 8/50\n",
      "63/63 [==============================] - 0s 4ms/step - loss: 41.7426 - accuracy: 0.5321 - val_loss: 58.2912 - val_accuracy: 0.5726\n",
      "Epoch 9/50\n",
      "63/63 [==============================] - 0s 3ms/step - loss: 64.0020 - accuracy: 0.5272 - val_loss: 22.8060 - val_accuracy: 0.5887\n",
      "Epoch 10/50\n",
      "63/63 [==============================] - 0s 2ms/step - loss: 68.9073 - accuracy: 0.5304 - val_loss: 61.1426 - val_accuracy: 0.5323\n",
      "Epoch 11/50\n",
      "63/63 [==============================] - 0s 2ms/step - loss: 50.7110 - accuracy: 0.5609 - val_loss: 58.3752 - val_accuracy: 0.4435\n",
      "Epoch 12/50\n",
      "63/63 [==============================] - 0s 2ms/step - loss: 57.3530 - accuracy: 0.5353 - val_loss: 52.5968 - val_accuracy: 0.5161\n",
      "Epoch 13/50\n",
      "63/63 [==============================] - 0s 2ms/step - loss: 41.1582 - accuracy: 0.5497 - val_loss: 17.8816 - val_accuracy: 0.5887\n",
      "Epoch 14/50\n",
      "63/63 [==============================] - 0s 2ms/step - loss: 31.3845 - accuracy: 0.5513 - val_loss: 10.1877 - val_accuracy: 0.5161\n",
      "Epoch 15/50\n",
      "63/63 [==============================] - 0s 4ms/step - loss: 26.5622 - accuracy: 0.5433 - val_loss: 20.4940 - val_accuracy: 0.5726\n",
      "Epoch 16/50\n",
      "63/63 [==============================] - 0s 5ms/step - loss: 20.6372 - accuracy: 0.5465 - val_loss: 27.5494 - val_accuracy: 0.5484\n",
      "Epoch 17/50\n",
      "63/63 [==============================] - 0s 8ms/step - loss: 35.6701 - accuracy: 0.5689 - val_loss: 47.7867 - val_accuracy: 0.4597\n",
      "Epoch 18/50\n",
      "63/63 [==============================] - 0s 3ms/step - loss: 41.7362 - accuracy: 0.5625 - val_loss: 13.9768 - val_accuracy: 0.4677\n",
      "Epoch 19/50\n",
      "63/63 [==============================] - 0s 4ms/step - loss: 69.3226 - accuracy: 0.5401 - val_loss: 53.8735 - val_accuracy: 0.4839\n",
      "Epoch 20/50\n",
      "63/63 [==============================] - 0s 6ms/step - loss: 75.2299 - accuracy: 0.5337 - val_loss: 20.9889 - val_accuracy: 0.5403\n",
      "Epoch 21/50\n",
      "63/63 [==============================] - 0s 5ms/step - loss: 36.0850 - accuracy: 0.5609 - val_loss: 13.3151 - val_accuracy: 0.5484\n",
      "Epoch 22/50\n",
      "63/63 [==============================] - 0s 3ms/step - loss: 36.0646 - accuracy: 0.5224 - val_loss: 35.4607 - val_accuracy: 0.5242\n",
      "Epoch 23/50\n",
      "63/63 [==============================] - 0s 3ms/step - loss: 30.1897 - accuracy: 0.5529 - val_loss: 23.5866 - val_accuracy: 0.5726\n",
      "Epoch 24/50\n",
      "63/63 [==============================] - 0s 4ms/step - loss: 48.1123 - accuracy: 0.5256 - val_loss: 44.2430 - val_accuracy: 0.4194\n",
      "Epoch 25/50\n",
      "63/63 [==============================] - 0s 4ms/step - loss: 22.6007 - accuracy: 0.5449 - val_loss: 17.0570 - val_accuracy: 0.5887\n",
      "Epoch 26/50\n",
      "63/63 [==============================] - 0s 3ms/step - loss: 26.7617 - accuracy: 0.5321 - val_loss: 20.4251 - val_accuracy: 0.5645\n",
      "Epoch 27/50\n",
      "63/63 [==============================] - 0s 2ms/step - loss: 36.2890 - accuracy: 0.5913 - val_loss: 61.9870 - val_accuracy: 0.4274\n",
      "Epoch 28/50\n",
      "63/63 [==============================] - 0s 7ms/step - loss: 48.6245 - accuracy: 0.5353 - val_loss: 12.7959 - val_accuracy: 0.5081\n",
      "Epoch 29/50\n",
      "63/63 [==============================] - 0s 4ms/step - loss: 35.4973 - accuracy: 0.5353 - val_loss: 8.7202 - val_accuracy: 0.5968\n",
      "Epoch 30/50\n",
      "63/63 [==============================] - 0s 3ms/step - loss: 34.0587 - accuracy: 0.5673 - val_loss: 39.4022 - val_accuracy: 0.5806\n",
      "Epoch 31/50\n",
      "63/63 [==============================] - 0s 2ms/step - loss: 31.7384 - accuracy: 0.5321 - val_loss: 26.0714 - val_accuracy: 0.5323\n",
      "Epoch 32/50\n",
      "63/63 [==============================] - 0s 4ms/step - loss: 24.9839 - accuracy: 0.5529 - val_loss: 26.8411 - val_accuracy: 0.5000\n",
      "Epoch 33/50\n",
      "63/63 [==============================] - 0s 6ms/step - loss: 38.2120 - accuracy: 0.5337 - val_loss: 24.7211 - val_accuracy: 0.4839\n",
      "Epoch 34/50\n",
      "63/63 [==============================] - 0s 5ms/step - loss: 26.5653 - accuracy: 0.5385 - val_loss: 9.1828 - val_accuracy: 0.5081\n",
      "Epoch 35/50\n",
      "63/63 [==============================] - 0s 2ms/step - loss: 25.3655 - accuracy: 0.5929 - val_loss: 34.9536 - val_accuracy: 0.5484\n",
      "Epoch 36/50\n",
      "63/63 [==============================] - 0s 2ms/step - loss: 23.3083 - accuracy: 0.5721 - val_loss: 5.6267 - val_accuracy: 0.5806\n",
      "Epoch 37/50\n",
      "63/63 [==============================] - 0s 3ms/step - loss: 25.7991 - accuracy: 0.6010 - val_loss: 39.9951 - val_accuracy: 0.5887\n",
      "Epoch 38/50\n",
      "63/63 [==============================] - 0s 3ms/step - loss: 38.5546 - accuracy: 0.5288 - val_loss: 6.4484 - val_accuracy: 0.5645\n",
      "Epoch 39/50\n",
      "63/63 [==============================] - 0s 3ms/step - loss: 56.4741 - accuracy: 0.5721 - val_loss: 62.3177 - val_accuracy: 0.4919\n",
      "Epoch 40/50\n",
      "63/63 [==============================] - 0s 3ms/step - loss: 59.3661 - accuracy: 0.5417 - val_loss: 16.1940 - val_accuracy: 0.5081\n",
      "Epoch 41/50\n",
      "63/63 [==============================] - 0s 3ms/step - loss: 29.2443 - accuracy: 0.5673 - val_loss: 18.7779 - val_accuracy: 0.6129\n",
      "Epoch 42/50\n",
      "63/63 [==============================] - 0s 2ms/step - loss: 28.2424 - accuracy: 0.5401 - val_loss: 44.4366 - val_accuracy: 0.5242\n",
      "Epoch 43/50\n",
      "63/63 [==============================] - 0s 3ms/step - loss: 25.0331 - accuracy: 0.5545 - val_loss: 11.3097 - val_accuracy: 0.6532\n",
      "Epoch 44/50\n",
      "63/63 [==============================] - 0s 2ms/step - loss: 33.9223 - accuracy: 0.5705 - val_loss: 13.9348 - val_accuracy: 0.5403\n",
      "Epoch 45/50\n",
      "63/63 [==============================] - 0s 4ms/step - loss: 34.6196 - accuracy: 0.5561 - val_loss: 27.6933 - val_accuracy: 0.5887\n",
      "Epoch 46/50\n",
      "63/63 [==============================] - 0s 5ms/step - loss: 45.9645 - accuracy: 0.5144 - val_loss: 49.5717 - val_accuracy: 0.5887\n",
      "Epoch 47/50\n",
      "63/63 [==============================] - 0s 3ms/step - loss: 26.0577 - accuracy: 0.5737 - val_loss: 16.8487 - val_accuracy: 0.4758\n",
      "Epoch 48/50\n",
      "63/63 [==============================] - 0s 4ms/step - loss: 18.2435 - accuracy: 0.6202 - val_loss: 8.5637 - val_accuracy: 0.6371\n",
      "Epoch 49/50\n",
      "63/63 [==============================] - 0s 3ms/step - loss: 27.0436 - accuracy: 0.5481 - val_loss: 25.7438 - val_accuracy: 0.5161\n",
      "Epoch 50/50\n",
      "63/63 [==============================] - 0s 3ms/step - loss: 22.2719 - accuracy: 0.5881 - val_loss: 37.9226 - val_accuracy: 0.4516\n"
     ]
    }
   ],
   "source": [
    "# Build MPL model\n",
    "n_features = X_train_pca.shape[1]\n",
    "model = Sequential()\n",
    "model.add(Dense(50, activation='relu', input_shape=(n_features,)))\n",
    "model.add(Dense(1, activation='sigmoid'))\n",
    "\n",
    "# Compile model\n",
    "model.compile(loss='binary_crossentropy', optimizer='adam', metrics=['accuracy'])\n",
    "\n",
    "# Fit model\n",
    "history = model.fit(X_train, y_train, epochs=50, validation_data=(X_test, y_test), batch_size=10)\n",
    "history\n",
    "\n",
    "# predict on test data\n",
    "y_pred = model.predict(X_test)"
   ]
  },
  {
   "cell_type": "code",
   "execution_count": 149,
   "metadata": {},
   "outputs": [
    {
     "data": {
      "text/plain": [
       "<AxesSubplot:>"
      ]
     },
     "execution_count": 149,
     "metadata": {},
     "output_type": "execute_result"
    },
    {
     "data": {
      "image/png": "[encoded data removed]",
      "text/plain": [
       "<Figure size 720x432 with 1 Axes>"
      ]
     },
     "metadata": {
      "needs_background": "light"
     },
     "output_type": "display_data"
    }
   ],
   "source": [
    "pd.DataFrame(history.history).plot(figsize=(10,6))"
   ]
  },
  {
   "cell_type": "markdown",
   "metadata": {},
   "source": [
    "#### MPL With PCA For Feature Reduction"
   ]
  },
  {
   "cell_type": "code",
   "execution_count": 150,
   "metadata": {},
   "outputs": [],
   "source": [
    "# Time series train/test split\n",
    "tss= TimeSeriesSplit(n_splits=5)\n",
    "\n",
    "# Keep all features, but remove the five target variables\n",
    "X = df.iloc[:, :-5]\n",
    "X = X.set_index(\"date\")\n",
    "\n",
    "X = X.dropna() # to remove NaN\n",
    "X = X[~(X.isin([np.inf, -np.inf]).any(axis=1))] # to remove inf\n",
    "\n",
    "# Create series for target \n",
    "y = df.iloc[:, -1]\n",
    "\n",
    "y = y.dropna() # to remove NaN\n",
    "#y = y[~(y.isin([np.inf, -np.inf]).any(axis=1))] # to remove inf\n",
    "\n",
    "\n",
    "# Split tranining and test data by date\n",
    "for train_index, test_index in tss.split(X):\n",
    "    X_train, X_test = X.iloc[train_index, :], X.iloc[test_index,:]\n",
    "    y_train, y_test = y.iloc[train_index], y.iloc[test_index]"
   ]
  },
  {
   "cell_type": "code",
   "execution_count": 151,
   "metadata": {},
   "outputs": [
    {
     "name": "stdout",
     "output_type": "stream",
     "text": [
      "DatetimeIndex(['2019-01-28', '2019-01-29', '2019-01-30', '2019-02-01',\n",
      "               '2019-02-04', '2019-02-05', '2019-02-06', '2019-02-07',\n",
      "               '2019-02-08', '2019-02-11',\n",
      "               ...\n",
      "               '2021-09-09', '2021-09-10', '2021-09-14', '2021-09-15',\n",
      "               '2021-09-16', '2021-09-17', '2021-09-20', '2021-09-21',\n",
      "               '2021-09-22', '2021-09-23'],\n",
      "              dtype='datetime64[ns]', name='date', length=624, freq=None)\n",
      "DatetimeIndex(['2021-09-24', '2021-09-27', '2021-09-28', '2021-09-29',\n",
      "               '2021-09-30', '2021-10-01', '2021-10-04', '2021-10-05',\n",
      "               '2021-10-06', '2021-10-07',\n",
      "               ...\n",
      "               '2022-03-16', '2022-03-17', '2022-03-18', '2022-03-21',\n",
      "               '2022-03-22', '2022-03-23', '2022-03-24', '2022-03-25',\n",
      "               '2022-03-28', '2022-03-29'],\n",
      "              dtype='datetime64[ns]', name='date', length=124, freq=None)\n"
     ]
    }
   ],
   "source": [
    "# Print index of train and test data to check that they are split correctly\n",
    "print(X_train.index)\n",
    "print(X_test.index)"
   ]
  },
  {
   "cell_type": "code",
   "execution_count": 159,
   "metadata": {},
   "outputs": [],
   "source": [
    "# PCA feature reduction. 6 components is enough to explain ~85% of the variance (refer to Feture_selection notebook)\n",
    "sklearn_pca = PCA(n_components=6)\n",
    "X_train_pca = sklearn_pca.fit_transform(X_train)\n",
    "X_test_pca = sklearn_pca.transform(X_test)\n",
    "\n",
    "# Standardize the data \n",
    "scaler = StandardScaler()\n",
    "X_train_pca = scaler.fit_transform(X_train_pca)\n",
    "X_test_pca = scaler.fit_transform(X_test_pca)"
   ]
  },
  {
   "cell_type": "code",
   "execution_count": 160,
   "metadata": {},
   "outputs": [
    {
     "name": "stdout",
     "output_type": "stream",
     "text": [
      "Epoch 1/50\n",
      "63/63 [==============================] - 3s 20ms/step - loss: 0.6978 - accuracy: 0.5465 - val_loss: 0.7157 - val_accuracy: 0.4919\n",
      "Epoch 2/50\n",
      "63/63 [==============================] - 0s 4ms/step - loss: 0.6593 - accuracy: 0.6106 - val_loss: 0.7082 - val_accuracy: 0.5645\n",
      "Epoch 3/50\n",
      "63/63 [==============================] - 1s 11ms/step - loss: 0.6391 - accuracy: 0.6250 - val_loss: 0.7077 - val_accuracy: 0.5323\n",
      "Epoch 4/50\n",
      "63/63 [==============================] - 0s 7ms/step - loss: 0.6272 - accuracy: 0.6298 - val_loss: 0.7075 - val_accuracy: 0.5242\n",
      "Epoch 5/50\n",
      "63/63 [==============================] - 0s 4ms/step - loss: 0.6204 - accuracy: 0.6506 - val_loss: 0.7111 - val_accuracy: 0.5161\n",
      "Epoch 6/50\n",
      "63/63 [==============================] - 1s 11ms/step - loss: 0.6164 - accuracy: 0.6490 - val_loss: 0.7123 - val_accuracy: 0.5242\n",
      "Epoch 7/50\n",
      "63/63 [==============================] - 0s 6ms/step - loss: 0.6127 - accuracy: 0.6522 - val_loss: 0.7154 - val_accuracy: 0.5242\n",
      "Epoch 8/50\n",
      "63/63 [==============================] - 0s 5ms/step - loss: 0.6108 - accuracy: 0.6587 - val_loss: 0.7170 - val_accuracy: 0.5323\n",
      "Epoch 9/50\n",
      "63/63 [==============================] - 0s 6ms/step - loss: 0.6087 - accuracy: 0.6619 - val_loss: 0.7171 - val_accuracy: 0.5403\n",
      "Epoch 10/50\n",
      "63/63 [==============================] - 0s 5ms/step - loss: 0.6079 - accuracy: 0.6619 - val_loss: 0.7208 - val_accuracy: 0.5323\n",
      "Epoch 11/50\n",
      "63/63 [==============================] - 0s 6ms/step - loss: 0.6061 - accuracy: 0.6587 - val_loss: 0.7203 - val_accuracy: 0.5323\n",
      "Epoch 12/50\n",
      "63/63 [==============================] - 0s 8ms/step - loss: 0.6041 - accuracy: 0.6683 - val_loss: 0.7245 - val_accuracy: 0.5242\n",
      "Epoch 13/50\n",
      "63/63 [==============================] - 0s 7ms/step - loss: 0.6032 - accuracy: 0.6635 - val_loss: 0.7264 - val_accuracy: 0.5242\n",
      "Epoch 14/50\n",
      "63/63 [==============================] - 0s 5ms/step - loss: 0.6020 - accuracy: 0.6699 - val_loss: 0.7266 - val_accuracy: 0.5161\n",
      "Epoch 15/50\n",
      "63/63 [==============================] - 0s 3ms/step - loss: 0.6008 - accuracy: 0.6731 - val_loss: 0.7290 - val_accuracy: 0.5161\n",
      "Epoch 16/50\n",
      "63/63 [==============================] - 0s 6ms/step - loss: 0.5998 - accuracy: 0.6683 - val_loss: 0.7280 - val_accuracy: 0.5161\n",
      "Epoch 17/50\n",
      "63/63 [==============================] - 0s 4ms/step - loss: 0.5998 - accuracy: 0.6683 - val_loss: 0.7315 - val_accuracy: 0.5242\n",
      "Epoch 18/50\n",
      "63/63 [==============================] - 0s 6ms/step - loss: 0.5998 - accuracy: 0.6699 - val_loss: 0.7304 - val_accuracy: 0.5161\n",
      "Epoch 19/50\n",
      "63/63 [==============================] - 0s 7ms/step - loss: 0.5981 - accuracy: 0.6699 - val_loss: 0.7310 - val_accuracy: 0.5161\n",
      "Epoch 20/50\n",
      "63/63 [==============================] - 0s 6ms/step - loss: 0.5975 - accuracy: 0.6715 - val_loss: 0.7325 - val_accuracy: 0.5161\n",
      "Epoch 21/50\n",
      "63/63 [==============================] - 0s 5ms/step - loss: 0.5966 - accuracy: 0.6731 - val_loss: 0.7355 - val_accuracy: 0.5161\n",
      "Epoch 22/50\n",
      "63/63 [==============================] - 0s 6ms/step - loss: 0.5956 - accuracy: 0.6731 - val_loss: 0.7337 - val_accuracy: 0.5403\n",
      "Epoch 23/50\n",
      "63/63 [==============================] - 0s 4ms/step - loss: 0.5961 - accuracy: 0.6763 - val_loss: 0.7340 - val_accuracy: 0.5323\n",
      "Epoch 24/50\n",
      "63/63 [==============================] - 0s 4ms/step - loss: 0.5946 - accuracy: 0.6843 - val_loss: 0.7343 - val_accuracy: 0.5242\n",
      "Epoch 25/50\n",
      "63/63 [==============================] - 0s 4ms/step - loss: 0.5946 - accuracy: 0.6747 - val_loss: 0.7374 - val_accuracy: 0.5403\n",
      "Epoch 26/50\n",
      "63/63 [==============================] - 0s 5ms/step - loss: 0.5928 - accuracy: 0.6811 - val_loss: 0.7361 - val_accuracy: 0.5323\n",
      "Epoch 27/50\n",
      "63/63 [==============================] - 0s 5ms/step - loss: 0.5933 - accuracy: 0.6763 - val_loss: 0.7383 - val_accuracy: 0.5323\n",
      "Epoch 28/50\n",
      "63/63 [==============================] - 0s 4ms/step - loss: 0.5924 - accuracy: 0.6795 - val_loss: 0.7373 - val_accuracy: 0.5323\n",
      "Epoch 29/50\n",
      "63/63 [==============================] - 0s 4ms/step - loss: 0.5921 - accuracy: 0.6843 - val_loss: 0.7433 - val_accuracy: 0.5323\n",
      "Epoch 30/50\n",
      "63/63 [==============================] - 0s 4ms/step - loss: 0.5918 - accuracy: 0.6763 - val_loss: 0.7403 - val_accuracy: 0.5403\n",
      "Epoch 31/50\n",
      "63/63 [==============================] - 0s 4ms/step - loss: 0.5915 - accuracy: 0.6843 - val_loss: 0.7391 - val_accuracy: 0.5323\n",
      "Epoch 32/50\n",
      "63/63 [==============================] - 0s 5ms/step - loss: 0.5901 - accuracy: 0.6811 - val_loss: 0.7437 - val_accuracy: 0.5323\n",
      "Epoch 33/50\n",
      "63/63 [==============================] - 0s 4ms/step - loss: 0.5907 - accuracy: 0.6891 - val_loss: 0.7425 - val_accuracy: 0.5323\n",
      "Epoch 34/50\n",
      "63/63 [==============================] - 0s 6ms/step - loss: 0.5899 - accuracy: 0.6875 - val_loss: 0.7444 - val_accuracy: 0.5161\n",
      "Epoch 35/50\n",
      "63/63 [==============================] - 0s 5ms/step - loss: 0.5901 - accuracy: 0.6795 - val_loss: 0.7430 - val_accuracy: 0.5161\n",
      "Epoch 36/50\n",
      "63/63 [==============================] - 0s 6ms/step - loss: 0.5884 - accuracy: 0.6811 - val_loss: 0.7443 - val_accuracy: 0.5081\n",
      "Epoch 37/50\n",
      "63/63 [==============================] - 0s 3ms/step - loss: 0.5881 - accuracy: 0.6859 - val_loss: 0.7413 - val_accuracy: 0.5323\n",
      "Epoch 38/50\n",
      "63/63 [==============================] - 0s 4ms/step - loss: 0.5876 - accuracy: 0.6843 - val_loss: 0.7427 - val_accuracy: 0.5081\n",
      "Epoch 39/50\n",
      "63/63 [==============================] - 0s 5ms/step - loss: 0.5874 - accuracy: 0.6811 - val_loss: 0.7466 - val_accuracy: 0.5242\n",
      "Epoch 40/50\n",
      "63/63 [==============================] - 0s 4ms/step - loss: 0.5866 - accuracy: 0.6923 - val_loss: 0.7494 - val_accuracy: 0.5161\n",
      "Epoch 41/50\n",
      "63/63 [==============================] - 0s 4ms/step - loss: 0.5856 - accuracy: 0.6811 - val_loss: 0.7514 - val_accuracy: 0.5161\n",
      "Epoch 42/50\n",
      "63/63 [==============================] - 0s 4ms/step - loss: 0.5864 - accuracy: 0.6827 - val_loss: 0.7504 - val_accuracy: 0.5161\n",
      "Epoch 43/50\n",
      "63/63 [==============================] - 0s 4ms/step - loss: 0.5856 - accuracy: 0.6843 - val_loss: 0.7522 - val_accuracy: 0.5081\n",
      "Epoch 44/50\n",
      "63/63 [==============================] - 0s 5ms/step - loss: 0.5854 - accuracy: 0.6811 - val_loss: 0.7501 - val_accuracy: 0.5081\n",
      "Epoch 45/50\n",
      "63/63 [==============================] - 0s 4ms/step - loss: 0.5837 - accuracy: 0.6859 - val_loss: 0.7479 - val_accuracy: 0.5242\n",
      "Epoch 46/50\n",
      "63/63 [==============================] - 0s 4ms/step - loss: 0.5854 - accuracy: 0.6859 - val_loss: 0.7547 - val_accuracy: 0.5161\n",
      "Epoch 47/50\n",
      "63/63 [==============================] - 0s 4ms/step - loss: 0.5836 - accuracy: 0.6843 - val_loss: 0.7492 - val_accuracy: 0.5323\n",
      "Epoch 48/50\n",
      "63/63 [==============================] - 0s 4ms/step - loss: 0.5829 - accuracy: 0.6923 - val_loss: 0.7558 - val_accuracy: 0.5081\n",
      "Epoch 49/50\n",
      "63/63 [==============================] - 0s 3ms/step - loss: 0.5820 - accuracy: 0.6843 - val_loss: 0.7551 - val_accuracy: 0.5161\n",
      "Epoch 50/50\n",
      "63/63 [==============================] - 0s 5ms/step - loss: 0.5819 - accuracy: 0.6827 - val_loss: 0.7555 - val_accuracy: 0.5161\n"
     ]
    }
   ],
   "source": [
    "# Build MPL model\n",
    "n_features = X_train_pca.shape[1]\n",
    "model = Sequential()\n",
    "model.add(Dense(50, activation='relu', input_shape=(n_features,)))\n",
    "model.add(Dense(1, activation='sigmoid'))\n",
    "\n",
    "# Compile model\n",
    "model.compile(loss='binary_crossentropy', optimizer='adam', metrics=['accuracy'])\n",
    "\n",
    "# Fit model\n",
    "history = model.fit(X_train_pca, y_train, epochs=50, validation_data=(X_test_pca, y_test), batch_size=10)\n",
    "history\n",
    "\n",
    "# predict on test data\n",
    "y_pred = model.predict(X_test_pca)"
   ]
  },
  {
   "cell_type": "code",
   "execution_count": 161,
   "metadata": {},
   "outputs": [
    {
     "data": {
      "text/plain": [
       "<AxesSubplot:>"
      ]
     },
     "execution_count": 161,
     "metadata": {},
     "output_type": "execute_result"
    },
    {
     "data": {
      "image/png": "[encoded data removed]",
      "text/plain": [
       "<Figure size 720x432 with 1 Axes>"
      ]
     },
     "metadata": {
      "needs_background": "light"
     },
     "output_type": "display_data"
    }
   ],
   "source": [
    "pd.DataFrame(history.history).plot(figsize=(10,6))"
   ]
  },
  {
   "cell_type": "markdown",
   "metadata": {},
   "source": [
    "### Evaluate model and print metrics"
   ]
  },
  {
   "cell_type": "code",
   "execution_count": 155,
   "metadata": {},
   "outputs": [
    {
     "ename": "ValueError",
     "evalue": "Found input variables with inconsistent numbers of samples: [624, 124]",
     "output_type": "error",
     "traceback": [
      "\u001b[0;31m---------------------------------------------------------------------------\u001b[0m",
      "\u001b[0;31mValueError\u001b[0m                                Traceback (most recent call last)",
      "\u001b[0;32m<ipython-input-155-e0b55ac8fe88>\u001b[0m in \u001b[0;36m<module>\u001b[0;34m\u001b[0m\n\u001b[1;32m      4\u001b[0m \u001b[0mmetrics\u001b[0m \u001b[0;34m=\u001b[0m\u001b[0;31m \u001b[0m\u001b[0;31m\\\u001b[0m\u001b[0;34m\u001b[0m\u001b[0;34m\u001b[0m\u001b[0m\n\u001b[1;32m      5\u001b[0m [ \\\n\u001b[0;32m----> 6\u001b[0;31m \u001b[0;34m[\u001b[0m\u001b[0maccuracy_score\u001b[0m\u001b[0;34m(\u001b[0m\u001b[0my_train\u001b[0m\u001b[0;34m,\u001b[0m \u001b[0my_pred\u001b[0m\u001b[0;34m)\u001b[0m\u001b[0;34m,\u001b[0m \u001b[0maccuracy_score\u001b[0m\u001b[0;34m(\u001b[0m\u001b[0my_test\u001b[0m\u001b[0;34m,\u001b[0m \u001b[0my_pred\u001b[0m\u001b[0;34m)\u001b[0m\u001b[0;34m]\u001b[0m\u001b[0;34m,\u001b[0m\u001b[0;34m\u001b[0m\u001b[0;34m\u001b[0m\u001b[0m\n\u001b[0m\u001b[1;32m      7\u001b[0m \u001b[0;34m[\u001b[0m\u001b[0mprecision_score\u001b[0m\u001b[0;34m(\u001b[0m\u001b[0my_train\u001b[0m\u001b[0;34m,\u001b[0m \u001b[0my_pred\u001b[0m\u001b[0;34m)\u001b[0m\u001b[0;34m,\u001b[0m \u001b[0mprecision_score\u001b[0m\u001b[0;34m(\u001b[0m\u001b[0my_test\u001b[0m\u001b[0;34m,\u001b[0m \u001b[0my_pred\u001b[0m\u001b[0;34m)\u001b[0m\u001b[0;34m]\u001b[0m\u001b[0;34m,\u001b[0m\u001b[0;34m\u001b[0m\u001b[0;34m\u001b[0m\u001b[0m\n\u001b[1;32m      8\u001b[0m \u001b[0;34m[\u001b[0m\u001b[0mrecall_score\u001b[0m\u001b[0;34m(\u001b[0m\u001b[0my_train\u001b[0m\u001b[0;34m,\u001b[0m \u001b[0my_pred\u001b[0m\u001b[0;34m)\u001b[0m\u001b[0;34m,\u001b[0m \u001b[0mrecall_score\u001b[0m\u001b[0;34m(\u001b[0m\u001b[0my_test\u001b[0m\u001b[0;34m,\u001b[0m \u001b[0my_pred\u001b[0m\u001b[0;34m)\u001b[0m\u001b[0;34m]\u001b[0m\u001b[0;34m,\u001b[0m\u001b[0;34m\u001b[0m\u001b[0;34m\u001b[0m\u001b[0m\n",
      "\u001b[0;32m~/opt/anaconda3/lib/python3.8/site-packages/sklearn/utils/validation.py\u001b[0m in \u001b[0;36minner_f\u001b[0;34m(*args, **kwargs)\u001b[0m\n\u001b[1;32m     61\u001b[0m             \u001b[0mextra_args\u001b[0m \u001b[0;34m=\u001b[0m \u001b[0mlen\u001b[0m\u001b[0;34m(\u001b[0m\u001b[0margs\u001b[0m\u001b[0;34m)\u001b[0m \u001b[0;34m-\u001b[0m \u001b[0mlen\u001b[0m\u001b[0;34m(\u001b[0m\u001b[0mall_args\u001b[0m\u001b[0;34m)\u001b[0m\u001b[0;34m\u001b[0m\u001b[0;34m\u001b[0m\u001b[0m\n\u001b[1;32m     62\u001b[0m             \u001b[0;32mif\u001b[0m \u001b[0mextra_args\u001b[0m \u001b[0;34m<=\u001b[0m \u001b[0;36m0\u001b[0m\u001b[0;34m:\u001b[0m\u001b[0;34m\u001b[0m\u001b[0;34m\u001b[0m\u001b[0m\n\u001b[0;32m---> 63\u001b[0;31m                 \u001b[0;32mreturn\u001b[0m \u001b[0mf\u001b[0m\u001b[0;34m(\u001b[0m\u001b[0;34m*\u001b[0m\u001b[0margs\u001b[0m\u001b[0;34m,\u001b[0m \u001b[0;34m**\u001b[0m\u001b[0mkwargs\u001b[0m\u001b[0;34m)\u001b[0m\u001b[0;34m\u001b[0m\u001b[0;34m\u001b[0m\u001b[0m\n\u001b[0m\u001b[1;32m     64\u001b[0m \u001b[0;34m\u001b[0m\u001b[0m\n\u001b[1;32m     65\u001b[0m             \u001b[0;31m# extra_args > 0\u001b[0m\u001b[0;34m\u001b[0m\u001b[0;34m\u001b[0m\u001b[0;34m\u001b[0m\u001b[0m\n",
      "\u001b[0;32m~/opt/anaconda3/lib/python3.8/site-packages/sklearn/metrics/_classification.py\u001b[0m in \u001b[0;36maccuracy_score\u001b[0;34m(y_true, y_pred, normalize, sample_weight)\u001b[0m\n\u001b[1;32m    200\u001b[0m \u001b[0;34m\u001b[0m\u001b[0m\n\u001b[1;32m    201\u001b[0m     \u001b[0;31m# Compute accuracy for each possible representation\u001b[0m\u001b[0;34m\u001b[0m\u001b[0;34m\u001b[0m\u001b[0;34m\u001b[0m\u001b[0m\n\u001b[0;32m--> 202\u001b[0;31m     \u001b[0my_type\u001b[0m\u001b[0;34m,\u001b[0m \u001b[0my_true\u001b[0m\u001b[0;34m,\u001b[0m \u001b[0my_pred\u001b[0m \u001b[0;34m=\u001b[0m \u001b[0m_check_targets\u001b[0m\u001b[0;34m(\u001b[0m\u001b[0my_true\u001b[0m\u001b[0;34m,\u001b[0m \u001b[0my_pred\u001b[0m\u001b[0;34m)\u001b[0m\u001b[0;34m\u001b[0m\u001b[0;34m\u001b[0m\u001b[0m\n\u001b[0m\u001b[1;32m    203\u001b[0m     \u001b[0mcheck_consistent_length\u001b[0m\u001b[0;34m(\u001b[0m\u001b[0my_true\u001b[0m\u001b[0;34m,\u001b[0m \u001b[0my_pred\u001b[0m\u001b[0;34m,\u001b[0m \u001b[0msample_weight\u001b[0m\u001b[0;34m)\u001b[0m\u001b[0;34m\u001b[0m\u001b[0;34m\u001b[0m\u001b[0m\n\u001b[1;32m    204\u001b[0m     \u001b[0;32mif\u001b[0m \u001b[0my_type\u001b[0m\u001b[0;34m.\u001b[0m\u001b[0mstartswith\u001b[0m\u001b[0;34m(\u001b[0m\u001b[0;34m'multilabel'\u001b[0m\u001b[0;34m)\u001b[0m\u001b[0;34m:\u001b[0m\u001b[0;34m\u001b[0m\u001b[0;34m\u001b[0m\u001b[0m\n",
      "\u001b[0;32m~/opt/anaconda3/lib/python3.8/site-packages/sklearn/metrics/_classification.py\u001b[0m in \u001b[0;36m_check_targets\u001b[0;34m(y_true, y_pred)\u001b[0m\n\u001b[1;32m     81\u001b[0m     \u001b[0my_pred\u001b[0m \u001b[0;34m:\u001b[0m \u001b[0marray\u001b[0m \u001b[0;32mor\u001b[0m \u001b[0mindicator\u001b[0m \u001b[0mmatrix\u001b[0m\u001b[0;34m\u001b[0m\u001b[0;34m\u001b[0m\u001b[0m\n\u001b[1;32m     82\u001b[0m     \"\"\"\n\u001b[0;32m---> 83\u001b[0;31m     \u001b[0mcheck_consistent_length\u001b[0m\u001b[0;34m(\u001b[0m\u001b[0my_true\u001b[0m\u001b[0;34m,\u001b[0m \u001b[0my_pred\u001b[0m\u001b[0;34m)\u001b[0m\u001b[0;34m\u001b[0m\u001b[0;34m\u001b[0m\u001b[0m\n\u001b[0m\u001b[1;32m     84\u001b[0m     \u001b[0mtype_true\u001b[0m \u001b[0;34m=\u001b[0m \u001b[0mtype_of_target\u001b[0m\u001b[0;34m(\u001b[0m\u001b[0my_true\u001b[0m\u001b[0;34m)\u001b[0m\u001b[0;34m\u001b[0m\u001b[0;34m\u001b[0m\u001b[0m\n\u001b[1;32m     85\u001b[0m     \u001b[0mtype_pred\u001b[0m \u001b[0;34m=\u001b[0m \u001b[0mtype_of_target\u001b[0m\u001b[0;34m(\u001b[0m\u001b[0my_pred\u001b[0m\u001b[0;34m)\u001b[0m\u001b[0;34m\u001b[0m\u001b[0;34m\u001b[0m\u001b[0m\n",
      "\u001b[0;32m~/opt/anaconda3/lib/python3.8/site-packages/sklearn/utils/validation.py\u001b[0m in \u001b[0;36mcheck_consistent_length\u001b[0;34m(*arrays)\u001b[0m\n\u001b[1;32m    260\u001b[0m     \u001b[0muniques\u001b[0m \u001b[0;34m=\u001b[0m \u001b[0mnp\u001b[0m\u001b[0;34m.\u001b[0m\u001b[0munique\u001b[0m\u001b[0;34m(\u001b[0m\u001b[0mlengths\u001b[0m\u001b[0;34m)\u001b[0m\u001b[0;34m\u001b[0m\u001b[0;34m\u001b[0m\u001b[0m\n\u001b[1;32m    261\u001b[0m     \u001b[0;32mif\u001b[0m \u001b[0mlen\u001b[0m\u001b[0;34m(\u001b[0m\u001b[0muniques\u001b[0m\u001b[0;34m)\u001b[0m \u001b[0;34m>\u001b[0m \u001b[0;36m1\u001b[0m\u001b[0;34m:\u001b[0m\u001b[0;34m\u001b[0m\u001b[0;34m\u001b[0m\u001b[0m\n\u001b[0;32m--> 262\u001b[0;31m         raise ValueError(\"Found input variables with inconsistent numbers of\"\n\u001b[0m\u001b[1;32m    263\u001b[0m                          \" samples: %r\" % [int(l) for l in lengths])\n\u001b[1;32m    264\u001b[0m \u001b[0;34m\u001b[0m\u001b[0m\n",
      "\u001b[0;31mValueError\u001b[0m: Found input variables with inconsistent numbers of samples: [624, 124]"
     ]
    }
   ],
   "source": [
    "from sklearn.metrics import accuracy_score, precision_score, recall_score, f1_score\n",
    "import numpy as np\n",
    "\n",
    "metrics = \\\n",
    "[ \\\n",
    "[accuracy_score(y_train, y_pred), accuracy_score(y_test, y_pred)],\n",
    "[precision_score(y_train, y_pred), precision_score(y_test, y_pred)], \n",
    "[recall_score(y_train, y_pred), recall_score(y_test, y_pred)],\n",
    "[f1_score(y_train, y_pred), f1_score(y_test, y_pred)]\n",
    "]\n",
    "metrics = np.array(metrics) * 100"
   ]
  },
  {
   "cell_type": "code",
   "execution_count": null,
   "metadata": {},
   "outputs": [
    {
     "name": "stdout",
     "output_type": "stream",
     "text": [
      "           Training Set   Test Set\n",
      "Metric                            \n",
      "Accuracy      59.837398  55.194805\n",
      "Precision     57.940663  56.944444\n",
      "Recall        98.224852  92.134831\n",
      "F1 Score      72.886937  70.386266\n"
     ]
    }
   ],
   "source": [
    "metrics = pd.DataFrame(metrics, columns = [\"Training Set\", \"Test Set\"])\n",
    "metrics.insert(0, \"Metric\", [\"Accuracy\", \"Precision\", \"Recall\", \"F1 Score\"])\n",
    "metrics.set_index(\"Metric\", inplace = True)\n",
    "print(metrics)"
   ]
  },
  {
   "cell_type": "code",
   "execution_count": null,
   "metadata": {},
   "outputs": [],
   "source": []
  }
 ],
 "metadata": {
  "interpreter": {
   "hash": "31582b9feba862c420bc95ad7fac43fb721c474490d1710b4e50ac63470f9531"
  },
  "kernelspec": {
   "display_name": "Python 3.8.8 ('base')",
   "language": "python",
   "name": "python3"
  },
  "language_info": {
   "codemirror_mode": {
    "name": "ipython",
    "version": 3
   },
   "file_extension": ".py",
   "mimetype": "text/x-python",
   "name": "python",
   "nbconvert_exporter": "python",
   "pygments_lexer": "ipython3",
   "version": "3.8.8"
  }
 },
 "nbformat": 4,
 "nbformat_minor": 4
}
