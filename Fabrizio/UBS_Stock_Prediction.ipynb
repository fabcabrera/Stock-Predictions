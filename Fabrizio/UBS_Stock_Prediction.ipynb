{
 "cells": [
  {
   "cell_type": "markdown",
   "metadata": {},
   "source": [
    "This notebook was prepared by:\n",
    "\n",
    "Jack Brennen (jpb9088@nyu.edu)\n",
    "\n",
    "Fabrizio Cabrera (fc2250@nyu.edu)\n",
    "\n",
    "Alex Ferrante (af3913@nyu.edu)\n",
    "\n",
    "Graduate School of Arts and Sciences (GSAS) at New York University (NYU)\n",
    "\n",
    "May 2022\n",
    "\n",
    "# One Day Ahead Movement Stock Prediction - Application of Machine Learning Binary Classifiers  \n",
    "\n",
    "In the stock market shares of firms are traded. Trading is an important feature of the economy because it gives firms access to capital in exchange for a share of ownership. Speculation in stock prices means that traders buy when they think prices are going up and sell when they think prices are going down. This would be profitable for traders making accurate predictions of stock prices. However, the predictability of stock prices has been questioned.\n",
    "\n",
    "According to the efficient market hypothesis (EMH) the stock market follows a random walk and is inherently unpredictable (Sargent, 1986). The EMH implies that all information available today is reflected in prices of stocks today and the changes in tomorrows price will only depend on the news of tomorrow. This is because that the stock market is perceived to be very informationally efficient and comopetitive. Since we cannot predict news, stock forecasting is impossible. This would have the consequence that prices are fairly priced and one can not beat the market using current information. Burton Malkiel claims that a strong argument for the market being efficient and unpredictable is that fact that expert investors are unable to beat the market (Malkiel, 2003).\n",
    "\n",
    "The ability to predict the movement of a stock was once far fetched, however, thanks to advancements in machine learning techniques, there is reason to believe short-run predictions are possible, within reason. So what makes stock movement prediction tricky? Well, several factors, but one which is most obscure is market noise. With most persons' having access to the internet, news spreads quickly. This means consumers' sentiments are subject to changing quickly, resulting in short-run market fluctuations. Exogenous shocks to the market come in many forms and all of which are reported on. With the rise of internet news platforms these sources server as venues for market particpants to consume stock information which subsequetly informs short-run behavior. \n",
    "\n",
    "Since we believe that capturing trends in agents news consumption is valuable in explaining short-run movements in stocks, this project will include data from Google Trends and Wikipedia API's to serve as indexes to inform the frequency and popularity of stock news. In addition to data collected from Google Trends and Wikipedia API's we also collect general stock data (open, close, volumem ect.). Through the use of random forrests, convolutional neural networks (CNN), and recursive neural networks (RNN) we will contruct a binary-classification task and see how accurately we can model short-run stock movement. While there are an array of targets we could test, the target for the procedding models will be whether the stock closing price will increase tomorrow (1) or whether it will decrease (0). \n",
    "\n",
    "Given constraints in time and computing power, we will collect data from 01/01/2019 to 03/31/2022 for Ford, Netflix, and UBS. The stocks selected cover three different industires which will allow us to tests our models preictive power in varying markets.   \n"
   ]
  },
  {
   "cell_type": "markdown",
   "metadata": {},
   "source": [
    "## 1. Pulling Together the Data"
   ]
  },
  {
   "cell_type": "markdown",
   "metadata": {},
   "source": [
    "As the saying goes, garbage in, garbage out. Thus, we gave some serious thought on how to best collect our data. This section reviews the necessary steps taken to aquire the stock and news data from their respective API's and the subsequent data cleaning procedures. Given that the web scraping process was computationally expensive, this section will display the code in its raw form. At the end of section two the cleaned and transformed CSV data files will be made available. Your computer will thank us later."
   ]
  },
  {
   "cell_type": "code",
   "execution_count": 2,
   "metadata": {},
   "outputs": [],
   "source": [
    "# Import the necessary data cleaning packages\n",
    "import pandas as pd\n",
    "import numpy as np\n",
    "import os\n",
    "import matplotlib.pyplot as plt\n",
    "import seaborn as sns\n",
    "\n",
    "#%pip install pytrends\n",
    "import pytrends\n",
    "from pytrends.request import TrendReq\n",
    "#%pip install pageviewapi\n",
    "import pageviewapi\n",
    "#%pip install yfinance\n",
    "import yfinance as yf\n",
    "\n",
    "# Import machine learning packages\n",
    "import tensorflow as tf\n",
    "from sklearn import (\n",
    "    linear_model, metrics, neural_network, pipeline, model_selection\n",
    ")\n",
    "from sklearn.impute import SimpleImputer\n",
    "from sklearn.decomposition import PCA\n",
    "from sklearn.preprocessing import StandardScaler\n",
    "from sklearn.model_selection import train_test_split, GridSearchCV, RandomizedSearchCV\n",
    "from sklearn.feature_selection import SelectKBest, f_regression\n",
    "from sklearn.linear_model import Lasso\n",
    "from sklearn.preprocessing import MinMaxScaler\n",
    "from sklearn.metrics import mean_squared_error, accuracy_score, precision_score, recall_score, f1_score\n",
    "from keras.models import Sequential\n",
    "from keras.layers import Dense, Dropout, SimpleRNN, LSTM, TimeDistributed, BatchNormalization, Conv1D, MaxPooling1D, Flatten, InputLayer\n",
    "from sklearn.model_selection import TimeSeriesSplit\n",
    "from keras.regularizers import l1, l2\n",
    "from keras.callbacks import ReduceLROnPlateau, EarlyStopping\n",
    "from sklearn.metrics import classification_report,confusion_matrix\n",
    "from sklearn.ensemble import RandomForestClassifier"
   ]
  },
  {
   "cell_type": "markdown",
   "metadata": {},
   "source": [
    "### 2. Data Processing - Feature and Target Creation\n",
    "\n",
    "In this next phase of data processing we focus on using the existing data pulled to generate additional features and targets. From the Google News and Wikipedia data collected, we sum across each of the keyword list results to create two new features noted as \"Wiki_total\" and \"Google_total\", respectively. These new \"total\" features will then be used as denominator values and assist in creating more features which with the hope of providing greater explanantory power to our future models.   "
   ]
  },
  {
   "cell_type": "markdown",
   "metadata": {},
   "source": [
    "Now that we have a comprehesive feature matrix of data, we turn to generating the targets. As mentioned, there are a variety of targets that could be tested to predict stock movement. Below we have generated five binary targets, each either related to the stock close price, open price, or volumne. For the purposes of the models developed in this project, we will focus on trying to accurately predict \"target_3\" - the difference in closing price. This target's result is binary where an increase in the closing price returns a value of 1 and a decrease in the closing price returns 0."
   ]
  },
  {
   "cell_type": "markdown",
   "metadata": {},
   "source": [
    "Finally, we've made it to a stage where out data set includes many features and targets to test them on. \n",
    "\n",
    "Below are the fully cleaned and model ready CSV files for Ford, Netflix, and UBS."
   ]
  },
  {
   "cell_type": "code",
   "execution_count": 3,
   "metadata": {},
   "outputs": [
    {
     "data": {
      "text/html": [
       "<div>\n",
       "<style scoped>\n",
       "    .dataframe tbody tr th:only-of-type {\n",
       "        vertical-align: middle;\n",
       "    }\n",
       "\n",
       "    .dataframe tbody tr th {\n",
       "        vertical-align: top;\n",
       "    }\n",
       "\n",
       "    .dataframe thead th {\n",
       "        text-align: right;\n",
       "    }\n",
       "</style>\n",
       "<table border=\"1\" class=\"dataframe\">\n",
       "  <thead>\n",
       "    <tr style=\"text-align: right;\">\n",
       "      <th></th>\n",
       "      <th>UBS_x</th>\n",
       "      <th>UBS Financial Services Inc.</th>\n",
       "      <th>UBS Investment Bank</th>\n",
       "      <th>UBS Global Wealth Management</th>\n",
       "      <th>UBS Asset Management</th>\n",
       "      <th>Open</th>\n",
       "      <th>High</th>\n",
       "      <th>Low</th>\n",
       "      <th>Close</th>\n",
       "      <th>Volume</th>\n",
       "      <th>...</th>\n",
       "      <th>Dow_EMA_Move</th>\n",
       "      <th>Dow_EMA_Move_5</th>\n",
       "      <th>Dow_Disparity_Move</th>\n",
       "      <th>Dow_Disparity_s_Move</th>\n",
       "      <th>Dow_RSI_Move</th>\n",
       "      <th>target_1</th>\n",
       "      <th>target_2</th>\n",
       "      <th>target_3</th>\n",
       "      <th>target_4</th>\n",
       "      <th>target_5</th>\n",
       "    </tr>\n",
       "    <tr>\n",
       "      <th>date</th>\n",
       "      <th></th>\n",
       "      <th></th>\n",
       "      <th></th>\n",
       "      <th></th>\n",
       "      <th></th>\n",
       "      <th></th>\n",
       "      <th></th>\n",
       "      <th></th>\n",
       "      <th></th>\n",
       "      <th></th>\n",
       "      <th></th>\n",
       "      <th></th>\n",
       "      <th></th>\n",
       "      <th></th>\n",
       "      <th></th>\n",
       "      <th></th>\n",
       "      <th></th>\n",
       "      <th></th>\n",
       "      <th></th>\n",
       "      <th></th>\n",
       "      <th></th>\n",
       "    </tr>\n",
       "  </thead>\n",
       "  <tbody>\n",
       "    <tr>\n",
       "      <th>2019-01-02</th>\n",
       "      <td>6.708333</td>\n",
       "      <td>0.0</td>\n",
       "      <td>0.0</td>\n",
       "      <td>0.0</td>\n",
       "      <td>0.000000</td>\n",
       "      <td>10.378242</td>\n",
       "      <td>10.700180</td>\n",
       "      <td>10.282508</td>\n",
       "      <td>10.632403</td>\n",
       "      <td>3210100.0</td>\n",
       "      <td>...</td>\n",
       "      <td>0</td>\n",
       "      <td>0</td>\n",
       "      <td>0</td>\n",
       "      <td>0</td>\n",
       "      <td>0</td>\n",
       "      <td>0</td>\n",
       "      <td>1</td>\n",
       "      <td>0</td>\n",
       "      <td>1</td>\n",
       "      <td>0</td>\n",
       "    </tr>\n",
       "    <tr>\n",
       "      <th>2019-01-03</th>\n",
       "      <td>5.708333</td>\n",
       "      <td>0.0</td>\n",
       "      <td>0.0</td>\n",
       "      <td>0.0</td>\n",
       "      <td>0.000000</td>\n",
       "      <td>10.522266</td>\n",
       "      <td>10.606987</td>\n",
       "      <td>10.465503</td>\n",
       "      <td>10.496850</td>\n",
       "      <td>2534700.0</td>\n",
       "      <td>...</td>\n",
       "      <td>0</td>\n",
       "      <td>0</td>\n",
       "      <td>0</td>\n",
       "      <td>0</td>\n",
       "      <td>0</td>\n",
       "      <td>1</td>\n",
       "      <td>1</td>\n",
       "      <td>1</td>\n",
       "      <td>1</td>\n",
       "      <td>1</td>\n",
       "    </tr>\n",
       "    <tr>\n",
       "      <th>2019-01-04</th>\n",
       "      <td>14.791667</td>\n",
       "      <td>0.0</td>\n",
       "      <td>0.0</td>\n",
       "      <td>0.0</td>\n",
       "      <td>0.000000</td>\n",
       "      <td>10.734068</td>\n",
       "      <td>10.937397</td>\n",
       "      <td>10.687472</td>\n",
       "      <td>10.878093</td>\n",
       "      <td>2743500.0</td>\n",
       "      <td>...</td>\n",
       "      <td>1</td>\n",
       "      <td>1</td>\n",
       "      <td>1</td>\n",
       "      <td>1</td>\n",
       "      <td>0</td>\n",
       "      <td>0</td>\n",
       "      <td>1</td>\n",
       "      <td>1</td>\n",
       "      <td>1</td>\n",
       "      <td>1</td>\n",
       "    </tr>\n",
       "    <tr>\n",
       "      <th>2019-01-07</th>\n",
       "      <td>12.208333</td>\n",
       "      <td>0.0</td>\n",
       "      <td>0.0</td>\n",
       "      <td>0.0</td>\n",
       "      <td>0.000000</td>\n",
       "      <td>10.878092</td>\n",
       "      <td>11.056005</td>\n",
       "      <td>10.823024</td>\n",
       "      <td>10.988229</td>\n",
       "      <td>3163300.0</td>\n",
       "      <td>...</td>\n",
       "      <td>1</td>\n",
       "      <td>1</td>\n",
       "      <td>1</td>\n",
       "      <td>0</td>\n",
       "      <td>0</td>\n",
       "      <td>1</td>\n",
       "      <td>1</td>\n",
       "      <td>1</td>\n",
       "      <td>1</td>\n",
       "      <td>0</td>\n",
       "    </tr>\n",
       "    <tr>\n",
       "      <th>2019-01-08</th>\n",
       "      <td>2.333333</td>\n",
       "      <td>0.0</td>\n",
       "      <td>0.0</td>\n",
       "      <td>0.0</td>\n",
       "      <td>0.000000</td>\n",
       "      <td>11.047532</td>\n",
       "      <td>11.089893</td>\n",
       "      <td>10.945868</td>\n",
       "      <td>11.013644</td>\n",
       "      <td>2384500.0</td>\n",
       "      <td>...</td>\n",
       "      <td>1</td>\n",
       "      <td>1</td>\n",
       "      <td>0</td>\n",
       "      <td>1</td>\n",
       "      <td>0</td>\n",
       "      <td>1</td>\n",
       "      <td>1</td>\n",
       "      <td>0</td>\n",
       "      <td>0</td>\n",
       "      <td>1</td>\n",
       "    </tr>\n",
       "    <tr>\n",
       "      <th>...</th>\n",
       "      <td>...</td>\n",
       "      <td>...</td>\n",
       "      <td>...</td>\n",
       "      <td>...</td>\n",
       "      <td>...</td>\n",
       "      <td>...</td>\n",
       "      <td>...</td>\n",
       "      <td>...</td>\n",
       "      <td>...</td>\n",
       "      <td>...</td>\n",
       "      <td>...</td>\n",
       "      <td>...</td>\n",
       "      <td>...</td>\n",
       "      <td>...</td>\n",
       "      <td>...</td>\n",
       "      <td>...</td>\n",
       "      <td>...</td>\n",
       "      <td>...</td>\n",
       "      <td>...</td>\n",
       "      <td>...</td>\n",
       "      <td>...</td>\n",
       "    </tr>\n",
       "    <tr>\n",
       "      <th>2022-03-24</th>\n",
       "      <td>0.000000</td>\n",
       "      <td>0.0</td>\n",
       "      <td>0.0</td>\n",
       "      <td>0.0</td>\n",
       "      <td>0.000000</td>\n",
       "      <td>18.512881</td>\n",
       "      <td>18.600435</td>\n",
       "      <td>18.425326</td>\n",
       "      <td>18.580978</td>\n",
       "      <td>2722700.0</td>\n",
       "      <td>...</td>\n",
       "      <td>1</td>\n",
       "      <td>1</td>\n",
       "      <td>1</td>\n",
       "      <td>1</td>\n",
       "      <td>0</td>\n",
       "      <td>1</td>\n",
       "      <td>1</td>\n",
       "      <td>1</td>\n",
       "      <td>1</td>\n",
       "      <td>1</td>\n",
       "    </tr>\n",
       "    <tr>\n",
       "      <th>2022-03-25</th>\n",
       "      <td>11.208333</td>\n",
       "      <td>0.0</td>\n",
       "      <td>0.0</td>\n",
       "      <td>0.0</td>\n",
       "      <td>0.000000</td>\n",
       "      <td>18.629619</td>\n",
       "      <td>18.824185</td>\n",
       "      <td>18.600436</td>\n",
       "      <td>18.814457</td>\n",
       "      <td>3241500.0</td>\n",
       "      <td>...</td>\n",
       "      <td>1</td>\n",
       "      <td>1</td>\n",
       "      <td>1</td>\n",
       "      <td>1</td>\n",
       "      <td>0</td>\n",
       "      <td>1</td>\n",
       "      <td>1</td>\n",
       "      <td>0</td>\n",
       "      <td>1</td>\n",
       "      <td>1</td>\n",
       "    </tr>\n",
       "    <tr>\n",
       "      <th>2022-03-28</th>\n",
       "      <td>10.958333</td>\n",
       "      <td>0.0</td>\n",
       "      <td>0.0</td>\n",
       "      <td>0.0</td>\n",
       "      <td>2.791667</td>\n",
       "      <td>18.843641</td>\n",
       "      <td>18.863096</td>\n",
       "      <td>18.437971</td>\n",
       "      <td>18.678261</td>\n",
       "      <td>3579600.0</td>\n",
       "      <td>...</td>\n",
       "      <td>1</td>\n",
       "      <td>1</td>\n",
       "      <td>0</td>\n",
       "      <td>0</td>\n",
       "      <td>0</td>\n",
       "      <td>1</td>\n",
       "      <td>1</td>\n",
       "      <td>1</td>\n",
       "      <td>1</td>\n",
       "      <td>0</td>\n",
       "    </tr>\n",
       "    <tr>\n",
       "      <th>2022-03-29</th>\n",
       "      <td>4.791667</td>\n",
       "      <td>0.0</td>\n",
       "      <td>0.0</td>\n",
       "      <td>0.0</td>\n",
       "      <td>0.000000</td>\n",
       "      <td>19.125760</td>\n",
       "      <td>19.259038</td>\n",
       "      <td>18.931194</td>\n",
       "      <td>19.135489</td>\n",
       "      <td>3280700.0</td>\n",
       "      <td>...</td>\n",
       "      <td>1</td>\n",
       "      <td>1</td>\n",
       "      <td>1</td>\n",
       "      <td>1</td>\n",
       "      <td>1</td>\n",
       "      <td>1</td>\n",
       "      <td>1</td>\n",
       "      <td>0</td>\n",
       "      <td>0</td>\n",
       "      <td>0</td>\n",
       "    </tr>\n",
       "    <tr>\n",
       "      <th>2022-03-30</th>\n",
       "      <td>6.916667</td>\n",
       "      <td>0.0</td>\n",
       "      <td>0.0</td>\n",
       "      <td>0.0</td>\n",
       "      <td>0.000000</td>\n",
       "      <td>19.135489</td>\n",
       "      <td>19.140352</td>\n",
       "      <td>18.829048</td>\n",
       "      <td>18.931194</td>\n",
       "      <td>2743800.0</td>\n",
       "      <td>...</td>\n",
       "      <td>1</td>\n",
       "      <td>1</td>\n",
       "      <td>0</td>\n",
       "      <td>0</td>\n",
       "      <td>0</td>\n",
       "      <td>0</td>\n",
       "      <td>0</td>\n",
       "      <td>0</td>\n",
       "      <td>0</td>\n",
       "      <td>0</td>\n",
       "    </tr>\n",
       "  </tbody>\n",
       "</table>\n",
       "<p>811 rows × 200 columns</p>\n",
       "</div>"
      ],
      "text/plain": [
       "                UBS_x  UBS Financial Services Inc.  UBS Investment Bank  \\\n",
       "date                                                                      \n",
       "2019-01-02   6.708333                          0.0                  0.0   \n",
       "2019-01-03   5.708333                          0.0                  0.0   \n",
       "2019-01-04  14.791667                          0.0                  0.0   \n",
       "2019-01-07  12.208333                          0.0                  0.0   \n",
       "2019-01-08   2.333333                          0.0                  0.0   \n",
       "...               ...                          ...                  ...   \n",
       "2022-03-24   0.000000                          0.0                  0.0   \n",
       "2022-03-25  11.208333                          0.0                  0.0   \n",
       "2022-03-28  10.958333                          0.0                  0.0   \n",
       "2022-03-29   4.791667                          0.0                  0.0   \n",
       "2022-03-30   6.916667                          0.0                  0.0   \n",
       "\n",
       "            UBS Global Wealth Management  UBS Asset Management       Open  \\\n",
       "date                                                                        \n",
       "2019-01-02                           0.0              0.000000  10.378242   \n",
       "2019-01-03                           0.0              0.000000  10.522266   \n",
       "2019-01-04                           0.0              0.000000  10.734068   \n",
       "2019-01-07                           0.0              0.000000  10.878092   \n",
       "2019-01-08                           0.0              0.000000  11.047532   \n",
       "...                                  ...                   ...        ...   \n",
       "2022-03-24                           0.0              0.000000  18.512881   \n",
       "2022-03-25                           0.0              0.000000  18.629619   \n",
       "2022-03-28                           0.0              2.791667  18.843641   \n",
       "2022-03-29                           0.0              0.000000  19.125760   \n",
       "2022-03-30                           0.0              0.000000  19.135489   \n",
       "\n",
       "                 High        Low      Close     Volume  ...  Dow_EMA_Move  \\\n",
       "date                                                    ...                 \n",
       "2019-01-02  10.700180  10.282508  10.632403  3210100.0  ...             0   \n",
       "2019-01-03  10.606987  10.465503  10.496850  2534700.0  ...             0   \n",
       "2019-01-04  10.937397  10.687472  10.878093  2743500.0  ...             1   \n",
       "2019-01-07  11.056005  10.823024  10.988229  3163300.0  ...             1   \n",
       "2019-01-08  11.089893  10.945868  11.013644  2384500.0  ...             1   \n",
       "...               ...        ...        ...        ...  ...           ...   \n",
       "2022-03-24  18.600435  18.425326  18.580978  2722700.0  ...             1   \n",
       "2022-03-25  18.824185  18.600436  18.814457  3241500.0  ...             1   \n",
       "2022-03-28  18.863096  18.437971  18.678261  3579600.0  ...             1   \n",
       "2022-03-29  19.259038  18.931194  19.135489  3280700.0  ...             1   \n",
       "2022-03-30  19.140352  18.829048  18.931194  2743800.0  ...             1   \n",
       "\n",
       "            Dow_EMA_Move_5  Dow_Disparity_Move  Dow_Disparity_s_Move  \\\n",
       "date                                                                   \n",
       "2019-01-02               0                   0                     0   \n",
       "2019-01-03               0                   0                     0   \n",
       "2019-01-04               1                   1                     1   \n",
       "2019-01-07               1                   1                     0   \n",
       "2019-01-08               1                   0                     1   \n",
       "...                    ...                 ...                   ...   \n",
       "2022-03-24               1                   1                     1   \n",
       "2022-03-25               1                   1                     1   \n",
       "2022-03-28               1                   0                     0   \n",
       "2022-03-29               1                   1                     1   \n",
       "2022-03-30               1                   0                     0   \n",
       "\n",
       "            Dow_RSI_Move  target_1  target_2  target_3  target_4  target_5  \n",
       "date                                                                        \n",
       "2019-01-02             0         0         1         0         1         0  \n",
       "2019-01-03             0         1         1         1         1         1  \n",
       "2019-01-04             0         0         1         1         1         1  \n",
       "2019-01-07             0         1         1         1         1         0  \n",
       "2019-01-08             0         1         1         0         0         1  \n",
       "...                  ...       ...       ...       ...       ...       ...  \n",
       "2022-03-24             0         1         1         1         1         1  \n",
       "2022-03-25             0         1         1         0         1         1  \n",
       "2022-03-28             0         1         1         1         1         0  \n",
       "2022-03-29             1         1         1         0         0         0  \n",
       "2022-03-30             0         0         0         0         0         0  \n",
       "\n",
       "[811 rows x 200 columns]"
      ]
     },
     "execution_count": 3,
     "metadata": {},
     "output_type": "execute_result"
    }
   ],
   "source": [
    "ubs = pd.read_csv(\"UBS_Cleaned_Date.csv\",\n",
    "                 parse_dates=True,\n",
    "                 infer_datetime_format=True,\n",
    "                 index_col=\"date\")\n",
    "ubs\n",
    "        "
   ]
  },
  {
   "cell_type": "markdown",
   "metadata": {},
   "source": [
    "### 3. Feature Selection "
   ]
  },
  {
   "cell_type": "markdown",
   "metadata": {},
   "source": [
    "Now that we have the data cleaned, additional features created, and targets set, we can begin to think about constucting our models. However, before jumping into deciding which model to use and the appropriate architecture for this time-series, binary classfication task, we must first give some thought to what features are going to give our models the greatest preictive power.\n",
    "\n",
    "Taking a look first at the shape of our data, we notice that there are quite a few features present."
   ]
  },
  {
   "cell_type": "markdown",
   "metadata": {},
   "source": [
    "With 169 features in total, it is likely the case that not all variable are valuable in predicting our target. A generic, although not often recommended approach would be the kitchen sink, where all 169 features would be included in our models. While this would be simple, if we work under the assumption that some variables are not relevant in explaining our target, then this approach would negatively affect our models ability to learn since we would be introducing unnecessary noise. While there are many approaches to feature selection, we decide on the implement the following strategies:\n",
    "\n",
    "1) SelectKBest\n",
    "\n",
    "2) Principal Component Analysis\n",
    "\n",
    "3) Blended - Identify the \"best features\" through SelectKBest, then run a PCA on those features\n",
    "\n",
    "From the Keras \"feature_selection\" library, the SelectKBest function works by implementing an f-regression to identify the N number of features that have the greatest significance in explaining the identified target.  \n",
    "\n",
    "Let's continue with using ubs as an example and see how these feature selection methodologies are implemented.\n",
    "\n",
    "We'll first do a little more data manipulation."
   ]
  },
  {
   "cell_type": "code",
   "execution_count": 4,
   "metadata": {},
   "outputs": [
    {
     "name": "stdout",
     "output_type": "stream",
     "text": [
      "(748, 193) (748,)\n",
      "                   Features       Score\n",
      "53             Change_Close  644.858265\n",
      "151                Nas_Move    5.663528\n",
      "158    Nas_Disparity_s_Move    4.196393\n",
      "154            Nas_ROC_Move    3.085478\n",
      "157      Nas_Disparity_Move    2.888064\n",
      "145                Nas_gain    2.842672\n",
      "54            Change_Google    2.800310\n",
      "56           Wiki_MAvg_Move    2.746782\n",
      "190    Dow_Disparity_s_Move    2.622576\n",
      "48            Wiki_avg_loss    2.267743\n",
      "66        Google_Moment_1_s    2.209778\n",
      "76             Google_ROC_s    2.209778\n",
      "46                Wiki_loss    1.974624\n",
      "67        Google_Moment_2_s    1.946196\n",
      "2       UBS Investment Bank    1.927082\n",
      "63            Wiki_RSI_Move    1.800070\n",
      "42                 Wiki_EMA    1.768842\n",
      "189      Dow_Disparity_Move    1.764803\n",
      "37         Wiki_Disparity_s    1.621962\n",
      "183                Dow_Move    1.621437\n",
      "15   Banking in Switzerland    1.589168\n",
      "173                Dow_Rocp    1.551794\n",
      "81              Google_gain    1.502137\n",
      "91          Google_EMA_Move    1.490048\n",
      "92        Google_EMA_Move_5    1.490048\n",
      "35            Wiki_MAvg_s_6    1.449366\n",
      "153         Nas_MAvg_s_Move    1.387063\n",
      "75               Google_ROC    1.383431\n",
      "64          Google_Moment_1    1.383431\n",
      "32                Wiki_MAvg    1.367959\n",
      "34            Wiki_MAvg_s_5    1.367959\n",
      "47            Wiki_avg_gain    1.329804\n",
      "10                Dividends    1.329744\n",
      "79             Google_EMA_5    1.312412\n",
      "141                Nas_Rocp    1.279770\n",
      "36           Wiki_Disparity    1.249476\n",
      "38       Wiki_Disparity_s_5    1.249476\n",
      "77              Google_Rocp    1.151022\n",
      "181                  Dow_rs    1.114493\n",
      "182                 Dow_RSI    1.079458\n"
     ]
    },
    {
     "name": "stderr",
     "output_type": "stream",
     "text": [
      "/Users/fabrizio/opt/anaconda3/lib/python3.8/site-packages/sklearn/feature_selection/_univariate_selection.py:301: RuntimeWarning: invalid value encountered in true_divide\n",
      "  corr /= X_norms\n"
     ]
    }
   ],
   "source": [
    "# SelectKBest implementation\n",
    "\n",
    "# to remove first 14 days that include NaNs due to some calculations\n",
    "ubs = ubs.iloc[14:, :] \n",
    "\n",
    "# to remove duplicated columns\n",
    "ubs = ubs.drop([\"Nas_total\", 'Stock_total', 'Dow_total'],axis=1) \n",
    "\n",
    "ubs = ubs.dropna()\n",
    "ubs = ubs[~(ubs.isin([np.inf, -np.inf]).any(axis=1))] \n",
    "\n",
    "# Drop additional targets\n",
    "ubs = ubs.drop(['target_1', 'target_2', 'target_4', 'target_5'], axis=1)\n",
    "\n",
    "# Target will be 3 (close to close)\n",
    "target_3_0 = ubs[\"target_3\"]\n",
    "\n",
    "# Print shape \n",
    "print(ubs.shape, target_3_0.shape)\n",
    "\n",
    "# Standardize the data \n",
    "Mscaler = MinMaxScaler()\n",
    "ubs = pd.DataFrame(Mscaler.fit_transform(ubs), columns = ubs.columns)\n",
    "\n",
    "# Implement SelectKBest class to extract 40 best features\n",
    "bestfeatures = SelectKBest(score_func=f_regression, k=40)\n",
    "best_fit = bestfeatures.fit(ubs, target_3_0)\n",
    "best_scores = pd.DataFrame(best_fit.scores_)\n",
    "best_columns = pd.DataFrame(ubs.columns)\n",
    "\n",
    "# concatenate the dataframes for better visualization\n",
    "features_score = pd.concat([best_columns, best_scores], axis=1)\n",
    "features_score.columns = ['Features', 'Score'] \n",
    "print(features_score.nlargest(40, 'Score'))  \n"
   ]
  },
  {
   "cell_type": "markdown",
   "metadata": {},
   "source": [
    "Shown above the top 40 features (descending order) that have the greatest significance with respect to target 3. This list can now give us greater insight into which features should be included in model testing and which should be dropped.\n",
    "\n",
    "Alternatively, we could use a PCA approach to reduce the dimenstionality of the data without having to necessarily hand pick features. Let's see this in action."
   ]
  },
  {
   "cell_type": "code",
   "execution_count": 5,
   "metadata": {
    "vscode": {
     "languageId": "markdown"
    }
   },
   "outputs": [
    {
     "data": {
      "image/png": "[encoded data removed]",
      "text/plain": [
       "<Figure size 864x576 with 1 Axes>"
      ]
     },
     "metadata": {
      "needs_background": "light"
     },
     "output_type": "display_data"
    },
    {
     "name": "stdout",
     "output_type": "stream",
     "text": [
      "[ 15.48793912  29.44338815  39.12797976  45.40722235  50.42460193\n",
      "  54.99116512  58.10087474  60.55540511  62.95708243  65.13580777\n",
      "  67.11681566  68.98075668  70.81003622  72.5707573   74.19808488\n",
      "  75.73909839  77.1939763   78.53163767  79.79516783  80.99210592\n",
      "  82.14927451  83.21711912  84.21151984  85.17471581  86.11853706\n",
      "  87.02577956  87.85945036  88.62716797  89.36133593  90.05202516\n",
      "  90.71000392  91.31445842  91.89435605  92.43565167  92.93125774\n",
      "  93.42113785  93.88363755  94.32506641  94.71678571  95.09932093\n",
      "  95.46341314  95.81943386  96.1569861   96.46656655  96.76128843\n",
      "  97.041931    97.30480146  97.54499745  97.7695605   97.96722565\n",
      "  98.12161222  98.26638841  98.38865616  98.49784541  98.60230962\n",
      "  98.6997221   98.78838569  98.87532102  98.94683237  99.00888925\n",
      "  99.06273866  99.11357066  99.16238604  99.21015868  99.2554723\n",
      "  99.29940476  99.33959752  99.37703448  99.41386646  99.44758292\n",
      "  99.47924483  99.51052715  99.53817492  99.56540853  99.58914078\n",
      "  99.61213951  99.63250724  99.6527527   99.67224046  99.68949377\n",
      "  99.70625101  99.72251497  99.73794606  99.75254989  99.76648176\n",
      "  99.77992033  99.79306595  99.80600606  99.81717784  99.8279603\n",
      "  99.83794971  99.84758766  99.85700323  99.86581573  99.87437843\n",
      "  99.88268537  99.89084583  99.89871646  99.90626417  99.9137107\n",
      "  99.9208508   99.92767859  99.93430808  99.94067559  99.9468283\n",
      "  99.95225858  99.95755699  99.96245541  99.96703383  99.9712041\n",
      "  99.97484964  99.9780596   99.9809607   99.98301698  99.98492\n",
      "  99.98652378  99.98807133  99.989444    99.99067184  99.99177145\n",
      "  99.99274052  99.99364633  99.99447712  99.99518861  99.99579619\n",
      "  99.99634183  99.99686493  99.99728192  99.99763366  99.99794147\n",
      "  99.99821366  99.99841943  99.99861623  99.9987831   99.99893206\n",
      "  99.99907325  99.99918959  99.99930007  99.999393    99.99948229\n",
      "  99.99955822  99.99962445  99.99968055  99.99973092  99.99977592\n",
      "  99.99981071  99.99984178  99.99986999  99.99989558  99.99991821\n",
      "  99.99993749  99.99995385  99.999967    99.99997608  99.9999835\n",
      "  99.99998831  99.99999171  99.9999946   99.99999716  99.99999901\n",
      " 100.         100.         100.         100.         100.\n",
      " 100.         100.         100.         100.         100.\n",
      " 100.         100.         100.         100.         100.\n",
      " 100.         100.         100.         100.         100.\n",
      " 100.         100.         100.         100.         100.\n",
      " 100.         100.         100.         100.         100.\n",
      " 100.         100.         100.        ]\n"
     ]
    }
   ],
   "source": [
    "# PCA implementation\n",
    "pca = PCA().fit(ubs)\n",
    "fig, ax = plt.subplots(figsize=(12,8))\n",
    "\n",
    "# Display cumulated explained variance ratio\n",
    "plt.plot(np.cumsum(pca.explained_variance_ratio_))\n",
    "plt.title('Cumulative Explained Variance Ratio', fontsize=16)\n",
    "plt.xlabel('Number of Components', fontsize=(15))\n",
    "plt.ylabel('Variance (%)', fontsize=(15)) \n",
    "\n",
    "annotation = 29\n",
    "plt.axvline(annotation, color='r', linestyle='--')\n",
    "plt.annotate('~ 90% Explained Variance', xy=(annotation, 0.8), xytext=(annotation, 0.9))\n",
    "\n",
    "ax.spines[['top', 'right']].set_visible(False)\n",
    "\n",
    "plt.show()\n",
    "\n",
    "print(np.cumsum(pca.explained_variance_ratio_) * 100) \n"
   ]
  },
  {
   "cell_type": "markdown",
   "metadata": {},
   "source": [
    "From the graph depicted above, we can apply a PCA decomposition on our origional feature data and with using only 29 principal components explain approximately ~90% of the variance of our target.\n",
    "\n",
    "In the third and final approach mentioned, we look to blend the two feature selection strategies by running a PCA decomposition, but only on the N best features found using SelectKbest. The rationale behind this blended strategy is that if we look at the bottom half of the SelectKBest results (presented above), we notice that many of the features are marginally significant in explaining the target. It could be the case that including features which have little explanitory power is causing more harm than good. Mainly, thier inclusion could introduce more noise than predicitve power. Thus, by only selecting features which have a relitively stronger and significant relationship to the target we can have greater confidence that we are mitigating the inculsion of noisy features."
   ]
  },
  {
   "cell_type": "code",
   "execution_count": 6,
   "metadata": {},
   "outputs": [
    {
     "name": "stderr",
     "output_type": "stream",
     "text": [
      "/Users/fabrizio/opt/anaconda3/lib/python3.8/site-packages/sklearn/feature_selection/_univariate_selection.py:301: RuntimeWarning: invalid value encountered in true_divide\n",
      "  corr /= X_norms\n"
     ]
    }
   ],
   "source": [
    "# Apply SelectKBest class to extract top 40 best features\n",
    "bestfeatures = SelectKBest(score_func=f_regression, k=41)\n",
    "best_fit = bestfeatures.fit(ubs, target_3_0)\n",
    "best_scores = pd.DataFrame(best_fit.scores_)\n",
    "best_columns = pd.DataFrame(ubs.columns)\n",
    "\n",
    "# Concatenate the dataframes for better visualization\n",
    "features_score = pd.concat([best_columns, best_scores], axis=1)\n",
    "features_score.columns = ['Features', 'Score'] \n",
    "feats_kb = list(features_score.nlargest(41, 'Score').iloc[1:41]['Features'])\n",
    "\n",
    "# Keep only the top 40 features\n",
    "ubs_best = ubs[feats_kb]"
   ]
  },
  {
   "cell_type": "code",
   "execution_count": 7,
   "metadata": {},
   "outputs": [
    {
     "data": {
      "image/png": "[encoded data removed]",
      "text/plain": [
       "<Figure size 864x576 with 1 Axes>"
      ]
     },
     "metadata": {
      "needs_background": "light"
     },
     "output_type": "display_data"
    },
    {
     "name": "stdout",
     "output_type": "stream",
     "text": [
      "[ 33.51149115  50.0348824   59.5235872   67.3942708   75.11400421\n",
      "  81.09492316  85.97501452  89.68315279  91.71477696  93.4513084\n",
      "  94.90378793  95.99270191  97.00244505  97.54536958  98.04777333\n",
      "  98.45872429  98.7745254   99.0225303   99.19154854  99.35343167\n",
      "  99.47916682  99.57496683  99.65143551  99.72282904  99.77100401\n",
      "  99.81195425  99.84998503  99.88516783  99.91985321  99.95318949\n",
      "  99.97363948  99.985599    99.99329971  99.99854279 100.\n",
      " 100.         100.         100.         100.         100.        ]\n"
     ]
    }
   ],
   "source": [
    "# PCA implementation\n",
    "pca = PCA().fit(ubs_best)\n",
    "fig, ax = plt.subplots(figsize=(12,8))\n",
    "\n",
    "# Display cumulated explained variance ratio\n",
    "plt.plot(np.cumsum(pca.explained_variance_ratio_))\n",
    "plt.title('Cumulative Explained Variance Ratio (SelectKBest)', fontsize=16)\n",
    "plt.xlabel('Number of Components', fontsize=(15))\n",
    "plt.ylabel('Variance (%)', fontsize=(15)) \n",
    "\n",
    "annotation = 12\n",
    "plt.axvline(annotation, color='r', linestyle='--')\n",
    "plt.annotate('~ 90% Explained Variance', xy=(annotation, 0.8), xytext=(annotation, 0.91))\n",
    "\n",
    "ax.spines[['top', 'right']].set_visible(False)\n",
    "\n",
    "plt.show()\n",
    "\n",
    "print(np.cumsum(pca.explained_variance_ratio_) * 100) "
   ]
  },
  {
   "cell_type": "markdown",
   "metadata": {},
   "source": [
    "When using a PCA transform on the features found from SelectKBest, it is possible to explain ~90% of the variance with far fewer principal components. "
   ]
  },
  {
   "cell_type": "markdown",
   "metadata": {},
   "source": [
    "### 4. Model Development and Testing"
   ]
  },
  {
   "cell_type": "markdown",
   "metadata": {},
   "source": [
    "In the previous section we reviewed a few of the possible feature selection techniques used by machine learning practitioners. In this section we will dive into model development and testing, where we begin to see the fruits of our computers labor. One thing to note is that each of the three algorthms presented (Random Forest, CNN'S, and RNN's) were tested using each of the feature selection methodologies. We felt that this approach would allow us to be comprehesive in finding optimal results, while also added an experimetnal element to model development. That being said, trialing feature selection approaches resulted in many models being created. In an effort to reduce unnecesary confusion, we will only present the models which generated the best results and the processes undertaken to arrive at them. Additionally, the following section will only present the code used in the development of ubs models. Results for Netlifx and UBS will be presented, however, for brevity the code will not be included. Additional code can be found on the project GitHub repository (https://github.com/fabcabrera/Stock-Predictions). "
   ]
  },
  {
   "cell_type": "markdown",
   "metadata": {},
   "source": [
    "### 4.1 Random Forest\n",
    "\n",
    "Random forest uses several decision trees and takes the mean output of all the trees as the result. Each tree is trained randomly on a subset of the input data. Doing this removes the issue of over-training and allows for more features for a smaller performance cost (Kam Ho, 1995). \n",
    "Decision trees are flowcharts that depict outcome probabilities depending on given variables. The problem of creating such trees optimally is nondeterministic-polynomial-time complete (Hyafil, 1976) but approximate methods do exist. For example, induction of decision is a common method. With this method the set of input is divided based on some output value being above a threshold that is random. Then an input variable is chosen and a threshold set so that as many values are classified correctly as possible. This process continues recursively until all the data is classified in a correct way, or no improvement can be made (Ross Quinlan, 1986).\n",
    "\n",
    "The following code will work through the steps taken to build our random forest. "
   ]
  },
  {
   "cell_type": "code",
   "execution_count": 8,
   "metadata": {},
   "outputs": [],
   "source": [
    "# Drop NaNs\n",
    "ubs = ubs.dropna()\n",
    "ubs = ubs[~(ubs.isin([np.inf, -np.inf]).any(axis=1))] \n",
    "\n",
    "# Generate target vector and feature matirx \n",
    "target_3 = ubs[\"target_3\"]\n",
    "\n",
    "# Split into training and testing sets \n",
    "column_indices = {name: i for i, name in enumerate(ubs.columns)}\n",
    "\n",
    "n = len(ubs)\n",
    "\n",
    "X_train = ubs[0:int(n*0.9)]\n",
    "X_test = ubs[int(n*0.9):]\n",
    "\n",
    "y_train = target_3[0:int(n*0.9)]\n",
    "y_test = target_3[int(n*0.9):]"
   ]
  },
  {
   "cell_type": "code",
   "execution_count": 9,
   "metadata": {},
   "outputs": [
    {
     "name": "stdout",
     "output_type": "stream",
     "text": [
      "target_3\n",
      "0.0    330\n",
      "1.0    343\n",
      "Name: target_3, dtype: int64\n"
     ]
    }
   ],
   "source": [
    "# Print distirbution of target variable\n",
    "counts = y_train.groupby(by = y_train).count()\n",
    "counts = pd.Series(counts)\n",
    "print(counts)"
   ]
  },
  {
   "cell_type": "code",
   "execution_count": 10,
   "metadata": {},
   "outputs": [],
   "source": [
    "# Standardize the data\n",
    "Mscaler = MinMaxScaler() \n",
    "\n",
    "X_train = pd.DataFrame(Mscaler.fit_transform(X_train), columns = ubs.columns)\n",
    "X_test = pd.DataFrame(Mscaler.fit_transform(X_test), columns = ubs.columns)"
   ]
  },
  {
   "cell_type": "code",
   "execution_count": 11,
   "metadata": {},
   "outputs": [
    {
     "name": "stderr",
     "output_type": "stream",
     "text": [
      "/Users/fabrizio/opt/anaconda3/lib/python3.8/site-packages/sklearn/feature_selection/_univariate_selection.py:301: RuntimeWarning: invalid value encountered in true_divide\n",
      "  corr /= X_norms\n"
     ]
    }
   ],
   "source": [
    "# Apply SelectKBest class to extract top 40 best features\n",
    "bestfeatures = SelectKBest(score_func=f_regression, k=41)\n",
    "best_fit = bestfeatures.fit(X_train, y_train)\n",
    "best_scores = pd.DataFrame(best_fit.scores_)\n",
    "best_columns = pd.DataFrame(ubs.columns)\n",
    "\n",
    "# Concatenate the dataframes for better visualization\n",
    "features_score = pd.concat([best_columns, best_scores], axis=1)\n",
    "features_score.columns = ['Features', 'Score'] \n",
    "feats_kb = list(features_score.nlargest(41, 'Score').iloc[1:41]['Features'])\n",
    "\n",
    "# Set SelectKBest to train and test data\n",
    "X_train_kb = X_train[feats_kb]\n",
    "X_test_kb = X_test[feats_kb]\n",
    "\n",
    "# Apply PCA to the training and testing data\n",
    "pca_kb = PCA(n_components = 12).fit(X_train_kb.to_numpy())\n",
    "X_train_kb = pca_kb.transform(X_train_kb.to_numpy())\n",
    "X_test_kb = pca_kb.transform(X_test_kb.to_numpy())"
   ]
  },
  {
   "cell_type": "code",
   "execution_count": 12,
   "metadata": {},
   "outputs": [
    {
     "name": "stdout",
     "output_type": "stream",
     "text": [
      "Fitting 10 folds for each of 100 candidates, totalling 1000 fits\n"
     ]
    }
   ],
   "source": [
    "# Build Random Forest classifier\n",
    "random_search = {'criterion': ['entropy', 'gini'],\n",
    "               'max_depth': list(np.linspace(10, 1200, 10, dtype = int)) + [None],\n",
    "               'max_features': ['auto', 'sqrt','log2', None],\n",
    "               'min_samples_leaf': [4, 6, 8, 12],\n",
    "               'min_samples_split': [5, 7, 10, 14],\n",
    "               'n_estimators': list(np.linspace(10, 1200, 15, dtype = int))}\n",
    "\n",
    "clf = RandomForestClassifier()\n",
    "model_kb = RandomizedSearchCV(estimator = clf, param_distributions = random_search, n_iter = 100, \n",
    "                               cv = 10, verbose= 5, random_state= 101, n_jobs = -1)\n",
    "                \n",
    "model_kb.fit(X_train_kb,y_train)\n",
    "\n",
    "model_kb.best_params_\n",
    "\n",
    "y_kb_hat = model_kb.best_estimator_.predict(X_test_kb)"
   ]
  },
  {
   "cell_type": "code",
   "execution_count": null,
   "metadata": {},
   "outputs": [
    {
     "name": "stdout",
     "output_type": "stream",
     "text": [
      "Random Forest Accuracy with SelectKBest features: 41.33%\n"
     ]
    }
   ],
   "source": [
    "print(\"Random Forest Accuracy with SelectKBest features: {}%\".format(accuracy_score(y_test, y_kb_hat).round(4)*100))"
   ]
  },
  {
   "cell_type": "markdown",
   "metadata": {},
   "source": [
    "Using the SelectKBest to determine the 40 most significant features, our random forest model returns an accuracy score or 57%. With the basic model structure down, we can next begin to test various hyperparamters in hopes of improvinf the models predictive accuracy."
   ]
  },
  {
   "cell_type": "code",
   "execution_count": null,
   "metadata": {},
   "outputs": [],
   "source": [
    "def kbest_creator(k, df, df_test):\n",
    "    \"\"\"\n",
    "    Returns list of k best features and the number of efficient principle components to use with said k features\n",
    "    \"\"\"\n",
    "    # Apply SelectKBest class to extract top 40 best features\n",
    "    bestfeatures = SelectKBest(score_func=f_regression, k=k)\n",
    "    best_fit = bestfeatures.fit(df, y_train)\n",
    "    best_scores = pd.DataFrame(best_fit.scores_)\n",
    "    best_columns = pd.DataFrame(ubs.columns)\n",
    "    \n",
    "    # Concatenate the dataframes for better visualization\n",
    "    features_score = pd.concat([best_columns, best_scores], axis=1)\n",
    "    features_score.columns = ['Features', 'Score']  # naming the dataframe columns\n",
    "    feats_kb = list(features_score.nlargest(k, 'Score').iloc[1:k]['Features'])\n",
    "\n",
    "    # Run PCA decomposition on the K best features\n",
    "    pca = PCA().fit(df[feats_kb])\n",
    "    pca_scores = np.cumsum(pca.explained_variance_ratio_) * 100\n",
    "    res = next(x for x, val in enumerate(pca_scores) if val > 85)\n",
    "    res = res + 1\n",
    "    res\n",
    "    \n",
    "    pca_kb_1 = PCA(n_components = res).fit(df[feats_kb].to_numpy())\n",
    "    df = pca_kb_1.transform(df[feats_kb].to_numpy())\n",
    "    df_test = pca_kb_1.transform(df_test[feats_kb].to_numpy())\n",
    "    \n",
    "    return df, df_test"
   ]
  },
  {
   "cell_type": "code",
   "execution_count": null,
   "metadata": {},
   "outputs": [
    {
     "name": "stderr",
     "output_type": "stream",
     "text": [
      "/Users/fabrizio/opt/anaconda3/lib/python3.8/site-packages/sklearn/feature_selection/_univariate_selection.py:301: RuntimeWarning: invalid value encountered in true_divide\n",
      "  corr /= X_norms\n",
      "/Users/fabrizio/opt/anaconda3/lib/python3.8/site-packages/sklearn/feature_selection/_univariate_selection.py:301: RuntimeWarning: invalid value encountered in true_divide\n",
      "  corr /= X_norms\n",
      "/Users/fabrizio/opt/anaconda3/lib/python3.8/site-packages/sklearn/feature_selection/_univariate_selection.py:301: RuntimeWarning: invalid value encountered in true_divide\n",
      "  corr /= X_norms\n"
     ]
    }
   ],
   "source": [
    "# Create train and test data with varying number of K best features\n",
    "X_train_kb_1, X_test_kb_1, = kbest_creator(11, X_train, X_test)\n",
    "X_train_kb_2, X_test_kb_2, = kbest_creator(26, X_train, X_test)\n",
    "X_train_kb_3, X_test_kb_3, = kbest_creator(76, X_train, X_test)"
   ]
  },
  {
   "cell_type": "code",
   "execution_count": null,
   "metadata": {},
   "outputs": [
    {
     "name": "stdout",
     "output_type": "stream",
     "text": [
      "Fitting 10 folds for each of 100 candidates, totalling 1000 fits\n"
     ]
    }
   ],
   "source": [
    "# Test using 11 K best features\n",
    "random_search = {'criterion': ['entropy', 'gini'],\n",
    "               'max_depth': list(np.linspace(10, 1200, 10, dtype = int)) + [None],\n",
    "               'max_features': ['auto', 'sqrt','log2', None],\n",
    "               'min_samples_leaf': [4, 6, 8, 12],\n",
    "               'min_samples_split': [5, 7, 10, 14],\n",
    "               'n_estimators': list(np.linspace(10, 1200, 15, dtype = int))}\n",
    "clf = RandomForestClassifier()\n",
    "model1 = RandomizedSearchCV(estimator = clf, param_distributions = random_search, n_iter = 100, \n",
    "                               cv = 10, verbose= 5, random_state= 101, n_jobs = -1)\n",
    "model_kb1 = RandomizedSearchCV(estimator = clf, param_distributions = random_search, n_iter = 100, \n",
    "                               cv = 10, verbose= 5, random_state= 101, n_jobs = -1)\n",
    "\n",
    "model_kb1.fit(X_train_kb_1,y_train)\n",
    "\n",
    "y_kb_hat_1 = model_kb1.best_estimator_.predict(X_test_kb_1)"
   ]
  },
  {
   "cell_type": "code",
   "execution_count": null,
   "metadata": {},
   "outputs": [
    {
     "name": "stdout",
     "output_type": "stream",
     "text": [
      "Fitting 10 folds for each of 100 candidates, totalling 1000 fits\n"
     ]
    }
   ],
   "source": [
    "# Test using 26 K best features\n",
    "model_kb2 = RandomizedSearchCV(estimator = clf, param_distributions = random_search, n_iter = 100, \n",
    "                               cv = 10, verbose= 5, random_state= 101, n_jobs = -1)\n",
    "model_kb2.fit(X_train_kb_2,y_train)\n",
    "\n",
    "y_kb_hat_2 = model_kb2.best_estimator_.predict(X_test_kb_2)"
   ]
  },
  {
   "cell_type": "code",
   "execution_count": null,
   "metadata": {},
   "outputs": [
    {
     "name": "stdout",
     "output_type": "stream",
     "text": [
      "Fitting 10 folds for each of 100 candidates, totalling 1000 fits\n"
     ]
    }
   ],
   "source": [
    "# Test using 76 K best features\n",
    "model_kb3 = RandomizedSearchCV(estimator = clf, param_distributions = random_search, n_iter = 100, \n",
    "                               cv = 10, verbose= 5, random_state= 101, n_jobs = -1)\n",
    "model_kb3.fit(X_train_kb_3,y_train)\n",
    "\n",
    "y_kb_hat_3 = model_kb3.best_estimator_.predict(X_test_kb_3)"
   ]
  },
  {
   "cell_type": "code",
   "execution_count": null,
   "metadata": {},
   "outputs": [
    {
     "name": "stdout",
     "output_type": "stream",
     "text": [
      "Random Forest Accuracy with 11 SelectKBest features: 66.67%\n",
      "Random Forest Accuracy with 26 SelectKBest features: 48.0%\n",
      "Random Forest Accuracy with 76 SelectKBest features: 46.67%\n"
     ]
    }
   ],
   "source": [
    "print(\"Random Forest Accuracy with 11 SelectKBest features: {}%\".format(accuracy_score(y_test, y_kb_hat_1).round(4)*100))\n",
    "print(\"Random Forest Accuracy with 26 SelectKBest features: {}%\".format(accuracy_score(y_test, y_kb_hat_2).round(4)*100))\n",
    "print(\"Random Forest Accuracy with 76 SelectKBest features: {}%\".format(accuracy_score(y_test, y_kb_hat_3).round(4)*100))"
   ]
  },
  {
   "cell_type": "markdown",
   "metadata": {},
   "source": [
    "While it may not be much, after a little hyperparamter tuning, we are able to increase our random forest models prediction accuracy to a modest 60%. What is interesting to note from the results is the 15% increase in the models accuracy when we go from including 11 to 26 features. However, the rate in which accuracy increases with the number of features included seems to be diminishing since the jump from 26 to 76 features leads to a decrease in model performance. This reaffirms the notion that including features with marginal explanatory power are harmful to model performance.     "
   ]
  },
  {
   "cell_type": "markdown",
   "metadata": {},
   "source": [
    "Include results for Netflix and UBS here"
   ]
  },
  {
   "cell_type": "markdown",
   "metadata": {},
   "source": [
    "#### 4.2 Convolutional Neural Network (CNN)"
   ]
  },
  {
   "cell_type": "markdown",
   "metadata": {},
   "source": [
    "Provide description of CNN"
   ]
  },
  {
   "cell_type": "code",
   "execution_count": null,
   "metadata": {},
   "outputs": [],
   "source": [
    "# Create train, validation and test data \n",
    "column_indices = {name: i for i, name in enumerate(ubs.columns)}\n",
    "\n",
    "n = len(ubs)\n",
    "X_train = ubs[0:int(n*0.7)]\n",
    "X_val = ubs[int(n*0.7):int(n*0.9)]\n",
    "X_test = ubs[int(n*0.9):]\n",
    "\n",
    "y_train = target_3[0:int(n*0.7)]\n",
    "y_val = target_3[int(n*0.7):int(n*0.9)]\n",
    "y_test = target_3[int(n*0.9):]"
   ]
  },
  {
   "cell_type": "code",
   "execution_count": null,
   "metadata": {},
   "outputs": [],
   "source": [
    "# Standardize the data using MinMaxScaler\n",
    "X_train = pd.DataFrame(Mscaler.fit_transform(X_train), columns = ubs.columns)\n",
    "X_val = pd.DataFrame(Mscaler.fit_transform(X_val), columns = ubs.columns)\n",
    "X_test = pd.DataFrame(Mscaler.fit_transform(X_test), columns = ubs.columns)"
   ]
  },
  {
   "cell_type": "code",
   "execution_count": null,
   "metadata": {},
   "outputs": [],
   "source": [
    "def df_to_X_y2(df, target, window_size=5):\n",
    "    \"\"\"\n",
    "    Generates a a timeseries window to all for prediction of future values. \n",
    "    \"\"\"\n",
    "    # converts to matrix of numpy arrays  \n",
    "    df_as_np = df.to_numpy() \n",
    "\n",
    "    X = []\n",
    "    y = []\n",
    "\n",
    "    # Length of data frame - window_size so it does't take empty values at the end\n",
    "    for i in range(len(df_as_np)-window_size): \n",
    "    \n",
    "        # Takes row i and all rows above within the window size length\n",
    "        row = [r for r in df_as_np[i:i+window_size]] \n",
    "\n",
    "        # Creates 3 dimentional array (obseravtions, rows in window, features)\n",
    "        X.append(row)\n",
    "\n",
    "        # Pulls the target variable after the window, target varible needs to be column zero in this \n",
    "        label = target[i+window_size] \n",
    "\n",
    "        # returns (N,) martix of targets i+window_length time periods away\n",
    "        y.append(label) \n",
    "\n",
    "    return np.array(X), np.array(y)"
   ]
  },
  {
   "cell_type": "code",
   "execution_count": null,
   "metadata": {},
   "outputs": [],
   "source": [
    "def kbest_creator(k):\n",
    "    \"\"\"\n",
    "    Returns list of k best features and the number of efficient principle compents to use with said k features.\n",
    "    Differs from the kbest_creator function in the random forest section where the only paramter now\n",
    "    is k.\n",
    "    \"\"\"\n",
    "    # Apply SelectKBest class to extract top 40 best features\n",
    "    bestfeatures = SelectKBest(score_func=f_regression, k=k)\n",
    "    best_fit = bestfeatures.fit(X_train, y_train)\n",
    "    best_scores = pd.DataFrame(best_fit.scores_)\n",
    "    best_columns = pd.DataFrame(ubs.columns)\n",
    "    \n",
    "    # Concatenate the dataframes for better visualization\n",
    "    features_score = pd.concat([best_columns, best_scores], axis=1)\n",
    "    features_score.columns = ['Features', 'Score']  # naming the dataframe columns\n",
    "    feats = list(features_score.nlargest(k, 'Score')['Features'])\n",
    "\n",
    "    # Run PCA decomposition on the K best features\n",
    "    pca = PCA().fit(X_train[feats])\n",
    "    pca_scores = np.cumsum(pca.explained_variance_ratio_) * 100\n",
    "    res = next(x for x, val in enumerate(pca_scores) if val > 85)\n",
    "    res = res +1\n",
    "    res\n",
    "    \n",
    "    return feats, res"
   ]
  },
  {
   "cell_type": "code",
   "execution_count": null,
   "metadata": {},
   "outputs": [
    {
     "ename": "NameError",
     "evalue": "name 'kbest_creator' is not defined",
     "output_type": "error",
     "traceback": [
      "\u001b[0;31m---------------------------------------------------------------------------\u001b[0m",
      "\u001b[0;31mNameError\u001b[0m                                 Traceback (most recent call last)",
      "\u001b[0;32m<ipython-input-1-f6f38020e099>\u001b[0m in \u001b[0;36m<module>\u001b[0;34m\u001b[0m\n\u001b[0;32m----> 1\u001b[0;31m \u001b[0mfeats\u001b[0m\u001b[0;34m,\u001b[0m \u001b[0mcomp\u001b[0m \u001b[0;34m=\u001b[0m \u001b[0mkbest_creator\u001b[0m\u001b[0;34m(\u001b[0m\u001b[0;36m5\u001b[0m\u001b[0;34m)\u001b[0m\u001b[0;34m\u001b[0m\u001b[0;34m\u001b[0m\u001b[0m\n\u001b[0m\u001b[1;32m      2\u001b[0m \u001b[0;34m\u001b[0m\u001b[0m\n\u001b[1;32m      3\u001b[0m \u001b[0msklearn_pca\u001b[0m \u001b[0;34m=\u001b[0m \u001b[0mPCA\u001b[0m\u001b[0;34m(\u001b[0m\u001b[0mn_components\u001b[0m\u001b[0;34m=\u001b[0m\u001b[0mcomp\u001b[0m\u001b[0;34m)\u001b[0m\u001b[0;34m\u001b[0m\u001b[0;34m\u001b[0m\u001b[0m\n\u001b[1;32m      4\u001b[0m \u001b[0mX_train_1\u001b[0m \u001b[0;34m=\u001b[0m \u001b[0mpd\u001b[0m\u001b[0;34m.\u001b[0m\u001b[0mDataFrame\u001b[0m\u001b[0;34m(\u001b[0m\u001b[0msklearn_pca\u001b[0m\u001b[0;34m.\u001b[0m\u001b[0mfit_transform\u001b[0m\u001b[0;34m(\u001b[0m\u001b[0mX_train\u001b[0m\u001b[0;34m[\u001b[0m\u001b[0mfeats\u001b[0m\u001b[0;34m]\u001b[0m\u001b[0;34m)\u001b[0m\u001b[0;34m)\u001b[0m\u001b[0;34m\u001b[0m\u001b[0;34m\u001b[0m\u001b[0m\n\u001b[1;32m      5\u001b[0m \u001b[0mX_val_1\u001b[0m \u001b[0;34m=\u001b[0m \u001b[0mpd\u001b[0m\u001b[0;34m.\u001b[0m\u001b[0mDataFrame\u001b[0m\u001b[0;34m(\u001b[0m\u001b[0msklearn_pca\u001b[0m\u001b[0;34m.\u001b[0m\u001b[0mtransform\u001b[0m\u001b[0;34m(\u001b[0m\u001b[0mX_val\u001b[0m\u001b[0;34m[\u001b[0m\u001b[0mfeats\u001b[0m\u001b[0;34m]\u001b[0m\u001b[0;34m)\u001b[0m\u001b[0;34m)\u001b[0m\u001b[0;34m\u001b[0m\u001b[0;34m\u001b[0m\u001b[0m\n",
      "\u001b[0;31mNameError\u001b[0m: name 'kbest_creator' is not defined"
     ]
    }
   ],
   "source": [
    "feats, comp = kbest_creator(5)\n",
    "\n",
    "sklearn_pca = PCA(n_components=comp)\n",
    "X_train_1 = pd.DataFrame(sklearn_pca.fit_transform(X_train[feats]))\n",
    "X_val_1 = pd.DataFrame(sklearn_pca.transform(X_val[feats]))\n",
    "X_test_1 = pd.DataFrame(sklearn_pca.transform(X_test[feats]))\n",
    "\n",
    "# converting to window format, in this case 5 periods\n",
    "X_train_1, train_5w = df_to_X_y2(X_train_1,y_train)\n",
    "X_val_1, val_5w = df_to_X_y2(X_val_1, y_val)\n",
    "X_test_1, test_5w = df_to_X_y2(X_test_1, y_test)"
   ]
  },
  {
   "cell_type": "code",
   "execution_count": null,
   "metadata": {},
   "outputs": [
    {
     "name": "stdout",
     "output_type": "stream",
     "text": [
      "Epoch 1/30\n"
     ]
    },
    {
     "name": "stderr",
     "output_type": "stream",
     "text": [
      "C:\\Users\\alexa\\AppData\\Local\\Programs\\Python\\Python39\\lib\\site-packages\\tensorflow\\python\\util\\dispatch.py:1082: UserWarning: \"`binary_crossentropy` received `from_logits=True`, but the `output` argument was produced by a sigmoid or softmax activation and thus does not represent logits. Was this intended?\"\n",
      "  return dispatch_target(*args, **kwargs)\n"
     ]
    },
    {
     "name": "stdout",
     "output_type": "stream",
     "text": [
      "16/16 [==============================] - 1s 10ms/step - loss: 0.6943 - accuracy: 0.5010 - val_loss: 0.6943 - val_accuracy: 0.5255\n",
      "Epoch 2/30\n",
      "16/16 [==============================] - 0s 3ms/step - loss: 0.6896 - accuracy: 0.5479 - val_loss: 0.6935 - val_accuracy: 0.5036\n",
      "Epoch 3/30\n",
      "16/16 [==============================] - 0s 3ms/step - loss: 0.6889 - accuracy: 0.5336 - val_loss: 0.6945 - val_accuracy: 0.5474\n",
      "Epoch 4/30\n",
      "16/16 [==============================] - 0s 4ms/step - loss: 0.6863 - accuracy: 0.5621 - val_loss: 0.6951 - val_accuracy: 0.4818\n",
      "Epoch 5/30\n",
      "16/16 [==============================] - 0s 3ms/step - loss: 0.6850 - accuracy: 0.5723 - val_loss: 0.6964 - val_accuracy: 0.4964\n",
      "Epoch 6/30\n",
      "16/16 [==============================] - 0s 3ms/step - loss: 0.6833 - accuracy: 0.5662 - val_loss: 0.6980 - val_accuracy: 0.5182\n",
      "Epoch 7/30\n",
      "16/16 [==============================] - 0s 3ms/step - loss: 0.6805 - accuracy: 0.5743 - val_loss: 0.7018 - val_accuracy: 0.4672\n",
      "Epoch 8/30\n",
      "16/16 [==============================] - 0s 4ms/step - loss: 0.6770 - accuracy: 0.5866 - val_loss: 0.7041 - val_accuracy: 0.4745\n",
      "Epoch 9/30\n",
      "16/16 [==============================] - 0s 3ms/step - loss: 0.6749 - accuracy: 0.5784 - val_loss: 0.7091 - val_accuracy: 0.4818\n"
     ]
    },
    {
     "data": {
      "text/plain": [
       "<keras.callbacks.History at 0x29659f1ea60>"
      ]
     },
     "execution_count": 154,
     "metadata": {},
     "output_type": "execute_result"
    }
   ],
   "source": [
    "# Construct the CNN model\n",
    "early_stopping_monitor = EarlyStopping(patience=7)\n",
    "\n",
    "# Window and feature dimensions\n",
    "n_steps = X_train_1.shape[1]\n",
    "n_features = X_train_1.shape[2]\n",
    "\n",
    "model1_2 = Sequential()\n",
    "model1_2.add(Conv1D(filters=64, kernel_size=2, activation='relu', input_shape=(n_steps,n_features))) \n",
    "model1_2.add(Conv1D(filters=15, kernel_size=2, activation='relu'))\n",
    "# better without pooling layer\n",
    "model1_2.add(Flatten())\n",
    "model1_2.add(Dense(30, activation='relu')) \n",
    "model1_2.add(Dense(30, activation='relu')) \n",
    "model1_2.add(Dense(1, activation='sigmoid'))\n",
    "\n",
    "model1_2.compile(optimizer='adam', \n",
    "                loss=tf.keras.losses.BinaryCrossentropy(from_logits=True),\n",
    "                metrics=[\"accuracy\"])\n",
    "\n",
    "model1_2_hist = model1_2.fit(X_train_1, train_5w,epochs=30,  \n",
    "                            validation_data=(X_val_1, val_5w), \n",
    "                            callbacks = [early_stopping_monitor])\n",
    "\n",
    "model1_2_hist\n"
   ]
  },
  {
   "cell_type": "code",
   "execution_count": null,
   "metadata": {},
   "outputs": [
    {
     "data": {
      "text/plain": [
       "dict_keys(['loss', 'accuracy', 'val_loss', 'val_accuracy'])"
      ]
     },
     "execution_count": 155,
     "metadata": {},
     "output_type": "execute_result"
    }
   ],
   "source": [
    "model1_2_hist.history.keys()"
   ]
  },
  {
   "cell_type": "code",
   "execution_count": null,
   "metadata": {},
   "outputs": [
    {
     "name": "stdout",
     "output_type": "stream",
     "text": [
      "CNN inital model accuracy: 54.55%\n"
     ]
    },
    {
     "data": {
      "image/png": "[encoded data removed]",
      "text/plain": [
       "<Figure size 1296x432 with 2 Axes>"
      ]
     },
     "metadata": {
      "needs_background": "light"
     },
     "output_type": "display_data"
    }
   ],
   "source": [
    "# Predict on test data\n",
    "y_hat1_2 = model1_2.predict(X_test_1)\n",
    "\n",
    "# Find the accuracy of the model. Values greater than 0.5 are considered 1, else 0.\n",
    "y_hat1_2 = y_hat1_2 > .5\n",
    "\n",
    "print(\"CNN inital model accuracy: {}%\".format(metrics.accuracy_score(test_5w,y_hat1_2).round(4)*100))\n",
    "\n",
    "# Plot the loss and accuracy curves over epochs:\n",
    "fig, axs = plt.subplots(nrows=1, ncols=2, figsize=(18,6))\n",
    "\n",
    "axs[0].plot(model1_2_hist.history['loss'], color='b', label='Training loss')\n",
    "axs[0].plot(model1_2_hist.history['val_loss'], color='r', label='Validation loss')\n",
    "\n",
    "axs[0].set_title(\"Loss curves\")\n",
    "axs[0].legend(loc='best', shadow=True)\n",
    "\n",
    "axs[1].plot(model1_2_hist.history['accuracy'], color='b', label='Training accuracy')\n",
    "axs[1].plot(model1_2_hist.history['val_accuracy'], color='r', label='Validation accuracy')\n",
    "axs[1].set_title(\"Accuracy curves\")\n",
    "axs[1].legend(loc='best', shadow=True)\n",
    "\n",
    "plt.show()"
   ]
  },
  {
   "cell_type": "code",
   "execution_count": null,
   "metadata": {},
   "outputs": [],
   "source": []
  }
 ],
 "metadata": {
  "interpreter": {
   "hash": "31582b9feba862c420bc95ad7fac43fb721c474490d1710b4e50ac63470f9531"
  },
  "kernelspec": {
   "display_name": "Python 3.8.8 ('base')",
   "language": "python",
   "name": "python3"
  },
  "language_info": {
   "codemirror_mode": {
    "name": "ipython",
    "version": 3
   },
   "file_extension": ".py",
   "mimetype": "text/x-python",
   "name": "python",
   "nbconvert_exporter": "python",
   "pygments_lexer": "ipython3",
   "version": "3.8.8"
  }
 },
 "nbformat": 4,
 "nbformat_minor": 4
}
