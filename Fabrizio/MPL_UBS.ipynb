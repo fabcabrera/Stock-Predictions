{
 "cells": [
  {
   "cell_type": "markdown",
   "metadata": {},
   "source": [
    "### Multi-Layer Perceptron "
   ]
  },
  {
   "cell_type": "code",
   "execution_count": 3,
   "metadata": {},
   "outputs": [],
   "source": [
    "import pandas as pd\n",
    "import numpy as np\n",
    "import matplotlib.pyplot as plt\n",
    "import tensorflow as tf\n",
    "from sklearn import (\n",
    "    linear_model, metrics, neural_network, pipeline, model_selection\n",
    ")\n",
    "from sklearn.impute import SimpleImputer\n",
    "\n",
    "from sklearn.decomposition import PCA\n",
    "from sklearn.preprocessing import StandardScaler\n",
    "from sklearn.pipeline import Pipeline\n",
    "from sklearn.model_selection import train_test_split, GridSearchCV\n",
    "from sklearn.linear_model import Lasso\n",
    "from sklearn.preprocessing import MinMaxScaler\n",
    "from keras.models import Sequential\n",
    "from keras.layers import Dense\n",
    "from sklearn.metrics import mean_squared_error, accuracy_score, precision_score, recall_score, f1_score\n",
    "from sklearn.model_selection import TimeSeriesSplit"
   ]
  },
  {
   "cell_type": "code",
   "execution_count": 4,
   "metadata": {},
   "outputs": [],
   "source": [
    "# import the data\n",
    "df = pd.read_csv('UBS_Cleaned_Date.csv')"
   ]
  },
  {
   "cell_type": "code",
   "execution_count": 5,
   "metadata": {},
   "outputs": [],
   "source": [
    "# Change \"date\" column to ensure datetime type and drop weekends\n",
    "df[\"date\"] = pd.to_datetime(df[\"date\"])"
   ]
  },
  {
   "cell_type": "markdown",
   "metadata": {},
   "source": [
    "#### MPL With Features From Feature Selection Process"
   ]
  },
  {
   "cell_type": "code",
   "execution_count": 6,
   "metadata": {},
   "outputs": [],
   "source": [
    "# TimeSeriesSplit the data\n",
    "tss = TimeSeriesSplit(n_splits=5)\n",
    "\n",
    "# Create feature dataframe based on feature selection results\n",
    "X = df[[\"date\", \"Google_rs\", \"Dow_MAvg_s_Move\", \"Stock_gain\", \"Volume\", \"Dow_loss\", \"Dow_diff\", \n",
    "             \"Google_MAvg_s\", \"Google_MAvg\", \"Google_EMA\", \"Wiki_Move\"]]\n",
    "\n",
    "X = X.set_index(\"date\")\n",
    "\n",
    "# Create y target dataset\n",
    "y = df[\"target_1\"]\n",
    "\n",
    "for train_index, test_index in tss.split(X):\n",
    "    X_train, X_test = X.iloc[train_index, :], X.iloc[test_index,:]\n",
    "    y_train, y_test = y.iloc[train_index], y.iloc[test_index]"
   ]
  },
  {
   "cell_type": "code",
   "execution_count": 7,
   "metadata": {},
   "outputs": [
    {
     "name": "stdout",
     "output_type": "stream",
     "text": [
      "DatetimeIndex(['2019-01-02', '2019-01-03', '2019-01-04', '2019-01-07',\n",
      "               '2019-01-08', '2019-01-09', '2019-01-10', '2019-01-11',\n",
      "               '2019-01-14', '2019-01-15',\n",
      "               ...\n",
      "               '2021-08-30', '2021-08-31', '2021-09-01', '2021-09-02',\n",
      "               '2021-09-03', '2021-09-07', '2021-09-08', '2021-09-09',\n",
      "               '2021-09-10', '2021-09-13'],\n",
      "              dtype='datetime64[ns]', name='date', length=676, freq=None)\n",
      "DatetimeIndex(['2021-09-14', '2021-09-15', '2021-09-16', '2021-09-17',\n",
      "               '2021-09-20', '2021-09-21', '2021-09-22', '2021-09-23',\n",
      "               '2021-09-24', '2021-09-27',\n",
      "               ...\n",
      "               '2022-03-17', '2022-03-18', '2022-03-21', '2022-03-22',\n",
      "               '2022-03-23', '2022-03-24', '2022-03-25', '2022-03-28',\n",
      "               '2022-03-29', '2022-03-30'],\n",
      "              dtype='datetime64[ns]', name='date', length=135, freq=None)\n"
     ]
    }
   ],
   "source": [
    "# Print index of train and test data to check that they are split correctly\n",
    "print(X_train.index)\n",
    "print(X_test.index)"
   ]
  },
  {
   "cell_type": "code",
   "execution_count": 8,
   "metadata": {},
   "outputs": [],
   "source": [
    "# Standardize the data\n",
    "scaler = StandardScaler()\n",
    "X_train_pca = scaler.fit_transform(X_train)\n",
    "X_test_pca = scaler.fit_transform(X_test)"
   ]
  },
  {
   "cell_type": "code",
   "execution_count": 9,
   "metadata": {},
   "outputs": [
    {
     "name": "stdout",
     "output_type": "stream",
     "text": [
      "Epoch 1/50\n",
      "68/68 [==============================] - 2s 9ms/step - loss: nan - accuracy: 0.4467 - val_loss: nan - val_accuracy: 0.4074\n",
      "Epoch 2/50\n",
      "68/68 [==============================] - 0s 5ms/step - loss: nan - accuracy: 0.4497 - val_loss: nan - val_accuracy: 0.4074\n",
      "Epoch 3/50\n",
      "68/68 [==============================] - 0s 4ms/step - loss: nan - accuracy: 0.4497 - val_loss: nan - val_accuracy: 0.4074\n",
      "Epoch 4/50\n",
      "68/68 [==============================] - 0s 4ms/step - loss: nan - accuracy: 0.4497 - val_loss: nan - val_accuracy: 0.4074\n",
      "Epoch 5/50\n",
      "68/68 [==============================] - 0s 5ms/step - loss: nan - accuracy: 0.4497 - val_loss: nan - val_accuracy: 0.4074\n",
      "Epoch 6/50\n",
      "68/68 [==============================] - 0s 4ms/step - loss: nan - accuracy: 0.4497 - val_loss: nan - val_accuracy: 0.4074\n",
      "Epoch 7/50\n",
      "68/68 [==============================] - 0s 4ms/step - loss: nan - accuracy: 0.4497 - val_loss: nan - val_accuracy: 0.4074\n",
      "Epoch 8/50\n",
      "68/68 [==============================] - 0s 4ms/step - loss: nan - accuracy: 0.4497 - val_loss: nan - val_accuracy: 0.4074\n",
      "Epoch 9/50\n",
      "68/68 [==============================] - 0s 5ms/step - loss: nan - accuracy: 0.4497 - val_loss: nan - val_accuracy: 0.4074\n",
      "Epoch 10/50\n",
      "68/68 [==============================] - 0s 5ms/step - loss: nan - accuracy: 0.4497 - val_loss: nan - val_accuracy: 0.4074\n",
      "Epoch 11/50\n",
      "68/68 [==============================] - 0s 4ms/step - loss: nan - accuracy: 0.4497 - val_loss: nan - val_accuracy: 0.4074\n",
      "Epoch 12/50\n",
      "68/68 [==============================] - 0s 5ms/step - loss: nan - accuracy: 0.4497 - val_loss: nan - val_accuracy: 0.4074\n",
      "Epoch 13/50\n",
      "68/68 [==============================] - 0s 5ms/step - loss: nan - accuracy: 0.4497 - val_loss: nan - val_accuracy: 0.4074\n",
      "Epoch 14/50\n",
      "68/68 [==============================] - 0s 5ms/step - loss: nan - accuracy: 0.4497 - val_loss: nan - val_accuracy: 0.4074\n",
      "Epoch 15/50\n",
      "68/68 [==============================] - 0s 5ms/step - loss: nan - accuracy: 0.4497 - val_loss: nan - val_accuracy: 0.4074\n",
      "Epoch 16/50\n",
      "68/68 [==============================] - 0s 5ms/step - loss: nan - accuracy: 0.4497 - val_loss: nan - val_accuracy: 0.4074\n",
      "Epoch 17/50\n",
      "68/68 [==============================] - 0s 4ms/step - loss: nan - accuracy: 0.4497 - val_loss: nan - val_accuracy: 0.4074\n",
      "Epoch 18/50\n",
      "68/68 [==============================] - 0s 4ms/step - loss: nan - accuracy: 0.4497 - val_loss: nan - val_accuracy: 0.4074\n",
      "Epoch 19/50\n",
      "68/68 [==============================] - 0s 4ms/step - loss: nan - accuracy: 0.4497 - val_loss: nan - val_accuracy: 0.4074\n",
      "Epoch 20/50\n",
      "68/68 [==============================] - 0s 6ms/step - loss: nan - accuracy: 0.4497 - val_loss: nan - val_accuracy: 0.4074\n",
      "Epoch 21/50\n",
      "68/68 [==============================] - 0s 4ms/step - loss: nan - accuracy: 0.4497 - val_loss: nan - val_accuracy: 0.4074\n",
      "Epoch 22/50\n",
      "68/68 [==============================] - 0s 5ms/step - loss: nan - accuracy: 0.4497 - val_loss: nan - val_accuracy: 0.4074\n",
      "Epoch 23/50\n",
      "68/68 [==============================] - 0s 7ms/step - loss: nan - accuracy: 0.4497 - val_loss: nan - val_accuracy: 0.4074\n",
      "Epoch 24/50\n",
      "68/68 [==============================] - 0s 5ms/step - loss: nan - accuracy: 0.4497 - val_loss: nan - val_accuracy: 0.4074\n",
      "Epoch 25/50\n",
      "68/68 [==============================] - 0s 5ms/step - loss: nan - accuracy: 0.4497 - val_loss: nan - val_accuracy: 0.4074\n",
      "Epoch 26/50\n",
      "68/68 [==============================] - 0s 5ms/step - loss: nan - accuracy: 0.4497 - val_loss: nan - val_accuracy: 0.4074\n",
      "Epoch 27/50\n",
      "68/68 [==============================] - 0s 4ms/step - loss: nan - accuracy: 0.4497 - val_loss: nan - val_accuracy: 0.4074\n",
      "Epoch 28/50\n",
      "68/68 [==============================] - 0s 5ms/step - loss: nan - accuracy: 0.4497 - val_loss: nan - val_accuracy: 0.4074\n",
      "Epoch 29/50\n",
      "68/68 [==============================] - 0s 4ms/step - loss: nan - accuracy: 0.4497 - val_loss: nan - val_accuracy: 0.4074\n",
      "Epoch 30/50\n",
      "68/68 [==============================] - 0s 6ms/step - loss: nan - accuracy: 0.4497 - val_loss: nan - val_accuracy: 0.4074\n",
      "Epoch 31/50\n",
      "68/68 [==============================] - 0s 5ms/step - loss: nan - accuracy: 0.4497 - val_loss: nan - val_accuracy: 0.4074\n",
      "Epoch 32/50\n",
      "68/68 [==============================] - 0s 4ms/step - loss: nan - accuracy: 0.4497 - val_loss: nan - val_accuracy: 0.4074\n",
      "Epoch 33/50\n",
      "68/68 [==============================] - 0s 4ms/step - loss: nan - accuracy: 0.4497 - val_loss: nan - val_accuracy: 0.4074\n",
      "Epoch 34/50\n",
      "68/68 [==============================] - 0s 6ms/step - loss: nan - accuracy: 0.4497 - val_loss: nan - val_accuracy: 0.4074\n",
      "Epoch 35/50\n",
      "68/68 [==============================] - 0s 5ms/step - loss: nan - accuracy: 0.4497 - val_loss: nan - val_accuracy: 0.4074\n",
      "Epoch 36/50\n",
      "68/68 [==============================] - 0s 5ms/step - loss: nan - accuracy: 0.4497 - val_loss: nan - val_accuracy: 0.4074\n",
      "Epoch 37/50\n",
      "68/68 [==============================] - 0s 5ms/step - loss: nan - accuracy: 0.4497 - val_loss: nan - val_accuracy: 0.4074\n",
      "Epoch 38/50\n",
      "68/68 [==============================] - 0s 4ms/step - loss: nan - accuracy: 0.4497 - val_loss: nan - val_accuracy: 0.4074\n",
      "Epoch 39/50\n",
      "68/68 [==============================] - 0s 5ms/step - loss: nan - accuracy: 0.4497 - val_loss: nan - val_accuracy: 0.4074\n",
      "Epoch 40/50\n",
      "68/68 [==============================] - 0s 6ms/step - loss: nan - accuracy: 0.4497 - val_loss: nan - val_accuracy: 0.4074\n",
      "Epoch 41/50\n",
      "68/68 [==============================] - 0s 5ms/step - loss: nan - accuracy: 0.4497 - val_loss: nan - val_accuracy: 0.4074\n",
      "Epoch 42/50\n",
      "68/68 [==============================] - 0s 5ms/step - loss: nan - accuracy: 0.4497 - val_loss: nan - val_accuracy: 0.4074\n",
      "Epoch 43/50\n",
      "68/68 [==============================] - 0s 4ms/step - loss: nan - accuracy: 0.4497 - val_loss: nan - val_accuracy: 0.4074\n",
      "Epoch 44/50\n",
      "68/68 [==============================] - 0s 6ms/step - loss: nan - accuracy: 0.4497 - val_loss: nan - val_accuracy: 0.4074\n",
      "Epoch 45/50\n",
      "68/68 [==============================] - 0s 4ms/step - loss: nan - accuracy: 0.4497 - val_loss: nan - val_accuracy: 0.4074\n",
      "Epoch 46/50\n",
      "68/68 [==============================] - 0s 4ms/step - loss: nan - accuracy: 0.4497 - val_loss: nan - val_accuracy: 0.4074\n",
      "Epoch 47/50\n",
      "68/68 [==============================] - 0s 5ms/step - loss: nan - accuracy: 0.4497 - val_loss: nan - val_accuracy: 0.4074\n",
      "Epoch 48/50\n",
      "68/68 [==============================] - 0s 4ms/step - loss: nan - accuracy: 0.4497 - val_loss: nan - val_accuracy: 0.4074\n",
      "Epoch 49/50\n",
      "68/68 [==============================] - 0s 5ms/step - loss: nan - accuracy: 0.4497 - val_loss: nan - val_accuracy: 0.4074\n",
      "Epoch 50/50\n",
      "68/68 [==============================] - 0s 4ms/step - loss: nan - accuracy: 0.4497 - val_loss: nan - val_accuracy: 0.4074\n"
     ]
    }
   ],
   "source": [
    "# Build MPL model\n",
    "n_features = X_train_pca.shape[1]\n",
    "model = Sequential()\n",
    "model.add(Dense(50, activation='relu', input_shape=(n_features,)))\n",
    "model.add(Dense(1, activation='sigmoid'))\n",
    "\n",
    "# Compile model\n",
    "model.compile(loss='binary_crossentropy', optimizer='adam', metrics=['accuracy'])\n",
    "\n",
    "# Fit model\n",
    "history = model.fit(X_train, y_train, epochs=50, validation_data=(X_test, y_test), batch_size=10)\n",
    "history\n",
    "\n",
    "# predict on test data\n",
    "y_pred = model.predict(X_test)"
   ]
  },
  {
   "cell_type": "code",
   "execution_count": 10,
   "metadata": {},
   "outputs": [
    {
     "data": {
      "text/plain": [
       "<AxesSubplot:>"
      ]
     },
     "execution_count": 10,
     "metadata": {},
     "output_type": "execute_result"
    },
    {
     "data": {
      "image/png": "[encoded data removed]",
      "text/plain": [
       "<Figure size 720x432 with 1 Axes>"
      ]
     },
     "metadata": {
      "needs_background": "light"
     },
     "output_type": "display_data"
    }
   ],
   "source": [
    "pd.DataFrame(history.history).plot(figsize=(10,6))"
   ]
  },
  {
   "cell_type": "markdown",
   "metadata": {},
   "source": [
    "#### MPL With PCA For Feature Reduction"
   ]
  },
  {
   "cell_type": "code",
   "execution_count": 11,
   "metadata": {},
   "outputs": [],
   "source": [
    "# Time series train/test split\n",
    "tss= TimeSeriesSplit(n_splits=5)\n",
    "\n",
    "# Keep all features, but remove the five target variables\n",
    "X = df.iloc[:, :-5]\n",
    "X = X.set_index(\"date\")\n",
    "\n",
    "# Create series for target \n",
    "y = df.iloc[:, -1]\n",
    "\n",
    "# Split tranining and test data by date\n",
    "for train_index, test_index in tss.split(X):\n",
    "    X_train, X_test = X.iloc[train_index, :], X.iloc[test_index,:]\n",
    "    y_train, y_test = y.iloc[train_index], y.iloc[test_index]"
   ]
  },
  {
   "cell_type": "code",
   "execution_count": 12,
   "metadata": {},
   "outputs": [
    {
     "name": "stdout",
     "output_type": "stream",
     "text": [
      "DatetimeIndex(['2019-01-02', '2019-01-03', '2019-01-04', '2019-01-07',\n",
      "               '2019-01-08', '2019-01-09', '2019-01-10', '2019-01-11',\n",
      "               '2019-01-14', '2019-01-15',\n",
      "               ...\n",
      "               '2021-08-30', '2021-08-31', '2021-09-01', '2021-09-02',\n",
      "               '2021-09-03', '2021-09-07', '2021-09-08', '2021-09-09',\n",
      "               '2021-09-10', '2021-09-13'],\n",
      "              dtype='datetime64[ns]', name='date', length=676, freq=None)\n",
      "DatetimeIndex(['2021-09-14', '2021-09-15', '2021-09-16', '2021-09-17',\n",
      "               '2021-09-20', '2021-09-21', '2021-09-22', '2021-09-23',\n",
      "               '2021-09-24', '2021-09-27',\n",
      "               ...\n",
      "               '2022-03-17', '2022-03-18', '2022-03-21', '2022-03-22',\n",
      "               '2022-03-23', '2022-03-24', '2022-03-25', '2022-03-28',\n",
      "               '2022-03-29', '2022-03-30'],\n",
      "              dtype='datetime64[ns]', name='date', length=135, freq=None)\n"
     ]
    }
   ],
   "source": [
    "# Print index of train and test data to check that they are split correctly\n",
    "print(X_train.index)\n",
    "print(X_test.index)"
   ]
  },
  {
   "cell_type": "code",
   "execution_count": 13,
   "metadata": {},
   "outputs": [
    {
     "ename": "ValueError",
     "evalue": "Input contains NaN, infinity or a value too large for dtype('float64').",
     "output_type": "error",
     "traceback": [
      "\u001b[0;31m---------------------------------------------------------------------------\u001b[0m",
      "\u001b[0;31mValueError\u001b[0m                                Traceback (most recent call last)",
      "\u001b[0;32m<ipython-input-13-2ba2c71672bd>\u001b[0m in \u001b[0;36m<module>\u001b[0;34m\u001b[0m\n\u001b[1;32m      1\u001b[0m \u001b[0;31m# PCA feature reduction. 40 components is enough to explain ~85% of the variance (refer to Feture_selection notebook)\u001b[0m\u001b[0;34m\u001b[0m\u001b[0;34m\u001b[0m\u001b[0;34m\u001b[0m\u001b[0m\n\u001b[1;32m      2\u001b[0m \u001b[0msklearn_pca\u001b[0m \u001b[0;34m=\u001b[0m \u001b[0mPCA\u001b[0m\u001b[0;34m(\u001b[0m\u001b[0mn_components\u001b[0m\u001b[0;34m=\u001b[0m\u001b[0;36m40\u001b[0m\u001b[0;34m)\u001b[0m\u001b[0;34m\u001b[0m\u001b[0;34m\u001b[0m\u001b[0m\n\u001b[0;32m----> 3\u001b[0;31m \u001b[0mX_train_pca\u001b[0m \u001b[0;34m=\u001b[0m \u001b[0msklearn_pca\u001b[0m\u001b[0;34m.\u001b[0m\u001b[0mfit_transform\u001b[0m\u001b[0;34m(\u001b[0m\u001b[0mX_train\u001b[0m\u001b[0;34m)\u001b[0m\u001b[0;34m\u001b[0m\u001b[0;34m\u001b[0m\u001b[0m\n\u001b[0m\u001b[1;32m      4\u001b[0m \u001b[0mX_test_pca\u001b[0m \u001b[0;34m=\u001b[0m \u001b[0msklearn_pca\u001b[0m\u001b[0;34m.\u001b[0m\u001b[0mtransform\u001b[0m\u001b[0;34m(\u001b[0m\u001b[0mX_test\u001b[0m\u001b[0;34m)\u001b[0m\u001b[0;34m\u001b[0m\u001b[0;34m\u001b[0m\u001b[0m\n\u001b[1;32m      5\u001b[0m \u001b[0;34m\u001b[0m\u001b[0m\n",
      "\u001b[0;32m~/opt/anaconda3/lib/python3.8/site-packages/sklearn/decomposition/_pca.py\u001b[0m in \u001b[0;36mfit_transform\u001b[0;34m(self, X, y)\u001b[0m\n\u001b[1;32m    374\u001b[0m         \u001b[0mC\u001b[0m\u001b[0;34m-\u001b[0m\u001b[0mordered\u001b[0m \u001b[0marray\u001b[0m\u001b[0;34m,\u001b[0m \u001b[0muse\u001b[0m \u001b[0;34m'np.ascontiguousarray'\u001b[0m\u001b[0;34m.\u001b[0m\u001b[0;34m\u001b[0m\u001b[0;34m\u001b[0m\u001b[0m\n\u001b[1;32m    375\u001b[0m         \"\"\"\n\u001b[0;32m--> 376\u001b[0;31m         \u001b[0mU\u001b[0m\u001b[0;34m,\u001b[0m \u001b[0mS\u001b[0m\u001b[0;34m,\u001b[0m \u001b[0mVt\u001b[0m \u001b[0;34m=\u001b[0m \u001b[0mself\u001b[0m\u001b[0;34m.\u001b[0m\u001b[0m_fit\u001b[0m\u001b[0;34m(\u001b[0m\u001b[0mX\u001b[0m\u001b[0;34m)\u001b[0m\u001b[0;34m\u001b[0m\u001b[0;34m\u001b[0m\u001b[0m\n\u001b[0m\u001b[1;32m    377\u001b[0m         \u001b[0mU\u001b[0m \u001b[0;34m=\u001b[0m \u001b[0mU\u001b[0m\u001b[0;34m[\u001b[0m\u001b[0;34m:\u001b[0m\u001b[0;34m,\u001b[0m \u001b[0;34m:\u001b[0m\u001b[0mself\u001b[0m\u001b[0;34m.\u001b[0m\u001b[0mn_components_\u001b[0m\u001b[0;34m]\u001b[0m\u001b[0;34m\u001b[0m\u001b[0;34m\u001b[0m\u001b[0m\n\u001b[1;32m    378\u001b[0m \u001b[0;34m\u001b[0m\u001b[0m\n",
      "\u001b[0;32m~/opt/anaconda3/lib/python3.8/site-packages/sklearn/decomposition/_pca.py\u001b[0m in \u001b[0;36m_fit\u001b[0;34m(self, X)\u001b[0m\n\u001b[1;32m    395\u001b[0m                             'TruncatedSVD for a possible alternative.')\n\u001b[1;32m    396\u001b[0m \u001b[0;34m\u001b[0m\u001b[0m\n\u001b[0;32m--> 397\u001b[0;31m         X = self._validate_data(X, dtype=[np.float64, np.float32],\n\u001b[0m\u001b[1;32m    398\u001b[0m                                 ensure_2d=True, copy=self.copy)\n\u001b[1;32m    399\u001b[0m \u001b[0;34m\u001b[0m\u001b[0m\n",
      "\u001b[0;32m~/opt/anaconda3/lib/python3.8/site-packages/sklearn/base.py\u001b[0m in \u001b[0;36m_validate_data\u001b[0;34m(self, X, y, reset, validate_separately, **check_params)\u001b[0m\n\u001b[1;32m    419\u001b[0m             \u001b[0mout\u001b[0m \u001b[0;34m=\u001b[0m \u001b[0mX\u001b[0m\u001b[0;34m\u001b[0m\u001b[0;34m\u001b[0m\u001b[0m\n\u001b[1;32m    420\u001b[0m         \u001b[0;32melif\u001b[0m \u001b[0misinstance\u001b[0m\u001b[0;34m(\u001b[0m\u001b[0my\u001b[0m\u001b[0;34m,\u001b[0m \u001b[0mstr\u001b[0m\u001b[0;34m)\u001b[0m \u001b[0;32mand\u001b[0m \u001b[0my\u001b[0m \u001b[0;34m==\u001b[0m \u001b[0;34m'no_validation'\u001b[0m\u001b[0;34m:\u001b[0m\u001b[0;34m\u001b[0m\u001b[0;34m\u001b[0m\u001b[0m\n\u001b[0;32m--> 421\u001b[0;31m             \u001b[0mX\u001b[0m \u001b[0;34m=\u001b[0m \u001b[0mcheck_array\u001b[0m\u001b[0;34m(\u001b[0m\u001b[0mX\u001b[0m\u001b[0;34m,\u001b[0m \u001b[0;34m**\u001b[0m\u001b[0mcheck_params\u001b[0m\u001b[0;34m)\u001b[0m\u001b[0;34m\u001b[0m\u001b[0;34m\u001b[0m\u001b[0m\n\u001b[0m\u001b[1;32m    422\u001b[0m             \u001b[0mout\u001b[0m \u001b[0;34m=\u001b[0m \u001b[0mX\u001b[0m\u001b[0;34m\u001b[0m\u001b[0;34m\u001b[0m\u001b[0m\n\u001b[1;32m    423\u001b[0m         \u001b[0;32melse\u001b[0m\u001b[0;34m:\u001b[0m\u001b[0;34m\u001b[0m\u001b[0;34m\u001b[0m\u001b[0m\n",
      "\u001b[0;32m~/opt/anaconda3/lib/python3.8/site-packages/sklearn/utils/validation.py\u001b[0m in \u001b[0;36minner_f\u001b[0;34m(*args, **kwargs)\u001b[0m\n\u001b[1;32m     61\u001b[0m             \u001b[0mextra_args\u001b[0m \u001b[0;34m=\u001b[0m \u001b[0mlen\u001b[0m\u001b[0;34m(\u001b[0m\u001b[0margs\u001b[0m\u001b[0;34m)\u001b[0m \u001b[0;34m-\u001b[0m \u001b[0mlen\u001b[0m\u001b[0;34m(\u001b[0m\u001b[0mall_args\u001b[0m\u001b[0;34m)\u001b[0m\u001b[0;34m\u001b[0m\u001b[0;34m\u001b[0m\u001b[0m\n\u001b[1;32m     62\u001b[0m             \u001b[0;32mif\u001b[0m \u001b[0mextra_args\u001b[0m \u001b[0;34m<=\u001b[0m \u001b[0;36m0\u001b[0m\u001b[0;34m:\u001b[0m\u001b[0;34m\u001b[0m\u001b[0;34m\u001b[0m\u001b[0m\n\u001b[0;32m---> 63\u001b[0;31m                 \u001b[0;32mreturn\u001b[0m \u001b[0mf\u001b[0m\u001b[0;34m(\u001b[0m\u001b[0;34m*\u001b[0m\u001b[0margs\u001b[0m\u001b[0;34m,\u001b[0m \u001b[0;34m**\u001b[0m\u001b[0mkwargs\u001b[0m\u001b[0;34m)\u001b[0m\u001b[0;34m\u001b[0m\u001b[0;34m\u001b[0m\u001b[0m\n\u001b[0m\u001b[1;32m     64\u001b[0m \u001b[0;34m\u001b[0m\u001b[0m\n\u001b[1;32m     65\u001b[0m             \u001b[0;31m# extra_args > 0\u001b[0m\u001b[0;34m\u001b[0m\u001b[0;34m\u001b[0m\u001b[0;34m\u001b[0m\u001b[0m\n",
      "\u001b[0;32m~/opt/anaconda3/lib/python3.8/site-packages/sklearn/utils/validation.py\u001b[0m in \u001b[0;36mcheck_array\u001b[0;34m(array, accept_sparse, accept_large_sparse, dtype, order, copy, force_all_finite, ensure_2d, allow_nd, ensure_min_samples, ensure_min_features, estimator)\u001b[0m\n\u001b[1;32m    661\u001b[0m \u001b[0;34m\u001b[0m\u001b[0m\n\u001b[1;32m    662\u001b[0m         \u001b[0;32mif\u001b[0m \u001b[0mforce_all_finite\u001b[0m\u001b[0;34m:\u001b[0m\u001b[0;34m\u001b[0m\u001b[0;34m\u001b[0m\u001b[0m\n\u001b[0;32m--> 663\u001b[0;31m             _assert_all_finite(array,\n\u001b[0m\u001b[1;32m    664\u001b[0m                                allow_nan=force_all_finite == 'allow-nan')\n\u001b[1;32m    665\u001b[0m \u001b[0;34m\u001b[0m\u001b[0m\n",
      "\u001b[0;32m~/opt/anaconda3/lib/python3.8/site-packages/sklearn/utils/validation.py\u001b[0m in \u001b[0;36m_assert_all_finite\u001b[0;34m(X, allow_nan, msg_dtype)\u001b[0m\n\u001b[1;32m    101\u001b[0m                 not allow_nan and not np.isfinite(X).all()):\n\u001b[1;32m    102\u001b[0m             \u001b[0mtype_err\u001b[0m \u001b[0;34m=\u001b[0m \u001b[0;34m'infinity'\u001b[0m \u001b[0;32mif\u001b[0m \u001b[0mallow_nan\u001b[0m \u001b[0;32melse\u001b[0m \u001b[0;34m'NaN, infinity'\u001b[0m\u001b[0;34m\u001b[0m\u001b[0;34m\u001b[0m\u001b[0m\n\u001b[0;32m--> 103\u001b[0;31m             raise ValueError(\n\u001b[0m\u001b[1;32m    104\u001b[0m                     \u001b[0mmsg_err\u001b[0m\u001b[0;34m.\u001b[0m\u001b[0mformat\u001b[0m\u001b[0;34m\u001b[0m\u001b[0;34m\u001b[0m\u001b[0m\n\u001b[1;32m    105\u001b[0m                     (type_err,\n",
      "\u001b[0;31mValueError\u001b[0m: Input contains NaN, infinity or a value too large for dtype('float64')."
     ]
    }
   ],
   "source": [
    "# PCA feature reduction. 40 components is enough to explain ~85% of the variance (refer to Feture_selection notebook)\n",
    "sklearn_pca = PCA(n_components=40)\n",
    "X_train_pca = sklearn_pca.fit_transform(X_train)\n",
    "X_test_pca = sklearn_pca.transform(X_test)\n",
    "\n",
    "# Standardize the data\n",
    "scaler = StandardScaler()\n",
    "X_train_pca = scaler.fit_transform(X_train_pca)\n",
    "X_test_pca = scaler.fit_transform(X_test_pca)"
   ]
  },
  {
   "cell_type": "code",
   "execution_count": null,
   "metadata": {},
   "outputs": [
    {
     "name": "stdout",
     "output_type": "stream",
     "text": [
      "Epoch 1/50\n",
      "61/61 [==============================] - 0s 3ms/step - loss: 0.7138 - accuracy: 0.5358 - val_loss: 0.7288 - val_accuracy: 0.4917\n",
      "Epoch 2/50\n",
      "61/61 [==============================] - 0s 1ms/step - loss: 0.6567 - accuracy: 0.6123 - val_loss: 0.7152 - val_accuracy: 0.5417\n",
      "Epoch 3/50\n",
      "61/61 [==============================] - 0s 1ms/step - loss: 0.6264 - accuracy: 0.6356 - val_loss: 0.7163 - val_accuracy: 0.5500\n",
      "Epoch 4/50\n",
      "61/61 [==============================] - 0s 2ms/step - loss: 0.6027 - accuracy: 0.6789 - val_loss: 0.7118 - val_accuracy: 0.5583\n",
      "Epoch 5/50\n",
      "61/61 [==============================] - 0s 2ms/step - loss: 0.5841 - accuracy: 0.6938 - val_loss: 0.7110 - val_accuracy: 0.5583\n",
      "Epoch 6/50\n",
      "61/61 [==============================] - 0s 2ms/step - loss: 0.5701 - accuracy: 0.7138 - val_loss: 0.7161 - val_accuracy: 0.5833\n",
      "Epoch 7/50\n",
      "61/61 [==============================] - 0s 2ms/step - loss: 0.5569 - accuracy: 0.7171 - val_loss: 0.7172 - val_accuracy: 0.6000\n",
      "Epoch 8/50\n",
      "61/61 [==============================] - 0s 2ms/step - loss: 0.5446 - accuracy: 0.7371 - val_loss: 0.7230 - val_accuracy: 0.5917\n",
      "Epoch 9/50\n",
      "61/61 [==============================] - 0s 1ms/step - loss: 0.5352 - accuracy: 0.7421 - val_loss: 0.7258 - val_accuracy: 0.6333\n",
      "Epoch 10/50\n",
      "61/61 [==============================] - 0s 2ms/step - loss: 0.5236 - accuracy: 0.7621 - val_loss: 0.7290 - val_accuracy: 0.5917\n",
      "Epoch 11/50\n",
      "61/61 [==============================] - 0s 2ms/step - loss: 0.5144 - accuracy: 0.7720 - val_loss: 0.7302 - val_accuracy: 0.5833\n",
      "Epoch 12/50\n",
      "61/61 [==============================] - 0s 2ms/step - loss: 0.5037 - accuracy: 0.7737 - val_loss: 0.7396 - val_accuracy: 0.6000\n",
      "Epoch 13/50\n",
      "61/61 [==============================] - 0s 1ms/step - loss: 0.4936 - accuracy: 0.7804 - val_loss: 0.7429 - val_accuracy: 0.5833\n",
      "Epoch 14/50\n",
      "61/61 [==============================] - 0s 2ms/step - loss: 0.4831 - accuracy: 0.7837 - val_loss: 0.7417 - val_accuracy: 0.6083\n",
      "Epoch 15/50\n",
      "61/61 [==============================] - 0s 2ms/step - loss: 0.4732 - accuracy: 0.8020 - val_loss: 0.7451 - val_accuracy: 0.6000\n",
      "Epoch 16/50\n",
      "61/61 [==============================] - 0s 2ms/step - loss: 0.4645 - accuracy: 0.8070 - val_loss: 0.7494 - val_accuracy: 0.5833\n",
      "Epoch 17/50\n",
      "61/61 [==============================] - 0s 1ms/step - loss: 0.4534 - accuracy: 0.8136 - val_loss: 0.7566 - val_accuracy: 0.5917\n",
      "Epoch 18/50\n",
      "61/61 [==============================] - 0s 2ms/step - loss: 0.4446 - accuracy: 0.8103 - val_loss: 0.7738 - val_accuracy: 0.5833\n",
      "Epoch 19/50\n",
      "61/61 [==============================] - 0s 2ms/step - loss: 0.4341 - accuracy: 0.8369 - val_loss: 0.7801 - val_accuracy: 0.5583\n",
      "Epoch 20/50\n",
      "61/61 [==============================] - 0s 2ms/step - loss: 0.4260 - accuracy: 0.8286 - val_loss: 0.7820 - val_accuracy: 0.5667\n",
      "Epoch 21/50\n",
      "61/61 [==============================] - 0s 2ms/step - loss: 0.4159 - accuracy: 0.8286 - val_loss: 0.7917 - val_accuracy: 0.5833\n",
      "Epoch 22/50\n",
      "61/61 [==============================] - 0s 1ms/step - loss: 0.4081 - accuracy: 0.8436 - val_loss: 0.7983 - val_accuracy: 0.5750\n",
      "Epoch 23/50\n",
      "61/61 [==============================] - 0s 2ms/step - loss: 0.3981 - accuracy: 0.8469 - val_loss: 0.7968 - val_accuracy: 0.5667\n",
      "Epoch 24/50\n",
      "61/61 [==============================] - 0s 2ms/step - loss: 0.3901 - accuracy: 0.8552 - val_loss: 0.8067 - val_accuracy: 0.5750\n",
      "Epoch 25/50\n",
      "61/61 [==============================] - 0s 2ms/step - loss: 0.3816 - accuracy: 0.8619 - val_loss: 0.8082 - val_accuracy: 0.5583\n",
      "Epoch 26/50\n",
      "61/61 [==============================] - 0s 2ms/step - loss: 0.3736 - accuracy: 0.8602 - val_loss: 0.8144 - val_accuracy: 0.5500\n",
      "Epoch 27/50\n",
      "61/61 [==============================] - 0s 2ms/step - loss: 0.3636 - accuracy: 0.8735 - val_loss: 0.8387 - val_accuracy: 0.5417\n",
      "Epoch 28/50\n",
      "61/61 [==============================] - 0s 2ms/step - loss: 0.3555 - accuracy: 0.8686 - val_loss: 0.8482 - val_accuracy: 0.5417\n",
      "Epoch 29/50\n",
      "61/61 [==============================] - 0s 2ms/step - loss: 0.3492 - accuracy: 0.8719 - val_loss: 0.8674 - val_accuracy: 0.5333\n",
      "Epoch 30/50\n",
      "61/61 [==============================] - 0s 2ms/step - loss: 0.3415 - accuracy: 0.8752 - val_loss: 0.8611 - val_accuracy: 0.5250\n",
      "Epoch 31/50\n",
      "61/61 [==============================] - 0s 2ms/step - loss: 0.3333 - accuracy: 0.8869 - val_loss: 0.8762 - val_accuracy: 0.5083\n",
      "Epoch 32/50\n",
      "61/61 [==============================] - 0s 1ms/step - loss: 0.3252 - accuracy: 0.8902 - val_loss: 0.8899 - val_accuracy: 0.5167\n",
      "Epoch 33/50\n",
      "61/61 [==============================] - 0s 1ms/step - loss: 0.3166 - accuracy: 0.8952 - val_loss: 0.9009 - val_accuracy: 0.5167\n",
      "Epoch 34/50\n",
      "61/61 [==============================] - 0s 1ms/step - loss: 0.3110 - accuracy: 0.8935 - val_loss: 0.9048 - val_accuracy: 0.5167\n",
      "Epoch 35/50\n",
      "61/61 [==============================] - 0s 2ms/step - loss: 0.3022 - accuracy: 0.8968 - val_loss: 0.9171 - val_accuracy: 0.5250\n",
      "Epoch 36/50\n",
      "61/61 [==============================] - 0s 2ms/step - loss: 0.2962 - accuracy: 0.9052 - val_loss: 0.9297 - val_accuracy: 0.5250\n",
      "Epoch 37/50\n",
      "61/61 [==============================] - 0s 2ms/step - loss: 0.2887 - accuracy: 0.9118 - val_loss: 0.9347 - val_accuracy: 0.5250\n",
      "Epoch 38/50\n",
      "61/61 [==============================] - 0s 1ms/step - loss: 0.2848 - accuracy: 0.9168 - val_loss: 0.9545 - val_accuracy: 0.5250\n",
      "Epoch 39/50\n",
      "61/61 [==============================] - 0s 2ms/step - loss: 0.2774 - accuracy: 0.9118 - val_loss: 0.9721 - val_accuracy: 0.5250\n",
      "Epoch 40/50\n",
      "61/61 [==============================] - 0s 1ms/step - loss: 0.2708 - accuracy: 0.9151 - val_loss: 0.9736 - val_accuracy: 0.5167\n",
      "Epoch 41/50\n",
      "61/61 [==============================] - 0s 1ms/step - loss: 0.2637 - accuracy: 0.9268 - val_loss: 0.9947 - val_accuracy: 0.5333\n",
      "Epoch 42/50\n",
      "61/61 [==============================] - 0s 2ms/step - loss: 0.2590 - accuracy: 0.9285 - val_loss: 0.9978 - val_accuracy: 0.5167\n",
      "Epoch 43/50\n",
      "61/61 [==============================] - 0s 1ms/step - loss: 0.2505 - accuracy: 0.9268 - val_loss: 1.0153 - val_accuracy: 0.5083\n",
      "Epoch 44/50\n",
      "61/61 [==============================] - 0s 2ms/step - loss: 0.2447 - accuracy: 0.9301 - val_loss: 1.0324 - val_accuracy: 0.5000\n",
      "Epoch 45/50\n",
      "61/61 [==============================] - 0s 2ms/step - loss: 0.2397 - accuracy: 0.9434 - val_loss: 1.0453 - val_accuracy: 0.4917\n",
      "Epoch 46/50\n",
      "61/61 [==============================] - 0s 1ms/step - loss: 0.2332 - accuracy: 0.9434 - val_loss: 1.0689 - val_accuracy: 0.4833\n",
      "Epoch 47/50\n",
      "61/61 [==============================] - 0s 2ms/step - loss: 0.2271 - accuracy: 0.9484 - val_loss: 1.0678 - val_accuracy: 0.5000\n",
      "Epoch 48/50\n",
      "61/61 [==============================] - 0s 1ms/step - loss: 0.2217 - accuracy: 0.9517 - val_loss: 1.0957 - val_accuracy: 0.4833\n",
      "Epoch 49/50\n",
      "61/61 [==============================] - 0s 2ms/step - loss: 0.2168 - accuracy: 0.9484 - val_loss: 1.1093 - val_accuracy: 0.5000\n",
      "Epoch 50/50\n",
      "61/61 [==============================] - 0s 2ms/step - loss: 0.2121 - accuracy: 0.9517 - val_loss: 1.1155 - val_accuracy: 0.5000\n"
     ]
    }
   ],
   "source": [
    "# Build MPL model\n",
    "n_features = X_train_pca.shape[1]\n",
    "model = Sequential()\n",
    "model.add(Dense(50, activation='relu', input_shape=(n_features,)))\n",
    "model.add(Dense(1, activation='sigmoid'))\n",
    "\n",
    "# Compile model\n",
    "model.compile(loss='binary_crossentropy', optimizer='adam', metrics=['accuracy'])\n",
    "\n",
    "# Fit model\n",
    "history = model.fit(X_train_pca, y_train, epochs=50, validation_data=(X_test_pca, y_test), batch_size=10)\n",
    "history\n",
    "\n",
    "# predict on test data\n",
    "y_pred = model.predict(X_test_pca)"
   ]
  },
  {
   "cell_type": "code",
   "execution_count": null,
   "metadata": {},
   "outputs": [
    {
     "data": {
      "text/plain": [
       "<AxesSubplot:>"
      ]
     },
     "execution_count": 146,
     "metadata": {},
     "output_type": "execute_result"
    },
    {
     "data": {
      "image/png": "[encoded data removed]",
      "text/plain": [
       "<Figure size 720x432 with 1 Axes>"
      ]
     },
     "metadata": {
      "needs_background": "light"
     },
     "output_type": "display_data"
    }
   ],
   "source": [
    "pd.DataFrame(history.history).plot(figsize=(10,6))"
   ]
  },
  {
   "cell_type": "code",
   "execution_count": null,
   "metadata": {},
   "outputs": [],
   "source": []
  }
 ],
 "metadata": {
  "kernelspec": {
   "display_name": "Python 3",
   "language": "python",
   "name": "python3"
  },
  "language_info": {
   "codemirror_mode": {
    "name": "ipython",
    "version": 3
   },
   "file_extension": ".py",
   "mimetype": "text/x-python",
   "name": "python",
   "nbconvert_exporter": "python",
   "pygments_lexer": "ipython3",
   "version": "3.8.8"
  }
 },
 "nbformat": 4,
 "nbformat_minor": 4
}
