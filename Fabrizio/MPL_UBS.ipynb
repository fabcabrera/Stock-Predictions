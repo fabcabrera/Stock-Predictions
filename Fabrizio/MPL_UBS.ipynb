{
 "cells": [
  {
   "cell_type": "markdown",
   "metadata": {},
   "source": [
    "### Multi-Layer Perceptron "
   ]
  },
  {
   "cell_type": "code",
   "execution_count": 73,
   "metadata": {},
   "outputs": [],
   "source": [
    "import pandas as pd\n",
    "import numpy as np\n",
    "import matplotlib.pyplot as plt\n",
    "import tensorflow as tf\n",
    "from sklearn import (\n",
    "    linear_model, metrics, neural_network, pipeline, model_selection\n",
    ")\n",
    "from sklearn.impute import SimpleImputer\n",
    "\n",
    "from sklearn.decomposition import PCA\n",
    "from sklearn.preprocessing import StandardScaler\n",
    "from sklearn.pipeline import Pipeline\n",
    "from sklearn.model_selection import train_test_split, GridSearchCV\n",
    "from sklearn.linear_model import Lasso\n",
    "from sklearn.preprocessing import MinMaxScaler\n",
    "from keras.models import Sequential\n",
    "from keras.layers import Dense\n",
    "from sklearn.metrics import mean_squared_error, accuracy_score, precision_score, recall_score, f1_score\n",
    "from sklearn.model_selection import TimeSeriesSplit"
   ]
  },
  {
   "cell_type": "code",
   "execution_count": 124,
   "metadata": {},
   "outputs": [],
   "source": [
    "# import the data\n",
    "df = pd.read_csv('UBS_Cleaned_Date.csv')"
   ]
  },
  {
   "cell_type": "code",
   "execution_count": 125,
   "metadata": {},
   "outputs": [],
   "source": [
    "# cleaning\n",
    "df = df.dropna() # to remove NaN\n",
    "df = df[~(df.isin([np.inf, -np.inf]).any(axis=1))] # to remove inf"
   ]
  },
  {
   "cell_type": "code",
   "execution_count": 126,
   "metadata": {},
   "outputs": [],
   "source": [
    "# Change \"date\" column to ensure datetime type and drop weekends\n",
    "df[\"date\"] = pd.to_datetime(df[\"date\"])"
   ]
  },
  {
   "cell_type": "markdown",
   "metadata": {},
   "source": [
    "#### MPL With Features From Feature Selection Process"
   ]
  },
  {
   "cell_type": "code",
   "execution_count": 127,
   "metadata": {},
   "outputs": [],
   "source": [
    "# TimeSeriesSplit the data\n",
    "tss = TimeSeriesSplit(n_splits=5)\n",
    "\n",
    "# Create feature dataframe based on feature selection results\n",
    "X = df[[\"date\", \"Change_Close\",\n",
    "            \"Wiki_RSI_Move\", \"Dow_Disparity_Move\", \n",
    "            \"Wiki_MAvg_Move\", \"Nas_Move\",\n",
    "            \"Google_rs\", \"Google_ROC_Move\", \n",
    "            \"Nas_Disparity_Move\", \"Google_Disparity_s_Move\",\n",
    "            \"Nas_Disparity_s_Move\", \"Google_gain\",\n",
    "            \"Dow_Disparity_s_Move\", \"Google_RSI_Move\", \"Google_diff\",\n",
    "            \"Dow_Move\", \"Google_Moment_2_s\", \"Dow_Rocp\", \"Nas_gain\",\n",
    "            \"Wiki_Disparity_s\", \"Nas_MAvg_s_Move\", \"Google_Move\",\n",
    "            \"Google_Disparity_s\", \"Google_total\", \"UBS_y\", \"Google_Rocp\",\n",
    "            \"target_1\"\n",
    "            ]]\n",
    "\n",
    "X = X.set_index(\"date\")\n",
    "\n",
    "# Create y target dataset\n",
    "y = df[\"target_1\"]\n",
    "\n",
    "for train_index, test_index in tss.split(X):\n",
    "    X_train, X_test = X.iloc[train_index, :], X.iloc[test_index,:]\n",
    "    y_train, y_test = y.iloc[train_index], y.iloc[test_index]"
   ]
  },
  {
   "cell_type": "code",
   "execution_count": 128,
   "metadata": {},
   "outputs": [
    {
     "data": {
      "text/html": [
       "<div>\n",
       "<style scoped>\n",
       "    .dataframe tbody tr th:only-of-type {\n",
       "        vertical-align: middle;\n",
       "    }\n",
       "\n",
       "    .dataframe tbody tr th {\n",
       "        vertical-align: top;\n",
       "    }\n",
       "\n",
       "    .dataframe thead th {\n",
       "        text-align: right;\n",
       "    }\n",
       "</style>\n",
       "<table border=\"1\" class=\"dataframe\">\n",
       "  <thead>\n",
       "    <tr style=\"text-align: right;\">\n",
       "      <th></th>\n",
       "      <th>Change_Close</th>\n",
       "      <th>Wiki_RSI_Move</th>\n",
       "      <th>Dow_Disparity_Move</th>\n",
       "      <th>Wiki_MAvg_Move</th>\n",
       "      <th>Nas_Move</th>\n",
       "      <th>Google_rs</th>\n",
       "      <th>Google_ROC_Move</th>\n",
       "      <th>Nas_Disparity_Move</th>\n",
       "      <th>Google_Disparity_s_Move</th>\n",
       "      <th>Nas_Disparity_s_Move</th>\n",
       "      <th>...</th>\n",
       "      <th>Dow_Rocp</th>\n",
       "      <th>Nas_gain</th>\n",
       "      <th>Wiki_Disparity_s</th>\n",
       "      <th>Nas_MAvg_s_Move</th>\n",
       "      <th>Google_Move</th>\n",
       "      <th>Google_Disparity_s</th>\n",
       "      <th>Google_total</th>\n",
       "      <th>UBS_y</th>\n",
       "      <th>Google_Rocp</th>\n",
       "      <th>target_1</th>\n",
       "    </tr>\n",
       "  </thead>\n",
       "  <tbody>\n",
       "    <tr>\n",
       "      <th>0</th>\n",
       "      <td>0</td>\n",
       "      <td>0</td>\n",
       "      <td>0</td>\n",
       "      <td>0</td>\n",
       "      <td>0</td>\n",
       "      <td>0</td>\n",
       "      <td>0</td>\n",
       "      <td>0</td>\n",
       "      <td>0</td>\n",
       "      <td>0</td>\n",
       "      <td>...</td>\n",
       "      <td>0</td>\n",
       "      <td>0</td>\n",
       "      <td>0</td>\n",
       "      <td>0</td>\n",
       "      <td>0</td>\n",
       "      <td>0</td>\n",
       "      <td>0</td>\n",
       "      <td>0</td>\n",
       "      <td>0</td>\n",
       "      <td>0</td>\n",
       "    </tr>\n",
       "  </tbody>\n",
       "</table>\n",
       "<p>1 rows × 26 columns</p>\n",
       "</div>"
      ],
      "text/plain": [
       "   Change_Close  Wiki_RSI_Move  Dow_Disparity_Move  Wiki_MAvg_Move  Nas_Move  \\\n",
       "0             0              0                   0               0         0   \n",
       "\n",
       "   Google_rs  Google_ROC_Move  Nas_Disparity_Move  Google_Disparity_s_Move  \\\n",
       "0          0                0                   0                        0   \n",
       "\n",
       "   Nas_Disparity_s_Move  ...  Dow_Rocp  Nas_gain  Wiki_Disparity_s  \\\n",
       "0                     0  ...         0         0                 0   \n",
       "\n",
       "   Nas_MAvg_s_Move  Google_Move  Google_Disparity_s  Google_total  UBS_y  \\\n",
       "0                0            0                   0             0      0   \n",
       "\n",
       "   Google_Rocp  target_1  \n",
       "0            0         0  \n",
       "\n",
       "[1 rows x 26 columns]"
      ]
     },
     "execution_count": 128,
     "metadata": {},
     "output_type": "execute_result"
    }
   ],
   "source": [
    "pd.DataFrame(X.isna().sum()).T"
   ]
  },
  {
   "cell_type": "code",
   "execution_count": 129,
   "metadata": {},
   "outputs": [
    {
     "name": "stdout",
     "output_type": "stream",
     "text": [
      "DatetimeIndex(['2019-01-28', '2019-01-29', '2019-01-30', '2019-02-01',\n",
      "               '2019-02-04', '2019-02-05', '2019-02-06', '2019-02-07',\n",
      "               '2019-02-08', '2019-02-11',\n",
      "               ...\n",
      "               '2021-09-09', '2021-09-10', '2021-09-14', '2021-09-15',\n",
      "               '2021-09-16', '2021-09-17', '2021-09-20', '2021-09-21',\n",
      "               '2021-09-22', '2021-09-23'],\n",
      "              dtype='datetime64[ns]', name='date', length=624, freq=None)\n",
      "DatetimeIndex(['2021-09-24', '2021-09-27', '2021-09-28', '2021-09-29',\n",
      "               '2021-09-30', '2021-10-01', '2021-10-04', '2021-10-05',\n",
      "               '2021-10-06', '2021-10-07',\n",
      "               ...\n",
      "               '2022-03-16', '2022-03-17', '2022-03-18', '2022-03-21',\n",
      "               '2022-03-22', '2022-03-23', '2022-03-24', '2022-03-25',\n",
      "               '2022-03-28', '2022-03-29'],\n",
      "              dtype='datetime64[ns]', name='date', length=124, freq=None)\n"
     ]
    }
   ],
   "source": [
    "# Print index of train and test data to check that they are split correctly\n",
    "print(X_train.index)\n",
    "print(X_test.index)"
   ]
  },
  {
   "cell_type": "code",
   "execution_count": 130,
   "metadata": {},
   "outputs": [],
   "source": [
    "# Standardize the data\n",
    "scaler = StandardScaler()\n",
    "X_train_pca = scaler.fit_transform(X_train)\n",
    "X_test_pca = scaler.fit_transform(X_test)"
   ]
  },
  {
   "cell_type": "code",
   "execution_count": 131,
   "metadata": {},
   "outputs": [
    {
     "name": "stdout",
     "output_type": "stream",
     "text": [
      "Epoch 1/50\n",
      "63/63 [==============================] - 2s 10ms/step - loss: 182.6773 - accuracy: 0.4824 - val_loss: 55.0973 - val_accuracy: 0.4919\n",
      "Epoch 2/50\n",
      "63/63 [==============================] - 0s 3ms/step - loss: 53.7633 - accuracy: 0.5449 - val_loss: 29.2350 - val_accuracy: 0.5081\n",
      "Epoch 3/50\n",
      "63/63 [==============================] - 0s 4ms/step - loss: 37.1742 - accuracy: 0.5417 - val_loss: 24.7700 - val_accuracy: 0.4919\n",
      "Epoch 4/50\n",
      "63/63 [==============================] - 0s 3ms/step - loss: 39.1970 - accuracy: 0.5240 - val_loss: 24.3182 - val_accuracy: 0.5242\n",
      "Epoch 5/50\n",
      "63/63 [==============================] - 0s 3ms/step - loss: 43.3737 - accuracy: 0.5224 - val_loss: 18.6777 - val_accuracy: 0.5726\n",
      "Epoch 6/50\n",
      "63/63 [==============================] - 0s 6ms/step - loss: 48.4316 - accuracy: 0.5128 - val_loss: 12.5771 - val_accuracy: 0.5403\n",
      "Epoch 7/50\n",
      "63/63 [==============================] - 0s 5ms/step - loss: 43.3450 - accuracy: 0.4952 - val_loss: 37.6683 - val_accuracy: 0.5081\n",
      "Epoch 8/50\n",
      "63/63 [==============================] - 0s 5ms/step - loss: 55.5247 - accuracy: 0.5449 - val_loss: 15.5974 - val_accuracy: 0.5565\n",
      "Epoch 9/50\n",
      "63/63 [==============================] - 0s 4ms/step - loss: 50.3482 - accuracy: 0.4952 - val_loss: 30.5624 - val_accuracy: 0.5000\n",
      "Epoch 10/50\n",
      "63/63 [==============================] - 0s 5ms/step - loss: 42.2859 - accuracy: 0.5160 - val_loss: 35.4806 - val_accuracy: 0.5887\n",
      "Epoch 11/50\n",
      "63/63 [==============================] - 0s 5ms/step - loss: 44.9708 - accuracy: 0.5048 - val_loss: 13.9231 - val_accuracy: 0.5645\n",
      "Epoch 12/50\n",
      "63/63 [==============================] - 0s 4ms/step - loss: 61.9574 - accuracy: 0.5577 - val_loss: 20.3529 - val_accuracy: 0.5000\n",
      "Epoch 13/50\n",
      "63/63 [==============================] - 0s 5ms/step - loss: 32.5529 - accuracy: 0.5304 - val_loss: 41.7453 - val_accuracy: 0.4516\n",
      "Epoch 14/50\n",
      "63/63 [==============================] - 0s 4ms/step - loss: 32.5094 - accuracy: 0.5385 - val_loss: 17.7458 - val_accuracy: 0.5968\n",
      "Epoch 15/50\n",
      "63/63 [==============================] - 0s 4ms/step - loss: 19.8011 - accuracy: 0.5689 - val_loss: 27.7120 - val_accuracy: 0.5968\n",
      "Epoch 16/50\n",
      "63/63 [==============================] - 0s 4ms/step - loss: 29.7055 - accuracy: 0.5753 - val_loss: 27.2687 - val_accuracy: 0.5565\n",
      "Epoch 17/50\n",
      "63/63 [==============================] - 0s 4ms/step - loss: 37.0551 - accuracy: 0.5513 - val_loss: 20.8212 - val_accuracy: 0.6290\n",
      "Epoch 18/50\n",
      "63/63 [==============================] - 0s 4ms/step - loss: 35.2912 - accuracy: 0.5593 - val_loss: 19.9770 - val_accuracy: 0.5726\n",
      "Epoch 19/50\n",
      "63/63 [==============================] - 0s 4ms/step - loss: 29.1400 - accuracy: 0.5529 - val_loss: 36.2682 - val_accuracy: 0.5484\n",
      "Epoch 20/50\n",
      "63/63 [==============================] - 0s 5ms/step - loss: 33.2877 - accuracy: 0.5369 - val_loss: 51.2590 - val_accuracy: 0.5726\n",
      "Epoch 21/50\n",
      "63/63 [==============================] - 0s 4ms/step - loss: 42.4457 - accuracy: 0.5529 - val_loss: 50.5909 - val_accuracy: 0.5081\n",
      "Epoch 22/50\n",
      "63/63 [==============================] - 0s 4ms/step - loss: 49.8391 - accuracy: 0.5353 - val_loss: 18.4630 - val_accuracy: 0.6129\n",
      "Epoch 23/50\n",
      "63/63 [==============================] - 0s 4ms/step - loss: 20.2227 - accuracy: 0.5817 - val_loss: 29.5735 - val_accuracy: 0.5242\n",
      "Epoch 24/50\n",
      "63/63 [==============================] - 0s 4ms/step - loss: 37.7127 - accuracy: 0.5689 - val_loss: 33.2336 - val_accuracy: 0.4919\n",
      "Epoch 25/50\n",
      "63/63 [==============================] - 0s 7ms/step - loss: 22.7661 - accuracy: 0.5785 - val_loss: 26.2707 - val_accuracy: 0.5323\n",
      "Epoch 26/50\n",
      "63/63 [==============================] - 0s 5ms/step - loss: 53.1265 - accuracy: 0.5737 - val_loss: 149.6720 - val_accuracy: 0.5081\n",
      "Epoch 27/50\n",
      "63/63 [==============================] - 0s 6ms/step - loss: 71.8265 - accuracy: 0.5369 - val_loss: 11.0959 - val_accuracy: 0.5000\n",
      "Epoch 28/50\n",
      "63/63 [==============================] - 1s 8ms/step - loss: 31.4952 - accuracy: 0.5625 - val_loss: 24.6268 - val_accuracy: 0.5968\n",
      "Epoch 29/50\n",
      "63/63 [==============================] - 0s 4ms/step - loss: 28.9536 - accuracy: 0.5385 - val_loss: 11.2884 - val_accuracy: 0.5484\n",
      "Epoch 30/50\n",
      "63/63 [==============================] - 0s 5ms/step - loss: 45.3121 - accuracy: 0.5321 - val_loss: 31.4912 - val_accuracy: 0.5161\n",
      "Epoch 31/50\n",
      "63/63 [==============================] - 0s 4ms/step - loss: 25.4298 - accuracy: 0.5769 - val_loss: 90.7025 - val_accuracy: 0.4435\n",
      "Epoch 32/50\n",
      "63/63 [==============================] - 0s 7ms/step - loss: 65.0955 - accuracy: 0.4920 - val_loss: 106.0501 - val_accuracy: 0.4194\n",
      "Epoch 33/50\n",
      "63/63 [==============================] - 0s 4ms/step - loss: 30.9819 - accuracy: 0.5689 - val_loss: 11.8131 - val_accuracy: 0.5806\n",
      "Epoch 34/50\n",
      "63/63 [==============================] - 0s 7ms/step - loss: 30.8935 - accuracy: 0.5737 - val_loss: 31.5478 - val_accuracy: 0.5484\n",
      "Epoch 35/50\n",
      "63/63 [==============================] - 0s 5ms/step - loss: 39.2855 - accuracy: 0.5785 - val_loss: 25.3577 - val_accuracy: 0.5968\n",
      "Epoch 36/50\n",
      "63/63 [==============================] - 0s 5ms/step - loss: 40.2959 - accuracy: 0.6058 - val_loss: 38.4209 - val_accuracy: 0.5081\n",
      "Epoch 37/50\n",
      "63/63 [==============================] - 0s 5ms/step - loss: 48.5325 - accuracy: 0.5288 - val_loss: 76.0453 - val_accuracy: 0.5726\n",
      "Epoch 38/50\n",
      "63/63 [==============================] - 0s 7ms/step - loss: 43.1222 - accuracy: 0.5337 - val_loss: 46.2227 - val_accuracy: 0.5726\n",
      "Epoch 39/50\n",
      "63/63 [==============================] - 0s 5ms/step - loss: 26.5017 - accuracy: 0.5593 - val_loss: 32.1900 - val_accuracy: 0.5323\n",
      "Epoch 40/50\n",
      "63/63 [==============================] - 1s 9ms/step - loss: 47.0990 - accuracy: 0.5625 - val_loss: 26.2004 - val_accuracy: 0.5565\n",
      "Epoch 41/50\n",
      "63/63 [==============================] - 0s 5ms/step - loss: 25.2301 - accuracy: 0.6042 - val_loss: 19.2033 - val_accuracy: 0.6129\n",
      "Epoch 42/50\n",
      "63/63 [==============================] - 0s 6ms/step - loss: 31.0439 - accuracy: 0.5689 - val_loss: 6.7479 - val_accuracy: 0.6048\n",
      "Epoch 43/50\n",
      "63/63 [==============================] - 0s 6ms/step - loss: 21.4863 - accuracy: 0.6362 - val_loss: 37.2697 - val_accuracy: 0.4839\n",
      "Epoch 44/50\n",
      "63/63 [==============================] - 0s 6ms/step - loss: 22.6346 - accuracy: 0.6090 - val_loss: 33.7301 - val_accuracy: 0.5161\n",
      "Epoch 45/50\n",
      "63/63 [==============================] - 0s 5ms/step - loss: 40.3349 - accuracy: 0.5513 - val_loss: 23.9590 - val_accuracy: 0.5645\n",
      "Epoch 46/50\n",
      "63/63 [==============================] - 0s 4ms/step - loss: 35.8624 - accuracy: 0.5994 - val_loss: 110.1617 - val_accuracy: 0.5081\n",
      "Epoch 47/50\n",
      "63/63 [==============================] - 0s 5ms/step - loss: 76.5518 - accuracy: 0.5224 - val_loss: 40.7274 - val_accuracy: 0.5403\n",
      "Epoch 48/50\n",
      "63/63 [==============================] - 0s 6ms/step - loss: 37.5648 - accuracy: 0.5433 - val_loss: 25.6717 - val_accuracy: 0.5887\n",
      "Epoch 49/50\n",
      "63/63 [==============================] - 0s 4ms/step - loss: 26.0320 - accuracy: 0.5689 - val_loss: 26.3953 - val_accuracy: 0.5484\n",
      "Epoch 50/50\n",
      "63/63 [==============================] - 0s 4ms/step - loss: 22.2847 - accuracy: 0.5994 - val_loss: 41.8501 - val_accuracy: 0.5403\n"
     ]
    }
   ],
   "source": [
    "# Build MPL model\n",
    "n_features = X_train_pca.shape[1]\n",
    "model = Sequential()\n",
    "model.add(Dense(50, activation='relu', input_shape=(n_features,)))\n",
    "model.add(Dense(1, activation='sigmoid'))\n",
    "\n",
    "# Compile model\n",
    "model.compile(loss='binary_crossentropy', optimizer='adam', metrics=['accuracy'])\n",
    "\n",
    "# Fit model\n",
    "history = model.fit(X_train, y_train, epochs=50, validation_data=(X_test, y_test), batch_size=10)\n",
    "history\n",
    "\n",
    "# predict on test data\n",
    "y_pred = model.predict(X_test)"
   ]
  },
  {
   "cell_type": "code",
   "execution_count": 132,
   "metadata": {},
   "outputs": [
    {
     "data": {
      "text/plain": [
       "<AxesSubplot:>"
      ]
     },
     "execution_count": 132,
     "metadata": {},
     "output_type": "execute_result"
    },
    {
     "data": {
      "image/png": "[encoded data removed]",
      "text/plain": [
       "<Figure size 720x432 with 1 Axes>"
      ]
     },
     "metadata": {
      "needs_background": "light"
     },
     "output_type": "display_data"
    }
   ],
   "source": [
    "pd.DataFrame(history.history).plot(figsize=(10,6))"
   ]
  },
  {
   "cell_type": "markdown",
   "metadata": {},
   "source": [
    "#### MPL With PCA For Feature Reduction"
   ]
  },
  {
   "cell_type": "code",
   "execution_count": 133,
   "metadata": {},
   "outputs": [],
   "source": [
    "# Time series train/test split\n",
    "tss= TimeSeriesSplit(n_splits=5)\n",
    "\n",
    "# Keep all features, but remove the five target variables\n",
    "X = df.iloc[:, :-5]\n",
    "X = X.set_index(\"date\")\n",
    "\n",
    "X = X.dropna() # to remove NaN\n",
    "X = X[~(X.isin([np.inf, -np.inf]).any(axis=1))] # to remove inf\n",
    "\n",
    "# Create series for target \n",
    "y = df.iloc[:, -1]\n",
    "\n",
    "y = y.dropna() # to remove NaN\n",
    "#y = y[~(y.isin([np.inf, -np.inf]).any(axis=1))] # to remove inf\n",
    "\n",
    "\n",
    "# Split tranining and test data by date\n",
    "for train_index, test_index in tss.split(X):\n",
    "    X_train, X_test = X.iloc[train_index, :], X.iloc[test_index,:]\n",
    "    y_train, y_test = y.iloc[train_index], y.iloc[test_index]"
   ]
  },
  {
   "cell_type": "code",
   "execution_count": 134,
   "metadata": {},
   "outputs": [
    {
     "name": "stdout",
     "output_type": "stream",
     "text": [
      "DatetimeIndex(['2019-01-28', '2019-01-29', '2019-01-30', '2019-02-01',\n",
      "               '2019-02-04', '2019-02-05', '2019-02-06', '2019-02-07',\n",
      "               '2019-02-08', '2019-02-11',\n",
      "               ...\n",
      "               '2021-09-09', '2021-09-10', '2021-09-14', '2021-09-15',\n",
      "               '2021-09-16', '2021-09-17', '2021-09-20', '2021-09-21',\n",
      "               '2021-09-22', '2021-09-23'],\n",
      "              dtype='datetime64[ns]', name='date', length=624, freq=None)\n",
      "DatetimeIndex(['2021-09-24', '2021-09-27', '2021-09-28', '2021-09-29',\n",
      "               '2021-09-30', '2021-10-01', '2021-10-04', '2021-10-05',\n",
      "               '2021-10-06', '2021-10-07',\n",
      "               ...\n",
      "               '2022-03-16', '2022-03-17', '2022-03-18', '2022-03-21',\n",
      "               '2022-03-22', '2022-03-23', '2022-03-24', '2022-03-25',\n",
      "               '2022-03-28', '2022-03-29'],\n",
      "              dtype='datetime64[ns]', name='date', length=124, freq=None)\n"
     ]
    }
   ],
   "source": [
    "# Print index of train and test data to check that they are split correctly\n",
    "print(X_train.index)\n",
    "print(X_test.index)"
   ]
  },
  {
   "cell_type": "code",
   "execution_count": 135,
   "metadata": {},
   "outputs": [],
   "source": [
    "# PCA feature reduction. 40 components is enough to explain ~85% of the variance (refer to Feture_selection notebook)\n",
    "sklearn_pca = PCA(n_components=6)\n",
    "X_train_pca = sklearn_pca.fit_transform(X_train)\n",
    "X_test_pca = sklearn_pca.transform(X_test)\n",
    "\n",
    "# Standardize the data \n",
    "scaler = StandardScaler()\n",
    "X_train_pca = scaler.fit_transform(X_train_pca)\n",
    "X_test_pca = scaler.fit_transform(X_test_pca)"
   ]
  },
  {
   "cell_type": "code",
   "execution_count": 136,
   "metadata": {},
   "outputs": [
    {
     "name": "stdout",
     "output_type": "stream",
     "text": [
      "Epoch 1/50\n",
      "63/63 [==============================] - 3s 15ms/step - loss: 0.6783 - accuracy: 0.5689 - val_loss: 0.6903 - val_accuracy: 0.5565\n",
      "Epoch 2/50\n",
      "63/63 [==============================] - 0s 7ms/step - loss: 0.6444 - accuracy: 0.6282 - val_loss: 0.6979 - val_accuracy: 0.5403\n",
      "Epoch 3/50\n",
      "63/63 [==============================] - 0s 5ms/step - loss: 0.6289 - accuracy: 0.6378 - val_loss: 0.7058 - val_accuracy: 0.5403\n",
      "Epoch 4/50\n",
      "63/63 [==============================] - 0s 7ms/step - loss: 0.6217 - accuracy: 0.6458 - val_loss: 0.7133 - val_accuracy: 0.5565\n",
      "Epoch 5/50\n",
      "63/63 [==============================] - 0s 5ms/step - loss: 0.6175 - accuracy: 0.6474 - val_loss: 0.7199 - val_accuracy: 0.5565\n",
      "Epoch 6/50\n",
      "63/63 [==============================] - 0s 6ms/step - loss: 0.6152 - accuracy: 0.6490 - val_loss: 0.7192 - val_accuracy: 0.5484\n",
      "Epoch 7/50\n",
      "63/63 [==============================] - 0s 4ms/step - loss: 0.6133 - accuracy: 0.6490 - val_loss: 0.7229 - val_accuracy: 0.5484\n",
      "Epoch 8/50\n",
      "63/63 [==============================] - 0s 5ms/step - loss: 0.6115 - accuracy: 0.6603 - val_loss: 0.7274 - val_accuracy: 0.5484\n",
      "Epoch 9/50\n",
      "63/63 [==============================] - 0s 5ms/step - loss: 0.6098 - accuracy: 0.6571 - val_loss: 0.7255 - val_accuracy: 0.5484\n",
      "Epoch 10/50\n",
      "63/63 [==============================] - 0s 6ms/step - loss: 0.6083 - accuracy: 0.6554 - val_loss: 0.7295 - val_accuracy: 0.5484\n",
      "Epoch 11/50\n",
      "63/63 [==============================] - 0s 4ms/step - loss: 0.6067 - accuracy: 0.6554 - val_loss: 0.7314 - val_accuracy: 0.5403\n",
      "Epoch 12/50\n",
      "63/63 [==============================] - 0s 7ms/step - loss: 0.6052 - accuracy: 0.6554 - val_loss: 0.7289 - val_accuracy: 0.5403\n",
      "Epoch 13/50\n",
      "63/63 [==============================] - 0s 4ms/step - loss: 0.6053 - accuracy: 0.6554 - val_loss: 0.7329 - val_accuracy: 0.5323\n",
      "Epoch 14/50\n",
      "63/63 [==============================] - 0s 6ms/step - loss: 0.6040 - accuracy: 0.6571 - val_loss: 0.7324 - val_accuracy: 0.5403\n",
      "Epoch 15/50\n",
      "63/63 [==============================] - 0s 4ms/step - loss: 0.6027 - accuracy: 0.6635 - val_loss: 0.7356 - val_accuracy: 0.5323\n",
      "Epoch 16/50\n",
      "63/63 [==============================] - 0s 6ms/step - loss: 0.6023 - accuracy: 0.6587 - val_loss: 0.7361 - val_accuracy: 0.5323\n",
      "Epoch 17/50\n",
      "63/63 [==============================] - 0s 8ms/step - loss: 0.6008 - accuracy: 0.6522 - val_loss: 0.7340 - val_accuracy: 0.5484\n",
      "Epoch 18/50\n",
      "63/63 [==============================] - 0s 6ms/step - loss: 0.6019 - accuracy: 0.6587 - val_loss: 0.7380 - val_accuracy: 0.5161\n",
      "Epoch 19/50\n",
      "63/63 [==============================] - 0s 5ms/step - loss: 0.6001 - accuracy: 0.6554 - val_loss: 0.7364 - val_accuracy: 0.5242\n",
      "Epoch 20/50\n",
      "63/63 [==============================] - 0s 4ms/step - loss: 0.5994 - accuracy: 0.6538 - val_loss: 0.7408 - val_accuracy: 0.5242\n",
      "Epoch 21/50\n",
      "63/63 [==============================] - 0s 5ms/step - loss: 0.5986 - accuracy: 0.6571 - val_loss: 0.7411 - val_accuracy: 0.5323\n",
      "Epoch 22/50\n",
      "63/63 [==============================] - 0s 5ms/step - loss: 0.5975 - accuracy: 0.6571 - val_loss: 0.7422 - val_accuracy: 0.5242\n",
      "Epoch 23/50\n",
      "63/63 [==============================] - 0s 5ms/step - loss: 0.5988 - accuracy: 0.6587 - val_loss: 0.7389 - val_accuracy: 0.5323\n",
      "Epoch 24/50\n",
      "63/63 [==============================] - 0s 5ms/step - loss: 0.5965 - accuracy: 0.6587 - val_loss: 0.7417 - val_accuracy: 0.5323\n",
      "Epoch 25/50\n",
      "63/63 [==============================] - 0s 7ms/step - loss: 0.5959 - accuracy: 0.6587 - val_loss: 0.7435 - val_accuracy: 0.5323\n",
      "Epoch 26/50\n",
      "63/63 [==============================] - 0s 5ms/step - loss: 0.5962 - accuracy: 0.6715 - val_loss: 0.7439 - val_accuracy: 0.5484\n",
      "Epoch 27/50\n",
      "63/63 [==============================] - 0s 5ms/step - loss: 0.5947 - accuracy: 0.6587 - val_loss: 0.7438 - val_accuracy: 0.5242\n",
      "Epoch 28/50\n",
      "63/63 [==============================] - 0s 6ms/step - loss: 0.5969 - accuracy: 0.6506 - val_loss: 0.7424 - val_accuracy: 0.5403\n",
      "Epoch 29/50\n",
      "63/63 [==============================] - 0s 6ms/step - loss: 0.5945 - accuracy: 0.6651 - val_loss: 0.7425 - val_accuracy: 0.5242\n",
      "Epoch 30/50\n",
      "63/63 [==============================] - 1s 8ms/step - loss: 0.5933 - accuracy: 0.6603 - val_loss: 0.7423 - val_accuracy: 0.5242\n",
      "Epoch 31/50\n",
      "63/63 [==============================] - 0s 7ms/step - loss: 0.5930 - accuracy: 0.6635 - val_loss: 0.7462 - val_accuracy: 0.5242\n",
      "Epoch 32/50\n",
      "63/63 [==============================] - 0s 5ms/step - loss: 0.5931 - accuracy: 0.6635 - val_loss: 0.7507 - val_accuracy: 0.5242\n",
      "Epoch 33/50\n",
      "63/63 [==============================] - 0s 5ms/step - loss: 0.5926 - accuracy: 0.6683 - val_loss: 0.7417 - val_accuracy: 0.5242\n",
      "Epoch 34/50\n",
      "63/63 [==============================] - 0s 5ms/step - loss: 0.5922 - accuracy: 0.6635 - val_loss: 0.7451 - val_accuracy: 0.5242\n",
      "Epoch 35/50\n",
      "63/63 [==============================] - 0s 7ms/step - loss: 0.5918 - accuracy: 0.6667 - val_loss: 0.7472 - val_accuracy: 0.5081\n",
      "Epoch 36/50\n",
      "63/63 [==============================] - 0s 5ms/step - loss: 0.5907 - accuracy: 0.6651 - val_loss: 0.7492 - val_accuracy: 0.5161\n",
      "Epoch 37/50\n",
      "63/63 [==============================] - 0s 5ms/step - loss: 0.5901 - accuracy: 0.6667 - val_loss: 0.7507 - val_accuracy: 0.5161\n",
      "Epoch 38/50\n",
      "63/63 [==============================] - 0s 4ms/step - loss: 0.5897 - accuracy: 0.6587 - val_loss: 0.7485 - val_accuracy: 0.5161\n",
      "Epoch 39/50\n",
      "63/63 [==============================] - 0s 4ms/step - loss: 0.5901 - accuracy: 0.6699 - val_loss: 0.7505 - val_accuracy: 0.5161\n",
      "Epoch 40/50\n",
      "63/63 [==============================] - 0s 4ms/step - loss: 0.5886 - accuracy: 0.6667 - val_loss: 0.7497 - val_accuracy: 0.5161\n",
      "Epoch 41/50\n",
      "63/63 [==============================] - 0s 4ms/step - loss: 0.5884 - accuracy: 0.6683 - val_loss: 0.7512 - val_accuracy: 0.5161\n",
      "Epoch 42/50\n",
      "63/63 [==============================] - 0s 4ms/step - loss: 0.5899 - accuracy: 0.6747 - val_loss: 0.7546 - val_accuracy: 0.5161\n",
      "Epoch 43/50\n",
      "63/63 [==============================] - 0s 5ms/step - loss: 0.5873 - accuracy: 0.6795 - val_loss: 0.7509 - val_accuracy: 0.5161\n",
      "Epoch 44/50\n",
      "63/63 [==============================] - 0s 4ms/step - loss: 0.5874 - accuracy: 0.6715 - val_loss: 0.7525 - val_accuracy: 0.5161\n",
      "Epoch 45/50\n",
      "63/63 [==============================] - 0s 4ms/step - loss: 0.5872 - accuracy: 0.6715 - val_loss: 0.7532 - val_accuracy: 0.5161\n",
      "Epoch 46/50\n",
      "63/63 [==============================] - 0s 4ms/step - loss: 0.5866 - accuracy: 0.6795 - val_loss: 0.7538 - val_accuracy: 0.5161\n",
      "Epoch 47/50\n",
      "63/63 [==============================] - 0s 6ms/step - loss: 0.5860 - accuracy: 0.6779 - val_loss: 0.7540 - val_accuracy: 0.5161\n",
      "Epoch 48/50\n",
      "63/63 [==============================] - 0s 6ms/step - loss: 0.5858 - accuracy: 0.6779 - val_loss: 0.7577 - val_accuracy: 0.5161\n",
      "Epoch 49/50\n",
      "63/63 [==============================] - 0s 5ms/step - loss: 0.5858 - accuracy: 0.6795 - val_loss: 0.7523 - val_accuracy: 0.5161\n",
      "Epoch 50/50\n",
      "63/63 [==============================] - 0s 5ms/step - loss: 0.5867 - accuracy: 0.6715 - val_loss: 0.7562 - val_accuracy: 0.5161\n"
     ]
    }
   ],
   "source": [
    "# Build MPL model\n",
    "n_features = X_train_pca.shape[1]\n",
    "model = Sequential()\n",
    "model.add(Dense(50, activation='relu', input_shape=(n_features,)))\n",
    "model.add(Dense(1, activation='sigmoid'))\n",
    "\n",
    "# Compile model\n",
    "model.compile(loss='binary_crossentropy', optimizer='adam', metrics=['accuracy'])\n",
    "\n",
    "# Fit model\n",
    "history = model.fit(X_train_pca, y_train, epochs=50, validation_data=(X_test_pca, y_test), batch_size=10)\n",
    "history\n",
    "\n",
    "# predict on test data\n",
    "y_pred = model.predict(X_test_pca)"
   ]
  },
  {
   "cell_type": "code",
   "execution_count": 137,
   "metadata": {},
   "outputs": [
    {
     "data": {
      "text/plain": [
       "<AxesSubplot:>"
      ]
     },
     "execution_count": 137,
     "metadata": {},
     "output_type": "execute_result"
    },
    {
     "data": {
      "image/png": "[encoded data removed]",
      "text/plain": [
       "<Figure size 720x432 with 1 Axes>"
      ]
     },
     "metadata": {
      "needs_background": "light"
     },
     "output_type": "display_data"
    }
   ],
   "source": [
    "pd.DataFrame(history.history).plot(figsize=(10,6))"
   ]
  },
  {
   "cell_type": "markdown",
   "metadata": {},
   "source": [
    "### Evaluate model and print metrics"
   ]
  },
  {
   "cell_type": "code",
   "execution_count": 139,
   "metadata": {},
   "outputs": [
    {
     "ename": "ValueError",
     "evalue": "Found input variables with inconsistent numbers of samples: [624, 124]",
     "output_type": "error",
     "traceback": [
      "\u001b[0;31m---------------------------------------------------------------------------\u001b[0m",
      "\u001b[0;31mValueError\u001b[0m                                Traceback (most recent call last)",
      "\u001b[0;32m<ipython-input-139-e0b55ac8fe88>\u001b[0m in \u001b[0;36m<module>\u001b[0;34m\u001b[0m\n\u001b[1;32m      4\u001b[0m \u001b[0mmetrics\u001b[0m \u001b[0;34m=\u001b[0m\u001b[0;31m \u001b[0m\u001b[0;31m\\\u001b[0m\u001b[0;34m\u001b[0m\u001b[0;34m\u001b[0m\u001b[0m\n\u001b[1;32m      5\u001b[0m [ \\\n\u001b[0;32m----> 6\u001b[0;31m \u001b[0;34m[\u001b[0m\u001b[0maccuracy_score\u001b[0m\u001b[0;34m(\u001b[0m\u001b[0my_train\u001b[0m\u001b[0;34m,\u001b[0m \u001b[0my_pred\u001b[0m\u001b[0;34m)\u001b[0m\u001b[0;34m,\u001b[0m \u001b[0maccuracy_score\u001b[0m\u001b[0;34m(\u001b[0m\u001b[0my_test\u001b[0m\u001b[0;34m,\u001b[0m \u001b[0my_pred\u001b[0m\u001b[0;34m)\u001b[0m\u001b[0;34m]\u001b[0m\u001b[0;34m,\u001b[0m\u001b[0;34m\u001b[0m\u001b[0;34m\u001b[0m\u001b[0m\n\u001b[0m\u001b[1;32m      7\u001b[0m \u001b[0;34m[\u001b[0m\u001b[0mprecision_score\u001b[0m\u001b[0;34m(\u001b[0m\u001b[0my_train\u001b[0m\u001b[0;34m,\u001b[0m \u001b[0my_pred\u001b[0m\u001b[0;34m)\u001b[0m\u001b[0;34m,\u001b[0m \u001b[0mprecision_score\u001b[0m\u001b[0;34m(\u001b[0m\u001b[0my_test\u001b[0m\u001b[0;34m,\u001b[0m \u001b[0my_pred\u001b[0m\u001b[0;34m)\u001b[0m\u001b[0;34m]\u001b[0m\u001b[0;34m,\u001b[0m\u001b[0;34m\u001b[0m\u001b[0;34m\u001b[0m\u001b[0m\n\u001b[1;32m      8\u001b[0m \u001b[0;34m[\u001b[0m\u001b[0mrecall_score\u001b[0m\u001b[0;34m(\u001b[0m\u001b[0my_train\u001b[0m\u001b[0;34m,\u001b[0m \u001b[0my_pred\u001b[0m\u001b[0;34m)\u001b[0m\u001b[0;34m,\u001b[0m \u001b[0mrecall_score\u001b[0m\u001b[0;34m(\u001b[0m\u001b[0my_test\u001b[0m\u001b[0;34m,\u001b[0m \u001b[0my_pred\u001b[0m\u001b[0;34m)\u001b[0m\u001b[0;34m]\u001b[0m\u001b[0;34m,\u001b[0m\u001b[0;34m\u001b[0m\u001b[0;34m\u001b[0m\u001b[0m\n",
      "\u001b[0;32m~/opt/anaconda3/lib/python3.8/site-packages/sklearn/utils/validation.py\u001b[0m in \u001b[0;36minner_f\u001b[0;34m(*args, **kwargs)\u001b[0m\n\u001b[1;32m     61\u001b[0m             \u001b[0mextra_args\u001b[0m \u001b[0;34m=\u001b[0m \u001b[0mlen\u001b[0m\u001b[0;34m(\u001b[0m\u001b[0margs\u001b[0m\u001b[0;34m)\u001b[0m \u001b[0;34m-\u001b[0m \u001b[0mlen\u001b[0m\u001b[0;34m(\u001b[0m\u001b[0mall_args\u001b[0m\u001b[0;34m)\u001b[0m\u001b[0;34m\u001b[0m\u001b[0;34m\u001b[0m\u001b[0m\n\u001b[1;32m     62\u001b[0m             \u001b[0;32mif\u001b[0m \u001b[0mextra_args\u001b[0m \u001b[0;34m<=\u001b[0m \u001b[0;36m0\u001b[0m\u001b[0;34m:\u001b[0m\u001b[0;34m\u001b[0m\u001b[0;34m\u001b[0m\u001b[0m\n\u001b[0;32m---> 63\u001b[0;31m                 \u001b[0;32mreturn\u001b[0m \u001b[0mf\u001b[0m\u001b[0;34m(\u001b[0m\u001b[0;34m*\u001b[0m\u001b[0margs\u001b[0m\u001b[0;34m,\u001b[0m \u001b[0;34m**\u001b[0m\u001b[0mkwargs\u001b[0m\u001b[0;34m)\u001b[0m\u001b[0;34m\u001b[0m\u001b[0;34m\u001b[0m\u001b[0m\n\u001b[0m\u001b[1;32m     64\u001b[0m \u001b[0;34m\u001b[0m\u001b[0m\n\u001b[1;32m     65\u001b[0m             \u001b[0;31m# extra_args > 0\u001b[0m\u001b[0;34m\u001b[0m\u001b[0;34m\u001b[0m\u001b[0;34m\u001b[0m\u001b[0m\n",
      "\u001b[0;32m~/opt/anaconda3/lib/python3.8/site-packages/sklearn/metrics/_classification.py\u001b[0m in \u001b[0;36maccuracy_score\u001b[0;34m(y_true, y_pred, normalize, sample_weight)\u001b[0m\n\u001b[1;32m    200\u001b[0m \u001b[0;34m\u001b[0m\u001b[0m\n\u001b[1;32m    201\u001b[0m     \u001b[0;31m# Compute accuracy for each possible representation\u001b[0m\u001b[0;34m\u001b[0m\u001b[0;34m\u001b[0m\u001b[0;34m\u001b[0m\u001b[0m\n\u001b[0;32m--> 202\u001b[0;31m     \u001b[0my_type\u001b[0m\u001b[0;34m,\u001b[0m \u001b[0my_true\u001b[0m\u001b[0;34m,\u001b[0m \u001b[0my_pred\u001b[0m \u001b[0;34m=\u001b[0m \u001b[0m_check_targets\u001b[0m\u001b[0;34m(\u001b[0m\u001b[0my_true\u001b[0m\u001b[0;34m,\u001b[0m \u001b[0my_pred\u001b[0m\u001b[0;34m)\u001b[0m\u001b[0;34m\u001b[0m\u001b[0;34m\u001b[0m\u001b[0m\n\u001b[0m\u001b[1;32m    203\u001b[0m     \u001b[0mcheck_consistent_length\u001b[0m\u001b[0;34m(\u001b[0m\u001b[0my_true\u001b[0m\u001b[0;34m,\u001b[0m \u001b[0my_pred\u001b[0m\u001b[0;34m,\u001b[0m \u001b[0msample_weight\u001b[0m\u001b[0;34m)\u001b[0m\u001b[0;34m\u001b[0m\u001b[0;34m\u001b[0m\u001b[0m\n\u001b[1;32m    204\u001b[0m     \u001b[0;32mif\u001b[0m \u001b[0my_type\u001b[0m\u001b[0;34m.\u001b[0m\u001b[0mstartswith\u001b[0m\u001b[0;34m(\u001b[0m\u001b[0;34m'multilabel'\u001b[0m\u001b[0;34m)\u001b[0m\u001b[0;34m:\u001b[0m\u001b[0;34m\u001b[0m\u001b[0;34m\u001b[0m\u001b[0m\n",
      "\u001b[0;32m~/opt/anaconda3/lib/python3.8/site-packages/sklearn/metrics/_classification.py\u001b[0m in \u001b[0;36m_check_targets\u001b[0;34m(y_true, y_pred)\u001b[0m\n\u001b[1;32m     81\u001b[0m     \u001b[0my_pred\u001b[0m \u001b[0;34m:\u001b[0m \u001b[0marray\u001b[0m \u001b[0;32mor\u001b[0m \u001b[0mindicator\u001b[0m \u001b[0mmatrix\u001b[0m\u001b[0;34m\u001b[0m\u001b[0;34m\u001b[0m\u001b[0m\n\u001b[1;32m     82\u001b[0m     \"\"\"\n\u001b[0;32m---> 83\u001b[0;31m     \u001b[0mcheck_consistent_length\u001b[0m\u001b[0;34m(\u001b[0m\u001b[0my_true\u001b[0m\u001b[0;34m,\u001b[0m \u001b[0my_pred\u001b[0m\u001b[0;34m)\u001b[0m\u001b[0;34m\u001b[0m\u001b[0;34m\u001b[0m\u001b[0m\n\u001b[0m\u001b[1;32m     84\u001b[0m     \u001b[0mtype_true\u001b[0m \u001b[0;34m=\u001b[0m \u001b[0mtype_of_target\u001b[0m\u001b[0;34m(\u001b[0m\u001b[0my_true\u001b[0m\u001b[0;34m)\u001b[0m\u001b[0;34m\u001b[0m\u001b[0;34m\u001b[0m\u001b[0m\n\u001b[1;32m     85\u001b[0m     \u001b[0mtype_pred\u001b[0m \u001b[0;34m=\u001b[0m \u001b[0mtype_of_target\u001b[0m\u001b[0;34m(\u001b[0m\u001b[0my_pred\u001b[0m\u001b[0;34m)\u001b[0m\u001b[0;34m\u001b[0m\u001b[0;34m\u001b[0m\u001b[0m\n",
      "\u001b[0;32m~/opt/anaconda3/lib/python3.8/site-packages/sklearn/utils/validation.py\u001b[0m in \u001b[0;36mcheck_consistent_length\u001b[0;34m(*arrays)\u001b[0m\n\u001b[1;32m    260\u001b[0m     \u001b[0muniques\u001b[0m \u001b[0;34m=\u001b[0m \u001b[0mnp\u001b[0m\u001b[0;34m.\u001b[0m\u001b[0munique\u001b[0m\u001b[0;34m(\u001b[0m\u001b[0mlengths\u001b[0m\u001b[0;34m)\u001b[0m\u001b[0;34m\u001b[0m\u001b[0;34m\u001b[0m\u001b[0m\n\u001b[1;32m    261\u001b[0m     \u001b[0;32mif\u001b[0m \u001b[0mlen\u001b[0m\u001b[0;34m(\u001b[0m\u001b[0muniques\u001b[0m\u001b[0;34m)\u001b[0m \u001b[0;34m>\u001b[0m \u001b[0;36m1\u001b[0m\u001b[0;34m:\u001b[0m\u001b[0;34m\u001b[0m\u001b[0;34m\u001b[0m\u001b[0m\n\u001b[0;32m--> 262\u001b[0;31m         raise ValueError(\"Found input variables with inconsistent numbers of\"\n\u001b[0m\u001b[1;32m    263\u001b[0m                          \" samples: %r\" % [int(l) for l in lengths])\n\u001b[1;32m    264\u001b[0m \u001b[0;34m\u001b[0m\u001b[0m\n",
      "\u001b[0;31mValueError\u001b[0m: Found input variables with inconsistent numbers of samples: [624, 124]"
     ]
    }
   ],
   "source": [
    "from sklearn.metrics import accuracy_score, precision_score, recall_score, f1_score\n",
    "import numpy as np\n",
    "\n",
    "metrics = \\\n",
    "[ \\\n",
    "[accuracy_score(y_train, y_pred), accuracy_score(y_test, y_pred)],\n",
    "[precision_score(y_train, y_pred), precision_score(y_test, y_pred)], \n",
    "[recall_score(y_train, y_pred), recall_score(y_test, y_pred)],\n",
    "[f1_score(y_train, y_pred), f1_score(y_test, y_pred)]\n",
    "]\n",
    "metrics = np.array(metrics) * 100"
   ]
  },
  {
   "cell_type": "code",
   "execution_count": null,
   "metadata": {},
   "outputs": [
    {
     "name": "stdout",
     "output_type": "stream",
     "text": [
      "           Training Set   Test Set\n",
      "Metric                            \n",
      "Accuracy      59.837398  55.194805\n",
      "Precision     57.940663  56.944444\n",
      "Recall        98.224852  92.134831\n",
      "F1 Score      72.886937  70.386266\n"
     ]
    }
   ],
   "source": [
    "metrics = pd.DataFrame(metrics, columns = [\"Training Set\", \"Test Set\"])\n",
    "metrics.insert(0, \"Metric\", [\"Accuracy\", \"Precision\", \"Recall\", \"F1 Score\"])\n",
    "metrics.set_index(\"Metric\", inplace = True)\n",
    "print(metrics)"
   ]
  },
  {
   "cell_type": "code",
   "execution_count": null,
   "metadata": {},
   "outputs": [],
   "source": []
  }
 ],
 "metadata": {
  "kernelspec": {
   "display_name": "Python 3",
   "language": "python",
   "name": "python3"
  },
  "language_info": {
   "codemirror_mode": {
    "name": "ipython",
    "version": 3
   },
   "file_extension": ".py",
   "mimetype": "text/x-python",
   "name": "python",
   "nbconvert_exporter": "python",
   "pygments_lexer": "ipython3",
   "version": "3.8.8"
  }
 },
 "nbformat": 4,
 "nbformat_minor": 4
}
