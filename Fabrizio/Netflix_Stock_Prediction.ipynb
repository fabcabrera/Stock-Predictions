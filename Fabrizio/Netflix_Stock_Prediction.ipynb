{
 "cells": [
  {
   "cell_type": "markdown",
   "metadata": {},
   "source": [
    "This notebook was prepared by:\n",
    "\n",
    "Jack Brennen (jpb9088@nyu.edu)\n",
    "\n",
    "Fabrizio Cabrera (fc2250@nyu.edu)\n",
    "\n",
    "Alex Ferrante (af3913@nyu.edu)\n",
    "\n",
    "Graduate School of Arts and Sciences (GSAS) at New York University (NYU)\n",
    "\n",
    "May 2022\n",
    "\n",
    "# One Day Ahead Movement Stock Prediction - Application of Machine Learning Binary Classifiers  \n",
    "\n",
    "In the stock market shares of firms are traded. Trading is an important feature of the economy because it gives firms access to capital in exchange for a share of ownership. Speculation in stock prices means that traders buy when they think prices are going up and sell when they think prices are going down. This would be profitable for traders making accurate predictions of stock prices. However, the predictability of stock prices has been questioned.\n",
    "\n",
    "According to the efficient market hypothesis (EMH) the stock market follows a random walk and is inherently unpredictable (Sargent, 1986). The EMH implies that all information available today is reflected in prices of stocks today and the changes in tomorrows price will only depend on the news of tomorrow. This is because that the stock market is perceived to be very informationally efficient and comopetitive. Since we cannot predict news, stock forecasting is impossible. This would have the consequence that prices are fairly priced and one can not beat the market using current information. Burton Malkiel claims that a strong argument for the market being efficient and unpredictable is that fact that expert investors are unable to beat the market (Malkiel, 2003).\n",
    "\n",
    "The ability to predict the movement of a stock was once far fetched, however, thanks to advancements in machine learning techniques, there is reason to believe short-run predictions are possible, within reason. So what makes stock movement prediction tricky? Well, several factors, but one which is most obscure is market noise. With most persons' having access to the internet, news spreads quickly. This means consumers' sentiments are subject to changing quickly, resulting in short-run market fluctuations. Exogenous shocks to the market come in many forms and all of which are reported on. With the rise of internet news platforms these sources server as venues for market particpants to consume stock information which subsequetly informs short-run behavior. \n",
    "\n",
    "Since we believe that capturing trends in agents news consumption is valuable in explaining short-run movements in stocks, this project will include data from Google Trends and Wikipedia API's to serve as indexes to inform the frequency and popularity of stock news. In addition to data collected from Google Trends and Wikipedia API's we also collect general stock data (open, close, volumem ect.). Through the use of random forrests, convolutional neural networks (CNN), and recursive neural networks (RNN) we will contruct a binary-classification task and see how accurately we can model short-run stock movement. While there are an array of targets we could test, the target for the procedding models will be whether the stock closing price will increase tomorrow (1) or whether it will decrease (0). \n",
    "\n",
    "Given constraints in time and computing power, we will collect data from 01/01/2019 to 03/31/2022 for Ford, Netflix, and UBS. The stocks selected cover three different industires which will allow us to tests our models preictive power in varying markets.   \n"
   ]
  },
  {
   "cell_type": "markdown",
   "metadata": {},
   "source": [
    "## 1. Pulling Together the Data"
   ]
  },
  {
   "cell_type": "markdown",
   "metadata": {},
   "source": [
    "As the saying goes, garbage in, garbage out. Thus, we gave some serious thought on how to best collect our data. This section reviews the necessary steps taken to aquire the stock and news data from their respective API's and the subsequent data cleaning procedures. Given that the web scraping process was computationally expensive, this section will display the code in its raw form. At the end of section two the cleaned and transformed CSV data files will be made available. Your computer will thank us later."
   ]
  },
  {
   "cell_type": "code",
   "execution_count": 5,
   "metadata": {},
   "outputs": [],
   "source": [
    "# Import the necessary data cleaning packages\n",
    "import pandas as pd\n",
    "import numpy as np\n",
    "import os\n",
    "import matplotlib.pyplot as plt\n",
    "import seaborn as sns\n",
    "\n",
    "#%pip install pytrends\n",
    "import pytrends\n",
    "from pytrends.request import TrendReq\n",
    "#%pip install pageviewapi\n",
    "import pageviewapi\n",
    "#%pip install yfinance\n",
    "import yfinance as yf\n",
    "\n",
    "# Import machine learning packages\n",
    "import tensorflow as tf\n",
    "from sklearn import (\n",
    "    linear_model, metrics, neural_network, pipeline, model_selection\n",
    ")\n",
    "from sklearn.impute import SimpleImputer\n",
    "from sklearn.decomposition import PCA\n",
    "from sklearn.preprocessing import StandardScaler\n",
    "from sklearn.model_selection import train_test_split, GridSearchCV, RandomizedSearchCV\n",
    "from sklearn.feature_selection import SelectKBest, f_regression\n",
    "from sklearn.linear_model import Lasso\n",
    "from sklearn.preprocessing import MinMaxScaler\n",
    "from sklearn.metrics import mean_squared_error, accuracy_score, precision_score, recall_score, f1_score\n",
    "from keras.models import Sequential\n",
    "from keras.layers import Dense, Dropout, SimpleRNN, LSTM, TimeDistributed, BatchNormalization, Conv1D, MaxPooling1D, Flatten, InputLayer\n",
    "from sklearn.model_selection import TimeSeriesSplit\n",
    "from keras.regularizers import l1, l2\n",
    "from keras.callbacks import ReduceLROnPlateau, EarlyStopping\n",
    "from sklearn.metrics import classification_report,confusion_matrix\n",
    "from sklearn.ensemble import RandomForestClassifier"
   ]
  },
  {
   "cell_type": "markdown",
   "metadata": {},
   "source": [
    "### 2. Data Processing - Feature and Target Creation\n",
    "\n",
    "In this next phase of data processing we focus on using the existing data pulled to generate additional features and targets. From the Google News and Wikipedia data collected, we sum across each of the keyword list results to create two new features noted as \"Wiki_total\" and \"Google_total\", respectively. These new \"total\" features will then be used as denominator values and assist in creating more features which with the hope of providing greater explanantory power to our future models.   "
   ]
  },
  {
   "cell_type": "markdown",
   "metadata": {},
   "source": [
    "Now that we have a comprehesive feature matrix of data, we turn to generating the targets. As mentioned, there are a variety of targets that could be tested to predict stock movement. Below we have generated five binary targets, each either related to the stock close price, open price, or volumne. For the purposes of the models developed in this project, we will focus on trying to accurately predict \"target_3\" - the difference in closing price. This target's result is binary where an increase in the closing price returns a value of 1 and a decrease in the closing price returns 0."
   ]
  },
  {
   "cell_type": "markdown",
   "metadata": {},
   "source": [
    "Finally, we've made it to a stage where out data set includes many features and targets to test them on. \n",
    "\n",
    "Below are the fully cleaned and model ready CSV files for Ford, Netflix, and UBS."
   ]
  },
  {
   "cell_type": "code",
   "execution_count": 6,
   "metadata": {},
   "outputs": [],
   "source": [
    "netflix = pd.read_csv(\"netflix_model_ready.csv\",\n",
    "                      parse_dates=True,\n",
    "                      infer_datetime_format=True,\n",
    "                      index_col=\"date\")"
   ]
  },
  {
   "cell_type": "markdown",
   "metadata": {},
   "source": [
    "### 3. Feature Selection "
   ]
  },
  {
   "cell_type": "markdown",
   "metadata": {},
   "source": [
    "Now that we have the data cleaned, additional features created, and targets set, we can begin to think about constucting our models. However, before jumping into deciding which model to use and the appropriate architecture for this time-series, binary classfication task, we must first give some thought to what features are going to give our models the greatest preictive power.\n",
    "\n",
    "Taking a look first at the shape of our data, we notice that there are quite a few features present."
   ]
  },
  {
   "cell_type": "markdown",
   "metadata": {},
   "source": [
    "With 169 features in total, it is likely the case that not all variable are valuable in predicting our target. A generic, although not often recommended approach would be the kitchen sink, where all 169 features would be included in our models. While this would be simple, if we work under the assumption that some variables are not relevant in explaining our target, then this approach would negatively affect our models ability to learn since we would be introducing unnecessary noise. While there are many approaches to feature selection, we decide on the implement the following strategies:\n",
    "\n",
    "1) SelectKBest\n",
    "\n",
    "2) Principal Component Analysis\n",
    "\n",
    "3) Blended - Identify the \"best features\" through SelectKBest, then run a PCA on those features\n",
    "\n",
    "From the Keras \"feature_selection\" library, the SelectKBest function works by implementing an f-regression to identify the N number of features that have the greatest significance in explaining the identified target.  \n",
    "\n",
    "Let's continue with using ubs as an example and see how these feature selection methodologies are implemented.\n",
    "\n",
    "We'll first do a little more data manipulation."
   ]
  },
  {
   "cell_type": "code",
   "execution_count": 7,
   "metadata": {},
   "outputs": [
    {
     "name": "stdout",
     "output_type": "stream",
     "text": [
      "(707, 157) (707,)\n",
      "                 Features     Score\n",
      "154  Dow_Disparity_s_Move  8.787505\n",
      "117              Nas_gain  6.026433\n",
      "44               Wiki_RSI  5.833312\n",
      "142              Dow_diff  5.682044\n",
      "9                  Volume  5.502726\n",
      "70             Google_RSI  5.362170\n",
      "137       Dow_Disparity_s  5.089441\n",
      "91             Stock_gain  4.673949\n",
      "68        Google_avg_loss  4.144443\n",
      "116              Nas_diff  4.097171\n",
      "129          Nas_RSI_Move  4.047845\n",
      "143              Dow_gain  3.798308\n",
      "93         Stock_avg_gain  3.582331\n",
      "153    Dow_Disparity_Move  3.572769\n",
      "149              Dow_Move  3.477000\n",
      "144              Dow_loss  3.418292\n",
      "110         Nas_Disparity  3.371320\n",
      "47       Wiki_MAvg_s_Move  2.987218\n",
      "46         Wiki_MAvg_Move  2.822493\n",
      "106        Nas_Moment_1_s  2.806793\n",
      "113             Nas_ROC_s  2.806793\n",
      "45              Wiki_Move  2.633231\n",
      "151       Dow_MAvg_s_Move  2.418214\n",
      "121                Nas_rs  2.337197\n",
      "136         Dow_Disparity  2.294858\n",
      "99      Stock_MAvg_s_Move  2.232437\n",
      "2           Netflix Stock  2.214407\n",
      "111       Nas_Disparity_s  2.180367\n",
      "39              Wiki_gain  2.146809\n",
      "90             Stock_diff  2.130872\n",
      "98        Stock_MAvg_Move  2.089343\n",
      "32         Wiki_Disparity  1.879099\n",
      "107        Nas_Moment_2_s  1.772434\n",
      "119          Nas_avg_gain  1.623821\n",
      "88             Stock_Rocp  1.586037\n",
      "122               Nas_RSI  1.488194\n",
      "38              Wiki_diff  1.483403\n",
      "3         Streaming media  1.444397\n",
      "28        Wiki_Moment_1_s  1.250412\n",
      "35             Wiki_ROC_s  1.250412\n"
     ]
    },
    {
     "name": "stderr",
     "output_type": "stream",
     "text": [
      "/Users/fabrizio/opt/anaconda3/lib/python3.8/site-packages/sklearn/feature_selection/_univariate_selection.py:301: RuntimeWarning: invalid value encountered in true_divide\n",
      "  corr /= X_norms\n"
     ]
    }
   ],
   "source": [
    "# SelectKBest implementation\n",
    "\n",
    "# to remove first 14 days that include NaNs due to some calculations\n",
    "netflix = netflix.iloc[14:, :] \n",
    "\n",
    "# to remove duplicated columns\n",
    "netflix = netflix.drop([\"Nas_total\", 'Stock_total', 'Dow_total'],axis=1) \n",
    "\n",
    "netflix = netflix.dropna()\n",
    "netflix = netflix[~(netflix.isin([np.inf, -np.inf]).any(axis=1))] \n",
    "\n",
    "# Drop additional targets\n",
    "netflix = netflix.drop(['target_1', 'target_2', 'target_4', 'target_5'], axis=1)\n",
    "\n",
    "# Target will be 3 (close to close)\n",
    "target_3_0 = netflix[\"target_3\"]\n",
    "\n",
    "# Print shape \n",
    "print(netflix.shape, target_3_0.shape)\n",
    "\n",
    "# Standardize the data \n",
    "Mscaler = MinMaxScaler()\n",
    "netflix = pd.DataFrame(Mscaler.fit_transform(netflix), columns = netflix.columns)\n",
    "\n",
    "# Implement SelectKBest class to extract 40 best features\n",
    "bestfeatures = SelectKBest(score_func=f_regression, k=40)\n",
    "best_fit = bestfeatures.fit(netflix, target_3_0)\n",
    "best_scores = pd.DataFrame(best_fit.scores_)\n",
    "best_columns = pd.DataFrame(netflix.columns)\n",
    "\n",
    "# concatenate the dataframes for better visualization\n",
    "features_score = pd.concat([best_columns, best_scores], axis=1)\n",
    "features_score.columns = ['Features', 'Score'] \n",
    "print(features_score.nlargest(40, 'Score'))  \n"
   ]
  },
  {
   "cell_type": "markdown",
   "metadata": {},
   "source": [
    "Shown above the top 40 features (descending order) that have the greatest significance with respect to target 3. This list can now give us greater insight into which features should be included in model testing and which should be dropped.\n",
    "\n",
    "Alternatively, we could use a PCA approach to reduce the dimenstionality of the data without having to necessarily hand pick features. Let's see this in action."
   ]
  },
  {
   "cell_type": "code",
   "execution_count": 8,
   "metadata": {
    "vscode": {
     "languageId": "markdown"
    }
   },
   "outputs": [
    {
     "data": {
      "image/png": "[encoded data removed]",
      "text/plain": [
       "<Figure size 864x576 with 1 Axes>"
      ]
     },
     "metadata": {
      "needs_background": "light"
     },
     "output_type": "display_data"
    },
    {
     "name": "stdout",
     "output_type": "stream",
     "text": [
      "[ 14.40607419  26.98478956  35.5879882   42.54239214  49.12929689\n",
      "  54.23384737  57.55797588  60.34467469  63.06674723  65.4513772\n",
      "  67.76189492  69.87582048  71.90802152  73.8173129   75.6641939\n",
      "  77.21255699  78.712749    80.0457416   81.2323653   82.36706913\n",
      "  83.4150206   84.38173659  85.32469525  86.21577408  87.0887429\n",
      "  87.9277511   88.70381704  89.42988412  90.14049892  90.80829335\n",
      "  91.44243875  92.00274265  92.53886119  93.06189206  93.56969885\n",
      "  94.00944962  94.44438761  94.8518504   95.233071    95.60457302\n",
      "  95.95395738  96.27785267  96.59220875  96.87965554  97.13384936\n",
      "  97.37510037  97.58097425  97.76141071  97.92109136  98.07541171\n",
      "  98.21997533  98.34986941  98.46351683  98.56926286  98.66707337\n",
      "  98.75760494  98.84436507  98.92290937  98.99448491  99.0637059\n",
      "  99.12655207  99.18804581  99.24621749  99.30255795  99.35481472\n",
      "  99.4000688   99.44202285  99.47980044  99.51406178  99.54419329\n",
      "  99.57348857  99.60110483  99.62626045  99.64914981  99.6712031\n",
      "  99.69254543  99.71247247  99.73210149  99.75052971  99.76766383\n",
      "  99.78346649  99.79756789  99.81130801  99.82414748  99.83605208\n",
      "  99.84729915  99.85777251  99.86813074  99.87788508  99.88723029\n",
      "  99.89644519  99.90513865  99.91375205  99.92212341  99.93007929\n",
      "  99.93772617  99.94476423  99.95112092  99.95683572  99.96198939\n",
      "  99.96707464  99.97167116  99.97578428  99.97934196  99.98250274\n",
      "  99.98528592  99.98746281  99.98947553  99.99107663  99.99251401\n",
      "  99.99382389  99.99500865  99.99587378  99.99640512  99.99690062\n",
      "  99.99737288  99.99781314  99.99820556  99.99855364  99.9988706\n",
      "  99.99908213  99.99924227  99.99939274  99.99951516  99.99962518\n",
      "  99.99971317  99.99979764  99.99985069  99.99989678  99.9999271\n",
      "  99.99995466  99.99996896  99.99998058  99.99999045  99.99999653\n",
      "  99.99999885  99.99999998 100.         100.         100.\n",
      " 100.         100.         100.         100.         100.\n",
      " 100.         100.         100.         100.         100.\n",
      " 100.         100.         100.         100.         100.\n",
      " 100.         100.        ]\n"
     ]
    }
   ],
   "source": [
    "# PCA implementation\n",
    "pca = PCA().fit(netflix)\n",
    "fig, ax = plt.subplots(figsize=(12,8))\n",
    "\n",
    "# Display cumulated explained variance ratio\n",
    "plt.plot(np.cumsum(pca.explained_variance_ratio_))\n",
    "plt.title('Cumulative Explained Variance Ratio', fontsize=16)\n",
    "plt.xlabel('Number of Components', fontsize=(15))\n",
    "plt.ylabel('Variance (%)', fontsize=(15)) \n",
    "\n",
    "annotation = 29\n",
    "plt.axvline(annotation, color='r', linestyle='--')\n",
    "plt.annotate('~ 90% Explained Variance', xy=(annotation, 0.8), xytext=(annotation, 0.9))\n",
    "\n",
    "ax.spines[['top', 'right']].set_visible(False)\n",
    "\n",
    "plt.show()\n",
    "\n",
    "print(np.cumsum(pca.explained_variance_ratio_) * 100) \n"
   ]
  },
  {
   "cell_type": "markdown",
   "metadata": {},
   "source": [
    "From the graph depicted above, we can apply a PCA decomposition on our origional feature data and with using only 29 principal components explain approximately ~90% of the variance of our target.\n",
    "\n",
    "In the third and final approach mentioned, we look to blend the two feature selection strategies by running a PCA decomposition, but only on the N best features found using SelectKbest. The rationale behind this blended strategy is that if we look at the bottom half of the SelectKBest results (presented above), we notice that many of the features are marginally significant in explaining the target. It could be the case that including features which have little explanitory power is causing more harm than good. Mainly, thier inclusion could introduce more noise than predicitve power. Thus, by only selecting features which have a relitively stronger and significant relationship to the target we can have greater confidence that we are mitigating the inculsion of noisy features."
   ]
  },
  {
   "cell_type": "code",
   "execution_count": 9,
   "metadata": {},
   "outputs": [
    {
     "name": "stderr",
     "output_type": "stream",
     "text": [
      "/Users/fabrizio/opt/anaconda3/lib/python3.8/site-packages/sklearn/feature_selection/_univariate_selection.py:301: RuntimeWarning: invalid value encountered in true_divide\n",
      "  corr /= X_norms\n"
     ]
    }
   ],
   "source": [
    "# Apply SelectKBest class to extract top 40 best features\n",
    "bestfeatures = SelectKBest(score_func=f_regression, k=41)\n",
    "best_fit = bestfeatures.fit(netflix, target_3_0)\n",
    "best_scores = pd.DataFrame(best_fit.scores_)\n",
    "best_columns = pd.DataFrame(netflix.columns)\n",
    "\n",
    "# Concatenate the dataframes for better visualization\n",
    "features_score = pd.concat([best_columns, best_scores], axis=1)\n",
    "features_score.columns = ['Features', 'Score'] \n",
    "feats_kb = list(features_score.nlargest(41, 'Score').iloc[1:41]['Features'])\n",
    "\n",
    "# Keep only the top 40 features\n",
    "netflix_best = netflix[feats_kb]"
   ]
  },
  {
   "cell_type": "code",
   "execution_count": 10,
   "metadata": {},
   "outputs": [
    {
     "data": {
      "image/png": "[encoded data removed]",
      "text/plain": [
       "<Figure size 864x576 with 1 Axes>"
      ]
     },
     "metadata": {
      "needs_background": "light"
     },
     "output_type": "display_data"
    },
    {
     "name": "stdout",
     "output_type": "stream",
     "text": [
      "[ 25.50831731  44.87010167  58.39291288  66.6068864   73.15751889\n",
      "  79.09544285  83.40293555  86.71699155  89.42762945  91.6347604\n",
      "  93.41435869  94.62318049  95.41105097  96.16006587  96.73539867\n",
      "  97.2637929   97.74420956  98.13821468  98.45936204  98.7672376\n",
      "  98.98777371  99.141352    99.28286547  99.41712382  99.54020083\n",
      "  99.63258027  99.69368895  99.75146914  99.80663708  99.85322532\n",
      "  99.89461171  99.92923721  99.95070618  99.96922731  99.98300192\n",
      "  99.99467237 100.         100.         100.         100.        ]\n"
     ]
    }
   ],
   "source": [
    "# PCA implementation\n",
    "pca = PCA().fit(netflix_best)\n",
    "fig, ax = plt.subplots(figsize=(12,8))\n",
    "\n",
    "# Display cumulated explained variance ratio\n",
    "plt.plot(np.cumsum(pca.explained_variance_ratio_))\n",
    "plt.title('Cumulative Explained Variance Ratio (SelectKBest)', fontsize=16)\n",
    "plt.xlabel('Number of Components', fontsize=(15))\n",
    "plt.ylabel('Variance (%)', fontsize=(15)) \n",
    "\n",
    "annotation = 12\n",
    "plt.axvline(annotation, color='r', linestyle='--')\n",
    "plt.annotate('~ 90% Explained Variance', xy=(annotation, 0.8), xytext=(annotation, 0.91))\n",
    "\n",
    "ax.spines[['top', 'right']].set_visible(False)\n",
    "\n",
    "plt.show()\n",
    "\n",
    "print(np.cumsum(pca.explained_variance_ratio_) * 100) "
   ]
  },
  {
   "cell_type": "markdown",
   "metadata": {},
   "source": [
    "When using a PCA transform on the features found from SelectKBest, it is possible to explain ~90% of the variance with far fewer principal components. "
   ]
  },
  {
   "cell_type": "markdown",
   "metadata": {},
   "source": [
    "### 4. Model Development and Testing"
   ]
  },
  {
   "cell_type": "markdown",
   "metadata": {},
   "source": [
    "In the previous section we reviewed a few of the possible feature selection techniques used by machine learning practitioners. In this section we will dive into model development and testing, where we begin to see the fruits of our computers labor. One thing to note is that each of the three algorthms presented (Random Forest, CNN'S, and RNN's) were tested using each of the feature selection methodologies. We felt that this approach would allow us to be comprehesive in finding optimal results, while also added an experimetnal element to model development. That being said, trialing feature selection approaches resulted in many models being created. In an effort to reduce unnecesary confusion, we will only present the models which generated the best results and the processes undertaken to arrive at them. Additionally, the following section will only present the code used in the development of ubs models. Results for Netlifx and UBS will be presented, however, for brevity the code will not be included. Additional code can be found on the project GitHub repository (https://github.com/fabcabrera/Stock-Predictions). "
   ]
  },
  {
   "cell_type": "markdown",
   "metadata": {},
   "source": [
    "### 4.1 Random Forest\n",
    "\n",
    "Random forest uses several decision trees and takes the mean output of all the trees as the result. Each tree is trained randomly on a subset of the input data. Doing this removes the issue of over-training and allows for more features for a smaller performance cost (Kam Ho, 1995). \n",
    "Decision trees are flowcharts that depict outcome probabilities depending on given variables. The problem of creating such trees optimally is nondeterministic-polynomial-time complete (Hyafil, 1976) but approximate methods do exist. For example, induction of decision is a common method. With this method the set of input is divided based on some output value being above a threshold that is random. Then an input variable is chosen and a threshold set so that as many values are classified correctly as possible. This process continues recursively until all the data is classified in a correct way, or no improvement can be made (Ross Quinlan, 1986).\n",
    "\n",
    "The following code will work through the steps taken to build our random forest. "
   ]
  },
  {
   "cell_type": "code",
   "execution_count": 11,
   "metadata": {},
   "outputs": [],
   "source": [
    "# Drop NaNs\n",
    "netflix = netflix.dropna()\n",
    "netflix = netflix[~(netflix.isin([np.inf, -np.inf]).any(axis=1))] \n",
    "\n",
    "# Generate target vector and feature matirx \n",
    "target_3 = netflix[\"target_3\"]\n",
    "\n",
    "# Split into training and testing sets \n",
    "column_indices = {name: i for i, name in enumerate(netflix.columns)}\n",
    "\n",
    "n = len(netflix)\n",
    "\n",
    "X_train = netflix[0:int(n*0.9)]\n",
    "X_test = netflix[int(n*0.9):]\n",
    "\n",
    "y_train = target_3[0:int(n*0.9)]\n",
    "y_test = target_3[int(n*0.9):]"
   ]
  },
  {
   "cell_type": "code",
   "execution_count": 12,
   "metadata": {},
   "outputs": [
    {
     "name": "stdout",
     "output_type": "stream",
     "text": [
      "target_3\n",
      "0.0    300\n",
      "1.0    336\n",
      "Name: target_3, dtype: int64\n"
     ]
    }
   ],
   "source": [
    "# Print distirbution of target variable\n",
    "counts = y_train.groupby(by = y_train).count()\n",
    "counts = pd.Series(counts)\n",
    "print(counts)"
   ]
  },
  {
   "cell_type": "code",
   "execution_count": 13,
   "metadata": {},
   "outputs": [],
   "source": [
    "# Standardize the data\n",
    "Mscaler = MinMaxScaler() \n",
    "\n",
    "X_train = pd.DataFrame(Mscaler.fit_transform(X_train), columns = netflix.columns)\n",
    "X_test = pd.DataFrame(Mscaler.fit_transform(X_test), columns = netflix.columns)"
   ]
  },
  {
   "cell_type": "code",
   "execution_count": 14,
   "metadata": {},
   "outputs": [
    {
     "name": "stderr",
     "output_type": "stream",
     "text": [
      "/Users/fabrizio/opt/anaconda3/lib/python3.8/site-packages/sklearn/feature_selection/_univariate_selection.py:301: RuntimeWarning: invalid value encountered in true_divide\n",
      "  corr /= X_norms\n"
     ]
    }
   ],
   "source": [
    "# Apply SelectKBest class to extract top 40 best features\n",
    "bestfeatures = SelectKBest(score_func=f_regression, k=41)\n",
    "best_fit = bestfeatures.fit(X_train, y_train)\n",
    "best_scores = pd.DataFrame(best_fit.scores_)\n",
    "best_columns = pd.DataFrame(netflix.columns)\n",
    "\n",
    "# Concatenate the dataframes for better visualization\n",
    "features_score = pd.concat([best_columns, best_scores], axis=1)\n",
    "features_score.columns = ['Features', 'Score'] \n",
    "feats_kb = list(features_score.nlargest(41, 'Score').iloc[1:41]['Features'])\n",
    "\n",
    "# Set SelectKBest to train and test data\n",
    "X_train_kb = X_train[feats_kb]\n",
    "X_test_kb = X_test[feats_kb]\n",
    "\n",
    "# Apply PCA to the training and testing data\n",
    "pca_kb = PCA(n_components = 12).fit(X_train_kb.to_numpy())\n",
    "X_train_kb = pca_kb.transform(X_train_kb.to_numpy())\n",
    "X_test_kb = pca_kb.transform(X_test_kb.to_numpy())"
   ]
  },
  {
   "cell_type": "code",
   "execution_count": 15,
   "metadata": {},
   "outputs": [
    {
     "name": "stdout",
     "output_type": "stream",
     "text": [
      "Fitting 10 folds for each of 100 candidates, totalling 1000 fits\n"
     ]
    }
   ],
   "source": [
    "# Build Random Forest classifier\n",
    "random_search = {'criterion': ['entropy', 'gini'],\n",
    "               'max_depth': list(np.linspace(10, 1200, 10, dtype = int)) + [None],\n",
    "               'max_features': ['auto', 'sqrt','log2', None],\n",
    "               'min_samples_leaf': [4, 6, 8, 12],\n",
    "               'min_samples_split': [5, 7, 10, 14],\n",
    "               'n_estimators': list(np.linspace(10, 1200, 15, dtype = int))}\n",
    "\n",
    "clf = RandomForestClassifier()\n",
    "model_kb = RandomizedSearchCV(estimator = clf, param_distributions = random_search, n_iter = 100, \n",
    "                               cv = 10, verbose= 5, random_state= 101, n_jobs = -1)\n",
    "                \n",
    "model_kb.fit(X_train_kb,y_train)\n",
    "\n",
    "model_kb.best_params_\n",
    "\n",
    "y_kb_hat = model_kb.best_estimator_.predict(X_test_kb)"
   ]
  },
  {
   "cell_type": "code",
   "execution_count": 16,
   "metadata": {},
   "outputs": [
    {
     "name": "stdout",
     "output_type": "stream",
     "text": [
      "Random Forest Accuracy with SelectKBest features: 43.66%\n"
     ]
    }
   ],
   "source": [
    "print(\"Random Forest Accuracy with SelectKBest features: {}%\".format(accuracy_score(y_test, y_kb_hat).round(4)*100))"
   ]
  },
  {
   "cell_type": "markdown",
   "metadata": {},
   "source": [
    "Using the SelectKBest to determine the 40 most significant features, our random forest model returns an accuracy score or 57%. With the basic model structure down, we can next begin to test various hyperparamters in hopes of improvinf the models predictive accuracy."
   ]
  },
  {
   "cell_type": "code",
   "execution_count": 17,
   "metadata": {},
   "outputs": [],
   "source": [
    "def kbest_creator(k, df, df_test):\n",
    "    \"\"\"\n",
    "    Returns list of k best features and the number of efficient principle components to use with said k features\n",
    "    \"\"\"\n",
    "    # Apply SelectKBest class to extract top 40 best features\n",
    "    bestfeatures = SelectKBest(score_func=f_regression, k=k)\n",
    "    best_fit = bestfeatures.fit(df, y_train)\n",
    "    best_scores = pd.DataFrame(best_fit.scores_)\n",
    "    best_columns = pd.DataFrame(netflix.columns)\n",
    "    \n",
    "    # Concatenate the dataframes for better visualization\n",
    "    features_score = pd.concat([best_columns, best_scores], axis=1)\n",
    "    features_score.columns = ['Features', 'Score']  # naming the dataframe columns\n",
    "    feats_kb = list(features_score.nlargest(k, 'Score').iloc[1:k]['Features'])\n",
    "\n",
    "    # Run PCA decomposition on the K best features\n",
    "    pca = PCA().fit(df[feats_kb])\n",
    "    pca_scores = np.cumsum(pca.explained_variance_ratio_) * 100\n",
    "    res = next(x for x, val in enumerate(pca_scores) if val > 85)\n",
    "    res = res + 1\n",
    "    res\n",
    "    \n",
    "    pca_kb_1 = PCA(n_components = res).fit(df[feats_kb].to_numpy())\n",
    "    df = pca_kb_1.transform(df[feats_kb].to_numpy())\n",
    "    df_test = pca_kb_1.transform(df_test[feats_kb].to_numpy())\n",
    "    \n",
    "    return df, df_test"
   ]
  },
  {
   "cell_type": "code",
   "execution_count": 18,
   "metadata": {},
   "outputs": [
    {
     "name": "stderr",
     "output_type": "stream",
     "text": [
      "/Users/fabrizio/opt/anaconda3/lib/python3.8/site-packages/sklearn/feature_selection/_univariate_selection.py:301: RuntimeWarning: invalid value encountered in true_divide\n",
      "  corr /= X_norms\n",
      "/Users/fabrizio/opt/anaconda3/lib/python3.8/site-packages/sklearn/feature_selection/_univariate_selection.py:301: RuntimeWarning: invalid value encountered in true_divide\n",
      "  corr /= X_norms\n",
      "/Users/fabrizio/opt/anaconda3/lib/python3.8/site-packages/sklearn/feature_selection/_univariate_selection.py:301: RuntimeWarning: invalid value encountered in true_divide\n",
      "  corr /= X_norms\n"
     ]
    }
   ],
   "source": [
    "# Create train and test data with varying number of K best features\n",
    "X_train_kb_1, X_test_kb_1, = kbest_creator(11, X_train, X_test)\n",
    "X_train_kb_2, X_test_kb_2, = kbest_creator(26, X_train, X_test)\n",
    "X_train_kb_3, X_test_kb_3, = kbest_creator(76, X_train, X_test)"
   ]
  },
  {
   "cell_type": "code",
   "execution_count": 19,
   "metadata": {},
   "outputs": [
    {
     "name": "stdout",
     "output_type": "stream",
     "text": [
      "Fitting 10 folds for each of 100 candidates, totalling 1000 fits\n"
     ]
    }
   ],
   "source": [
    "# Test using 11 K best features\n",
    "random_search = {'criterion': ['entropy', 'gini'],\n",
    "               'max_depth': list(np.linspace(10, 1200, 10, dtype = int)) + [None],\n",
    "               'max_features': ['auto', 'sqrt','log2', None],\n",
    "               'min_samples_leaf': [4, 6, 8, 12],\n",
    "               'min_samples_split': [5, 7, 10, 14],\n",
    "               'n_estimators': list(np.linspace(10, 1200, 15, dtype = int))}\n",
    "clf = RandomForestClassifier()\n",
    "model1 = RandomizedSearchCV(estimator = clf, param_distributions = random_search, n_iter = 100, \n",
    "                               cv = 10, verbose= 5, random_state= 101, n_jobs = -1)\n",
    "model_kb1 = RandomizedSearchCV(estimator = clf, param_distributions = random_search, n_iter = 100, \n",
    "                               cv = 10, verbose= 5, random_state= 101, n_jobs = -1)\n",
    "\n",
    "model_kb1.fit(X_train_kb_1,y_train)\n",
    "\n",
    "y_kb_hat_1 = model_kb1.best_estimator_.predict(X_test_kb_1)"
   ]
  },
  {
   "cell_type": "code",
   "execution_count": 20,
   "metadata": {},
   "outputs": [
    {
     "name": "stdout",
     "output_type": "stream",
     "text": [
      "Fitting 10 folds for each of 100 candidates, totalling 1000 fits\n"
     ]
    }
   ],
   "source": [
    "# Test using 26 K best features\n",
    "model_kb2 = RandomizedSearchCV(estimator = clf, param_distributions = random_search, n_iter = 100, \n",
    "                               cv = 10, verbose= 5, random_state= 101, n_jobs = -1)\n",
    "model_kb2.fit(X_train_kb_2,y_train)\n",
    "\n",
    "y_kb_hat_2 = model_kb2.best_estimator_.predict(X_test_kb_2)"
   ]
  },
  {
   "cell_type": "code",
   "execution_count": null,
   "metadata": {},
   "outputs": [
    {
     "name": "stdout",
     "output_type": "stream",
     "text": [
      "Fitting 10 folds for each of 100 candidates, totalling 1000 fits\n"
     ]
    }
   ],
   "source": [
    "# Test using 76 K best features\n",
    "model_kb3 = RandomizedSearchCV(estimator = clf, param_distributions = random_search, n_iter = 100, \n",
    "                               cv = 10, verbose= 5, random_state= 101, n_jobs = -1)\n",
    "model_kb3.fit(X_train_kb_3,y_train)\n",
    "\n",
    "y_kb_hat_3 = model_kb3.best_estimator_.predict(X_test_kb_3)"
   ]
  },
  {
   "cell_type": "code",
   "execution_count": null,
   "metadata": {},
   "outputs": [
    {
     "name": "stdout",
     "output_type": "stream",
     "text": [
      "Random Forest Accuracy with 11 SelectKBest features: 66.67%\n",
      "Random Forest Accuracy with 26 SelectKBest features: 48.0%\n",
      "Random Forest Accuracy with 76 SelectKBest features: 46.67%\n"
     ]
    }
   ],
   "source": [
    "print(\"Random Forest Accuracy with 11 SelectKBest features: {}%\".format(accuracy_score(y_test, y_kb_hat_1).round(4)*100))\n",
    "print(\"Random Forest Accuracy with 26 SelectKBest features: {}%\".format(accuracy_score(y_test, y_kb_hat_2).round(4)*100))\n",
    "print(\"Random Forest Accuracy with 76 SelectKBest features: {}%\".format(accuracy_score(y_test, y_kb_hat_3).round(4)*100))"
   ]
  },
  {
   "cell_type": "markdown",
   "metadata": {},
   "source": [
    "While it may not be much, after a little hyperparamter tuning, we are able to increase our random forest models prediction accuracy to a modest 60%. What is interesting to note from the results is the 15% increase in the models accuracy when we go from including 11 to 26 features. However, the rate in which accuracy increases with the number of features included seems to be diminishing since the jump from 26 to 76 features leads to a decrease in model performance. This reaffirms the notion that including features with marginal explanatory power are harmful to model performance.     "
   ]
  },
  {
   "cell_type": "markdown",
   "metadata": {},
   "source": [
    "Include results for Netflix and UBS here"
   ]
  },
  {
   "cell_type": "markdown",
   "metadata": {},
   "source": [
    "#### 4.2 Convolutional Neural Network (CNN)"
   ]
  },
  {
   "cell_type": "markdown",
   "metadata": {},
   "source": [
    "Provide description of CNN"
   ]
  },
  {
   "cell_type": "code",
   "execution_count": null,
   "metadata": {},
   "outputs": [],
   "source": [
    "# Create train, validation and test data \n",
    "column_indices = {name: i for i, name in enumerate(netflix.columns)}\n",
    "\n",
    "n = len(netflix)\n",
    "X_train = netflix[0:int(n*0.7)]\n",
    "X_val = netflix[int(n*0.7):int(n*0.9)]\n",
    "X_test = netflix[int(n*0.9):]\n",
    "\n",
    "y_train = target_3[0:int(n*0.7)]\n",
    "y_val = target_3[int(n*0.7):int(n*0.9)]\n",
    "y_test = target_3[int(n*0.9):]"
   ]
  },
  {
   "cell_type": "code",
   "execution_count": null,
   "metadata": {},
   "outputs": [],
   "source": [
    "# Standardize the data using MinMaxScaler\n",
    "X_train = pd.DataFrame(Mscaler.fit_transform(X_train), columns = netflix.columns)\n",
    "X_val = pd.DataFrame(Mscaler.fit_transform(X_val), columns = netflix.columns)\n",
    "X_test = pd.DataFrame(Mscaler.fit_transform(X_test), columns = netflix.columns)"
   ]
  },
  {
   "cell_type": "code",
   "execution_count": null,
   "metadata": {},
   "outputs": [],
   "source": [
    "def df_to_X_y2(df, target, window_size=5):\n",
    "    \"\"\"\n",
    "    Generates a a timeseries window to all for prediction of future values. \n",
    "    \"\"\"\n",
    "    # converts to matrix of numpy arrays  \n",
    "    df_as_np = df.to_numpy() \n",
    "\n",
    "    X = []\n",
    "    y = []\n",
    "\n",
    "    # Length of data frame - window_size so it does't take empty values at the end\n",
    "    for i in range(len(df_as_np)-window_size): \n",
    "    \n",
    "        # Takes row i and all rows above within the window size length\n",
    "        row = [r for r in df_as_np[i:i+window_size]] \n",
    "\n",
    "        # Creates 3 dimentional array (obseravtions, rows in window, features)\n",
    "        X.append(row)\n",
    "\n",
    "        # Pulls the target variable after the window, target varible needs to be column zero in this \n",
    "        label = target[i+window_size] \n",
    "\n",
    "        # returns (N,) martix of targets i+window_length time periods away\n",
    "        y.append(label) \n",
    "\n",
    "    return np.array(X), np.array(y)"
   ]
  },
  {
   "cell_type": "code",
   "execution_count": null,
   "metadata": {},
   "outputs": [],
   "source": [
    "def kbest_creator(k):\n",
    "    \"\"\"\n",
    "    Returns list of k best features and the number of efficient principle compents to use with said k features.\n",
    "    Differs from the kbest_creator function in the random forest section where the only paramter now\n",
    "    is k.\n",
    "    \"\"\"\n",
    "    # Apply SelectKBest class to extract top 40 best features\n",
    "    bestfeatures = SelectKBest(score_func=f_regression, k=k)\n",
    "    best_fit = bestfeatures.fit(X_train, y_train)\n",
    "    best_scores = pd.DataFrame(best_fit.scores_)\n",
    "    best_columns = pd.DataFrame(netflix.columns)\n",
    "    \n",
    "    # Concatenate the dataframes for better visualization\n",
    "    features_score = pd.concat([best_columns, best_scores], axis=1)\n",
    "    features_score.columns = ['Features', 'Score']  # naming the dataframe columns\n",
    "    feats = list(features_score.nlargest(k, 'Score')['Features'])\n",
    "\n",
    "    # Run PCA decomposition on the K best features\n",
    "    pca = PCA().fit(X_train[feats])\n",
    "    pca_scores = np.cumsum(pca.explained_variance_ratio_) * 100\n",
    "    res = next(x for x, val in enumerate(pca_scores) if val > 85)\n",
    "    res = res +1\n",
    "    res\n",
    "    \n",
    "    return feats, res"
   ]
  },
  {
   "cell_type": "code",
   "execution_count": null,
   "metadata": {},
   "outputs": [
    {
     "ename": "NameError",
     "evalue": "name 'kbest_creator' is not defined",
     "output_type": "error",
     "traceback": [
      "\u001b[0;31m---------------------------------------------------------------------------\u001b[0m",
      "\u001b[0;31mNameError\u001b[0m                                 Traceback (most recent call last)",
      "\u001b[0;32m<ipython-input-1-f6f38020e099>\u001b[0m in \u001b[0;36m<module>\u001b[0;34m\u001b[0m\n\u001b[0;32m----> 1\u001b[0;31m \u001b[0mfeats\u001b[0m\u001b[0;34m,\u001b[0m \u001b[0mcomp\u001b[0m \u001b[0;34m=\u001b[0m \u001b[0mkbest_creator\u001b[0m\u001b[0;34m(\u001b[0m\u001b[0;36m5\u001b[0m\u001b[0;34m)\u001b[0m\u001b[0;34m\u001b[0m\u001b[0;34m\u001b[0m\u001b[0m\n\u001b[0m\u001b[1;32m      2\u001b[0m \u001b[0;34m\u001b[0m\u001b[0m\n\u001b[1;32m      3\u001b[0m \u001b[0msklearn_pca\u001b[0m \u001b[0;34m=\u001b[0m \u001b[0mPCA\u001b[0m\u001b[0;34m(\u001b[0m\u001b[0mn_components\u001b[0m\u001b[0;34m=\u001b[0m\u001b[0mcomp\u001b[0m\u001b[0;34m)\u001b[0m\u001b[0;34m\u001b[0m\u001b[0;34m\u001b[0m\u001b[0m\n\u001b[1;32m      4\u001b[0m \u001b[0mX_train_1\u001b[0m \u001b[0;34m=\u001b[0m \u001b[0mpd\u001b[0m\u001b[0;34m.\u001b[0m\u001b[0mDataFrame\u001b[0m\u001b[0;34m(\u001b[0m\u001b[0msklearn_pca\u001b[0m\u001b[0;34m.\u001b[0m\u001b[0mfit_transform\u001b[0m\u001b[0;34m(\u001b[0m\u001b[0mX_train\u001b[0m\u001b[0;34m[\u001b[0m\u001b[0mfeats\u001b[0m\u001b[0;34m]\u001b[0m\u001b[0;34m)\u001b[0m\u001b[0;34m)\u001b[0m\u001b[0;34m\u001b[0m\u001b[0;34m\u001b[0m\u001b[0m\n\u001b[1;32m      5\u001b[0m \u001b[0mX_val_1\u001b[0m \u001b[0;34m=\u001b[0m \u001b[0mpd\u001b[0m\u001b[0;34m.\u001b[0m\u001b[0mDataFrame\u001b[0m\u001b[0;34m(\u001b[0m\u001b[0msklearn_pca\u001b[0m\u001b[0;34m.\u001b[0m\u001b[0mtransform\u001b[0m\u001b[0;34m(\u001b[0m\u001b[0mX_val\u001b[0m\u001b[0;34m[\u001b[0m\u001b[0mfeats\u001b[0m\u001b[0;34m]\u001b[0m\u001b[0;34m)\u001b[0m\u001b[0;34m)\u001b[0m\u001b[0;34m\u001b[0m\u001b[0;34m\u001b[0m\u001b[0m\n",
      "\u001b[0;31mNameError\u001b[0m: name 'kbest_creator' is not defined"
     ]
    }
   ],
   "source": [
    "feats, comp = kbest_creator(5)\n",
    "\n",
    "sklearn_pca = PCA(n_components=comp)\n",
    "X_train_1 = pd.DataFrame(sklearn_pca.fit_transform(X_train[feats]))\n",
    "X_val_1 = pd.DataFrame(sklearn_pca.transform(X_val[feats]))\n",
    "X_test_1 = pd.DataFrame(sklearn_pca.transform(X_test[feats]))\n",
    "\n",
    "# converting to window format, in this case 5 periods\n",
    "X_train_1, train_5w = df_to_X_y2(X_train_1,y_train)\n",
    "X_val_1, val_5w = df_to_X_y2(X_val_1, y_val)\n",
    "X_test_1, test_5w = df_to_X_y2(X_test_1, y_test)"
   ]
  },
  {
   "cell_type": "code",
   "execution_count": null,
   "metadata": {},
   "outputs": [
    {
     "name": "stdout",
     "output_type": "stream",
     "text": [
      "Epoch 1/30\n"
     ]
    },
    {
     "name": "stderr",
     "output_type": "stream",
     "text": [
      "C:\\Users\\alexa\\AppData\\Local\\Programs\\Python\\Python39\\lib\\site-packages\\tensorflow\\python\\util\\dispatch.py:1082: UserWarning: \"`binary_crossentropy` received `from_logits=True`, but the `output` argument was produced by a sigmoid or softmax activation and thus does not represent logits. Was this intended?\"\n",
      "  return dispatch_target(*args, **kwargs)\n"
     ]
    },
    {
     "name": "stdout",
     "output_type": "stream",
     "text": [
      "16/16 [==============================] - 1s 10ms/step - loss: 0.6943 - accuracy: 0.5010 - val_loss: 0.6943 - val_accuracy: 0.5255\n",
      "Epoch 2/30\n",
      "16/16 [==============================] - 0s 3ms/step - loss: 0.6896 - accuracy: 0.5479 - val_loss: 0.6935 - val_accuracy: 0.5036\n",
      "Epoch 3/30\n",
      "16/16 [==============================] - 0s 3ms/step - loss: 0.6889 - accuracy: 0.5336 - val_loss: 0.6945 - val_accuracy: 0.5474\n",
      "Epoch 4/30\n",
      "16/16 [==============================] - 0s 4ms/step - loss: 0.6863 - accuracy: 0.5621 - val_loss: 0.6951 - val_accuracy: 0.4818\n",
      "Epoch 5/30\n",
      "16/16 [==============================] - 0s 3ms/step - loss: 0.6850 - accuracy: 0.5723 - val_loss: 0.6964 - val_accuracy: 0.4964\n",
      "Epoch 6/30\n",
      "16/16 [==============================] - 0s 3ms/step - loss: 0.6833 - accuracy: 0.5662 - val_loss: 0.6980 - val_accuracy: 0.5182\n",
      "Epoch 7/30\n",
      "16/16 [==============================] - 0s 3ms/step - loss: 0.6805 - accuracy: 0.5743 - val_loss: 0.7018 - val_accuracy: 0.4672\n",
      "Epoch 8/30\n",
      "16/16 [==============================] - 0s 4ms/step - loss: 0.6770 - accuracy: 0.5866 - val_loss: 0.7041 - val_accuracy: 0.4745\n",
      "Epoch 9/30\n",
      "16/16 [==============================] - 0s 3ms/step - loss: 0.6749 - accuracy: 0.5784 - val_loss: 0.7091 - val_accuracy: 0.4818\n"
     ]
    },
    {
     "data": {
      "text/plain": [
       "<keras.callbacks.History at 0x29659f1ea60>"
      ]
     },
     "execution_count": 154,
     "metadata": {},
     "output_type": "execute_result"
    }
   ],
   "source": [
    "# Construct the CNN model\n",
    "early_stopping_monitor = EarlyStopping(patience=7)\n",
    "\n",
    "# Window and feature dimensions\n",
    "n_steps = X_train_1.shape[1]\n",
    "n_features = X_train_1.shape[2]\n",
    "\n",
    "model1_2 = Sequential()\n",
    "model1_2.add(Conv1D(filters=64, kernel_size=2, activation='relu', input_shape=(n_steps,n_features))) \n",
    "model1_2.add(Conv1D(filters=15, kernel_size=2, activation='relu'))\n",
    "# better without pooling layer\n",
    "model1_2.add(Flatten())\n",
    "model1_2.add(Dense(30, activation='relu')) \n",
    "model1_2.add(Dense(30, activation='relu')) \n",
    "model1_2.add(Dense(1, activation='sigmoid'))\n",
    "\n",
    "model1_2.compile(optimizer='adam', \n",
    "                loss=tf.keras.losses.BinaryCrossentropy(from_logits=True),\n",
    "                metrics=[\"accuracy\"])\n",
    "\n",
    "model1_2_hist = model1_2.fit(X_train_1, train_5w,epochs=30,  \n",
    "                            validation_data=(X_val_1, val_5w), \n",
    "                            callbacks = [early_stopping_monitor])\n",
    "\n",
    "model1_2_hist\n"
   ]
  },
  {
   "cell_type": "code",
   "execution_count": null,
   "metadata": {},
   "outputs": [
    {
     "data": {
      "text/plain": [
       "dict_keys(['loss', 'accuracy', 'val_loss', 'val_accuracy'])"
      ]
     },
     "execution_count": 155,
     "metadata": {},
     "output_type": "execute_result"
    }
   ],
   "source": [
    "model1_2_hist.history.keys()"
   ]
  },
  {
   "cell_type": "code",
   "execution_count": null,
   "metadata": {},
   "outputs": [
    {
     "name": "stdout",
     "output_type": "stream",
     "text": [
      "CNN inital model accuracy: 54.55%\n"
     ]
    },
    {
     "data": {
      "image/png": "[encoded data removed]",
      "text/plain": [
       "<Figure size 1296x432 with 2 Axes>"
      ]
     },
     "metadata": {
      "needs_background": "light"
     },
     "output_type": "display_data"
    }
   ],
   "source": [
    "# Predict on test data\n",
    "y_hat1_2 = model1_2.predict(X_test_1)\n",
    "\n",
    "# Find the accuracy of the model. Values greater than 0.5 are considered 1, else 0.\n",
    "y_hat1_2 = y_hat1_2 > .5\n",
    "\n",
    "print(\"CNN inital model accuracy: {}%\".format(metrics.accuracy_score(test_5w,y_hat1_2).round(4)*100))\n",
    "\n",
    "# Plot the loss and accuracy curves over epochs:\n",
    "fig, axs = plt.subplots(nrows=1, ncols=2, figsize=(18,6))\n",
    "\n",
    "axs[0].plot(model1_2_hist.history['loss'], color='b', label='Training loss')\n",
    "axs[0].plot(model1_2_hist.history['val_loss'], color='r', label='Validation loss')\n",
    "\n",
    "axs[0].set_title(\"Loss curves\")\n",
    "axs[0].legend(loc='best', shadow=True)\n",
    "\n",
    "axs[1].plot(model1_2_hist.history['accuracy'], color='b', label='Training accuracy')\n",
    "axs[1].plot(model1_2_hist.history['val_accuracy'], color='r', label='Validation accuracy')\n",
    "axs[1].set_title(\"Accuracy curves\")\n",
    "axs[1].legend(loc='best', shadow=True)\n",
    "\n",
    "plt.show()"
   ]
  },
  {
   "cell_type": "code",
   "execution_count": null,
   "metadata": {},
   "outputs": [],
   "source": []
  },
  {
   "cell_type": "markdown",
   "metadata": {},
   "source": [
    "Provide description of RNN "
   ]
  },
  {
   "cell_type": "code",
   "execution_count": null,
   "metadata": {},
   "outputs": [],
   "source": [
    "# Split data into training, validation and test sets \n",
    "column_indices = {name: i for i, name in enumerate(Ford.columns)}\n",
    "\n",
    "n = len(Ford)\n",
    "X_train = Ford[0:int(n*0.9)]\n",
    "X_val = Ford[int(n*0.7):int(n*0.9)]\n",
    "X_test = Ford[int(n*0.9):]\n",
    "\n",
    "y_train = target_3[0:int(n*0.9)]\n",
    "y_val = target_3[int(n*0.7):int(n*0.9)]\n",
    "y_test = target_3[int(n*0.9):]"
   ]
  },
  {
   "cell_type": "code",
   "execution_count": null,
   "metadata": {},
   "outputs": [],
   "source": [
    "# Normalize the data\n",
    "X_train = pd.DataFrame(Mscaler.fit_transform(X_train), columns = Ford.columns)\n",
    "X_val = pd.DataFrame(Mscaler.fit_transform(X_val), columns = Ford.columns)\n",
    "X_test = pd.DataFrame(Mscaler.fit_transform(X_test), columns = Ford.columns)"
   ]
  },
  {
   "cell_type": "code",
   "execution_count": null,
   "metadata": {},
   "outputs": [],
   "source": [
    "def kbest_creator(k):\n",
    "    \"\"\"\n",
    "    returns list of k best features and the number of efficient principle compents to use with said k features\n",
    "    \"\"\"\n",
    "    # apply SelectKBest class to extract top 40 best features\n",
    "    bestfeatures = SelectKBest(score_func=f_regression, k=k)\n",
    "    best_fit = bestfeatures.fit(X_train, y_train)\n",
    "    best_scores = pd.DataFrame(best_fit.scores_)\n",
    "    best_columns = pd.DataFrame(Ford.columns)\n",
    "    \n",
    "    # concatenate the dataframes for better visualization\n",
    "    features_score = pd.concat([best_columns, best_scores], axis=1)\n",
    "    features_score.columns = ['Features', 'Score']  # naming the dataframe columns\n",
    "    feats = list(features_score.nlargest(k, 'Score')['Features'])\n",
    "\n",
    "    pca = PCA().fit(X_train[feats])\n",
    "    pca_scores = np.cumsum(pca.explained_variance_ratio_) * 100\n",
    "    res = next(x for x, val in enumerate(pca_scores) if val > 90) \n",
    "    res = res +1\n",
    "    res\n",
    "    \n",
    "    return feats, res\n"
   ]
  },
  {
   "cell_type": "code",
   "execution_count": null,
   "metadata": {},
   "outputs": [
    {
     "name": "stdout",
     "output_type": "stream",
     "text": [
      "(633, 5, 15) (633,)\n",
      "(137, 5, 15) (137,)\n",
      "(66, 5, 15) (66,)\n"
     ]
    },
    {
     "name": "stderr",
     "output_type": "stream",
     "text": [
      "C:\\Users\\Alexander.Ferrante\\Anaconda3\\lib\\site-packages\\sklearn\\feature_selection\\_univariate_selection.py:302: RuntimeWarning: invalid value encountered in true_divide\n",
      "  corr /= X_norms\n"
     ]
    }
   ],
   "source": [
    "feats, pcs = kbest_creator(40)\n",
    "\n",
    "# 15 compenents explain 90% \n",
    "pca_kb = PCA(n_components = pcs)\n",
    "X_train_kb = pd.DataFrame(pca_kb.fit_transform(X_train[feats]))\n",
    "X_val_kb = pd.DataFrame(pca_kb.fit_transform(X_val[feats]))\n",
    "X_test_kb = pd.DataFrame(pca_kb.fit_transform(X_test[feats]))\n",
    "\n",
    "# Apply window formatting, in this case 5 periods\n",
    "X_train_1, train_5w = df_to_X_y2(X_train_kb,y_train)\n",
    "X_val_1, val_5w = df_to_X_y2(X_val_kb, y_val)\n",
    "X_test_1, test_5w = df_to_X_y2(X_test_kb,y_test) \n",
    "\n",
    "print(X_train_1.shape, train_5w.shape)\n",
    "print(X_val_1.shape, val_5w.shape)\n",
    "print(X_test_1.shape, test_5w.shape)"
   ]
  },
  {
   "cell_type": "code",
   "execution_count": null,
   "metadata": {},
   "outputs": [],
   "source": [
    "# Model using the PCA od 40 SelectKBest features \n",
    "n_steps = X_train_1.shape[1]\n",
    "n_features = X_train_1.shape[2]\n",
    "\n",
    "# Let's make a list of CONSTANTS for modelling:\n",
    "LAYERS = [8, 8, 8, 1]                # number of units in hidden and output layers\n",
    "M_TRAIN = X_train_1.shape[0]           # number of training examples (2D)\n",
    "M_TEST = X_test_1.shape[0]             # number of test examples (2D),full=X_test.shape[0]\n",
    "N = X_train_1.shape[2]                 # number of features\n",
    "BATCH = M_TRAIN                          # batch size\n",
    "EPOCH = 10                           # number of epochs\n",
    "LR = 5e-2                            # learning rate of the gradient descent\n",
    "LAMBD = 3e-2                         # lambda in L2 regularizaion\n",
    "DP = 0.0                             # dropout rate\n",
    "RDP = 0.0                            # recurrent dropout rate\n",
    "\n",
    "# Build the Model\n",
    "model = Sequential()\n",
    "model.add(LSTM(input_shape=(n_steps, n_features), units=LAYERS[0],\n",
    "               activation='tanh', recurrent_activation='hard_sigmoid',\n",
    "               kernel_regularizer=l2(LAMBD), recurrent_regularizer=l2(LAMBD),\n",
    "               dropout=DP, recurrent_dropout=RDP,\n",
    "               return_sequences=True, return_state=False,\n",
    "               stateful=False, unroll=False\n",
    "              ))\n",
    "model.add(BatchNormalization())\n",
    "model.add(LSTM(units=LAYERS[1],\n",
    "               activation='tanh', recurrent_activation='hard_sigmoid', \n",
    "               kernel_regularizer=l2(LAMBD), recurrent_regularizer=l2(LAMBD),\n",
    "               dropout=DP, recurrent_dropout=RDP,\n",
    "               return_sequences=True, return_state=False,\n",
    "               stateful=False, unroll=False\n",
    "              ))\n",
    "model.add(BatchNormalization())\n",
    "model.add(LSTM(units=LAYERS[2],\n",
    "               activation='tanh', recurrent_activation='hard_sigmoid',\n",
    "               kernel_regularizer=l2(LAMBD), recurrent_regularizer=l2(LAMBD),\n",
    "               dropout=DP, recurrent_dropout=RDP,\n",
    "               return_sequences=False, return_state=False,\n",
    "               stateful=False, unroll=False\n",
    "              ))\n",
    "\n",
    "model.add(BatchNormalization())\n",
    "model.add(Dense(units=LAYERS[3], activation='sigmoid'))"
   ]
  },
  {
   "cell_type": "code",
   "execution_count": null,
   "metadata": {},
   "outputs": [
    {
     "name": "stdout",
     "output_type": "stream",
     "text": [
      "Model: \"sequential\"\n",
      "_________________________________________________________________\n",
      " Layer (type)                Output Shape              Param #   \n",
      "=================================================================\n",
      " lstm (LSTM)                 (None, 5, 8)              768       \n",
      "                                                                 \n",
      " batch_normalization (BatchN  (None, 5, 8)             32        \n",
      " ormalization)                                                   \n",
      "                                                                 \n",
      " lstm_1 (LSTM)               (None, 5, 8)              544       \n",
      "                                                                 \n",
      " batch_normalization_1 (Batc  (None, 5, 8)             32        \n",
      " hNormalization)                                                 \n",
      "                                                                 \n",
      " lstm_2 (LSTM)               (None, 8)                 544       \n",
      "                                                                 \n",
      " batch_normalization_2 (Batc  (None, 8)                32        \n",
      " hNormalization)                                                 \n",
      "                                                                 \n",
      " dense (Dense)               (None, 1)                 9         \n",
      "                                                                 \n",
      "=================================================================\n",
      "Total params: 1,961\n",
      "Trainable params: 1,913\n",
      "Non-trainable params: 48\n",
      "_________________________________________________________________\n",
      "None\n"
     ]
    }
   ],
   "source": [
    "# Compile Model\n",
    "model.compile(loss='binary_crossentropy',\n",
    "              metrics=['accuracy'],\n",
    "              optimizer=\"adam\")\n",
    "              \n",
    "print(model.summary())"
   ]
  },
  {
   "cell_type": "code",
   "execution_count": null,
   "metadata": {},
   "outputs": [
    {
     "name": "stdout",
     "output_type": "stream",
     "text": [
      "Epoch 1/100\n",
      "13/13 [==============================] - 7s 61ms/step - loss: 2.8102 - accuracy: 0.5340 - val_loss: 2.6140 - val_accuracy: 0.4599\n",
      "Epoch 2/100\n",
      "13/13 [==============================] - 0s 13ms/step - loss: 2.5875 - accuracy: 0.5355 - val_loss: 2.4495 - val_accuracy: 0.5255\n",
      "Epoch 3/100\n",
      "13/13 [==============================] - 0s 13ms/step - loss: 2.3911 - accuracy: 0.5482 - val_loss: 2.2968 - val_accuracy: 0.5255\n",
      "Epoch 4/100\n",
      "13/13 [==============================] - 0s 13ms/step - loss: 2.2313 - accuracy: 0.5450 - val_loss: 2.1553 - val_accuracy: 0.5401\n",
      "Epoch 5/100\n",
      "13/13 [==============================] - 0s 12ms/step - loss: 2.0827 - accuracy: 0.5798 - val_loss: 2.0255 - val_accuracy: 0.5401\n",
      "Epoch 6/100\n",
      "13/13 [==============================] - 0s 13ms/step - loss: 1.9571 - accuracy: 0.5750 - val_loss: 1.9068 - val_accuracy: 0.5255\n",
      "Epoch 7/100\n",
      "13/13 [==============================] - 0s 13ms/step - loss: 1.8424 - accuracy: 0.5924 - val_loss: 1.7990 - val_accuracy: 0.5328\n",
      "Epoch 8/100\n",
      "13/13 [==============================] - 0s 13ms/step - loss: 1.7315 - accuracy: 0.5750 - val_loss: 1.7009 - val_accuracy: 0.5182\n",
      "Epoch 9/100\n",
      "13/13 [==============================] - 0s 15ms/step - loss: 1.6364 - accuracy: 0.5735 - val_loss: 1.6118 - val_accuracy: 0.4891\n",
      "Epoch 10/100\n",
      "13/13 [==============================] - 0s 14ms/step - loss: 1.5494 - accuracy: 0.5908 - val_loss: 1.5308 - val_accuracy: 0.4964\n",
      "Epoch 11/100\n",
      "13/13 [==============================] - 0s 12ms/step - loss: 1.4725 - accuracy: 0.5987 - val_loss: 1.4574 - val_accuracy: 0.4891\n",
      "Epoch 12/100\n",
      "13/13 [==============================] - 0s 12ms/step - loss: 1.3982 - accuracy: 0.6019 - val_loss: 1.3904 - val_accuracy: 0.4891\n",
      "Epoch 13/100\n",
      "13/13 [==============================] - 0s 13ms/step - loss: 1.3308 - accuracy: 0.5956 - val_loss: 1.3300 - val_accuracy: 0.4891\n",
      "Epoch 14/100\n",
      "13/13 [==============================] - 0s 14ms/step - loss: 1.2706 - accuracy: 0.6082 - val_loss: 1.2752 - val_accuracy: 0.4453\n",
      "Epoch 15/100\n",
      "13/13 [==============================] - 0s 13ms/step - loss: 1.2203 - accuracy: 0.6019 - val_loss: 1.2258 - val_accuracy: 0.4453\n",
      "Epoch 16/100\n",
      "13/13 [==============================] - 0s 13ms/step - loss: 1.1711 - accuracy: 0.5893 - val_loss: 1.1809 - val_accuracy: 0.4453\n",
      "Epoch 17/100\n",
      "13/13 [==============================] - 0s 18ms/step - loss: 1.1271 - accuracy: 0.6082 - val_loss: 1.1405 - val_accuracy: 0.4672\n",
      "Epoch 18/100\n",
      "13/13 [==============================] - 0s 14ms/step - loss: 1.0858 - accuracy: 0.6066 - val_loss: 1.1041 - val_accuracy: 0.4745\n",
      "Epoch 19/100\n",
      "13/13 [==============================] - 0s 13ms/step - loss: 1.0491 - accuracy: 0.6177 - val_loss: 1.0704 - val_accuracy: 0.5182\n",
      "Epoch 20/100\n",
      "13/13 [==============================] - 0s 14ms/step - loss: 1.0157 - accuracy: 0.6130 - val_loss: 1.0404 - val_accuracy: 0.4380\n",
      "Epoch 21/100\n",
      "13/13 [==============================] - 0s 13ms/step - loss: 0.9881 - accuracy: 0.6288 - val_loss: 1.0133 - val_accuracy: 0.4745\n",
      "Epoch 22/100\n",
      "13/13 [==============================] - 0s 13ms/step - loss: 0.9631 - accuracy: 0.6066 - val_loss: 0.9888 - val_accuracy: 0.5328\n",
      "Epoch 23/100\n",
      "13/13 [==============================] - 0s 14ms/step - loss: 0.9348 - accuracy: 0.6209 - val_loss: 0.9667 - val_accuracy: 0.5109\n",
      "Epoch 24/100\n",
      "13/13 [==============================] - 0s 14ms/step - loss: 0.9153 - accuracy: 0.6177 - val_loss: 0.9469 - val_accuracy: 0.5109\n",
      "Epoch 25/100\n",
      "13/13 [==============================] - 0s 14ms/step - loss: 0.8959 - accuracy: 0.6256 - val_loss: 0.9290 - val_accuracy: 0.4891\n",
      "Epoch 26/100\n",
      "13/13 [==============================] - 0s 13ms/step - loss: 0.8765 - accuracy: 0.6224 - val_loss: 0.9119 - val_accuracy: 0.5036\n",
      "Epoch 27/100\n",
      "13/13 [==============================] - 0s 14ms/step - loss: 0.8616 - accuracy: 0.6209 - val_loss: 0.8982 - val_accuracy: 0.4891\n",
      "Epoch 28/100\n",
      "13/13 [==============================] - 0s 14ms/step - loss: 0.8437 - accuracy: 0.6509 - val_loss: 0.8848 - val_accuracy: 0.4964\n",
      "Epoch 29/100\n",
      "13/13 [==============================] - 0s 13ms/step - loss: 0.8314 - accuracy: 0.6256 - val_loss: 0.8729 - val_accuracy: 0.5036\n",
      "Epoch 30/100\n",
      "13/13 [==============================] - 0s 11ms/step - loss: 0.8209 - accuracy: 0.6288 - val_loss: 0.8631 - val_accuracy: 0.4964\n",
      "Epoch 31/100\n",
      "13/13 [==============================] - 0s 13ms/step - loss: 0.8085 - accuracy: 0.6367 - val_loss: 0.8525 - val_accuracy: 0.5255\n",
      "Epoch 32/100\n",
      "13/13 [==============================] - 0s 14ms/step - loss: 0.7956 - accuracy: 0.6209 - val_loss: 0.8440 - val_accuracy: 0.5109\n",
      "Epoch 33/100\n",
      "13/13 [==============================] - 0s 12ms/step - loss: 0.7876 - accuracy: 0.6351 - val_loss: 0.8387 - val_accuracy: 0.4891\n",
      "Epoch 34/100\n",
      "13/13 [==============================] - 0s 13ms/step - loss: 0.7805 - accuracy: 0.6256 - val_loss: 0.8282 - val_accuracy: 0.4818\n",
      "Epoch 35/100\n",
      "13/13 [==============================] - 0s 13ms/step - loss: 0.7730 - accuracy: 0.6319 - val_loss: 0.8225 - val_accuracy: 0.4526\n",
      "Epoch 36/100\n",
      "13/13 [==============================] - 0s 14ms/step - loss: 0.7608 - accuracy: 0.6445 - val_loss: 0.8164 - val_accuracy: 0.4818\n",
      "Epoch 37/100\n",
      "13/13 [==============================] - 0s 13ms/step - loss: 0.7595 - accuracy: 0.6382 - val_loss: 0.8152 - val_accuracy: 0.4672\n",
      "Epoch 38/100\n",
      "13/13 [==============================] - 0s 13ms/step - loss: 0.7523 - accuracy: 0.6698 - val_loss: 0.8093 - val_accuracy: 0.4818\n",
      "Epoch 39/100\n",
      "13/13 [==============================] - 0s 13ms/step - loss: 0.7563 - accuracy: 0.6240 - val_loss: 0.8061 - val_accuracy: 0.5036\n",
      "Epoch 40/100\n",
      "13/13 [==============================] - 0s 15ms/step - loss: 0.7432 - accuracy: 0.6461 - val_loss: 0.8035 - val_accuracy: 0.5036\n",
      "Epoch 41/100\n",
      "13/13 [==============================] - 0s 15ms/step - loss: 0.7467 - accuracy: 0.6367 - val_loss: 0.7937 - val_accuracy: 0.5109\n",
      "Epoch 42/100\n",
      "13/13 [==============================] - 0s 15ms/step - loss: 0.7322 - accuracy: 0.6588 - val_loss: 0.7944 - val_accuracy: 0.5255\n",
      "Epoch 43/100\n",
      "13/13 [==============================] - 0s 15ms/step - loss: 0.7258 - accuracy: 0.6572 - val_loss: 0.7963 - val_accuracy: 0.4964\n",
      "Epoch 44/100\n",
      "13/13 [==============================] - 0s 14ms/step - loss: 0.7307 - accuracy: 0.6382 - val_loss: 0.7979 - val_accuracy: 0.5036\n",
      "Epoch 45/100\n",
      "13/13 [==============================] - 0s 13ms/step - loss: 0.7272 - accuracy: 0.6398 - val_loss: 0.7937 - val_accuracy: 0.5036\n",
      "Epoch 46/100\n",
      "13/13 [==============================] - 0s 13ms/step - loss: 0.7236 - accuracy: 0.6493 - val_loss: 0.7910 - val_accuracy: 0.4964\n",
      "Epoch 47/100\n",
      "13/13 [==============================] - 0s 13ms/step - loss: 0.7223 - accuracy: 0.6335 - val_loss: 0.7905 - val_accuracy: 0.4891\n",
      "Epoch 48/100\n",
      "13/13 [==============================] - 0s 12ms/step - loss: 0.7163 - accuracy: 0.6445 - val_loss: 0.7853 - val_accuracy: 0.4964\n",
      "Epoch 49/100\n",
      "13/13 [==============================] - 0s 14ms/step - loss: 0.7121 - accuracy: 0.6493 - val_loss: 0.7866 - val_accuracy: 0.4672\n",
      "Epoch 50/100\n",
      "13/13 [==============================] - 0s 14ms/step - loss: 0.7122 - accuracy: 0.6177 - val_loss: 0.7893 - val_accuracy: 0.5036\n",
      "Epoch 51/100\n",
      "13/13 [==============================] - 0s 13ms/step - loss: 0.7049 - accuracy: 0.6619 - val_loss: 0.7932 - val_accuracy: 0.4964\n",
      "Epoch 52/100\n",
      "13/13 [==============================] - 0s 12ms/step - loss: 0.7064 - accuracy: 0.6430 - val_loss: 0.7859 - val_accuracy: 0.4818\n",
      "Epoch 53/100\n",
      "13/13 [==============================] - 0s 13ms/step - loss: 0.7000 - accuracy: 0.6477 - val_loss: 0.7912 - val_accuracy: 0.5109\n",
      "Epoch 54/100\n",
      "13/13 [==============================] - 0s 13ms/step - loss: 0.7054 - accuracy: 0.6351 - val_loss: 0.7947 - val_accuracy: 0.5036\n",
      "Epoch 55/100\n",
      "13/13 [==============================] - 0s 12ms/step - loss: 0.7028 - accuracy: 0.6430 - val_loss: 0.7867 - val_accuracy: 0.4891\n",
      "Epoch 56/100\n",
      "13/13 [==============================] - 0s 13ms/step - loss: 0.6884 - accuracy: 0.6635 - val_loss: 0.7873 - val_accuracy: 0.5182\n",
      "Epoch 57/100\n",
      "13/13 [==============================] - 0s 12ms/step - loss: 0.7062 - accuracy: 0.6367 - val_loss: 0.7891 - val_accuracy: 0.5182\n",
      "Epoch 58/100\n",
      "13/13 [==============================] - 0s 13ms/step - loss: 0.6882 - accuracy: 0.6461 - val_loss: 0.7934 - val_accuracy: 0.5474\n",
      "Epoch 59/100\n",
      "13/13 [==============================] - 0s 18ms/step - loss: 0.6926 - accuracy: 0.6445 - val_loss: 0.7991 - val_accuracy: 0.4891\n",
      "Epoch 60/100\n",
      "13/13 [==============================] - 0s 14ms/step - loss: 0.6896 - accuracy: 0.6509 - val_loss: 0.8117 - val_accuracy: 0.5036\n",
      "Epoch 61/100\n",
      "13/13 [==============================] - 0s 14ms/step - loss: 0.6850 - accuracy: 0.6746 - val_loss: 0.7957 - val_accuracy: 0.5255\n",
      "Epoch 62/100\n",
      "13/13 [==============================] - 0s 14ms/step - loss: 0.6875 - accuracy: 0.6540 - val_loss: 0.7940 - val_accuracy: 0.4964\n",
      "Epoch 63/100\n",
      "13/13 [==============================] - 0s 13ms/step - loss: 0.6744 - accuracy: 0.6777 - val_loss: 0.8027 - val_accuracy: 0.4745\n",
      "Epoch 64/100\n",
      "13/13 [==============================] - 0s 13ms/step - loss: 0.6815 - accuracy: 0.6603 - val_loss: 0.7953 - val_accuracy: 0.4672\n",
      "Epoch 65/100\n",
      "13/13 [==============================] - 0s 12ms/step - loss: 0.6813 - accuracy: 0.6382 - val_loss: 0.8006 - val_accuracy: 0.5182\n",
      "Epoch 66/100\n",
      "13/13 [==============================] - 0s 14ms/step - loss: 0.6829 - accuracy: 0.6651 - val_loss: 0.7995 - val_accuracy: 0.5474\n",
      "Epoch 67/100\n",
      "13/13 [==============================] - 0s 13ms/step - loss: 0.6834 - accuracy: 0.6635 - val_loss: 0.7898 - val_accuracy: 0.5401\n",
      "Epoch 68/100\n",
      "13/13 [==============================] - 0s 13ms/step - loss: 0.6853 - accuracy: 0.6382 - val_loss: 0.8034 - val_accuracy: 0.5401\n",
      "Epoch 69/100\n",
      "13/13 [==============================] - 0s 13ms/step - loss: 0.6762 - accuracy: 0.6730 - val_loss: 0.7929 - val_accuracy: 0.5109\n",
      "Epoch 70/100\n",
      "13/13 [==============================] - 0s 16ms/step - loss: 0.6793 - accuracy: 0.6540 - val_loss: 0.8068 - val_accuracy: 0.4818\n",
      "Epoch 71/100\n",
      "13/13 [==============================] - 0s 15ms/step - loss: 0.6769 - accuracy: 0.6698 - val_loss: 0.8103 - val_accuracy: 0.5182\n",
      "Epoch 72/100\n",
      "13/13 [==============================] - 0s 15ms/step - loss: 0.6762 - accuracy: 0.6603 - val_loss: 0.8208 - val_accuracy: 0.5328\n",
      "Epoch 73/100\n",
      "13/13 [==============================] - 0s 13ms/step - loss: 0.6823 - accuracy: 0.6619 - val_loss: 0.8242 - val_accuracy: 0.5109\n",
      "Epoch 74/100\n",
      "13/13 [==============================] - 0s 14ms/step - loss: 0.6726 - accuracy: 0.6714 - val_loss: 0.8320 - val_accuracy: 0.5036\n",
      "Epoch 75/100\n",
      "13/13 [==============================] - 0s 11ms/step - loss: 0.6770 - accuracy: 0.6809 - val_loss: 0.8250 - val_accuracy: 0.4745\n",
      "Epoch 76/100\n",
      "13/13 [==============================] - 0s 13ms/step - loss: 0.6721 - accuracy: 0.6635 - val_loss: 0.8267 - val_accuracy: 0.5328\n",
      "Epoch 77/100\n",
      "13/13 [==============================] - 0s 13ms/step - loss: 0.6659 - accuracy: 0.6746 - val_loss: 0.8185 - val_accuracy: 0.5182\n",
      "Epoch 78/100\n",
      "13/13 [==============================] - 0s 13ms/step - loss: 0.6688 - accuracy: 0.6714 - val_loss: 0.8222 - val_accuracy: 0.5401\n",
      "Epoch 79/100\n",
      "13/13 [==============================] - 0s 14ms/step - loss: 0.6632 - accuracy: 0.6777 - val_loss: 0.8292 - val_accuracy: 0.4891\n",
      "Epoch 80/100\n",
      "13/13 [==============================] - 0s 13ms/step - loss: 0.6642 - accuracy: 0.6761 - val_loss: 0.8263 - val_accuracy: 0.5328\n",
      "Epoch 81/100\n",
      "13/13 [==============================] - 0s 13ms/step - loss: 0.6696 - accuracy: 0.6509 - val_loss: 0.8374 - val_accuracy: 0.4964\n",
      "Epoch 82/100\n",
      "13/13 [==============================] - 0s 12ms/step - loss: 0.6616 - accuracy: 0.6588 - val_loss: 0.8520 - val_accuracy: 0.4599\n",
      "Epoch 83/100\n",
      "13/13 [==============================] - 0s 14ms/step - loss: 0.6679 - accuracy: 0.6509 - val_loss: 0.8412 - val_accuracy: 0.4745\n",
      "Epoch 84/100\n",
      "13/13 [==============================] - 0s 12ms/step - loss: 0.6679 - accuracy: 0.6714 - val_loss: 0.8380 - val_accuracy: 0.5036\n",
      "Epoch 85/100\n",
      "13/13 [==============================] - 0s 15ms/step - loss: 0.6772 - accuracy: 0.6588 - val_loss: 0.8361 - val_accuracy: 0.4818\n",
      "Epoch 86/100\n",
      "13/13 [==============================] - 0s 13ms/step - loss: 0.6731 - accuracy: 0.6714 - val_loss: 0.8450 - val_accuracy: 0.4964\n",
      "Epoch 87/100\n",
      "13/13 [==============================] - 0s 12ms/step - loss: 0.6692 - accuracy: 0.6667 - val_loss: 0.8334 - val_accuracy: 0.5474\n",
      "Epoch 88/100\n",
      "13/13 [==============================] - 0s 14ms/step - loss: 0.6560 - accuracy: 0.6667 - val_loss: 0.8414 - val_accuracy: 0.4745\n",
      "Epoch 89/100\n",
      "13/13 [==============================] - 0s 11ms/step - loss: 0.6613 - accuracy: 0.6651 - val_loss: 0.8282 - val_accuracy: 0.5109\n",
      "Epoch 90/100\n",
      "13/13 [==============================] - 0s 14ms/step - loss: 0.6608 - accuracy: 0.6777 - val_loss: 0.8489 - val_accuracy: 0.5036\n",
      "Epoch 91/100\n",
      "13/13 [==============================] - 0s 15ms/step - loss: 0.6653 - accuracy: 0.6667 - val_loss: 0.8684 - val_accuracy: 0.4672\n",
      "Epoch 92/100\n",
      "13/13 [==============================] - 0s 13ms/step - loss: 0.6607 - accuracy: 0.6746 - val_loss: 0.8579 - val_accuracy: 0.4672\n",
      "Epoch 93/100\n",
      "13/13 [==============================] - 0s 13ms/step - loss: 0.6550 - accuracy: 0.6856 - val_loss: 0.8378 - val_accuracy: 0.5036\n",
      "Epoch 94/100\n",
      "13/13 [==============================] - 0s 13ms/step - loss: 0.6705 - accuracy: 0.6730 - val_loss: 0.8432 - val_accuracy: 0.5328\n",
      "Epoch 95/100\n",
      "13/13 [==============================] - 0s 13ms/step - loss: 0.6597 - accuracy: 0.6588 - val_loss: 0.8438 - val_accuracy: 0.5255\n",
      "Epoch 96/100\n",
      "13/13 [==============================] - 0s 12ms/step - loss: 0.6595 - accuracy: 0.6777 - val_loss: 0.8434 - val_accuracy: 0.5036\n",
      "Epoch 97/100\n",
      "13/13 [==============================] - 0s 14ms/step - loss: 0.6430 - accuracy: 0.7062 - val_loss: 0.8456 - val_accuracy: 0.5109\n",
      "Epoch 98/100\n",
      "13/13 [==============================] - 0s 13ms/step - loss: 0.6549 - accuracy: 0.6746 - val_loss: 0.8576 - val_accuracy: 0.4745\n",
      "Epoch 99/100\n",
      "13/13 [==============================] - 0s 13ms/step - loss: 0.6607 - accuracy: 0.6793 - val_loss: 0.8698 - val_accuracy: 0.4964\n",
      "Epoch 100/100\n",
      "13/13 [==============================] - 0s 13ms/step - loss: 0.6463 - accuracy: 0.6809 - val_loss: 0.8619 - val_accuracy: 0.4964\n"
     ]
    }
   ],
   "source": [
    "# Fit model \n",
    "lr_decay = ReduceLROnPlateau(monitor='loss', \n",
    "                             patience=1, verbose=0, \n",
    "                             factor=0.5, min_lr=1e-8)\n",
    "# Define Early Stopping:\n",
    "early_stop = EarlyStopping(monitor='val_acc', min_delta=0, \n",
    "                           patience=30, verbose=1, mode='auto',\n",
    "                           baseline=0, restore_best_weights=True)\n",
    "# Train the model. \n",
    "# The dataset is small for NN - let's use test_data for validation\n",
    "\n",
    "history = model.fit(X_train_1, train_5w,\n",
    "                    epochs=100,\n",
    "                    batch_size=50,\n",
    "                    validation_data=(X_val_1, val_5w))"
   ]
  },
  {
   "cell_type": "code",
   "execution_count": null,
   "metadata": {},
   "outputs": [
    {
     "name": "stdout",
     "output_type": "stream",
     "text": [
      "-----------------------------------------------------------------\n",
      "train accuracy = 70.6161%\n",
      "test accuracy = 50.0%\n",
      "test error = 33 out of 66 examples\n"
     ]
    }
   ],
   "source": [
    "# Evaluate the model:\n",
    "train_loss, train_acc = model.evaluate(X_train_1, train_5w,\n",
    "                                       batch_size=M_TRAIN, verbose=0)\n",
    "test_loss, test_acc = model.evaluate(X_test_1, test_5w,\n",
    "                                     batch_size=M_TEST, verbose=0)\n",
    "print('-'*65)\n",
    "print(f'train accuracy = {round(train_acc * 100, 4)}%')\n",
    "print(f'test accuracy = {round(test_acc * 100, 4)}%')\n",
    "print(f'test error = {round((1 - test_acc) * M_TEST)} out of {M_TEST} examples')"
   ]
  },
  {
   "cell_type": "code",
   "execution_count": null,
   "metadata": {},
   "outputs": [
    {
     "data": {
      "image/png": "[encoded data removed]",
      "text/plain": [
       "<Figure size 1296x432 with 2 Axes>"
      ]
     },
     "metadata": {},
     "output_type": "display_data"
    }
   ],
   "source": [
    "# Plot the loss and accuracy curves over epochs:\n",
    "fig, axs = plt.subplots(nrows=1, ncols=2, figsize=(18,6))\n",
    "axs[0].plot(history.history['loss'], color='b', label='Training loss')\n",
    "axs[0].plot(history.history['val_loss'], color='r', label='Validation loss')\n",
    "axs[0].set_title(\"Loss curves\")\n",
    "axs[0].legend(loc='best', shadow=True)\n",
    "axs[1].plot(history.history['accuracy'], color='b', label='Training accuracy')\n",
    "axs[1].plot(history.history['val_accuracy'], color='r', label='Validation accuracy')\n",
    "axs[1].set_title(\"Accuracy curves\")\n",
    "axs[1].legend(loc='best', shadow=True)\n",
    "plt.show()"
   ]
  },
  {
   "cell_type": "code",
   "execution_count": null,
   "metadata": {},
   "outputs": [
    {
     "name": "stdout",
     "output_type": "stream",
     "text": [
      "2/2 [==============================] - 1s 4ms/step\n",
      "2017-01-02 00:00:00 [0.91148275] 1\n",
      "2017-01-03 00:00:00 [0.7908968] 0\n",
      "2017-01-04 00:00:00 [0.3051197] 0\n",
      "2017-01-05 00:00:00 [0.5898801] 0\n",
      "2017-01-06 00:00:00 [0.40324372] 1\n",
      "2017-01-09 00:00:00 [0.07845059] 1\n",
      "2017-01-10 00:00:00 [0.03774798] 0\n",
      "2017-01-11 00:00:00 [0.12581652] 1\n",
      "2017-01-12 00:00:00 [0.6747093] 0\n",
      "2017-01-13 00:00:00 [0.9021783] 0\n",
      "2017-01-16 00:00:00 [0.9198288] 1\n",
      "2017-01-17 00:00:00 [0.24044833] 1\n",
      "2017-01-18 00:00:00 [0.06340772] 1\n",
      "2017-01-19 00:00:00 [0.07416627] 1\n",
      "2017-01-20 00:00:00 [0.18310702] 0\n",
      "2017-01-23 00:00:00 [0.4013644] 0\n",
      "2017-01-24 00:00:00 [0.48780796] 0\n",
      "2017-01-25 00:00:00 [0.36813882] 0\n",
      "2017-01-26 00:00:00 [0.176905] 0\n",
      "2017-01-27 00:00:00 [0.09006059] 0\n",
      "2017-01-30 00:00:00 [0.04057518] 0\n",
      "2017-01-31 00:00:00 [0.8312367] 0\n",
      "2017-02-01 00:00:00 [0.7457682] 1\n",
      "2017-02-02 00:00:00 [0.718813] 1\n",
      "2017-02-03 00:00:00 [0.44349346] 1\n",
      "2017-02-06 00:00:00 [0.62839234] 0\n",
      "2017-02-07 00:00:00 [0.5359686] 0\n",
      "2017-02-08 00:00:00 [0.33429828] 0\n",
      "2017-02-09 00:00:00 [0.25996715] 0\n",
      "2017-02-10 00:00:00 [0.5003998] 0\n",
      "2017-02-13 00:00:00 [0.76379675] 1\n",
      "2017-02-14 00:00:00 [0.74085563] 0\n",
      "2017-02-15 00:00:00 [0.1703876] 0\n",
      "2017-02-16 00:00:00 [0.04492202] 0\n",
      "2017-02-17 00:00:00 [0.19244334] 1\n",
      "2017-02-20 00:00:00 [0.7030407] 0\n",
      "2017-02-21 00:00:00 [0.58672947] 0\n",
      "2017-02-22 00:00:00 [0.29170358] 1\n",
      "2017-02-23 00:00:00 [0.48933983] 0\n",
      "2017-02-24 00:00:00 [0.47260925] 0\n",
      "2017-02-27 00:00:00 [0.5526642] 1\n",
      "2017-02-28 00:00:00 [0.49482223] 1\n",
      "2017-03-01 00:00:00 [0.7521565] 0\n",
      "2017-03-02 00:00:00 [0.6882391] 0\n",
      "2017-03-03 00:00:00 [0.46845135] 1\n",
      "2017-03-06 00:00:00 [0.19200459] 0\n",
      "2017-03-07 00:00:00 [0.24794257] 0\n",
      "2017-03-08 00:00:00 [0.7125015] 0\n",
      "2017-03-09 00:00:00 [0.9436852] 1\n",
      "2017-03-10 00:00:00 [0.9849298] 1\n",
      "2017-03-13 00:00:00 [0.9838326] 0\n",
      "2017-03-14 00:00:00 [0.9292369] 0\n",
      "2017-03-15 00:00:00 [0.9282192] 0\n",
      "2017-03-16 00:00:00 [0.749707] 1\n",
      "2017-03-17 00:00:00 [0.39883882] 1\n",
      "2017-03-20 00:00:00 [0.4106574] 0\n",
      "2017-03-21 00:00:00 [0.442437] 1\n",
      "2017-03-22 00:00:00 [0.4219235] 0\n",
      "2017-03-23 00:00:00 [0.41106945] 1\n",
      "2017-03-24 00:00:00 [0.22221023] 0\n",
      "2017-03-27 00:00:00 [0.37539738] 1\n",
      "2017-03-28 00:00:00 [0.42249167] 0\n",
      "2017-03-29 00:00:00 [0.68354744] 1\n",
      "2017-03-30 00:00:00 [0.49230078] 1\n",
      "2017-03-31 00:00:00 [0.32751364] 0\n",
      "2017-04-03 00:00:00 [0.11661428] 0\n"
     ]
    }
   ],
   "source": [
    "# Display the predictioned vs actuals \n",
    "y_hat = model.predict(X_test_1, batch_size=50, verbose=1)\n",
    "#score = sum(y_hat == y_test) / len(y_test)\n",
    "#print(f'Prediction accuracy = {score*100}%')\n",
    "index = pd.date_range(start='2017-01-02', end='2018-06-19', freq='B')\n",
    "for i in range(y_hat.shape[0]):\n",
    "    print(index[i], y_hat[i], test_5w[i])"
   ]
  },
  {
   "cell_type": "code",
   "execution_count": null,
   "metadata": {},
   "outputs": [
    {
     "data": {
      "text/plain": [
       "[Text(0, 0.5, 'True: 0'), Text(0, 1.5, 'True: 1')]"
      ]
     },
     "metadata": {},
     "output_type": "display_data"
    },
    {
     "data": {
      "image/png": "[encoded data removed]",
      "text/plain": [
       "<Figure size 432x288 with 2 Axes>"
      ]
     },
     "metadata": {},
     "output_type": "display_data"
    }
   ],
   "source": [
    "# Display confusion matrix results\n",
    "from sklearn.metrics import confusion_matrix\n",
    "\n",
    "ax = plt.subplot()\n",
    "predicted = model.predict(X_test_1)\n",
    "predicted = (predicted > 0.5)\n",
    "\n",
    "confusion = confusion_matrix(test_5w, predicted)\n",
    "\n",
    "sns.heatmap(confusion, annot=True, ax=ax)\n",
    "\n",
    "ax.set_xlabel('Predicted')\n",
    "ax.set_ylabel('True')\n",
    "ax.set_title('Confusion Matrix')\n",
    "ax.xaxis.set_ticklabels([\"Predicted: 0\", \"Predicted: 1\"])\n",
    "ax.yaxis.set_ticklabels([\"True: 0\", \"True: 1\"])\n"
   ]
  },
  {
   "cell_type": "code",
   "execution_count": null,
   "metadata": {},
   "outputs": [
    {
     "name": "stdout",
     "output_type": "stream",
     "text": [
      "(633, 5, 12) (633,)\n",
      "(137, 5, 12) (137,)\n",
      "(66, 5, 12) (66,)\n"
     ]
    },
    {
     "name": "stderr",
     "output_type": "stream",
     "text": [
      "C:\\Users\\Alexander.Ferrante\\Anaconda3\\lib\\site-packages\\sklearn\\feature_selection\\_univariate_selection.py:302: RuntimeWarning: invalid value encountered in true_divide\n",
      "  corr /= X_norms\n"
     ]
    }
   ],
   "source": [
    "feats, pcs = kbest_creator(26)\n",
    "\n",
    "pca_kb = PCA(n_components = pcs)\n",
    "X_train_kb = pd.DataFrame(pca_kb.fit_transform(X_train[feats]))\n",
    "X_val_kb = pd.DataFrame(pca_kb.fit_transform(X_val[feats]))\n",
    "X_test_kb = pd.DataFrame(pca_kb.fit_transform(X_test[feats]))\n",
    "\n",
    "# Apply window formatting, in this case 5 periods\n",
    "X_train_1, train_5w = df_to_X_y2(X_train_kb,y_train)\n",
    "X_val_1, val_5w = df_to_X_y2(X_val_kb, y_val)\n",
    "X_test_1, test_5w = df_to_X_y2(X_test_kb,y_test) \n",
    "\n",
    "print(X_train_1.shape, train_5w.shape)\n",
    "print(X_val_1.shape, val_5w.shape)\n",
    "print(X_test_1.shape, test_5w.shape)"
   ]
  },
  {
   "cell_type": "code",
   "execution_count": null,
   "metadata": {},
   "outputs": [],
   "source": [
    "# Same model structure as inital model \n",
    "n_steps = X_train_1.shape[1]\n",
    "n_features = X_train_1.shape[2]\n",
    "\n",
    "# Let's make a list of CONSTANTS for modelling:\n",
    "LAYERS = [8, 8, 8, 1]                # number of units in hidden and output layers\n",
    "M_TRAIN = X_train_1.shape[0]           # number of training examples (2D)\n",
    "M_TEST = X_test_1.shape[0]             # number of test examples (2D),full=X_test.shape[0]\n",
    "N = X_train_1.shape[2]                 # number of features\n",
    "BATCH = M_TRAIN                          # batch size\n",
    "EPOCH = 10                           # number of epochs\n",
    "LR = 5e-2                            # learning rate of the gradient descent\n",
    "LAMBD = 3e-2                         # lambda in L2 regularizaion\n",
    "DP = 0.0                             # dropout rate\n",
    "RDP = 0.0                            # recurrent dropout rate\n",
    "\n",
    "# Build the Model\n",
    "model = Sequential()\n",
    "model.add(LSTM(input_shape=(n_steps, n_features), units=LAYERS[0],\n",
    "               activation='tanh', recurrent_activation='hard_sigmoid',\n",
    "               kernel_regularizer=l2(LAMBD), recurrent_regularizer=l2(LAMBD),\n",
    "               dropout=DP, recurrent_dropout=RDP,\n",
    "               return_sequences=True, return_state=False,\n",
    "               stateful=False, unroll=False\n",
    "              ))\n",
    "model.add(BatchNormalization())\n",
    "model.add(LSTM(units=LAYERS[1],\n",
    "               activation='tanh', recurrent_activation='hard_sigmoid', \n",
    "               kernel_regularizer=l2(LAMBD), recurrent_regularizer=l2(LAMBD),\n",
    "               dropout=DP, recurrent_dropout=RDP,\n",
    "               return_sequences=True, return_state=False,\n",
    "               stateful=False, unroll=False\n",
    "              ))\n",
    "model.add(BatchNormalization())\n",
    "model.add(LSTM(units=LAYERS[2],\n",
    "               activation='tanh', recurrent_activation='hard_sigmoid',\n",
    "               kernel_regularizer=l2(LAMBD), recurrent_regularizer=l2(LAMBD),\n",
    "               dropout=DP, recurrent_dropout=RDP,\n",
    "               return_sequences=False, return_state=False,\n",
    "               stateful=False, unroll=False\n",
    "              ))\n",
    "\n",
    "model.add(BatchNormalization())\n",
    "model.add(Dense(units=LAYERS[3], activation='sigmoid'))"
   ]
  },
  {
   "cell_type": "code",
   "execution_count": null,
   "metadata": {},
   "outputs": [
    {
     "name": "stdout",
     "output_type": "stream",
     "text": [
      "Model: \"sequential_1\"\n",
      "_________________________________________________________________\n",
      " Layer (type)                Output Shape              Param #   \n",
      "=================================================================\n",
      " lstm_3 (LSTM)               (None, 5, 8)              672       \n",
      "                                                                 \n",
      " batch_normalization_3 (Batc  (None, 5, 8)             32        \n",
      " hNormalization)                                                 \n",
      "                                                                 \n",
      " lstm_4 (LSTM)               (None, 5, 8)              544       \n",
      "                                                                 \n",
      " batch_normalization_4 (Batc  (None, 5, 8)             32        \n",
      " hNormalization)                                                 \n",
      "                                                                 \n",
      " lstm_5 (LSTM)               (None, 8)                 544       \n",
      "                                                                 \n",
      " batch_normalization_5 (Batc  (None, 8)                32        \n",
      " hNormalization)                                                 \n",
      "                                                                 \n",
      " dense_1 (Dense)             (None, 1)                 9         \n",
      "                                                                 \n",
      "=================================================================\n",
      "Total params: 1,865\n",
      "Trainable params: 1,817\n",
      "Non-trainable params: 48\n",
      "_________________________________________________________________\n",
      "None\n"
     ]
    }
   ],
   "source": [
    "# Compile Model\n",
    "model.compile(loss='binary_crossentropy',\n",
    "              metrics=['accuracy'],\n",
    "              optimizer=\"adam\")\n",
    "              \n",
    "print(model.summary())"
   ]
  },
  {
   "cell_type": "code",
   "execution_count": null,
   "metadata": {},
   "outputs": [
    {
     "name": "stdout",
     "output_type": "stream",
     "text": [
      "Epoch 1/100\n",
      "13/13 [==============================] - 7s 68ms/step - loss: 2.9577 - accuracy: 0.5008 - val_loss: 2.5446 - val_accuracy: 0.4818\n",
      "Epoch 2/100\n",
      "13/13 [==============================] - 0s 12ms/step - loss: 2.7006 - accuracy: 0.5150 - val_loss: 2.4079 - val_accuracy: 0.4964\n",
      "Epoch 3/100\n",
      "13/13 [==============================] - 0s 12ms/step - loss: 2.4855 - accuracy: 0.5024 - val_loss: 2.2794 - val_accuracy: 0.4891\n",
      "Epoch 4/100\n",
      "13/13 [==============================] - 0s 13ms/step - loss: 2.3218 - accuracy: 0.5071 - val_loss: 2.1598 - val_accuracy: 0.4891\n",
      "Epoch 5/100\n",
      "13/13 [==============================] - 0s 12ms/step - loss: 2.1617 - accuracy: 0.5387 - val_loss: 2.0485 - val_accuracy: 0.4380\n",
      "Epoch 6/100\n",
      "13/13 [==============================] - 0s 13ms/step - loss: 2.0257 - accuracy: 0.5561 - val_loss: 1.9451 - val_accuracy: 0.4599\n",
      "Epoch 7/100\n",
      "13/13 [==============================] - 0s 15ms/step - loss: 1.9224 - accuracy: 0.5498 - val_loss: 1.8502 - val_accuracy: 0.4453\n",
      "Epoch 8/100\n",
      "13/13 [==============================] - 0s 14ms/step - loss: 1.8226 - accuracy: 0.5403 - val_loss: 1.7627 - val_accuracy: 0.4672\n",
      "Epoch 9/100\n",
      "13/13 [==============================] - 0s 17ms/step - loss: 1.7231 - accuracy: 0.5545 - val_loss: 1.6823 - val_accuracy: 0.4599\n",
      "Epoch 10/100\n",
      "13/13 [==============================] - 0s 18ms/step - loss: 1.6436 - accuracy: 0.5513 - val_loss: 1.6081 - val_accuracy: 0.4672\n",
      "Epoch 11/100\n",
      "13/13 [==============================] - 0s 18ms/step - loss: 1.5723 - accuracy: 0.5798 - val_loss: 1.5403 - val_accuracy: 0.4380\n",
      "Epoch 12/100\n",
      "13/13 [==============================] - 0s 19ms/step - loss: 1.5013 - accuracy: 0.5671 - val_loss: 1.4782 - val_accuracy: 0.4380\n",
      "Epoch 13/100\n",
      "13/13 [==============================] - 0s 18ms/step - loss: 1.4360 - accuracy: 0.6019 - val_loss: 1.4212 - val_accuracy: 0.4891\n",
      "Epoch 14/100\n",
      "13/13 [==============================] - 0s 14ms/step - loss: 1.3761 - accuracy: 0.5845 - val_loss: 1.3686 - val_accuracy: 0.4964\n",
      "Epoch 15/100\n",
      "13/13 [==============================] - 0s 15ms/step - loss: 1.3251 - accuracy: 0.5861 - val_loss: 1.3209 - val_accuracy: 0.5036\n",
      "Epoch 16/100\n",
      "13/13 [==============================] - 0s 18ms/step - loss: 1.2755 - accuracy: 0.5908 - val_loss: 1.2772 - val_accuracy: 0.5182\n",
      "Epoch 17/100\n",
      "13/13 [==============================] - 0s 12ms/step - loss: 1.2323 - accuracy: 0.5845 - val_loss: 1.2375 - val_accuracy: 0.5328\n",
      "Epoch 18/100\n",
      "13/13 [==============================] - 0s 15ms/step - loss: 1.1931 - accuracy: 0.5972 - val_loss: 1.2009 - val_accuracy: 0.5109\n",
      "Epoch 19/100\n",
      "13/13 [==============================] - 0s 16ms/step - loss: 1.1560 - accuracy: 0.5924 - val_loss: 1.1671 - val_accuracy: 0.5328\n",
      "Epoch 20/100\n",
      "13/13 [==============================] - 0s 16ms/step - loss: 1.1190 - accuracy: 0.6082 - val_loss: 1.1368 - val_accuracy: 0.5109\n",
      "Epoch 21/100\n",
      "13/13 [==============================] - 0s 16ms/step - loss: 1.0938 - accuracy: 0.5893 - val_loss: 1.1088 - val_accuracy: 0.5328\n",
      "Epoch 22/100\n",
      "13/13 [==============================] - 0s 13ms/step - loss: 1.0669 - accuracy: 0.5766 - val_loss: 1.0824 - val_accuracy: 0.5109\n",
      "Epoch 23/100\n",
      "13/13 [==============================] - 0s 15ms/step - loss: 1.0412 - accuracy: 0.6066 - val_loss: 1.0588 - val_accuracy: 0.4964\n",
      "Epoch 24/100\n",
      "13/13 [==============================] - 0s 14ms/step - loss: 1.0098 - accuracy: 0.6082 - val_loss: 1.0377 - val_accuracy: 0.5255\n",
      "Epoch 25/100\n",
      "13/13 [==============================] - 0s 15ms/step - loss: 0.9907 - accuracy: 0.6288 - val_loss: 1.0182 - val_accuracy: 0.5401\n",
      "Epoch 26/100\n",
      "13/13 [==============================] - 0s 15ms/step - loss: 0.9706 - accuracy: 0.6098 - val_loss: 0.9996 - val_accuracy: 0.5328\n",
      "Epoch 27/100\n",
      "13/13 [==============================] - 0s 15ms/step - loss: 0.9492 - accuracy: 0.6130 - val_loss: 0.9838 - val_accuracy: 0.5109\n",
      "Epoch 28/100\n",
      "13/13 [==============================] - 0s 12ms/step - loss: 0.9339 - accuracy: 0.6193 - val_loss: 0.9699 - val_accuracy: 0.5182\n",
      "Epoch 29/100\n",
      "13/13 [==============================] - 0s 15ms/step - loss: 0.9226 - accuracy: 0.5893 - val_loss: 0.9570 - val_accuracy: 0.5109\n",
      "Epoch 30/100\n",
      "13/13 [==============================] - 0s 20ms/step - loss: 0.9071 - accuracy: 0.6209 - val_loss: 0.9432 - val_accuracy: 0.5036\n",
      "Epoch 31/100\n",
      "13/13 [==============================] - 0s 16ms/step - loss: 0.8890 - accuracy: 0.6209 - val_loss: 0.9306 - val_accuracy: 0.5036\n",
      "Epoch 32/100\n",
      "13/13 [==============================] - 0s 16ms/step - loss: 0.8752 - accuracy: 0.6082 - val_loss: 0.9218 - val_accuracy: 0.4672\n",
      "Epoch 33/100\n",
      "13/13 [==============================] - 0s 15ms/step - loss: 0.8650 - accuracy: 0.6082 - val_loss: 0.9121 - val_accuracy: 0.4526\n",
      "Epoch 34/100\n",
      "13/13 [==============================] - 0s 16ms/step - loss: 0.8587 - accuracy: 0.6035 - val_loss: 0.9028 - val_accuracy: 0.4599\n",
      "Epoch 35/100\n",
      "13/13 [==============================] - 0s 15ms/step - loss: 0.8511 - accuracy: 0.6256 - val_loss: 0.8917 - val_accuracy: 0.4599\n",
      "Epoch 36/100\n",
      "13/13 [==============================] - 0s 19ms/step - loss: 0.8372 - accuracy: 0.6414 - val_loss: 0.8867 - val_accuracy: 0.4818\n",
      "Epoch 37/100\n",
      "13/13 [==============================] - 0s 15ms/step - loss: 0.8285 - accuracy: 0.6288 - val_loss: 0.8839 - val_accuracy: 0.4672\n",
      "Epoch 38/100\n",
      "13/13 [==============================] - 0s 15ms/step - loss: 0.8232 - accuracy: 0.6019 - val_loss: 0.8736 - val_accuracy: 0.4380\n",
      "Epoch 39/100\n",
      "13/13 [==============================] - 0s 14ms/step - loss: 0.8192 - accuracy: 0.6098 - val_loss: 0.8685 - val_accuracy: 0.4672\n",
      "Epoch 40/100\n",
      "13/13 [==============================] - 0s 13ms/step - loss: 0.8058 - accuracy: 0.6272 - val_loss: 0.8652 - val_accuracy: 0.4526\n",
      "Epoch 41/100\n",
      "13/13 [==============================] - 0s 14ms/step - loss: 0.8049 - accuracy: 0.6114 - val_loss: 0.8602 - val_accuracy: 0.4818\n",
      "Epoch 42/100\n",
      "13/13 [==============================] - 0s 11ms/step - loss: 0.7941 - accuracy: 0.6161 - val_loss: 0.8516 - val_accuracy: 0.4891\n",
      "Epoch 43/100\n",
      "13/13 [==============================] - 0s 12ms/step - loss: 0.7903 - accuracy: 0.6319 - val_loss: 0.8495 - val_accuracy: 0.4599\n",
      "Epoch 44/100\n",
      "13/13 [==============================] - 0s 14ms/step - loss: 0.7820 - accuracy: 0.6398 - val_loss: 0.8474 - val_accuracy: 0.4745\n",
      "Epoch 45/100\n",
      "13/13 [==============================] - 0s 15ms/step - loss: 0.7779 - accuracy: 0.6367 - val_loss: 0.8458 - val_accuracy: 0.4818\n",
      "Epoch 46/100\n",
      "13/13 [==============================] - 0s 14ms/step - loss: 0.7757 - accuracy: 0.6240 - val_loss: 0.8421 - val_accuracy: 0.4745\n",
      "Epoch 47/100\n",
      "13/13 [==============================] - 0s 20ms/step - loss: 0.7704 - accuracy: 0.6224 - val_loss: 0.8344 - val_accuracy: 0.4818\n",
      "Epoch 48/100\n",
      "13/13 [==============================] - 0s 17ms/step - loss: 0.7711 - accuracy: 0.6240 - val_loss: 0.8305 - val_accuracy: 0.4599\n",
      "Epoch 49/100\n",
      "13/13 [==============================] - 0s 18ms/step - loss: 0.7588 - accuracy: 0.6351 - val_loss: 0.8321 - val_accuracy: 0.4526\n",
      "Epoch 50/100\n",
      "13/13 [==============================] - 0s 18ms/step - loss: 0.7614 - accuracy: 0.6066 - val_loss: 0.8262 - val_accuracy: 0.4672\n",
      "Epoch 51/100\n",
      "13/13 [==============================] - 0s 19ms/step - loss: 0.7555 - accuracy: 0.6414 - val_loss: 0.8205 - val_accuracy: 0.4818\n",
      "Epoch 52/100\n",
      "13/13 [==============================] - 0s 17ms/step - loss: 0.7479 - accuracy: 0.6461 - val_loss: 0.8264 - val_accuracy: 0.4891\n",
      "Epoch 53/100\n",
      "13/13 [==============================] - 0s 18ms/step - loss: 0.7543 - accuracy: 0.6335 - val_loss: 0.8204 - val_accuracy: 0.5182\n",
      "Epoch 54/100\n",
      "13/13 [==============================] - 0s 18ms/step - loss: 0.7452 - accuracy: 0.6367 - val_loss: 0.8207 - val_accuracy: 0.5109\n",
      "Epoch 55/100\n",
      "13/13 [==============================] - 0s 15ms/step - loss: 0.7449 - accuracy: 0.6540 - val_loss: 0.8171 - val_accuracy: 0.5036\n",
      "Epoch 56/100\n",
      "13/13 [==============================] - 0s 14ms/step - loss: 0.7479 - accuracy: 0.6145 - val_loss: 0.8179 - val_accuracy: 0.5182\n",
      "Epoch 57/100\n",
      "13/13 [==============================] - 0s 14ms/step - loss: 0.7385 - accuracy: 0.6367 - val_loss: 0.8099 - val_accuracy: 0.5036\n",
      "Epoch 58/100\n",
      "13/13 [==============================] - 0s 12ms/step - loss: 0.7305 - accuracy: 0.6430 - val_loss: 0.8120 - val_accuracy: 0.5182\n",
      "Epoch 59/100\n",
      "13/13 [==============================] - 0s 11ms/step - loss: 0.7280 - accuracy: 0.6635 - val_loss: 0.8130 - val_accuracy: 0.5182\n",
      "Epoch 60/100\n",
      "13/13 [==============================] - 0s 10ms/step - loss: 0.7266 - accuracy: 0.6572 - val_loss: 0.8031 - val_accuracy: 0.5474\n",
      "Epoch 61/100\n",
      "13/13 [==============================] - 0s 10ms/step - loss: 0.7353 - accuracy: 0.6367 - val_loss: 0.8168 - val_accuracy: 0.5401\n",
      "Epoch 62/100\n",
      "13/13 [==============================] - 0s 10ms/step - loss: 0.7234 - accuracy: 0.6288 - val_loss: 0.8122 - val_accuracy: 0.5401\n",
      "Epoch 63/100\n",
      "13/13 [==============================] - 0s 13ms/step - loss: 0.7265 - accuracy: 0.6319 - val_loss: 0.8087 - val_accuracy: 0.5255\n",
      "Epoch 64/100\n",
      "13/13 [==============================] - 0s 13ms/step - loss: 0.7093 - accuracy: 0.6509 - val_loss: 0.8161 - val_accuracy: 0.5109\n",
      "Epoch 65/100\n",
      "13/13 [==============================] - 0s 13ms/step - loss: 0.7183 - accuracy: 0.6524 - val_loss: 0.8172 - val_accuracy: 0.5182\n",
      "Epoch 66/100\n",
      "13/13 [==============================] - 0s 13ms/step - loss: 0.7227 - accuracy: 0.6382 - val_loss: 0.8303 - val_accuracy: 0.5255\n",
      "Epoch 67/100\n",
      "13/13 [==============================] - 0s 10ms/step - loss: 0.7123 - accuracy: 0.6335 - val_loss: 0.8240 - val_accuracy: 0.4964\n",
      "Epoch 68/100\n",
      "13/13 [==============================] - 0s 11ms/step - loss: 0.7171 - accuracy: 0.6430 - val_loss: 0.8094 - val_accuracy: 0.5474\n",
      "Epoch 69/100\n",
      "13/13 [==============================] - 0s 13ms/step - loss: 0.7108 - accuracy: 0.6667 - val_loss: 0.8247 - val_accuracy: 0.5401\n",
      "Epoch 70/100\n",
      "13/13 [==============================] - 0s 13ms/step - loss: 0.7129 - accuracy: 0.6493 - val_loss: 0.8012 - val_accuracy: 0.5328\n",
      "Epoch 71/100\n",
      "13/13 [==============================] - 0s 12ms/step - loss: 0.7167 - accuracy: 0.6603 - val_loss: 0.8271 - val_accuracy: 0.5693\n",
      "Epoch 72/100\n",
      "13/13 [==============================] - 0s 13ms/step - loss: 0.7113 - accuracy: 0.6477 - val_loss: 0.8302 - val_accuracy: 0.5328\n",
      "Epoch 73/100\n",
      "13/13 [==============================] - 0s 12ms/step - loss: 0.7004 - accuracy: 0.6777 - val_loss: 0.8438 - val_accuracy: 0.5036\n",
      "Epoch 74/100\n",
      "13/13 [==============================] - 0s 14ms/step - loss: 0.6988 - accuracy: 0.6619 - val_loss: 0.8416 - val_accuracy: 0.5255\n",
      "Epoch 75/100\n",
      "13/13 [==============================] - 0s 14ms/step - loss: 0.6951 - accuracy: 0.6493 - val_loss: 0.8584 - val_accuracy: 0.5474\n",
      "Epoch 76/100\n",
      "13/13 [==============================] - 0s 13ms/step - loss: 0.6949 - accuracy: 0.6840 - val_loss: 0.8609 - val_accuracy: 0.5182\n",
      "Epoch 77/100\n",
      "13/13 [==============================] - 0s 13ms/step - loss: 0.6936 - accuracy: 0.6588 - val_loss: 0.8385 - val_accuracy: 0.5255\n",
      "Epoch 78/100\n",
      "13/13 [==============================] - 0s 11ms/step - loss: 0.6853 - accuracy: 0.6809 - val_loss: 0.8579 - val_accuracy: 0.5328\n",
      "Epoch 79/100\n",
      "13/13 [==============================] - 0s 12ms/step - loss: 0.7044 - accuracy: 0.6430 - val_loss: 0.8602 - val_accuracy: 0.5109\n",
      "Epoch 80/100\n",
      "13/13 [==============================] - 0s 17ms/step - loss: 0.7065 - accuracy: 0.6524 - val_loss: 0.8558 - val_accuracy: 0.5036\n",
      "Epoch 81/100\n",
      "13/13 [==============================] - 0s 13ms/step - loss: 0.6947 - accuracy: 0.6588 - val_loss: 0.8608 - val_accuracy: 0.4964\n",
      "Epoch 82/100\n",
      "13/13 [==============================] - 0s 14ms/step - loss: 0.6943 - accuracy: 0.6588 - val_loss: 0.8571 - val_accuracy: 0.4891\n",
      "Epoch 83/100\n",
      "13/13 [==============================] - 0s 13ms/step - loss: 0.6959 - accuracy: 0.6556 - val_loss: 0.8567 - val_accuracy: 0.5255\n",
      "Epoch 84/100\n",
      "13/13 [==============================] - 0s 14ms/step - loss: 0.6953 - accuracy: 0.6588 - val_loss: 0.8641 - val_accuracy: 0.5401\n",
      "Epoch 85/100\n",
      "13/13 [==============================] - 0s 12ms/step - loss: 0.6937 - accuracy: 0.6603 - val_loss: 0.8641 - val_accuracy: 0.5547\n",
      "Epoch 86/100\n",
      "13/13 [==============================] - 0s 11ms/step - loss: 0.6907 - accuracy: 0.6667 - val_loss: 0.8719 - val_accuracy: 0.5547\n",
      "Epoch 87/100\n",
      "13/13 [==============================] - 0s 11ms/step - loss: 0.6844 - accuracy: 0.6935 - val_loss: 0.8598 - val_accuracy: 0.5620\n",
      "Epoch 88/100\n",
      "13/13 [==============================] - 0s 12ms/step - loss: 0.6970 - accuracy: 0.6540 - val_loss: 0.8478 - val_accuracy: 0.5328\n",
      "Epoch 89/100\n",
      "13/13 [==============================] - 0s 15ms/step - loss: 0.6806 - accuracy: 0.6856 - val_loss: 0.8851 - val_accuracy: 0.5036\n",
      "Epoch 90/100\n",
      "13/13 [==============================] - 0s 15ms/step - loss: 0.6703 - accuracy: 0.6951 - val_loss: 0.8671 - val_accuracy: 0.5547\n",
      "Epoch 91/100\n",
      "13/13 [==============================] - 0s 12ms/step - loss: 0.6769 - accuracy: 0.6809 - val_loss: 0.8682 - val_accuracy: 0.5182\n",
      "Epoch 92/100\n",
      "13/13 [==============================] - 0s 12ms/step - loss: 0.6860 - accuracy: 0.6619 - val_loss: 0.8725 - val_accuracy: 0.5547\n",
      "Epoch 93/100\n",
      "13/13 [==============================] - 0s 13ms/step - loss: 0.6994 - accuracy: 0.6667 - val_loss: 0.8692 - val_accuracy: 0.5547\n",
      "Epoch 94/100\n",
      "13/13 [==============================] - 0s 12ms/step - loss: 0.6799 - accuracy: 0.6619 - val_loss: 0.8998 - val_accuracy: 0.5401\n",
      "Epoch 95/100\n",
      "13/13 [==============================] - 0s 13ms/step - loss: 0.6869 - accuracy: 0.6367 - val_loss: 0.8609 - val_accuracy: 0.5328\n",
      "Epoch 96/100\n",
      "13/13 [==============================] - 0s 12ms/step - loss: 0.6750 - accuracy: 0.6761 - val_loss: 0.8955 - val_accuracy: 0.5255\n",
      "Epoch 97/100\n",
      "13/13 [==============================] - 0s 12ms/step - loss: 0.6662 - accuracy: 0.6856 - val_loss: 0.8985 - val_accuracy: 0.5328\n",
      "Epoch 98/100\n",
      "13/13 [==============================] - 0s 15ms/step - loss: 0.6732 - accuracy: 0.6746 - val_loss: 0.8770 - val_accuracy: 0.5620\n",
      "Epoch 99/100\n",
      "13/13 [==============================] - 0s 14ms/step - loss: 0.6738 - accuracy: 0.6840 - val_loss: 0.8663 - val_accuracy: 0.5182\n",
      "Epoch 100/100\n",
      "13/13 [==============================] - 0s 13ms/step - loss: 0.6684 - accuracy: 0.6856 - val_loss: 0.8954 - val_accuracy: 0.5255\n"
     ]
    }
   ],
   "source": [
    "# Fit model \n",
    "lr_decay = ReduceLROnPlateau(monitor='loss', \n",
    "                             patience=1, verbose=0, \n",
    "                             factor=0.5, min_lr=1e-8)\n",
    "# Define Early Stopping:\n",
    "early_stop = EarlyStopping(monitor='val_acc', min_delta=0, \n",
    "                           patience=30, verbose=1, mode='auto',\n",
    "                           baseline=0, restore_best_weights=True)\n",
    "\n",
    "history = model.fit(X_train_1, train_5w,\n",
    "                    epochs=100,\n",
    "                    batch_size=50,\n",
    "                    validation_data=(X_val_1, val_5w))"
   ]
  },
  {
   "cell_type": "code",
   "execution_count": null,
   "metadata": {},
   "outputs": [
    {
     "name": "stdout",
     "output_type": "stream",
     "text": [
      "-----------------------------------------------------------------\n",
      "train accuracy = 68.8784%\n",
      "test accuracy = 54.5455%\n",
      "test error = 30 out of 66 examples\n"
     ]
    }
   ],
   "source": [
    "# Evaluate the model:\n",
    "train_loss, train_acc = model.evaluate(X_train_1, train_5w,\n",
    "                                       batch_size=M_TRAIN, verbose=0)\n",
    "test_loss, test_acc = model.evaluate(X_test_1, test_5w,\n",
    "                                     batch_size=M_TEST, verbose=0)\n",
    "print('-'*65)\n",
    "print(f'train accuracy = {round(train_acc * 100, 4)}%')\n",
    "print(f'test accuracy = {round(test_acc * 100, 4)}%')\n",
    "print(f'test error = {round((1 - test_acc) * M_TEST)} out of {M_TEST} examples')"
   ]
  },
  {
   "cell_type": "markdown",
   "metadata": {},
   "source": [
    "Relative to the inital RNN model, the one directly above appears to be slighly more accruacte, and experiencing less overfitting. This seems to be a function of the number of features included in the PCA decomposition. Perhaps we were a little overzelous with our model structure, lets see what happens when we simplify and reduce the amount of hidden layers. "
   ]
  },
  {
   "cell_type": "code",
   "execution_count": null,
   "metadata": {},
   "outputs": [],
   "source": [
    "n_steps = X_train_1.shape[1]\n",
    "n_features = X_train_1.shape[2]\n",
    "\n",
    "# Let's make a list of CONSTANTS for modelling:\n",
    "LAYERS = [32, 32, 32, 1]                # number of units in hidden and output layers\n",
    "M_TRAIN = X_train_1.shape[0]           # number of training examples (2D)\n",
    "M_TEST = X_test_1.shape[0]             # number of test examples (2D),full=X_test.shape[0]\n",
    "N = X_train_1.shape[2]                 # number of features\n",
    "BATCH = M_TRAIN                          # batch size\n",
    "EPOCH = 10                           # number of epochs\n",
    "LR = 5e-2                            # learning rate of the gradient descent\n",
    "LAMBD = 3e-2                         # lambda in L2 regularizaion\n",
    "DP = 0.0                             # dropout rate\n",
    "RDP = 0.0                            # recurrent dropout rate\n",
    "\n",
    "# Build the Model\n",
    "model = Sequential()\n",
    "\n",
    "model.add(LSTM(units=LAYERS[2], input_shape=(n_steps, n_features),\n",
    "               activation='tanh', recurrent_activation='hard_sigmoid',\n",
    "               kernel_regularizer=l2(LAMBD), recurrent_regularizer=l2(LAMBD),\n",
    "               dropout=DP, recurrent_dropout=RDP,\n",
    "               return_sequences=False, return_state=False,\n",
    "               stateful=False, unroll=False\n",
    "              ))\n",
    "\n",
    "model.add(BatchNormalization())\n",
    "model.add(Dense(units=LAYERS[3], activation='sigmoid'))"
   ]
  },
  {
   "cell_type": "code",
   "execution_count": null,
   "metadata": {},
   "outputs": [
    {
     "name": "stdout",
     "output_type": "stream",
     "text": [
      "Model: \"sequential_4\"\n",
      "_________________________________________________________________\n",
      " Layer (type)                Output Shape              Param #   \n",
      "=================================================================\n",
      " lstm_8 (LSTM)               (None, 32)                5760      \n",
      "                                                                 \n",
      " batch_normalization_8 (Batc  (None, 32)               128       \n",
      " hNormalization)                                                 \n",
      "                                                                 \n",
      " dense_4 (Dense)             (None, 1)                 33        \n",
      "                                                                 \n",
      "=================================================================\n",
      "Total params: 5,921\n",
      "Trainable params: 5,857\n",
      "Non-trainable params: 64\n",
      "_________________________________________________________________\n",
      "None\n"
     ]
    }
   ],
   "source": [
    "model.compile(loss='binary_crossentropy',\n",
    "              metrics=['accuracy'],\n",
    "              optimizer=\"adam\")\n",
    "              \n",
    "print(model.summary())"
   ]
  },
  {
   "cell_type": "code",
   "execution_count": null,
   "metadata": {},
   "outputs": [
    {
     "name": "stdout",
     "output_type": "stream",
     "text": [
      "Epoch 1/100\n",
      "20/20 [==============================] - 2s 20ms/step - loss: 2.3467 - accuracy: 0.4961 - val_loss: 1.9429 - val_accuracy: 0.5109\n",
      "Epoch 2/100\n",
      "20/20 [==============================] - 0s 6ms/step - loss: 1.8418 - accuracy: 0.5150 - val_loss: 1.6440 - val_accuracy: 0.5036\n",
      "Epoch 3/100\n",
      "20/20 [==============================] - 0s 6ms/step - loss: 1.5361 - accuracy: 0.5371 - val_loss: 1.4213 - val_accuracy: 0.5182\n",
      "Epoch 4/100\n",
      "20/20 [==============================] - 0s 6ms/step - loss: 1.3298 - accuracy: 0.5387 - val_loss: 1.2562 - val_accuracy: 0.5182\n",
      "Epoch 5/100\n",
      "20/20 [==============================] - 0s 6ms/step - loss: 1.1841 - accuracy: 0.5513 - val_loss: 1.1332 - val_accuracy: 0.5255\n",
      "Epoch 6/100\n",
      "20/20 [==============================] - 0s 6ms/step - loss: 1.0711 - accuracy: 0.5750 - val_loss: 1.0436 - val_accuracy: 0.5182\n",
      "Epoch 7/100\n",
      "20/20 [==============================] - 0s 6ms/step - loss: 0.9889 - accuracy: 0.5719 - val_loss: 0.9737 - val_accuracy: 0.5255\n",
      "Epoch 8/100\n",
      "20/20 [==============================] - 0s 6ms/step - loss: 0.9298 - accuracy: 0.5640 - val_loss: 0.9235 - val_accuracy: 0.5182\n",
      "Epoch 9/100\n",
      "20/20 [==============================] - 0s 7ms/step - loss: 0.8778 - accuracy: 0.5861 - val_loss: 0.8838 - val_accuracy: 0.5255\n",
      "Epoch 10/100\n",
      "20/20 [==============================] - 0s 7ms/step - loss: 0.8467 - accuracy: 0.5829 - val_loss: 0.8533 - val_accuracy: 0.5109\n",
      "Epoch 11/100\n",
      "20/20 [==============================] - 0s 6ms/step - loss: 0.8219 - accuracy: 0.5750 - val_loss: 0.8314 - val_accuracy: 0.5182\n",
      "Epoch 12/100\n",
      "20/20 [==============================] - 0s 6ms/step - loss: 0.8017 - accuracy: 0.5687 - val_loss: 0.8137 - val_accuracy: 0.5328\n",
      "Epoch 13/100\n",
      "20/20 [==============================] - 0s 9ms/step - loss: 0.7863 - accuracy: 0.5608 - val_loss: 0.8029 - val_accuracy: 0.4964\n",
      "Epoch 14/100\n",
      "20/20 [==============================] - 0s 6ms/step - loss: 0.7727 - accuracy: 0.6003 - val_loss: 0.7884 - val_accuracy: 0.5109\n",
      "Epoch 15/100\n",
      "20/20 [==============================] - 0s 7ms/step - loss: 0.7632 - accuracy: 0.5924 - val_loss: 0.7829 - val_accuracy: 0.4818\n",
      "Epoch 16/100\n",
      "20/20 [==============================] - 0s 7ms/step - loss: 0.7536 - accuracy: 0.5750 - val_loss: 0.7765 - val_accuracy: 0.4599\n",
      "Epoch 17/100\n",
      "20/20 [==============================] - 0s 5ms/step - loss: 0.7502 - accuracy: 0.5861 - val_loss: 0.7738 - val_accuracy: 0.4745\n",
      "Epoch 18/100\n",
      "20/20 [==============================] - 0s 6ms/step - loss: 0.7450 - accuracy: 0.5766 - val_loss: 0.7647 - val_accuracy: 0.4891\n",
      "Epoch 19/100\n",
      "20/20 [==============================] - 0s 6ms/step - loss: 0.7435 - accuracy: 0.5687 - val_loss: 0.7647 - val_accuracy: 0.4672\n",
      "Epoch 20/100\n",
      "20/20 [==============================] - 0s 5ms/step - loss: 0.7374 - accuracy: 0.5829 - val_loss: 0.7613 - val_accuracy: 0.4672\n",
      "Epoch 21/100\n",
      "20/20 [==============================] - 0s 5ms/step - loss: 0.7300 - accuracy: 0.6035 - val_loss: 0.7592 - val_accuracy: 0.4307\n",
      "Epoch 22/100\n",
      "20/20 [==============================] - 0s 5ms/step - loss: 0.7223 - accuracy: 0.6019 - val_loss: 0.7563 - val_accuracy: 0.4161\n",
      "Epoch 23/100\n",
      "20/20 [==============================] - 0s 5ms/step - loss: 0.7241 - accuracy: 0.5861 - val_loss: 0.7552 - val_accuracy: 0.4088\n",
      "Epoch 24/100\n",
      "20/20 [==============================] - 0s 7ms/step - loss: 0.7224 - accuracy: 0.5972 - val_loss: 0.7549 - val_accuracy: 0.4453\n",
      "Epoch 25/100\n",
      "20/20 [==============================] - 0s 8ms/step - loss: 0.7219 - accuracy: 0.5845 - val_loss: 0.7555 - val_accuracy: 0.4380\n",
      "Epoch 26/100\n",
      "20/20 [==============================] - 0s 8ms/step - loss: 0.7222 - accuracy: 0.5703 - val_loss: 0.7509 - val_accuracy: 0.4599\n",
      "Epoch 27/100\n",
      "20/20 [==============================] - 0s 6ms/step - loss: 0.7133 - accuracy: 0.5893 - val_loss: 0.7609 - val_accuracy: 0.4453\n",
      "Epoch 28/100\n",
      "20/20 [==============================] - 0s 5ms/step - loss: 0.7181 - accuracy: 0.5877 - val_loss: 0.7502 - val_accuracy: 0.4818\n",
      "Epoch 29/100\n",
      "20/20 [==============================] - 0s 5ms/step - loss: 0.7114 - accuracy: 0.5893 - val_loss: 0.7576 - val_accuracy: 0.4088\n",
      "Epoch 30/100\n",
      "20/20 [==============================] - 0s 5ms/step - loss: 0.7171 - accuracy: 0.5972 - val_loss: 0.7510 - val_accuracy: 0.4526\n",
      "Epoch 31/100\n",
      "20/20 [==============================] - 0s 5ms/step - loss: 0.7102 - accuracy: 0.5750 - val_loss: 0.7526 - val_accuracy: 0.4599\n",
      "Epoch 32/100\n",
      "20/20 [==============================] - 0s 5ms/step - loss: 0.7105 - accuracy: 0.5940 - val_loss: 0.7554 - val_accuracy: 0.4599\n",
      "Epoch 33/100\n",
      "20/20 [==============================] - 0s 5ms/step - loss: 0.7119 - accuracy: 0.5908 - val_loss: 0.7471 - val_accuracy: 0.5036\n",
      "Epoch 34/100\n",
      "20/20 [==============================] - 0s 5ms/step - loss: 0.7147 - accuracy: 0.5893 - val_loss: 0.7547 - val_accuracy: 0.4599\n",
      "Epoch 35/100\n",
      "20/20 [==============================] - 0s 6ms/step - loss: 0.7057 - accuracy: 0.5798 - val_loss: 0.7485 - val_accuracy: 0.4526\n",
      "Epoch 36/100\n",
      "20/20 [==============================] - 0s 6ms/step - loss: 0.7057 - accuracy: 0.5861 - val_loss: 0.7682 - val_accuracy: 0.4307\n",
      "Epoch 37/100\n",
      "20/20 [==============================] - 0s 6ms/step - loss: 0.7022 - accuracy: 0.5972 - val_loss: 0.7582 - val_accuracy: 0.4453\n",
      "Epoch 38/100\n",
      "20/20 [==============================] - 0s 6ms/step - loss: 0.7059 - accuracy: 0.5893 - val_loss: 0.7666 - val_accuracy: 0.4745\n",
      "Epoch 39/100\n",
      "20/20 [==============================] - 0s 6ms/step - loss: 0.7051 - accuracy: 0.5766 - val_loss: 0.7521 - val_accuracy: 0.4599\n",
      "Epoch 40/100\n",
      "20/20 [==============================] - 0s 5ms/step - loss: 0.7029 - accuracy: 0.5766 - val_loss: 0.7504 - val_accuracy: 0.4818\n",
      "Epoch 41/100\n",
      "20/20 [==============================] - 0s 5ms/step - loss: 0.7072 - accuracy: 0.5735 - val_loss: 0.7446 - val_accuracy: 0.4745\n",
      "Epoch 42/100\n",
      "20/20 [==============================] - 0s 5ms/step - loss: 0.7020 - accuracy: 0.5687 - val_loss: 0.7581 - val_accuracy: 0.4453\n",
      "Epoch 43/100\n",
      "20/20 [==============================] - 0s 5ms/step - loss: 0.7009 - accuracy: 0.5798 - val_loss: 0.7542 - val_accuracy: 0.5036\n",
      "Epoch 44/100\n",
      "20/20 [==============================] - 0s 6ms/step - loss: 0.7005 - accuracy: 0.5687 - val_loss: 0.7550 - val_accuracy: 0.5036\n",
      "Epoch 45/100\n",
      "20/20 [==============================] - 0s 5ms/step - loss: 0.7010 - accuracy: 0.5829 - val_loss: 0.7518 - val_accuracy: 0.5036\n",
      "Epoch 46/100\n",
      "20/20 [==============================] - 0s 8ms/step - loss: 0.7055 - accuracy: 0.5735 - val_loss: 0.7560 - val_accuracy: 0.4526\n",
      "Epoch 47/100\n",
      "20/20 [==============================] - 0s 6ms/step - loss: 0.7012 - accuracy: 0.5972 - val_loss: 0.7480 - val_accuracy: 0.4964\n",
      "Epoch 48/100\n",
      "20/20 [==============================] - 0s 5ms/step - loss: 0.6955 - accuracy: 0.6019 - val_loss: 0.7499 - val_accuracy: 0.5182\n",
      "Epoch 49/100\n",
      "20/20 [==============================] - 0s 5ms/step - loss: 0.6978 - accuracy: 0.5814 - val_loss: 0.7494 - val_accuracy: 0.4818\n",
      "Epoch 50/100\n",
      "20/20 [==============================] - 0s 5ms/step - loss: 0.6975 - accuracy: 0.5814 - val_loss: 0.7474 - val_accuracy: 0.5036\n",
      "Epoch 51/100\n",
      "20/20 [==============================] - 0s 5ms/step - loss: 0.6964 - accuracy: 0.5719 - val_loss: 0.7556 - val_accuracy: 0.4599\n",
      "Epoch 52/100\n",
      "20/20 [==============================] - 0s 5ms/step - loss: 0.6996 - accuracy: 0.6066 - val_loss: 0.7438 - val_accuracy: 0.4964\n",
      "Epoch 53/100\n",
      "20/20 [==============================] - 0s 5ms/step - loss: 0.7063 - accuracy: 0.5577 - val_loss: 0.7548 - val_accuracy: 0.4745\n",
      "Epoch 54/100\n",
      "20/20 [==============================] - 0s 5ms/step - loss: 0.6922 - accuracy: 0.5877 - val_loss: 0.7567 - val_accuracy: 0.4964\n",
      "Epoch 55/100\n",
      "20/20 [==============================] - 0s 5ms/step - loss: 0.6966 - accuracy: 0.5703 - val_loss: 0.7604 - val_accuracy: 0.4745\n",
      "Epoch 56/100\n",
      "20/20 [==============================] - 0s 5ms/step - loss: 0.6990 - accuracy: 0.5498 - val_loss: 0.7494 - val_accuracy: 0.4745\n",
      "Epoch 57/100\n",
      "20/20 [==============================] - 0s 5ms/step - loss: 0.6937 - accuracy: 0.5893 - val_loss: 0.7498 - val_accuracy: 0.4672\n",
      "Epoch 58/100\n",
      "20/20 [==============================] - 0s 5ms/step - loss: 0.6966 - accuracy: 0.5798 - val_loss: 0.7527 - val_accuracy: 0.4891\n",
      "Epoch 59/100\n",
      "20/20 [==============================] - 0s 5ms/step - loss: 0.6941 - accuracy: 0.5750 - val_loss: 0.7612 - val_accuracy: 0.4453\n",
      "Epoch 60/100\n",
      "20/20 [==============================] - 0s 6ms/step - loss: 0.7009 - accuracy: 0.5908 - val_loss: 0.7474 - val_accuracy: 0.4818\n",
      "Epoch 61/100\n",
      "20/20 [==============================] - 0s 5ms/step - loss: 0.6979 - accuracy: 0.5924 - val_loss: 0.7485 - val_accuracy: 0.4745\n",
      "Epoch 62/100\n",
      "20/20 [==============================] - 0s 6ms/step - loss: 0.6962 - accuracy: 0.5687 - val_loss: 0.7445 - val_accuracy: 0.4891\n",
      "Epoch 63/100\n",
      "20/20 [==============================] - 0s 5ms/step - loss: 0.6942 - accuracy: 0.5814 - val_loss: 0.7393 - val_accuracy: 0.4672\n",
      "Epoch 64/100\n",
      "20/20 [==============================] - 0s 5ms/step - loss: 0.6974 - accuracy: 0.5735 - val_loss: 0.7503 - val_accuracy: 0.4964\n",
      "Epoch 65/100\n",
      "20/20 [==============================] - 0s 5ms/step - loss: 0.6925 - accuracy: 0.5798 - val_loss: 0.7514 - val_accuracy: 0.4964\n",
      "Epoch 66/100\n",
      "20/20 [==============================] - 0s 5ms/step - loss: 0.6927 - accuracy: 0.5703 - val_loss: 0.7540 - val_accuracy: 0.4964\n",
      "Epoch 67/100\n",
      "20/20 [==============================] - 0s 5ms/step - loss: 0.6904 - accuracy: 0.5972 - val_loss: 0.7442 - val_accuracy: 0.5036\n",
      "Epoch 68/100\n",
      "20/20 [==============================] - 0s 6ms/step - loss: 0.6902 - accuracy: 0.5924 - val_loss: 0.7402 - val_accuracy: 0.4891\n",
      "Epoch 69/100\n",
      "20/20 [==============================] - 0s 6ms/step - loss: 0.6931 - accuracy: 0.5940 - val_loss: 0.7380 - val_accuracy: 0.5182\n",
      "Epoch 70/100\n",
      "20/20 [==============================] - 0s 6ms/step - loss: 0.6921 - accuracy: 0.6003 - val_loss: 0.7512 - val_accuracy: 0.5036\n",
      "Epoch 71/100\n",
      "20/20 [==============================] - 0s 6ms/step - loss: 0.6941 - accuracy: 0.5766 - val_loss: 0.7583 - val_accuracy: 0.4745\n",
      "Epoch 72/100\n",
      "20/20 [==============================] - 0s 6ms/step - loss: 0.6912 - accuracy: 0.5924 - val_loss: 0.7378 - val_accuracy: 0.5036\n",
      "Epoch 73/100\n",
      "20/20 [==============================] - 0s 5ms/step - loss: 0.6917 - accuracy: 0.5656 - val_loss: 0.7458 - val_accuracy: 0.4891\n",
      "Epoch 74/100\n",
      "20/20 [==============================] - 0s 6ms/step - loss: 0.6852 - accuracy: 0.5972 - val_loss: 0.7536 - val_accuracy: 0.4599\n",
      "Epoch 75/100\n",
      "20/20 [==============================] - 0s 6ms/step - loss: 0.6871 - accuracy: 0.5987 - val_loss: 0.7454 - val_accuracy: 0.4964\n",
      "Epoch 76/100\n",
      "20/20 [==============================] - 0s 6ms/step - loss: 0.6884 - accuracy: 0.5798 - val_loss: 0.7371 - val_accuracy: 0.5036\n",
      "Epoch 77/100\n",
      "20/20 [==============================] - 0s 6ms/step - loss: 0.6843 - accuracy: 0.5893 - val_loss: 0.7479 - val_accuracy: 0.5036\n",
      "Epoch 78/100\n",
      "20/20 [==============================] - 0s 5ms/step - loss: 0.6839 - accuracy: 0.6019 - val_loss: 0.7377 - val_accuracy: 0.5328\n",
      "Epoch 79/100\n",
      "20/20 [==============================] - 0s 6ms/step - loss: 0.6868 - accuracy: 0.5750 - val_loss: 0.7383 - val_accuracy: 0.4964\n",
      "Epoch 80/100\n",
      "20/20 [==============================] - 0s 5ms/step - loss: 0.6854 - accuracy: 0.5956 - val_loss: 0.7452 - val_accuracy: 0.4964\n",
      "Epoch 81/100\n",
      "20/20 [==============================] - 0s 5ms/step - loss: 0.6844 - accuracy: 0.6051 - val_loss: 0.7461 - val_accuracy: 0.4599\n",
      "Epoch 82/100\n",
      "20/20 [==============================] - 0s 5ms/step - loss: 0.6822 - accuracy: 0.6019 - val_loss: 0.7378 - val_accuracy: 0.5401\n",
      "Epoch 83/100\n",
      "20/20 [==============================] - 0s 5ms/step - loss: 0.6892 - accuracy: 0.5750 - val_loss: 0.7464 - val_accuracy: 0.4891\n",
      "Epoch 84/100\n",
      "20/20 [==============================] - 0s 5ms/step - loss: 0.6908 - accuracy: 0.5924 - val_loss: 0.7347 - val_accuracy: 0.5109\n",
      "Epoch 85/100\n",
      "20/20 [==============================] - 0s 6ms/step - loss: 0.6830 - accuracy: 0.6066 - val_loss: 0.7391 - val_accuracy: 0.4599\n",
      "Epoch 86/100\n",
      "20/20 [==============================] - 0s 5ms/step - loss: 0.6793 - accuracy: 0.6051 - val_loss: 0.7648 - val_accuracy: 0.4891\n",
      "Epoch 87/100\n",
      "20/20 [==============================] - 0s 6ms/step - loss: 0.6894 - accuracy: 0.5798 - val_loss: 0.7395 - val_accuracy: 0.5255\n",
      "Epoch 88/100\n",
      "20/20 [==============================] - 0s 6ms/step - loss: 0.6930 - accuracy: 0.5703 - val_loss: 0.7315 - val_accuracy: 0.5255\n",
      "Epoch 89/100\n",
      "20/20 [==============================] - 0s 6ms/step - loss: 0.6840 - accuracy: 0.5924 - val_loss: 0.7417 - val_accuracy: 0.4672\n",
      "Epoch 90/100\n",
      "20/20 [==============================] - 0s 6ms/step - loss: 0.6820 - accuracy: 0.5956 - val_loss: 0.7348 - val_accuracy: 0.5109\n",
      "Epoch 91/100\n",
      "20/20 [==============================] - 0s 5ms/step - loss: 0.6843 - accuracy: 0.5987 - val_loss: 0.7314 - val_accuracy: 0.4891\n",
      "Epoch 92/100\n",
      "20/20 [==============================] - 0s 5ms/step - loss: 0.6812 - accuracy: 0.5924 - val_loss: 0.7486 - val_accuracy: 0.5036\n",
      "Epoch 93/100\n",
      "20/20 [==============================] - 0s 5ms/step - loss: 0.6884 - accuracy: 0.5798 - val_loss: 0.7434 - val_accuracy: 0.5109\n",
      "Epoch 94/100\n",
      "20/20 [==============================] - 0s 6ms/step - loss: 0.6816 - accuracy: 0.5861 - val_loss: 0.7363 - val_accuracy: 0.5182\n",
      "Epoch 95/100\n",
      "20/20 [==============================] - 0s 6ms/step - loss: 0.6829 - accuracy: 0.5877 - val_loss: 0.7332 - val_accuracy: 0.5036\n",
      "Epoch 96/100\n",
      "20/20 [==============================] - 0s 5ms/step - loss: 0.6842 - accuracy: 0.6066 - val_loss: 0.7338 - val_accuracy: 0.4964\n",
      "Epoch 97/100\n",
      "20/20 [==============================] - 0s 5ms/step - loss: 0.6900 - accuracy: 0.5798 - val_loss: 0.7449 - val_accuracy: 0.4891\n",
      "Epoch 98/100\n",
      "20/20 [==============================] - 0s 5ms/step - loss: 0.6831 - accuracy: 0.5845 - val_loss: 0.7440 - val_accuracy: 0.4891\n",
      "Epoch 99/100\n",
      "20/20 [==============================] - 0s 5ms/step - loss: 0.6849 - accuracy: 0.5829 - val_loss: 0.7340 - val_accuracy: 0.5109\n",
      "Epoch 100/100\n",
      "20/20 [==============================] - 0s 5ms/step - loss: 0.6837 - accuracy: 0.6019 - val_loss: 0.7336 - val_accuracy: 0.5036\n"
     ]
    }
   ],
   "source": [
    "history = model.fit(X_train_1, train_5w,\n",
    "                    epochs=100,\n",
    "                    validation_data=(X_val_1, val_5w))"
   ]
  },
  {
   "cell_type": "code",
   "execution_count": null,
   "metadata": {},
   "outputs": [
    {
     "name": "stdout",
     "output_type": "stream",
     "text": [
      "-----------------------------------------------------------------\n",
      "train accuracy = 58.1359%\n",
      "test accuracy = 53.0303%\n",
      "test error = 31 out of 66 examples\n"
     ]
    }
   ],
   "source": [
    "train_loss, train_acc = model.evaluate(X_train_1, train_5w,\n",
    "                                       batch_size=M_TRAIN, verbose=0)\n",
    "test_loss, test_acc = model.evaluate(X_test_1, test_5w,\n",
    "                                     batch_size=M_TEST, verbose=0)\n",
    "print('-'*65)\n",
    "print(f'train accuracy = {round(train_acc * 100, 4)}%')\n",
    "print(f'test accuracy = {round(test_acc * 100, 4)}%')\n",
    "print(f'test error = {round((1 - test_acc) * M_TEST)} out of {M_TEST} examples')"
   ]
  },
  {
   "cell_type": "code",
   "execution_count": null,
   "metadata": {},
   "outputs": [
    {
     "data": {
      "text/plain": [
       "[Text(0, 0.5, 'True: 0'), Text(0, 1.5, 'True: 1')]"
      ]
     },
     "metadata": {},
     "output_type": "display_data"
    },
    {
     "data": {
      "image/png": "[encoded data removed]",
      "text/plain": [
       "<Figure size 432x288 with 2 Axes>"
      ]
     },
     "metadata": {},
     "output_type": "display_data"
    }
   ],
   "source": [
    "# Display confusion matrix results\n",
    "from sklearn.metrics import confusion_matrix\n",
    "\n",
    "ax = plt.subplot()\n",
    "predicted = model.predict(X_test_1)\n",
    "predicted = (predicted > 0.5)\n",
    "\n",
    "confusion = confusion_matrix(test_5w, predicted)\n",
    "\n",
    "sns.heatmap(confusion, annot=True, ax=ax)\n",
    "\n",
    "ax.set_xlabel('Predicted')\n",
    "ax.set_ylabel('True')\n",
    "ax.set_title('Confusion Matrix')\n",
    "ax.xaxis.set_ticklabels([\"Predicted: 0\", \"Predicted: 1\"])\n",
    "ax.yaxis.set_ticklabels([\"True: 0\", \"True: 1\"])"
   ]
  },
  {
   "cell_type": "markdown",
   "metadata": {},
   "source": [
    "Interesting, the simplistic model which included fewer SelectKBest features had a similar level of accuracy and experienced less overfitting. We can confirm this since the training accuracy and testing accuracy are growing closer while the loss functions are decreasing (improving). "
   ]
  }
 ],
 "metadata": {
  "interpreter": {
   "hash": "31582b9feba862c420bc95ad7fac43fb721c474490d1710b4e50ac63470f9531"
  },
  "kernelspec": {
   "display_name": "Python 3.8.8 ('base')",
   "language": "python",
   "name": "python3"
  },
  "language_info": {
   "codemirror_mode": {
    "name": "ipython",
    "version": 3
   },
   "file_extension": ".py",
   "mimetype": "text/x-python",
   "name": "python",
   "nbconvert_exporter": "python",
   "pygments_lexer": "ipython3",
   "version": "3.8.8"
  }
 },
 "nbformat": 4,
 "nbformat_minor": 4
}
